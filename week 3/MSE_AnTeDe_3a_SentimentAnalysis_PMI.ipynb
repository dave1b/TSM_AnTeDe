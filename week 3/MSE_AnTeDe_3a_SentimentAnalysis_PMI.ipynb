{
 "cells": [
  {
   "cell_type": "markdown",
   "metadata": {
    "id": "ZPJCtaygCMho"
   },
   "source": [
    "# AnTeDe - Sentiment Analysis - Part A\n",
    "\n",
    "## Session goal\n",
    "The goal of this session is to get acquainted with Pointwise Mutual Information and Semantic Orientation. The function **get_hits** returns the number of Google hits for a given **query**."
   ]
  },
  {
   "cell_type": "code",
   "execution_count": 1,
   "metadata": {
    "id": "4SajuX0pCMht",
    "ExecuteTime": {
     "end_time": "2024-03-14T07:29:20.806449Z",
     "start_time": "2024-03-14T07:29:20.802367Z"
    }
   },
   "outputs": [],
   "source": [
    "def get_hits (query):\n",
    "    import requests, re, logging, math\n",
    "    \n",
    "    TIMEOUT = 3\n",
    "\n",
    "    params = (\n",
    "        ('hl', 'en'),\n",
    "        ('q', query),\n",
    "        \n",
    "    )\n",
    "    \n",
    "    USER_AGENT = \"Mozilla/5.0 (Macintosh; Intel Mac OS X 10.14; rv:65.0) Gecko/20100101 Firefox/65.0\"\n",
    "\n",
    "    \n",
    "    URL = \"https://google.com/search?q={query}\"\n",
    "\n",
    "    headers = {\"user-agent\": USER_AGENT}\n",
    "    \n",
    "    groups=[]\n",
    "    counter = 0\n",
    "\n",
    "    while len(groups)==0:\n",
    "      response = requests.get(URL, headers=headers, params=params)\n",
    "    \n",
    "      # Regular expression to retrieve the approximate number of hits from Google's response\n",
    "      groups=re.findall(r'result-stats\">About (.*?) results', response.text)\n",
    "\n",
    "      counter=counter+1\n",
    "      if counter == TIMEOUT:\n",
    "        break\n",
    "    \n",
    "        \n",
    "    # in case no hits were found\n",
    "    if len(groups)==0:\n",
    "        logging.warning('No hits found for query '+query)\n",
    "        \n",
    "        return math.pow(10, -10)\n",
    "    \n",
    "    try:\n",
    "        # if the number is large, get rid of separators \n",
    "        result = float(groups[0].replace('.', '').replace(',', \"\").replace('’', \"\"))\n",
    "    except:\n",
    "        result = float(groups[0])\n",
    "        \n",
    "      \n",
    "    return result    "
   ]
  },
  {
   "cell_type": "markdown",
   "metadata": {
    "id": "2QbBhL_JCMhv"
   },
   "source": [
    "Now we get an estimate of the total number of hits."
   ]
  },
  {
   "cell_type": "code",
   "execution_count": 2,
   "metadata": {
    "scrolled": false,
    "colab": {
     "base_uri": "https://localhost:8080/"
    },
    "id": "SDwKUV_LCMhw",
    "outputId": "b903d660-211a-4583-8c59-3ad6dd8f65e3",
    "ExecuteTime": {
     "end_time": "2024-03-14T07:29:21.618486Z",
     "start_time": "2024-03-14T07:29:20.807289Z"
    }
   },
   "outputs": [
    {
     "name": "stdout",
     "output_type": "stream",
     "text": [
      "1700000000.0\n"
     ]
    }
   ],
   "source": [
    "all_hits = get_hits('the AND a AND of')\n",
    "print (all_hits)\n",
    "\n"
   ]
  },
  {
   "cell_type": "markdown",
   "metadata": {
    "id": "6bPHNnAZCMhx"
   },
   "source": [
    "We define a **get_PMI** function based on **get_hits**."
   ]
  },
  {
   "cell_type": "code",
   "execution_count": 3,
   "metadata": {
    "id": "G-1CkfJgCMhx",
    "ExecuteTime": {
     "end_time": "2024-03-14T07:30:58.095959Z",
     "start_time": "2024-03-14T07:30:58.090148Z"
    }
   },
   "outputs": [],
   "source": [
    "def get_PMI (w1, w2, verbose=True):  \n",
    "    \n",
    "    import math\n",
    "    \n",
    "    joint = get_hits(w1+'+AND+'+w2)\n",
    "    pw1 = get_hits(w1)\n",
    "    pw2 = get_hits(w2)\n",
    "\n",
    "    PMI = math.log(joint*all_hits/(pw1*pw2), 2)\n",
    "    \n",
    "    if verbose:\n",
    "        print ('PMI('+w1+','+w2+')='+str(round(PMI, 2)))\n",
    "    \n",
    "    return PMI, (joint, pw1, pw2, all_hits)"
   ]
  },
  {
   "cell_type": "markdown",
   "metadata": {
    "id": "LAhaiQpXCMhy"
   },
   "source": [
    "Now you can experiment with PMI. Here's an example, but think of other examples on your own."
   ]
  },
  {
   "cell_type": "code",
   "execution_count": 4,
   "metadata": {
    "colab": {
     "base_uri": "https://localhost:8080/"
    },
    "id": "WBwHStKnCMhz",
    "outputId": "7aef6231-aae4-4d90-fc57-9bb460294432",
    "ExecuteTime": {
     "end_time": "2024-03-14T07:31:13.806361Z",
     "start_time": "2024-03-14T07:31:01.141362Z"
    }
   },
   "outputs": [
    {
     "name": "stdout",
     "output_type": "stream",
     "text": [
      "PMI(richest,engineer)=8.24\n",
      "PMI(richest,data scientist)=4.61\n",
      "PMI(richest,venture capitalist)=5.54\n",
      "PMI(richest,zurich banker)=7.81\n"
     ]
    }
   ],
   "source": [
    "PMI, metrics = get_PMI ('richest', 'engineer')\n",
    "PMI, metrics = get_PMI ('richest', 'data scientist')\n",
    "PMI, metrics = get_PMI ('richest', 'venture capitalist')\n",
    "PMI, metrics = get_PMI ('richest', 'zurich banker')"
   ]
  },
  {
   "cell_type": "markdown",
   "metadata": {
    "id": "eQ6VbZ2FCMhz"
   },
   "source": [
    "Write a function to compute the semantic orientation similarly to how it is defined in the (Turney, 2002) paper we discussed in class. "
   ]
  },
  {
   "cell_type": "code",
   "execution_count": 6,
   "metadata": {
    "id": "B8HadCV_CMh0",
    "ExecuteTime": {
     "end_time": "2024-03-14T07:35:25.845615Z",
     "start_time": "2024-03-14T07:35:25.842383Z"
    }
   },
   "outputs": [],
   "source": [
    "def get_SO (phrase, positive_word='excellent', negative_word='poor', verbose=True):\n",
    "    SO=\"INCOMPLETE\"\n",
    "# BEGIN_REMOVE\n",
    "    PMI_positive, metrics = get_PMI(phrase, positive_word, False)\n",
    "    PMI_negative, metrics = get_PMI(phrase, negative_word, False)\n",
    "    SO=PMI_positive-PMI_negative\n",
    "    if verbose:\n",
    "        print ('SO('+phrase+')='+str(round(SO, 2)))\n",
    "# END_REMOVE\n",
    "    return SO"
   ]
  },
  {
   "cell_type": "markdown",
   "metadata": {
    "id": "vuiw_wW1CMh1"
   },
   "source": [
    "Try it out on the examples from the paper and see whether you can modify it to get better results."
   ]
  },
  {
   "cell_type": "code",
   "execution_count": 7,
   "metadata": {
    "colab": {
     "base_uri": "https://localhost:8080/"
    },
    "id": "ASgpuV8TCMh1",
    "outputId": "e1074a0e-62b6-4a15-c3e9-8978a1e973a5",
    "ExecuteTime": {
     "end_time": "2024-03-14T07:36:00.004386Z",
     "start_time": "2024-03-14T07:35:27.234895Z"
    }
   },
   "outputs": [
    {
     "name": "stdout",
     "output_type": "stream",
     "text": [
      "SO(local branch)=1.94\n",
      "SO(online experience)=2.49\n",
      "SO(inconveniently located)=0.86\n",
      "SO(unethical practices)=1.38\n"
     ]
    },
    {
     "data": {
      "text/plain": "1.3757454681324415"
     },
     "execution_count": 7,
     "metadata": {},
     "output_type": "execute_result"
    }
   ],
   "source": [
    "get_SO('local branch')\n",
    "get_SO('online experience')\n",
    "get_SO('inconveniently located')\n",
    "get_SO('unethical practices')"
   ]
  },
  {
   "cell_type": "code",
   "execution_count": 8,
   "metadata": {
    "colab": {
     "base_uri": "https://localhost:8080/"
    },
    "id": "kVT8q7B-CMh2",
    "outputId": "54ceac3f-22c4-4c41-8002-daa0b4fc9b20",
    "ExecuteTime": {
     "end_time": "2024-03-14T07:36:12.062357Z",
     "start_time": "2024-03-14T07:36:00.007299Z"
    }
   },
   "outputs": [
    {
     "name": "stdout",
     "output_type": "stream",
     "text": [
      "SO(unethical practices)=-2.17\n"
     ]
    },
    {
     "data": {
      "text/plain": "-2.1696570964739674"
     },
     "execution_count": 8,
     "metadata": {},
     "output_type": "execute_result"
    }
   ],
   "source": [
    "get_SO('unethical practices', negative_word='terrible bank')"
   ]
  }
 ],
 "metadata": {
  "kernelspec": {
   "name": "python3",
   "language": "python",
   "display_name": "Python 3 (ipykernel)"
  },
  "language_info": {
   "name": "python"
  },
  "colab": {
   "provenance": []
  },
  "gpuClass": "standard"
 },
 "nbformat": 4,
 "nbformat_minor": 0
}
