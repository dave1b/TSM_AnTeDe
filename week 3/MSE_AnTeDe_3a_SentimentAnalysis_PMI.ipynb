{
  "cells": [
    {
      "cell_type": "markdown",
      "metadata": {
        "id": "ZPJCtaygCMho"
      },
      "source": [
        "# AnTeDe - Sentiment Analysis - Part A\n",
        "\n",
        "## Session goal\n",
        "The goal of this session is to get acquainted with Pointwise Mutual Information and Semantic Orientation. The function **get_hits** returns the number of Google hits for a given **query**."
      ]
    },
    {
      "cell_type": "code",
      "execution_count": 8,
      "metadata": {
        "id": "4SajuX0pCMht"
      },
      "outputs": [],
      "source": [
        "def get_hits (query):\n",
        "    import requests, re, logging, math\n",
        "    \n",
        "    TIMEOUT = 3\n",
        "\n",
        "    params = (\n",
        "        ('hl', 'en'),\n",
        "        ('q', query),\n",
        "        \n",
        "    )\n",
        "    \n",
        "    USER_AGENT = \"Mozilla/5.0 (Macintosh; Intel Mac OS X 10.14; rv:65.0) Gecko/20100101 Firefox/65.0\"\n",
        "\n",
        "    \n",
        "    URL = \"https://google.com/search?q={query}\"\n",
        "\n",
        "    headers = {\"user-agent\": USER_AGENT}\n",
        "    \n",
        "    groups=[]\n",
        "    counter = 0\n",
        "\n",
        "    while len(groups)==0:\n",
        "      response = requests.get(URL, headers=headers, params=params)\n",
        "    \n",
        "      # Regular expression to retrieve the approximate number of hits from Google's response\n",
        "      groups=re.findall(r'result-stats\">About (.*?) results', response.text)\n",
        "\n",
        "      counter=counter+1\n",
        "      if counter == TIMEOUT:\n",
        "        break\n",
        "    \n",
        "        \n",
        "    # in case no hits were found\n",
        "    if len(groups)==0:\n",
        "        logging.warning('No hits found for query '+query)\n",
        "        \n",
        "        return math.pow(10, -10)\n",
        "    \n",
        "    try:\n",
        "        # if the number is large, get rid of separators \n",
        "        result = float(groups[0].replace('.', '').replace(',', \"\").replace('’', \"\"))\n",
        "    except:\n",
        "        result = float(groups[0])\n",
        "        \n",
        "      \n",
        "    return result    "
      ]
    },
    {
      "cell_type": "markdown",
      "metadata": {
        "id": "2QbBhL_JCMhv"
      },
      "source": [
        "Now we get an estimate of the total number of hits."
      ]
    },
    {
      "cell_type": "code",
      "execution_count": 9,
      "metadata": {
        "scrolled": false,
        "colab": {
          "base_uri": "https://localhost:8080/"
        },
        "id": "SDwKUV_LCMhw",
        "outputId": "b903d660-211a-4583-8c59-3ad6dd8f65e3"
      },
      "outputs": [
        {
          "output_type": "stream",
          "name": "stdout",
          "text": [
            "1290000000.0\n"
          ]
        }
      ],
      "source": [
        "all_hits = get_hits('the AND a AND of')\n",
        "print (all_hits)\n",
        "\n"
      ]
    },
    {
      "cell_type": "markdown",
      "metadata": {
        "id": "6bPHNnAZCMhx"
      },
      "source": [
        "We define a **get_PMI** function based on **get_hits**."
      ]
    },
    {
      "cell_type": "code",
      "execution_count": 10,
      "metadata": {
        "id": "G-1CkfJgCMhx"
      },
      "outputs": [],
      "source": [
        "def get_PMI (w1, w2, verbose=True):  \n",
        "    \n",
        "    import math\n",
        "    \n",
        "    joint = get_hits(w1+'+AND+'+w2)\n",
        "    pw1 = get_hits(w1)\n",
        "    pw2 = get_hits(w2)\n",
        "\n",
        "    PMI = math.log(joint*all_hits/(pw1*pw2), 2)\n",
        "    \n",
        "    if verbose:\n",
        "        print ('PMI('+w1+','+w2+')='+str(round(PMI, 2)))\n",
        "    \n",
        "    return PMI, (joint, pw1, pw2, all_hits)"
      ]
    },
    {
      "cell_type": "markdown",
      "metadata": {
        "id": "LAhaiQpXCMhy"
      },
      "source": [
        "Now you can experiment with PMI. Here's an example, but think of other examples on your own."
      ]
    },
    {
      "cell_type": "code",
      "execution_count": 11,
      "metadata": {
        "colab": {
          "base_uri": "https://localhost:8080/"
        },
        "id": "WBwHStKnCMhz",
        "outputId": "7aef6231-aae4-4d90-fc57-9bb460294432"
      },
      "outputs": [
        {
          "output_type": "stream",
          "name": "stdout",
          "text": [
            "PMI(richest,engineer)=2.77\n",
            "PMI(richest,data scientist)=3.58\n",
            "PMI(richest,venture capitalist)=4.32\n",
            "PMI(richest,zurich banker)=6.25\n"
          ]
        }
      ],
      "source": [
        "PMI, metrics = get_PMI ('richest', 'engineer')\n",
        "PMI, metrics = get_PMI ('richest', 'data scientist')\n",
        "PMI, metrics = get_PMI ('richest', 'venture capitalist')\n",
        "PMI, metrics = get_PMI ('richest', 'zurich banker')"
      ]
    },
    {
      "cell_type": "markdown",
      "metadata": {
        "id": "eQ6VbZ2FCMhz"
      },
      "source": [
        "Write a function to compute the semantic orientation similarly to how it is defined in the (Turney, 2002) paper we discussed in class. "
      ]
    },
    {
      "cell_type": "code",
      "execution_count": 12,
      "metadata": {
        "id": "B8HadCV_CMh0"
      },
      "outputs": [],
      "source": [
        "def get_SO (phrase, positive_word='excellent', negative_word='poor', verbose=True):\n",
        "    SO=\"INCOMPLETE\"\n",
        "# BEGIN_REMOVE\n",
        "    PMI_positive, metrics = get_PMI(phrase, positive_word, False)\n",
        "    PMI_negative, metrics = get_PMI(phrase, negative_word, False)\n",
        "    SO=PMI_positive-PMI_negative\n",
        "    if verbose:\n",
        "        print ('SO('+phrase+')='+str(round(SO, 2)))\n",
        "# END_REMOVE\n",
        "    return SO"
      ]
    },
    {
      "cell_type": "markdown",
      "metadata": {
        "id": "vuiw_wW1CMh1"
      },
      "source": [
        "Try it out on the examples from the paper and see whether you can modify it to get better results."
      ]
    },
    {
      "cell_type": "code",
      "execution_count": 13,
      "metadata": {
        "colab": {
          "base_uri": "https://localhost:8080/"
        },
        "id": "ASgpuV8TCMh1",
        "outputId": "e1074a0e-62b6-4a15-c3e9-8978a1e973a5"
      },
      "outputs": [
        {
          "output_type": "stream",
          "name": "stdout",
          "text": [
            "SO(local branch)=1.15\n",
            "SO(online experience)=2.03\n",
            "SO(inconveniently located)=0.5\n",
            "SO(unethical practices)=-0.44\n"
          ]
        },
        {
          "output_type": "execute_result",
          "data": {
            "text/plain": [
              "-0.4447374736370242"
            ]
          },
          "metadata": {},
          "execution_count": 13
        }
      ],
      "source": [
        "get_SO('local branch')\n",
        "get_SO('online experience')\n",
        "get_SO('inconveniently located')\n",
        "get_SO('unethical practices')"
      ]
    },
    {
      "cell_type": "code",
      "execution_count": 14,
      "metadata": {
        "colab": {
          "base_uri": "https://localhost:8080/"
        },
        "id": "kVT8q7B-CMh2",
        "outputId": "54ceac3f-22c4-4c41-8002-daa0b4fc9b20"
      },
      "outputs": [
        {
          "output_type": "stream",
          "name": "stdout",
          "text": [
            "SO(unethical practices)=-6.87\n"
          ]
        },
        {
          "output_type": "execute_result",
          "data": {
            "text/plain": [
              "-6.865658977441633"
            ]
          },
          "metadata": {},
          "execution_count": 14
        }
      ],
      "source": [
        "get_SO('unethical practices', negative_word='terrible bank')"
      ]
    }
  ],
  "metadata": {
    "kernelspec": {
      "display_name": "Python 3",
      "name": "python3"
    },
    "language_info": {
      "name": "python"
    },
    "colab": {
      "provenance": []
    },
    "gpuClass": "standard"
  },
  "nbformat": 4,
  "nbformat_minor": 0
}