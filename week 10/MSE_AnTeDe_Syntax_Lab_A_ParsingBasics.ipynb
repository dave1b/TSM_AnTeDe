{
 "cells": [
  {
   "cell_type": "markdown",
   "metadata": {
    "id": "v1aosbZSjM-_"
   },
   "source": [
    "# AnTeDe Lab a: Using Syntax Parsers \n",
    "\n",
    "## Session goal\n",
    "The goal of this session is to help you familiarize with syntax parsing."
   ]
  },
  {
   "cell_type": "markdown",
   "metadata": {
    "id": "vWYuQxbNjM_A"
   },
   "source": [
    "The following cell will start your local CoreNLP server."
   ]
  },
  {
   "cell_type": "code",
   "metadata": {
    "id": "RDY2IrchjM_B",
    "ExecuteTime": {
     "end_time": "2024-04-28T14:34:15.222577Z",
     "start_time": "2024-04-28T14:34:15.219702Z"
    }
   },
   "source": [
    "import os\n",
    "\n",
    "def unzip_corenlp(zipped):    \n",
    "    import zipfile\n",
    "    with zipfile.ZipFile(zipped,\"r\") as zip_ref:\n",
    "        zip_ref.extractall(\".\") \n",
    "        \n",
    "home = os.getcwd()      "
   ],
   "outputs": [],
   "execution_count": 22
  },
  {
   "cell_type": "code",
   "metadata": {
    "id": "6lDgE3JJjM_E",
    "ExecuteTime": {
     "end_time": "2024-04-28T14:34:16.041467Z",
     "start_time": "2024-04-28T14:34:15.224810Z"
    }
   },
   "source": [
    "my_port = 9001\n",
    "\n",
    "base_url = 'http://nlp.stanford.edu/software/'\n",
    "corenlp_filename='stanford-corenlp-4.0.0'\n",
    "corenlp_file = corenlp_filename+'.zip'\n",
    "corenlp_url = base_url + corenlp_file\n",
    "\n",
    "def download_from_url(url, save_path, chunk_size=128):\n",
    "    import requests\n",
    "    r = requests.get(url, stream=True)\n",
    "    with open(save_path, 'wb') as fd:\n",
    "        for chunk in r.iter_content(chunk_size=chunk_size):\n",
    "            fd.write(chunk)\n",
    "\n",
    "if corenlp_filename not in os.listdir(home):\n",
    "    download_from_url(corenlp_url, os.path.join(home, corenlp_file))\n",
    "else:\n",
    "    print ('CoreNLP seems to be there!')\n",
    "    \n",
    "path_to_file = os.path.join(os.getcwd(), corenlp_filename+'.'+'zip')\n",
    "unzip_corenlp(path_to_file)\n",
    "            "
   ],
   "outputs": [
    {
     "name": "stdout",
     "output_type": "stream",
     "text": [
      "CoreNLP seems to be there!\n"
     ]
    }
   ],
   "execution_count": 23
  },
  {
   "cell_type": "code",
   "metadata": {
    "id": "ysKs_UxzjM_G",
    "ExecuteTime": {
     "end_time": "2024-04-28T14:34:16.058430Z",
     "start_time": "2024-04-28T14:34:16.042425Z"
    }
   },
   "source": [
    "def start_corenlp_server():\n",
    "    path=os.path.join(home, corenlp_filename)\n",
    "    os.chdir(path)\n",
    "    command = r'java -mx4g -cp \"*\" edu.stanford.nlp.pipeline.StanfordCoreNLPServer -annotators \"tokenize,ssplit,pos,lemma,parse,sentiment\" -port '+str(my_port)+' -timeout 30000'\n",
    "    os.system (command+\" &\")\n",
    "    os.chdir(home) \n",
    "    \n",
    "start_corenlp_server()"
   ],
   "outputs": [],
   "execution_count": 24
  },
  {
   "cell_type": "markdown",
   "metadata": {
    "id": "Ux20W22HjM_J"
   },
   "source": [
    "The following cell will enable you to use the CoreNLP tokenizer and PoS tagger."
   ]
  },
  {
   "cell_type": "code",
   "metadata": {
    "colab": {
     "base_uri": "https://localhost:8080/"
    },
    "id": "g7WCejE3jM_J",
    "outputId": "28746871-f0e5-47ad-cf55-1ea23ce0eaa0",
    "scrolled": true,
    "ExecuteTime": {
     "end_time": "2024-04-28T14:34:17.553721Z",
     "start_time": "2024-04-28T14:34:16.060375Z"
    }
   },
   "source": [
    "! pip install stanfordcorenlp\n",
    "from stanfordcorenlp import StanfordCoreNLP\n",
    "from nltk.tree import *\n",
    "\n",
    "class StanfordNLP:\n",
    "    \n",
    "    def __init__(self, host='http://localhost', port=my_port):\n",
    "        self.nlp = StanfordCoreNLP(host, port=port,\n",
    "                                   timeout=30000)  # , quiet=False, logging_level=logging.DEBUG)\n",
    "        self.props = {\n",
    "            #'annotators': 'tokenize,ssplit,pos,lemma,ner,parse,depparse,dcoref,relation',\n",
    "            'annotators': 'tokenize,ssplit,pos,lemma,ner,parse,depparse',\n",
    "            'pipelineLanguage': 'en',\n",
    "            'outputFormat': 'json'\n",
    "        }\n",
    "\n",
    "    def word_tokenize(self, sentence):\n",
    "        return self.nlp.word_tokenize(sentence)\n",
    "\n",
    "    def pos(self, sentence):\n",
    "        return self.nlp.pos_tag(sentence)\n",
    "    \n",
    "    def parse(self, sentence):\n",
    "        \n",
    "        p = self.nlp.parse(sentence)\n",
    "        Tree.fromstring(p).pretty_print()\n",
    "        \n",
    "        return p\n",
    "\n",
    "    def dependency_parse(self, sentence):\n",
    "        p = self.nlp.dependency_parse(sentence)\n",
    "        print (p)\n",
    "        \n",
    "        return p"
   ],
   "outputs": [
    {
     "name": "stderr",
     "output_type": "stream",
     "text": [
      "[main] INFO CoreNLP - --- StanfordCoreNLPServer#main() called ---\n",
      "[main] INFO CoreNLP - Warning: cannot find edu/stanford/nlp/models/srparser/englishSR.ser.gz\n",
      "[main] INFO CoreNLP - Setting default constituency parser to PCFG parser: edu/stanford/nlp/models/lexparser/englishPCFG.ser.gz\n",
      "[main] INFO CoreNLP - To use shift reduce parser download English models jar from:\n",
      "[main] INFO CoreNLP - https://stanfordnlp.github.io/CoreNLP/download.html\n",
      "[main] INFO CoreNLP -     Threads: 11\n",
      "[main] INFO CoreNLP - Starting server...\n",
      "[main] WARN CoreNLP - java.net.BindException: Address already in use\n",
      "  java.base/sun.nio.ch.Net.bind0(Native Method)\n",
      "  java.base/sun.nio.ch.Net.bind(Net.java:565)\n",
      "  java.base/sun.nio.ch.ServerSocketChannelImpl.netBind(ServerSocketChannelImpl.java:344)\n",
      "  java.base/sun.nio.ch.ServerSocketChannelImpl.bind(ServerSocketChannelImpl.java:301)\n",
      "  java.base/sun.nio.ch.ServerSocketAdaptor.bind(ServerSocketAdaptor.java:89)\n",
      "  jdk.httpserver/sun.net.httpserver.ServerImpl.<init>(ServerImpl.java:145)\n",
      "  jdk.httpserver/sun.net.httpserver.HttpServerImpl.<init>(HttpServerImpl.java:50)\n",
      "  jdk.httpserver/sun.net.httpserver.DefaultHttpServerProvider.createHttpServer(DefaultHttpServerProvider.java:35)\n",
      "  jdk.httpserver/com.sun.net.httpserver.HttpServer.create(HttpServer.java:152)\n",
      "  edu.stanford.nlp.pipeline.StanfordCoreNLPServer.run(StanfordCoreNLPServer.java:1469)\n",
      "  edu.stanford.nlp.pipeline.StanfordCoreNLPServer.main(StanfordCoreNLPServer.java:1561)\n",
      "[Thread-0] INFO CoreNLP - CoreNLP Server is shutting down.\n"
     ]
    },
    {
     "name": "stdout",
     "output_type": "stream",
     "text": [
      "Requirement already satisfied: stanfordcorenlp in /Users/davebrunner/.local/share/virtualenvs/TSM_AnTeDe-RXa4k3O7/lib/python3.12/site-packages (3.9.1.1)\r\n",
      "Requirement already satisfied: psutil in /Users/davebrunner/.local/share/virtualenvs/TSM_AnTeDe-RXa4k3O7/lib/python3.12/site-packages (from stanfordcorenlp) (5.9.8)\r\n",
      "Requirement already satisfied: requests in /Users/davebrunner/.local/share/virtualenvs/TSM_AnTeDe-RXa4k3O7/lib/python3.12/site-packages (from stanfordcorenlp) (2.31.0)\r\n",
      "Requirement already satisfied: charset-normalizer<4,>=2 in /Users/davebrunner/.local/share/virtualenvs/TSM_AnTeDe-RXa4k3O7/lib/python3.12/site-packages (from requests->stanfordcorenlp) (3.3.2)\r\n",
      "Requirement already satisfied: idna<4,>=2.5 in /Users/davebrunner/.local/share/virtualenvs/TSM_AnTeDe-RXa4k3O7/lib/python3.12/site-packages (from requests->stanfordcorenlp) (3.7)\r\n",
      "Requirement already satisfied: urllib3<3,>=1.21.1 in /Users/davebrunner/.local/share/virtualenvs/TSM_AnTeDe-RXa4k3O7/lib/python3.12/site-packages (from requests->stanfordcorenlp) (2.2.1)\r\n",
      "Requirement already satisfied: certifi>=2017.4.17 in /Users/davebrunner/.local/share/virtualenvs/TSM_AnTeDe-RXa4k3O7/lib/python3.12/site-packages (from requests->stanfordcorenlp) (2024.2.2)\r\n"
     ]
    }
   ],
   "execution_count": 25
  },
  {
   "cell_type": "code",
   "metadata": {
    "colab": {
     "base_uri": "https://localhost:8080/"
    },
    "id": "r8If0qDajM_M",
    "outputId": "7dcca8ba-2348-456d-9de4-6686cade0172",
    "ExecuteTime": {
     "end_time": "2024-04-28T14:34:18.586179Z",
     "start_time": "2024-04-28T14:34:17.554879Z"
    }
   },
   "source": [
    "s = StanfordNLP()\n",
    "\n",
    "sentence='Fed raises interest rates.'\n",
    "print (s.parse(sentence))"
   ],
   "outputs": [
    {
     "name": "stdout",
     "output_type": "stream",
     "text": [
      "Fed raises interest rates.\n",
      "             ROOT                \n",
      "              |                   \n",
      "              S                  \n",
      "  ____________|________________   \n",
      " |            VP               | \n",
      " |     _______|______          |  \n",
      " NP   |              NP        | \n",
      " |    |        ______|____     |  \n",
      "NNP  VBZ      NN         NNS   . \n",
      " |    |       |           |    |  \n",
      "Fed raises interest     rates  . \n",
      "\n",
      "(ROOT\n",
      "  (S\n",
      "    (NP (NNP Fed))\n",
      "    (VP (VBZ raises)\n",
      "      (NP (NN interest) (NNS rates)))\n",
      "    (. .)))\n"
     ]
    },
    {
     "name": "stderr",
     "output_type": "stream",
     "text": [
      "[pool-1-thread-3] INFO CoreNLP - [/127.0.0.1:59810] API call w/annotators tokenize,ssplit,pos,parse\n",
      "[pool-1-thread-3] INFO edu.stanford.nlp.pipeline.StanfordCoreNLP - Adding annotator tokenize\n",
      "[pool-1-thread-3] INFO edu.stanford.nlp.pipeline.StanfordCoreNLP - Adding annotator ssplit\n",
      "[pool-1-thread-3] INFO edu.stanford.nlp.pipeline.StanfordCoreNLP - Adding annotator pos\n",
      "[pool-1-thread-3] INFO edu.stanford.nlp.pipeline.StanfordCoreNLP - Adding annotator parse\n"
     ]
    }
   ],
   "execution_count": 26
  },
  {
   "cell_type": "code",
   "metadata": {
    "colab": {
     "base_uri": "https://localhost:8080/"
    },
    "id": "88sIEJvPjM_O",
    "outputId": "c1845e71-033a-4b44-b33f-854541ba1015",
    "scrolled": true,
    "ExecuteTime": {
     "end_time": "2024-04-28T14:34:18.622364Z",
     "start_time": "2024-04-28T14:34:18.587101Z"
    }
   },
   "source": [
    "\n",
    "sentence='The president eats her sandwich at her desk.'\n",
    "\n",
    "r=s.parse(sentence)\n"
   ],
   "outputs": [
    {
     "name": "stdout",
     "output_type": "stream",
     "text": [
      "The president eats her sandwich at her desk.\n",
      "                                  ROOT                        \n",
      "                                   |                           \n",
      "                                   S                          \n",
      "      _____________________________|________________________   \n",
      "     |                             VP                       | \n",
      "     |              _______________|__________              |  \n",
      "     |             |         |                PP            | \n",
      "     |             |         |             ___|____         |  \n",
      "     NP            |         NP           |        NP       | \n",
      "  ___|______       |     ____|_____       |    ____|___     |  \n",
      " DT         NN    VBZ  PRP$        NN     IN PRP$      NN   . \n",
      " |          |      |    |          |      |   |        |    |  \n",
      "The     president eats her      sandwich  at her      desk  . \n",
      "\n"
     ]
    },
    {
     "name": "stderr",
     "output_type": "stream",
     "text": [
      "[pool-1-thread-4] INFO CoreNLP - [/127.0.0.1:59811] API call w/annotators tokenize,ssplit,pos,parse\n"
     ]
    }
   ],
   "execution_count": 27
  },
  {
   "cell_type": "code",
   "metadata": {
    "colab": {
     "base_uri": "https://localhost:8080/"
    },
    "id": "OUQFeNMSjM_R",
    "outputId": "86cc942d-fd64-445f-81df-99383b2d5ebd",
    "ExecuteTime": {
     "end_time": "2024-04-28T14:34:18.719393Z",
     "start_time": "2024-04-28T14:34:18.623189Z"
    }
   },
   "source": [
    "\n",
    "sentence='I see a very big dog on the pile of clothes that you left next to the washing machine.'\n",
    "\n",
    "r=s.parse(sentence)"
   ],
   "outputs": [
    {
     "name": "stdout",
     "output_type": "stream",
     "text": [
      "I see a very big dog on the pile of clothes that you left next to the washing machine.\n",
      "                                               ROOT                                                            \n",
      "                                                |                                                               \n",
      "                                                S                                                              \n",
      "  ______________________________________________|____________________________________________________________   \n",
      " |           VP                                                                                              | \n",
      " |    _______|_____________________                                                                          |  \n",
      " |   |       |                     PP                                                                        | \n",
      " |   |       |                  ___|_______                                                                  |  \n",
      " |   |       |                 |           NP                                                                | \n",
      " |   |       |                 |        ___|___________                                                      |  \n",
      " |   |       |                 |       |               PP                                                    | \n",
      " |   |       |                 |       |         ______|_____                                                |  \n",
      " |   |       |                 |       |        |            NP                                              | \n",
      " |   |       |                 |       |        |       _____|____                                           |  \n",
      " |   |       |                 |       |        |      |         SBAR                                        | \n",
      " |   |       |                 |       |        |      |      ____|____                                      |  \n",
      " |   |       |                 |       |        |      |     |         S                                     | \n",
      " |   |       |                 |       |        |      |     |     ____|_________                            |  \n",
      " |   |       |                 |       |        |      |     |    |              VP                          | \n",
      " |   |       |                 |       |        |      |     |    |     _________|_______                    |  \n",
      " |   |       NP                |       |        |      |     |    |    |    |            PP                  | \n",
      " |   |    ___|_____________    |       |        |      |     |    |    |    |     _______|_____              |  \n",
      " NP  |   |       ADJP      |   |       NP       |      NP   WHNP  NP   |    NP   |             NP            | \n",
      " |   |   |    ____|____    |   |    ___|___     |      |     |    |    |    |    |    _________|_______      |  \n",
      "PRP VBP  DT  RB        JJ  NN  IN  DT      NN   IN    NNS   WDT  PRP  VBD   JJ   IN  DT        NN      NN    . \n",
      " |   |   |   |         |   |   |   |       |    |      |     |    |    |    |    |   |         |       |     |  \n",
      " I  see  a  very      big dog  on the     pile  of  clothes that you  left next  to the     washing machine  . \n",
      "\n"
     ]
    },
    {
     "name": "stderr",
     "output_type": "stream",
     "text": [
      "[pool-1-thread-5] INFO CoreNLP - [/127.0.0.1:59812] API call w/annotators tokenize,ssplit,pos,parse\n"
     ]
    }
   ],
   "execution_count": 28
  },
  {
   "cell_type": "code",
   "metadata": {
    "colab": {
     "base_uri": "https://localhost:8080/"
    },
    "id": "I6XKAe4RjM_U",
    "outputId": "1d668ab2-33c7-4bd7-b233-cf24bcd4096f",
    "ExecuteTime": {
     "end_time": "2024-04-28T14:34:18.737059Z",
     "start_time": "2024-04-28T14:34:18.721101Z"
    }
   },
   "source": [
    "# This sentence was contributed by course participant Pius von Däniken during the live lecture on May 7, 2020\n",
    "# The parser has a really hard time with the word man used as a verb\n",
    "sentence='The old man the boats.'\n",
    "\n",
    "r=s.parse(sentence)"
   ],
   "outputs": [
    {
     "name": "stdout",
     "output_type": "stream",
     "text": [
      "The old man the boats.\n",
      "        ROOT                  \n",
      "         |                     \n",
      "         NP                   \n",
      "      ___|__________________   \n",
      "     NP           NP        | \n",
      "  ___|___      ___|____     |  \n",
      " DT  JJ  NN   DT      NNS   . \n",
      " |   |   |    |        |    |  \n",
      "The old man  the     boats  . \n",
      "\n"
     ]
    },
    {
     "name": "stderr",
     "output_type": "stream",
     "text": [
      "[pool-1-thread-6] INFO CoreNLP - [/127.0.0.1:59813] API call w/annotators tokenize,ssplit,pos,parse\n"
     ]
    }
   ],
   "execution_count": 29
  },
  {
   "cell_type": "code",
   "metadata": {
    "colab": {
     "base_uri": "https://localhost:8080/"
    },
    "id": "b__firOojM_W",
    "outputId": "c9ef3f1a-d12f-4cba-f04d-08784166aff6",
    "ExecuteTime": {
     "end_time": "2024-04-28T14:34:18.767246Z",
     "start_time": "2024-04-28T14:34:18.740253Z"
    }
   },
   "source": [
    "# The parser has an easier time if we change 'man' to 'are manning'\n",
    "sentence='The old are manning the boats.'\n",
    "\n",
    "r=s.parse(sentence)"
   ],
   "outputs": [
    {
     "name": "stdout",
     "output_type": "stream",
     "text": [
      "The old are manning the boats.\n",
      "                  ROOT                       \n",
      "                   |                          \n",
      "                   S                         \n",
      "      _____________|_______________________   \n",
      "     |                   VP                | \n",
      "     |        ___________|___              |  \n",
      "     |       |               VP            | \n",
      "     |       |      _________|___          |  \n",
      "     NP      |     |             NP        | \n",
      "  ___|___    |     |          ___|____     |  \n",
      " DT      JJ VBP   VBG        DT      NNS   . \n",
      " |       |   |     |         |        |    |  \n",
      "The     old are manning     the     boats  . \n",
      "\n"
     ]
    },
    {
     "name": "stderr",
     "output_type": "stream",
     "text": [
      "[pool-1-thread-7] INFO CoreNLP - [/127.0.0.1:59814] API call w/annotators tokenize,ssplit,pos,parse\n"
     ]
    }
   ],
   "execution_count": 30
  },
  {
   "cell_type": "code",
   "metadata": {
    "colab": {
     "base_uri": "https://localhost:8080/",
     "height": 428
    },
    "id": "neWQVIOVjM_Z",
    "outputId": "9155c59a-3f81-49f7-eca5-26d4bd2372c9",
    "ExecuteTime": {
     "end_time": "2024-04-28T14:34:19.014900Z",
     "start_time": "2024-04-28T14:34:18.768417Z"
    }
   },
   "source": [
    "from nltk.parse.corenlp import CoreNLPDependencyParser\n",
    "my_port = 9001\n",
    "url = 'http://localhost:'+str(my_port)\n",
    "parser = CoreNLPDependencyParser(url=url)\n",
    "parse = next(parser.raw_parse(sentence))\n",
    "parse"
   ],
   "outputs": [
    {
     "name": "stderr",
     "output_type": "stream",
     "text": [
      "[pool-1-thread-9] INFO CoreNLP - [/127.0.0.1:59815] API call w/annotators tokenize,ssplit,pos,lemma,depparse\n",
      "[pool-1-thread-9] INFO edu.stanford.nlp.pipeline.StanfordCoreNLP - Adding annotator tokenize\n",
      "[pool-1-thread-9] INFO edu.stanford.nlp.pipeline.StanfordCoreNLP - Adding annotator ssplit\n",
      "[pool-1-thread-9] INFO edu.stanford.nlp.pipeline.StanfordCoreNLP - Adding annotator pos\n",
      "[pool-1-thread-9] INFO edu.stanford.nlp.pipeline.StanfordCoreNLP - Adding annotator lemma\n",
      "[pool-1-thread-9] INFO edu.stanford.nlp.pipeline.StanfordCoreNLP - Adding annotator depparse\n"
     ]
    },
    {
     "name": "stdout",
     "output_type": "stream",
     "text": [
      "The old are manning the boats.\n"
     ]
    },
    {
     "data": {
      "text/plain": [
       "<DependencyGraph with 8 nodes>"
      ],
      "image/svg+xml": "<?xml version=\"1.0\" encoding=\"UTF-8\" standalone=\"no\"?>\n<!DOCTYPE svg PUBLIC \"-//W3C//DTD SVG 1.1//EN\"\n \"http://www.w3.org/Graphics/SVG/1.1/DTD/svg11.dtd\">\n<!-- Generated by graphviz version 10.0.1 (20240210.2158)\n -->\n<!-- Title: G Pages: 1 -->\n<svg width=\"289pt\" height=\"310pt\"\n viewBox=\"0.00 0.00 289.25 309.50\" xmlns=\"http://www.w3.org/2000/svg\" xmlns:xlink=\"http://www.w3.org/1999/xlink\">\n<g id=\"graph0\" class=\"graph\" transform=\"scale(1 1) rotate(0) translate(4 305.5)\">\n<title>G</title>\n<polygon fill=\"white\" stroke=\"none\" points=\"-4,4 -4,-305.5 285.25,-305.5 285.25,4 -4,4\"/>\n<!-- 0 -->\n<g id=\"node1\" class=\"node\">\n<title>0</title>\n<text text-anchor=\"middle\" x=\"138.25\" y=\"-278.45\" font-family=\"Times,serif\" font-size=\"14.00\">0 (None)</text>\n</g>\n<!-- 4 -->\n<g id=\"node2\" class=\"node\">\n<title>4</title>\n<text text-anchor=\"middle\" x=\"138.25\" y=\"-189.95\" font-family=\"Times,serif\" font-size=\"14.00\">4 (manning)</text>\n</g>\n<!-- 0&#45;&gt;4 -->\n<g id=\"edge1\" class=\"edge\">\n<title>0&#45;&gt;4</title>\n<path fill=\"none\" stroke=\"black\" d=\"M138.25,-265.82C138.25,-254.05 138.25,-237.99 138.25,-224.24\"/>\n<polygon fill=\"black\" stroke=\"black\" points=\"141.75,-224.44 138.25,-214.44 134.75,-224.44 141.75,-224.44\"/>\n<text text-anchor=\"middle\" x=\"156.62\" y=\"-234.2\" font-family=\"Times,serif\" font-size=\"14.00\">ROOT</text>\n</g>\n<!-- 2 -->\n<g id=\"node4\" class=\"node\">\n<title>2</title>\n<text text-anchor=\"middle\" x=\"28.25\" y=\"-101.45\" font-family=\"Times,serif\" font-size=\"14.00\">2 (old)</text>\n</g>\n<!-- 4&#45;&gt;2 -->\n<g id=\"edge3\" class=\"edge\">\n<title>4&#45;&gt;2</title>\n<path fill=\"none\" stroke=\"black\" d=\"M107.1,-177.17C98.06,-171.79 88.38,-165.53 80,-159 69.85,-151.09 59.61,-141.35 50.95,-132.48\"/>\n<polygon fill=\"black\" stroke=\"black\" points=\"53.66,-130.25 44.22,-125.42 48.59,-135.08 53.66,-130.25\"/>\n<text text-anchor=\"middle\" x=\"94.88\" y=\"-145.7\" font-family=\"Times,serif\" font-size=\"14.00\">nsubj</text>\n</g>\n<!-- 3 -->\n<g id=\"node5\" class=\"node\">\n<title>3</title>\n<text text-anchor=\"middle\" x=\"100.25\" y=\"-101.45\" font-family=\"Times,serif\" font-size=\"14.00\">3 (are)</text>\n</g>\n<!-- 4&#45;&gt;3 -->\n<g id=\"edge4\" class=\"edge\">\n<title>4&#45;&gt;3</title>\n<path fill=\"none\" stroke=\"black\" d=\"M128.16,-177.2C124.95,-171.52 121.51,-165.08 118.75,-159 115.32,-151.45 112.07,-143.05 109.29,-135.27\"/>\n<polygon fill=\"black\" stroke=\"black\" points=\"112.63,-134.22 106.06,-125.91 106.01,-136.5 112.63,-134.22\"/>\n<text text-anchor=\"middle\" x=\"129\" y=\"-145.7\" font-family=\"Times,serif\" font-size=\"14.00\">aux</text>\n</g>\n<!-- 6 -->\n<g id=\"node6\" class=\"node\">\n<title>6</title>\n<text text-anchor=\"middle\" x=\"177.25\" y=\"-101.45\" font-family=\"Times,serif\" font-size=\"14.00\">6 (boats)</text>\n</g>\n<!-- 4&#45;&gt;6 -->\n<g id=\"edge5\" class=\"edge\">\n<title>4&#45;&gt;6</title>\n<path fill=\"none\" stroke=\"black\" d=\"M145.77,-177.32C151.18,-165.31 158.61,-148.84 164.89,-134.91\"/>\n<polygon fill=\"black\" stroke=\"black\" points=\"168.08,-136.36 169,-125.8 161.7,-133.48 168.08,-136.36\"/>\n<text text-anchor=\"middle\" x=\"168.88\" y=\"-145.7\" font-family=\"Times,serif\" font-size=\"14.00\">obj</text>\n</g>\n<!-- 7 -->\n<g id=\"node7\" class=\"node\">\n<title>7</title>\n<text text-anchor=\"middle\" x=\"254.25\" y=\"-101.45\" font-family=\"Times,serif\" font-size=\"14.00\">7 (.)</text>\n</g>\n<!-- 4&#45;&gt;7 -->\n<g id=\"edge6\" class=\"edge\">\n<title>4&#45;&gt;7</title>\n<path fill=\"none\" stroke=\"black\" d=\"M160.89,-177.12C178.46,-164.02 203.02,-145.7 222.54,-131.15\"/>\n<polygon fill=\"black\" stroke=\"black\" points=\"224.53,-134.03 230.45,-125.25 220.34,-128.42 224.53,-134.03\"/>\n<text text-anchor=\"middle\" x=\"221.25\" y=\"-145.7\" font-family=\"Times,serif\" font-size=\"14.00\">punct</text>\n</g>\n<!-- 1 -->\n<g id=\"node3\" class=\"node\">\n<title>1</title>\n<text text-anchor=\"middle\" x=\"28.25\" y=\"-12.95\" font-family=\"Times,serif\" font-size=\"14.00\">1 (The)</text>\n</g>\n<!-- 2&#45;&gt;1 -->\n<g id=\"edge2\" class=\"edge\">\n<title>2&#45;&gt;1</title>\n<path fill=\"none\" stroke=\"black\" d=\"M28.25,-88.82C28.25,-77.05 28.25,-60.99 28.25,-47.24\"/>\n<polygon fill=\"black\" stroke=\"black\" points=\"31.75,-47.44 28.25,-37.44 24.75,-47.44 31.75,-47.44\"/>\n<text text-anchor=\"middle\" x=\"36.5\" y=\"-57.2\" font-family=\"Times,serif\" font-size=\"14.00\">det</text>\n</g>\n<!-- 5 -->\n<g id=\"node8\" class=\"node\">\n<title>5</title>\n<text text-anchor=\"middle\" x=\"177.25\" y=\"-12.95\" font-family=\"Times,serif\" font-size=\"14.00\">5 (the)</text>\n</g>\n<!-- 6&#45;&gt;5 -->\n<g id=\"edge7\" class=\"edge\">\n<title>6&#45;&gt;5</title>\n<path fill=\"none\" stroke=\"black\" d=\"M177.25,-88.82C177.25,-77.05 177.25,-60.99 177.25,-47.24\"/>\n<polygon fill=\"black\" stroke=\"black\" points=\"180.75,-47.44 177.25,-37.44 173.75,-47.44 180.75,-47.44\"/>\n<text text-anchor=\"middle\" x=\"185.5\" y=\"-57.2\" font-family=\"Times,serif\" font-size=\"14.00\">det</text>\n</g>\n</g>\n</svg>\n"
     },
     "execution_count": 31,
     "metadata": {},
     "output_type": "execute_result"
    }
   ],
   "execution_count": 31
  },
  {
   "cell_type": "code",
   "metadata": {
    "colab": {
     "base_uri": "https://localhost:8080/",
     "height": 544
    },
    "id": "6mM5_2oFjM_b",
    "outputId": "d2ecab92-9b82-4750-f830-19ceb0777ce2",
    "ExecuteTime": {
     "end_time": "2024-04-28T14:34:19.199383Z",
     "start_time": "2024-04-28T14:34:19.015999Z"
    }
   },
   "source": [
    "sentence='San Jose cops kill man with knife.'\n",
    "\n",
    "parse = next(parser.raw_parse(sentence))\n",
    "parse"
   ],
   "outputs": [
    {
     "name": "stdout",
     "output_type": "stream",
     "text": [
      "San Jose cops kill man with knife.\n"
     ]
    },
    {
     "name": "stderr",
     "output_type": "stream",
     "text": [
      "[pool-1-thread-10] INFO CoreNLP - [/127.0.0.1:59815] API call w/annotators tokenize,ssplit,pos,lemma,depparse\n"
     ]
    },
    {
     "data": {
      "text/plain": [
       "<DependencyGraph with 9 nodes>"
      ],
      "image/svg+xml": "<?xml version=\"1.0\" encoding=\"UTF-8\" standalone=\"no\"?>\n<!DOCTYPE svg PUBLIC \"-//W3C//DTD SVG 1.1//EN\"\n \"http://www.w3.org/Graphics/SVG/1.1/DTD/svg11.dtd\">\n<!-- Generated by graphviz version 10.0.1 (20240210.2158)\n -->\n<!-- Title: G Pages: 1 -->\n<svg width=\"299pt\" height=\"398pt\"\n viewBox=\"0.00 0.00 299.12 398.00\" xmlns=\"http://www.w3.org/2000/svg\" xmlns:xlink=\"http://www.w3.org/1999/xlink\">\n<g id=\"graph0\" class=\"graph\" transform=\"scale(1 1) rotate(0) translate(4 394)\">\n<title>G</title>\n<polygon fill=\"white\" stroke=\"none\" points=\"-4,4 -4,-394 295.12,-394 295.12,4 -4,4\"/>\n<!-- 0 -->\n<g id=\"node1\" class=\"node\">\n<title>0</title>\n<text text-anchor=\"middle\" x=\"147.12\" y=\"-366.95\" font-family=\"Times,serif\" font-size=\"14.00\">0 (None)</text>\n</g>\n<!-- 4 -->\n<g id=\"node2\" class=\"node\">\n<title>4</title>\n<text text-anchor=\"middle\" x=\"147.12\" y=\"-278.45\" font-family=\"Times,serif\" font-size=\"14.00\">4 (kill)</text>\n</g>\n<!-- 0&#45;&gt;4 -->\n<g id=\"edge1\" class=\"edge\">\n<title>0&#45;&gt;4</title>\n<path fill=\"none\" stroke=\"black\" d=\"M147.12,-354.32C147.12,-342.55 147.12,-326.49 147.12,-312.74\"/>\n<polygon fill=\"black\" stroke=\"black\" points=\"150.63,-312.94 147.13,-302.94 143.63,-312.94 150.63,-312.94\"/>\n<text text-anchor=\"middle\" x=\"165.5\" y=\"-322.7\" font-family=\"Times,serif\" font-size=\"14.00\">ROOT</text>\n</g>\n<!-- 3 -->\n<g id=\"node5\" class=\"node\">\n<title>3</title>\n<text text-anchor=\"middle\" x=\"30.12\" y=\"-189.95\" font-family=\"Times,serif\" font-size=\"14.00\">3 (cops)</text>\n</g>\n<!-- 4&#45;&gt;3 -->\n<g id=\"edge4\" class=\"edge\">\n<title>4&#45;&gt;3</title>\n<path fill=\"none\" stroke=\"black\" d=\"M120.32,-267.34C110.51,-261.48 99.48,-254.5 89.88,-247.5 78.49,-239.2 66.61,-229.25 56.47,-220.33\"/>\n<polygon fill=\"black\" stroke=\"black\" points=\"58.97,-217.87 49.19,-213.82 54.31,-223.09 58.97,-217.87\"/>\n<text text-anchor=\"middle\" x=\"104.75\" y=\"-234.2\" font-family=\"Times,serif\" font-size=\"14.00\">nsubj</text>\n</g>\n<!-- 5 -->\n<g id=\"node6\" class=\"node\">\n<title>5</title>\n<text text-anchor=\"middle\" x=\"108.12\" y=\"-189.95\" font-family=\"Times,serif\" font-size=\"14.00\">5 (man)</text>\n</g>\n<!-- 4&#45;&gt;5 -->\n<g id=\"edge5\" class=\"edge\">\n<title>4&#45;&gt;5</title>\n<path fill=\"none\" stroke=\"black\" d=\"M137.88,-265.58C134.88,-259.89 131.63,-253.47 128.88,-247.5 125.31,-239.76 121.73,-231.23 118.58,-223.38\"/>\n<polygon fill=\"black\" stroke=\"black\" points=\"121.92,-222.31 115,-214.28 115.41,-224.87 121.92,-222.31\"/>\n<text text-anchor=\"middle\" x=\"137.75\" y=\"-234.2\" font-family=\"Times,serif\" font-size=\"14.00\">obj</text>\n</g>\n<!-- 7 -->\n<g id=\"node7\" class=\"node\">\n<title>7</title>\n<text text-anchor=\"middle\" x=\"187.12\" y=\"-189.95\" font-family=\"Times,serif\" font-size=\"14.00\">7 (knife)</text>\n</g>\n<!-- 4&#45;&gt;7 -->\n<g id=\"edge6\" class=\"edge\">\n<title>4&#45;&gt;7</title>\n<path fill=\"none\" stroke=\"black\" d=\"M154.84,-265.82C160.45,-253.69 168.16,-237.02 174.64,-223\"/>\n<polygon fill=\"black\" stroke=\"black\" points=\"177.64,-224.84 178.66,-214.3 171.29,-221.9 177.64,-224.84\"/>\n<text text-anchor=\"middle\" x=\"179.75\" y=\"-234.2\" font-family=\"Times,serif\" font-size=\"14.00\">obl</text>\n</g>\n<!-- 8 -->\n<g id=\"node8\" class=\"node\">\n<title>8</title>\n<text text-anchor=\"middle\" x=\"264.12\" y=\"-189.95\" font-family=\"Times,serif\" font-size=\"14.00\">8 (.)</text>\n</g>\n<!-- 4&#45;&gt;8 -->\n<g id=\"edge7\" class=\"edge\">\n<title>4&#45;&gt;8</title>\n<path fill=\"none\" stroke=\"black\" d=\"M169.96,-265.62C187.68,-252.52 212.45,-234.2 232.14,-219.65\"/>\n<polygon fill=\"black\" stroke=\"black\" points=\"234.17,-222.5 240.13,-213.74 230.01,-216.87 234.17,-222.5\"/>\n<text text-anchor=\"middle\" x=\"230.12\" y=\"-234.2\" font-family=\"Times,serif\" font-size=\"14.00\">punct</text>\n</g>\n<!-- 1 -->\n<g id=\"node3\" class=\"node\">\n<title>1</title>\n<text text-anchor=\"middle\" x=\"30.12\" y=\"-12.95\" font-family=\"Times,serif\" font-size=\"14.00\">1 (San)</text>\n</g>\n<!-- 2 -->\n<g id=\"node4\" class=\"node\">\n<title>2</title>\n<text text-anchor=\"middle\" x=\"30.12\" y=\"-101.45\" font-family=\"Times,serif\" font-size=\"14.00\">2 (Jose)</text>\n</g>\n<!-- 2&#45;&gt;1 -->\n<g id=\"edge2\" class=\"edge\">\n<title>2&#45;&gt;1</title>\n<path fill=\"none\" stroke=\"black\" d=\"M30.12,-88.82C30.12,-77.05 30.12,-60.99 30.12,-47.24\"/>\n<polygon fill=\"black\" stroke=\"black\" points=\"33.63,-47.44 30.13,-37.44 26.63,-47.44 33.63,-47.44\"/>\n<text text-anchor=\"middle\" x=\"59\" y=\"-57.2\" font-family=\"Times,serif\" font-size=\"14.00\">compound</text>\n</g>\n<!-- 3&#45;&gt;2 -->\n<g id=\"edge3\" class=\"edge\">\n<title>3&#45;&gt;2</title>\n<path fill=\"none\" stroke=\"black\" d=\"M30.12,-177.32C30.12,-165.55 30.12,-149.49 30.12,-135.74\"/>\n<polygon fill=\"black\" stroke=\"black\" points=\"33.63,-135.94 30.13,-125.94 26.63,-135.94 33.63,-135.94\"/>\n<text text-anchor=\"middle\" x=\"59\" y=\"-145.7\" font-family=\"Times,serif\" font-size=\"14.00\">compound</text>\n</g>\n<!-- 6 -->\n<g id=\"node9\" class=\"node\">\n<title>6</title>\n<text text-anchor=\"middle\" x=\"187.12\" y=\"-101.45\" font-family=\"Times,serif\" font-size=\"14.00\">6 (with)</text>\n</g>\n<!-- 7&#45;&gt;6 -->\n<g id=\"edge8\" class=\"edge\">\n<title>7&#45;&gt;6</title>\n<path fill=\"none\" stroke=\"black\" d=\"M187.12,-177.32C187.12,-165.55 187.12,-149.49 187.12,-135.74\"/>\n<polygon fill=\"black\" stroke=\"black\" points=\"190.63,-135.94 187.13,-125.94 183.63,-135.94 190.63,-135.94\"/>\n<text text-anchor=\"middle\" x=\"198.75\" y=\"-145.7\" font-family=\"Times,serif\" font-size=\"14.00\">case</text>\n</g>\n</g>\n</svg>\n"
     },
     "execution_count": 32,
     "metadata": {},
     "output_type": "execute_result"
    }
   ],
   "execution_count": 32
  },
  {
   "cell_type": "code",
   "metadata": {
    "colab": {
     "base_uri": "https://localhost:8080/",
     "height": 776
    },
    "id": "EVUKrB4L6hKA",
    "outputId": "d3ad438c-c3a2-4731-cbdd-0240fdc1a13e",
    "ExecuteTime": {
     "end_time": "2024-04-28T14:34:19.386908Z",
     "start_time": "2024-04-28T14:34:19.200373Z"
    }
   },
   "source": [
    "sentence='I see a very big dog on the pile of clothes that you left next to the washing machine.'\n",
    "parse = next(parser.raw_parse(sentence))\n",
    "parse"
   ],
   "outputs": [
    {
     "name": "stderr",
     "output_type": "stream",
     "text": [
      "[pool-1-thread-11] INFO CoreNLP - [/127.0.0.1:59815] API call w/annotators tokenize,ssplit,pos,lemma,depparse\n"
     ]
    },
    {
     "name": "stdout",
     "output_type": "stream",
     "text": [
      "I see a very big dog on the pile of clothes that you left next to the washing machine.\n"
     ]
    },
    {
     "data": {
      "text/plain": [
       "<DependencyGraph with 21 nodes>"
      ],
      "image/svg+xml": "<?xml version=\"1.0\" encoding=\"UTF-8\" standalone=\"no\"?>\n<!DOCTYPE svg PUBLIC \"-//W3C//DTD SVG 1.1//EN\"\n \"http://www.w3.org/Graphics/SVG/1.1/DTD/svg11.dtd\">\n<!-- Generated by graphviz version 10.0.1 (20240210.2158)\n -->\n<!-- Title: G Pages: 1 -->\n<svg width=\"657pt\" height=\"575pt\"\n viewBox=\"0.00 0.00 657.38 575.00\" xmlns=\"http://www.w3.org/2000/svg\" xmlns:xlink=\"http://www.w3.org/1999/xlink\">\n<g id=\"graph0\" class=\"graph\" transform=\"scale(1 1) rotate(0) translate(4 571)\">\n<title>G</title>\n<polygon fill=\"white\" stroke=\"none\" points=\"-4,4 -4,-571 653.38,-571 653.38,4 -4,4\"/>\n<!-- 0 -->\n<g id=\"node1\" class=\"node\">\n<title>0</title>\n<text text-anchor=\"middle\" x=\"139.75\" y=\"-543.95\" font-family=\"Times,serif\" font-size=\"14.00\">0 (None)</text>\n</g>\n<!-- 2 -->\n<g id=\"node2\" class=\"node\">\n<title>2</title>\n<text text-anchor=\"middle\" x=\"139.75\" y=\"-455.45\" font-family=\"Times,serif\" font-size=\"14.00\">2 (see)</text>\n</g>\n<!-- 0&#45;&gt;2 -->\n<g id=\"edge1\" class=\"edge\">\n<title>0&#45;&gt;2</title>\n<path fill=\"none\" stroke=\"black\" d=\"M139.75,-531.32C139.75,-519.55 139.75,-503.49 139.75,-489.74\"/>\n<polygon fill=\"black\" stroke=\"black\" points=\"143.25,-489.94 139.75,-479.94 136.25,-489.94 143.25,-489.94\"/>\n<text text-anchor=\"middle\" x=\"158.12\" y=\"-499.7\" font-family=\"Times,serif\" font-size=\"14.00\">ROOT</text>\n</g>\n<!-- 1 -->\n<g id=\"node3\" class=\"node\">\n<title>1</title>\n<text text-anchor=\"middle\" x=\"66.75\" y=\"-366.95\" font-family=\"Times,serif\" font-size=\"14.00\">1 (I)</text>\n</g>\n<!-- 2&#45;&gt;1 -->\n<g id=\"edge2\" class=\"edge\">\n<title>2&#45;&gt;1</title>\n<path fill=\"none\" stroke=\"black\" d=\"M123.16,-442.73C117.72,-437.06 111.74,-430.61 106.5,-424.5 99.45,-416.28 92.1,-406.98 85.67,-398.58\"/>\n<polygon fill=\"black\" stroke=\"black\" points=\"88.6,-396.65 79.78,-390.78 83.02,-400.87 88.6,-396.65\"/>\n<text text-anchor=\"middle\" x=\"121.38\" y=\"-411.2\" font-family=\"Times,serif\" font-size=\"14.00\">nsubj</text>\n</g>\n<!-- 6 -->\n<g id=\"node4\" class=\"node\">\n<title>6</title>\n<text text-anchor=\"middle\" x=\"139.75\" y=\"-366.95\" font-family=\"Times,serif\" font-size=\"14.00\">6 (dog)</text>\n</g>\n<!-- 2&#45;&gt;6 -->\n<g id=\"edge3\" class=\"edge\">\n<title>2&#45;&gt;6</title>\n<path fill=\"none\" stroke=\"black\" d=\"M139.75,-442.82C139.75,-431.05 139.75,-414.99 139.75,-401.24\"/>\n<polygon fill=\"black\" stroke=\"black\" points=\"143.25,-401.44 139.75,-391.44 136.25,-401.44 143.25,-401.44\"/>\n<text text-anchor=\"middle\" x=\"148.38\" y=\"-411.2\" font-family=\"Times,serif\" font-size=\"14.00\">obj</text>\n</g>\n<!-- 20 -->\n<g id=\"node5\" class=\"node\">\n<title>20</title>\n<text text-anchor=\"middle\" x=\"212.75\" y=\"-366.95\" font-family=\"Times,serif\" font-size=\"14.00\">20 (.)</text>\n</g>\n<!-- 2&#45;&gt;20 -->\n<g id=\"edge4\" class=\"edge\">\n<title>2&#45;&gt;20</title>\n<path fill=\"none\" stroke=\"black\" d=\"M153.83,-442.82C164.46,-430.22 179.25,-412.7 191.34,-398.36\"/>\n<polygon fill=\"black\" stroke=\"black\" points=\"193.72,-400.98 197.49,-391.08 188.37,-396.46 193.72,-400.98\"/>\n<text text-anchor=\"middle\" x=\"198.75\" y=\"-411.2\" font-family=\"Times,serif\" font-size=\"14.00\">punct</text>\n</g>\n<!-- 3 -->\n<g id=\"node6\" class=\"node\">\n<title>3</title>\n<text text-anchor=\"middle\" x=\"31.75\" y=\"-278.45\" font-family=\"Times,serif\" font-size=\"14.00\">3 (a)</text>\n</g>\n<!-- 6&#45;&gt;3 -->\n<g id=\"edge6\" class=\"edge\">\n<title>6&#45;&gt;3</title>\n<path fill=\"none\" stroke=\"black\" d=\"M116.86,-354.14C109.28,-348.46 100.85,-342.03 93.25,-336 82.28,-327.29 70.45,-317.48 60.11,-308.77\"/>\n<polygon fill=\"black\" stroke=\"black\" points=\"62.53,-306.23 52.63,-302.44 58,-311.57 62.53,-306.23\"/>\n<text text-anchor=\"middle\" x=\"102\" y=\"-322.7\" font-family=\"Times,serif\" font-size=\"14.00\">det</text>\n</g>\n<!-- 5 -->\n<g id=\"node8\" class=\"node\">\n<title>5</title>\n<text text-anchor=\"middle\" x=\"103.75\" y=\"-278.45\" font-family=\"Times,serif\" font-size=\"14.00\">5 (big)</text>\n</g>\n<!-- 6&#45;&gt;5 -->\n<g id=\"edge7\" class=\"edge\">\n<title>6&#45;&gt;5</title>\n<path fill=\"none\" stroke=\"black\" d=\"M128.53,-354C125.16,-348.42 121.66,-342.09 119,-336 115.69,-328.42 112.85,-319.91 110.54,-312.03\"/>\n<polygon fill=\"black\" stroke=\"black\" points=\"113.96,-311.29 107.95,-302.56 107.21,-313.13 113.96,-311.29\"/>\n<text text-anchor=\"middle\" x=\"135.12\" y=\"-322.7\" font-family=\"Times,serif\" font-size=\"14.00\">amod</text>\n</g>\n<!-- 9 -->\n<g id=\"node9\" class=\"node\">\n<title>9</title>\n<text text-anchor=\"middle\" x=\"176.75\" y=\"-278.45\" font-family=\"Times,serif\" font-size=\"14.00\">9 (pile)</text>\n</g>\n<!-- 6&#45;&gt;9 -->\n<g id=\"edge8\" class=\"edge\">\n<title>6&#45;&gt;9</title>\n<path fill=\"none\" stroke=\"black\" d=\"M146.88,-354.32C152.02,-342.31 159.07,-325.84 165.02,-311.91\"/>\n<polygon fill=\"black\" stroke=\"black\" points=\"168.2,-313.38 168.92,-302.81 161.77,-310.63 168.2,-313.38\"/>\n<text text-anchor=\"middle\" x=\"177.5\" y=\"-322.7\" font-family=\"Times,serif\" font-size=\"14.00\">nmod</text>\n</g>\n<!-- 14 -->\n<g id=\"node10\" class=\"node\">\n<title>14</title>\n<text text-anchor=\"middle\" x=\"391.75\" y=\"-278.45\" font-family=\"Times,serif\" font-size=\"14.00\">14 (left)</text>\n</g>\n<!-- 6&#45;&gt;14 -->\n<g id=\"edge9\" class=\"edge\">\n<title>6&#45;&gt;14</title>\n<path fill=\"none\" stroke=\"black\" d=\"M167.48,-357.83C170.58,-356.49 173.72,-355.18 176.75,-354 236.3,-330.79 307.15,-308.97 350.78,-296.17\"/>\n<polygon fill=\"black\" stroke=\"black\" points=\"351.72,-299.54 360.35,-293.39 349.77,-292.82 351.72,-299.54\"/>\n<text text-anchor=\"middle\" x=\"292.5\" y=\"-322.7\" font-family=\"Times,serif\" font-size=\"14.00\">acl:relcl</text>\n</g>\n<!-- 4 -->\n<g id=\"node7\" class=\"node\">\n<title>4</title>\n<text text-anchor=\"middle\" x=\"29.75\" y=\"-189.95\" font-family=\"Times,serif\" font-size=\"14.00\">4 (very)</text>\n</g>\n<!-- 5&#45;&gt;4 -->\n<g id=\"edge5\" class=\"edge\">\n<title>5&#45;&gt;4</title>\n<path fill=\"none\" stroke=\"black\" d=\"M89.48,-265.82C78.7,-253.22 63.71,-235.7 51.45,-221.36\"/>\n<polygon fill=\"black\" stroke=\"black\" points=\"54.37,-219.4 45.21,-214.07 49.05,-223.95 54.37,-219.4\"/>\n<text text-anchor=\"middle\" x=\"95.88\" y=\"-234.2\" font-family=\"Times,serif\" font-size=\"14.00\">advmod</text>\n</g>\n<!-- 7 -->\n<g id=\"node11\" class=\"node\">\n<title>7</title>\n<text text-anchor=\"middle\" x=\"104.75\" y=\"-189.95\" font-family=\"Times,serif\" font-size=\"14.00\">7 (on)</text>\n</g>\n<!-- 9&#45;&gt;7 -->\n<g id=\"edge10\" class=\"edge\">\n<title>9&#45;&gt;7</title>\n<path fill=\"none\" stroke=\"black\" d=\"M162.87,-265.82C152.48,-253.34 138.07,-236.03 126.2,-221.77\"/>\n<polygon fill=\"black\" stroke=\"black\" points=\"128.89,-219.53 119.8,-214.09 123.51,-224.01 128.89,-219.53\"/>\n<text text-anchor=\"middle\" x=\"159.38\" y=\"-234.2\" font-family=\"Times,serif\" font-size=\"14.00\">case</text>\n</g>\n<!-- 8 -->\n<g id=\"node12\" class=\"node\">\n<title>8</title>\n<text text-anchor=\"middle\" x=\"176.75\" y=\"-189.95\" font-family=\"Times,serif\" font-size=\"14.00\">8 (the)</text>\n</g>\n<!-- 9&#45;&gt;8 -->\n<g id=\"edge11\" class=\"edge\">\n<title>9&#45;&gt;8</title>\n<path fill=\"none\" stroke=\"black\" d=\"M176.75,-265.82C176.75,-254.05 176.75,-237.99 176.75,-224.24\"/>\n<polygon fill=\"black\" stroke=\"black\" points=\"180.25,-224.44 176.75,-214.44 173.25,-224.44 180.25,-224.44\"/>\n<text text-anchor=\"middle\" x=\"185\" y=\"-234.2\" font-family=\"Times,serif\" font-size=\"14.00\">det</text>\n</g>\n<!-- 11 -->\n<g id=\"node13\" class=\"node\">\n<title>11</title>\n<text text-anchor=\"middle\" x=\"261.75\" y=\"-189.95\" font-family=\"Times,serif\" font-size=\"14.00\">11 (clothes)</text>\n</g>\n<!-- 9&#45;&gt;11 -->\n<g id=\"edge12\" class=\"edge\">\n<title>9&#45;&gt;11</title>\n<path fill=\"none\" stroke=\"black\" d=\"M193.14,-265.82C205.64,-253.1 223.06,-235.37 237.22,-220.96\"/>\n<polygon fill=\"black\" stroke=\"black\" points=\"239.55,-223.59 244.06,-214 234.56,-218.68 239.55,-223.59\"/>\n<text text-anchor=\"middle\" x=\"243.5\" y=\"-234.2\" font-family=\"Times,serif\" font-size=\"14.00\">nmod</text>\n</g>\n<!-- 12 -->\n<g id=\"node15\" class=\"node\">\n<title>12</title>\n<text text-anchor=\"middle\" x=\"351.75\" y=\"-189.95\" font-family=\"Times,serif\" font-size=\"14.00\">12 (that)</text>\n</g>\n<!-- 14&#45;&gt;12 -->\n<g id=\"edge14\" class=\"edge\">\n<title>14&#45;&gt;12</title>\n<path fill=\"none\" stroke=\"black\" d=\"M384.04,-265.82C378.43,-253.69 370.72,-237.02 364.24,-223\"/>\n<polygon fill=\"black\" stroke=\"black\" points=\"367.58,-221.9 360.21,-214.3 361.23,-224.84 367.58,-221.9\"/>\n<text text-anchor=\"middle\" x=\"384.38\" y=\"-234.2\" font-family=\"Times,serif\" font-size=\"14.00\">obj</text>\n</g>\n<!-- 13 -->\n<g id=\"node16\" class=\"node\">\n<title>13</title>\n<text text-anchor=\"middle\" x=\"432.75\" y=\"-189.95\" font-family=\"Times,serif\" font-size=\"14.00\">13 (you)</text>\n</g>\n<!-- 14&#45;&gt;13 -->\n<g id=\"edge15\" class=\"edge\">\n<title>14&#45;&gt;13</title>\n<path fill=\"none\" stroke=\"black\" d=\"M399.66,-265.82C405.4,-253.69 413.31,-237.02 419.95,-223\"/>\n<polygon fill=\"black\" stroke=\"black\" points=\"422.96,-224.83 424.08,-214.29 416.64,-221.83 422.96,-224.83\"/>\n<text text-anchor=\"middle\" x=\"431.38\" y=\"-234.2\" font-family=\"Times,serif\" font-size=\"14.00\">nsubj</text>\n</g>\n<!-- 15 -->\n<g id=\"node17\" class=\"node\">\n<title>15</title>\n<text text-anchor=\"middle\" x=\"514.75\" y=\"-189.95\" font-family=\"Times,serif\" font-size=\"14.00\">15 (next)</text>\n</g>\n<!-- 14&#45;&gt;15 -->\n<g id=\"edge16\" class=\"edge\">\n<title>14&#45;&gt;15</title>\n<path fill=\"none\" stroke=\"black\" d=\"M421.42,-265.58C430.65,-260.06 440.76,-253.73 449.75,-247.5 461.95,-239.04 474.87,-229.04 485.95,-220.11\"/>\n<polygon fill=\"black\" stroke=\"black\" points=\"488.05,-222.91 493.59,-213.88 483.63,-217.48 488.05,-222.91\"/>\n<text text-anchor=\"middle\" x=\"494.88\" y=\"-234.2\" font-family=\"Times,serif\" font-size=\"14.00\">advmod</text>\n</g>\n<!-- 10 -->\n<g id=\"node14\" class=\"node\">\n<title>10</title>\n<text text-anchor=\"middle\" x=\"261.75\" y=\"-101.45\" font-family=\"Times,serif\" font-size=\"14.00\">10 (of)</text>\n</g>\n<!-- 11&#45;&gt;10 -->\n<g id=\"edge13\" class=\"edge\">\n<title>11&#45;&gt;10</title>\n<path fill=\"none\" stroke=\"black\" d=\"M261.75,-177.32C261.75,-165.55 261.75,-149.49 261.75,-135.74\"/>\n<polygon fill=\"black\" stroke=\"black\" points=\"265.25,-135.94 261.75,-125.94 258.25,-135.94 265.25,-135.94\"/>\n<text text-anchor=\"middle\" x=\"273.38\" y=\"-145.7\" font-family=\"Times,serif\" font-size=\"14.00\">case</text>\n</g>\n<!-- 19 -->\n<g id=\"node18\" class=\"node\">\n<title>19</title>\n<text text-anchor=\"middle\" x=\"514.75\" y=\"-101.45\" font-family=\"Times,serif\" font-size=\"14.00\">19 (machine)</text>\n</g>\n<!-- 15&#45;&gt;19 -->\n<g id=\"edge17\" class=\"edge\">\n<title>15&#45;&gt;19</title>\n<path fill=\"none\" stroke=\"black\" d=\"M514.75,-177.32C514.75,-165.55 514.75,-149.49 514.75,-135.74\"/>\n<polygon fill=\"black\" stroke=\"black\" points=\"518.25,-135.94 514.75,-125.94 511.25,-135.94 518.25,-135.94\"/>\n<text text-anchor=\"middle\" x=\"523.38\" y=\"-145.7\" font-family=\"Times,serif\" font-size=\"14.00\">obl</text>\n</g>\n<!-- 16 -->\n<g id=\"node19\" class=\"node\">\n<title>16</title>\n<text text-anchor=\"middle\" x=\"440.75\" y=\"-12.95\" font-family=\"Times,serif\" font-size=\"14.00\">16 (to)</text>\n</g>\n<!-- 19&#45;&gt;16 -->\n<g id=\"edge18\" class=\"edge\">\n<title>19&#45;&gt;16</title>\n<path fill=\"none\" stroke=\"black\" d=\"M500.48,-88.82C489.7,-76.22 474.71,-58.7 462.45,-44.36\"/>\n<polygon fill=\"black\" stroke=\"black\" points=\"465.37,-42.4 456.21,-37.07 460.05,-46.95 465.37,-42.4\"/>\n<text text-anchor=\"middle\" x=\"496.38\" y=\"-57.2\" font-family=\"Times,serif\" font-size=\"14.00\">case</text>\n</g>\n<!-- 17 -->\n<g id=\"node20\" class=\"node\">\n<title>17</title>\n<text text-anchor=\"middle\" x=\"514.75\" y=\"-12.95\" font-family=\"Times,serif\" font-size=\"14.00\">17 (the)</text>\n</g>\n<!-- 19&#45;&gt;17 -->\n<g id=\"edge19\" class=\"edge\">\n<title>19&#45;&gt;17</title>\n<path fill=\"none\" stroke=\"black\" d=\"M514.75,-88.82C514.75,-77.05 514.75,-60.99 514.75,-47.24\"/>\n<polygon fill=\"black\" stroke=\"black\" points=\"518.25,-47.44 514.75,-37.44 511.25,-47.44 518.25,-47.44\"/>\n<text text-anchor=\"middle\" x=\"523\" y=\"-57.2\" font-family=\"Times,serif\" font-size=\"14.00\">det</text>\n</g>\n<!-- 18 -->\n<g id=\"node21\" class=\"node\">\n<title>18</title>\n<text text-anchor=\"middle\" x=\"605.75\" y=\"-12.95\" font-family=\"Times,serif\" font-size=\"14.00\">18 (washing)</text>\n</g>\n<!-- 19&#45;&gt;18 -->\n<g id=\"edge20\" class=\"edge\">\n<title>19&#45;&gt;18</title>\n<path fill=\"none\" stroke=\"black\" d=\"M532.3,-88.82C545.8,-75.98 564.68,-58.04 579.92,-43.56\"/>\n<polygon fill=\"black\" stroke=\"black\" points=\"582.01,-46.39 586.85,-36.96 577.19,-41.32 582.01,-46.39\"/>\n<text text-anchor=\"middle\" x=\"597.62\" y=\"-57.2\" font-family=\"Times,serif\" font-size=\"14.00\">compound</text>\n</g>\n</g>\n</svg>\n"
     },
     "execution_count": 33,
     "metadata": {},
     "output_type": "execute_result"
    }
   ],
   "execution_count": 33
  },
  {
   "cell_type": "code",
   "metadata": {
    "colab": {
     "base_uri": "https://localhost:8080/",
     "height": 428
    },
    "id": "t0mt4QRg6hKB",
    "outputId": "f697cd85-b441-48be-9b2d-668cb3af2bc2",
    "ExecuteTime": {
     "end_time": "2024-04-28T14:34:19.566583Z",
     "start_time": "2024-04-28T14:34:19.387915Z"
    }
   },
   "source": [
    "sentence='Scientists count whales from space.'\n",
    "\n",
    "parse = next(parser.raw_parse(sentence))\n",
    "parse"
   ],
   "outputs": [
    {
     "name": "stderr",
     "output_type": "stream",
     "text": [
      "[pool-1-thread-1] INFO CoreNLP - [/127.0.0.1:59815] API call w/annotators tokenize,ssplit,pos,lemma,depparse\n"
     ]
    },
    {
     "name": "stdout",
     "output_type": "stream",
     "text": [
      "Scientists count whales from space.\n"
     ]
    },
    {
     "data": {
      "text/plain": [
       "<DependencyGraph with 7 nodes>"
      ],
      "image/svg+xml": "<?xml version=\"1.0\" encoding=\"UTF-8\" standalone=\"no\"?>\n<!DOCTYPE svg PUBLIC \"-//W3C//DTD SVG 1.1//EN\"\n \"http://www.w3.org/Graphics/SVG/1.1/DTD/svg11.dtd\">\n<!-- Generated by graphviz version 10.0.1 (20240210.2158)\n -->\n<!-- Title: G Pages: 1 -->\n<svg width=\"342pt\" height=\"310pt\"\n viewBox=\"0.00 0.00 341.62 309.50\" xmlns=\"http://www.w3.org/2000/svg\" xmlns:xlink=\"http://www.w3.org/1999/xlink\">\n<g id=\"graph0\" class=\"graph\" transform=\"scale(1 1) rotate(0) translate(4 305.5)\">\n<title>G</title>\n<polygon fill=\"white\" stroke=\"none\" points=\"-4,4 -4,-305.5 337.62,-305.5 337.62,4 -4,4\"/>\n<!-- 0 -->\n<g id=\"node1\" class=\"node\">\n<title>0</title>\n<text text-anchor=\"middle\" x=\"184.62\" y=\"-278.45\" font-family=\"Times,serif\" font-size=\"14.00\">0 (None)</text>\n</g>\n<!-- 2 -->\n<g id=\"node2\" class=\"node\">\n<title>2</title>\n<text text-anchor=\"middle\" x=\"184.62\" y=\"-189.95\" font-family=\"Times,serif\" font-size=\"14.00\">2 (count)</text>\n</g>\n<!-- 0&#45;&gt;2 -->\n<g id=\"edge1\" class=\"edge\">\n<title>0&#45;&gt;2</title>\n<path fill=\"none\" stroke=\"black\" d=\"M184.62,-265.82C184.62,-254.05 184.62,-237.99 184.62,-224.24\"/>\n<polygon fill=\"black\" stroke=\"black\" points=\"188.13,-224.44 184.63,-214.44 181.13,-224.44 188.13,-224.44\"/>\n<text text-anchor=\"middle\" x=\"203\" y=\"-234.2\" font-family=\"Times,serif\" font-size=\"14.00\">ROOT</text>\n</g>\n<!-- 1 -->\n<g id=\"node3\" class=\"node\">\n<title>1</title>\n<text text-anchor=\"middle\" x=\"43.62\" y=\"-101.45\" font-family=\"Times,serif\" font-size=\"14.00\">1 (Scientists)</text>\n</g>\n<!-- 2&#45;&gt;1 -->\n<g id=\"edge2\" class=\"edge\">\n<title>2&#45;&gt;1</title>\n<path fill=\"none\" stroke=\"black\" d=\"M156.42,-177.18C146.87,-171.44 136.14,-164.97 126.38,-159 111.13,-149.68 94.37,-139.28 79.95,-130.28\"/>\n<polygon fill=\"black\" stroke=\"black\" points=\"82.01,-127.44 71.68,-125.11 78.3,-133.37 82.01,-127.44\"/>\n<text text-anchor=\"middle\" x=\"141.25\" y=\"-145.7\" font-family=\"Times,serif\" font-size=\"14.00\">nsubj</text>\n</g>\n<!-- 3 -->\n<g id=\"node4\" class=\"node\">\n<title>3</title>\n<text text-anchor=\"middle\" x=\"141.62\" y=\"-101.45\" font-family=\"Times,serif\" font-size=\"14.00\">3 (whales)</text>\n</g>\n<!-- 2&#45;&gt;3 -->\n<g id=\"edge3\" class=\"edge\">\n<title>2&#45;&gt;3</title>\n<path fill=\"none\" stroke=\"black\" d=\"M176.33,-177.32C170.31,-165.19 162.01,-148.52 155.05,-134.5\"/>\n<polygon fill=\"black\" stroke=\"black\" points=\"158.3,-133.17 150.71,-125.78 152.03,-136.29 158.3,-133.17\"/>\n<text text-anchor=\"middle\" x=\"176.25\" y=\"-145.7\" font-family=\"Times,serif\" font-size=\"14.00\">obj</text>\n</g>\n<!-- 5 -->\n<g id=\"node5\" class=\"node\">\n<title>5</title>\n<text text-anchor=\"middle\" x=\"228.62\" y=\"-101.45\" font-family=\"Times,serif\" font-size=\"14.00\">5 (space)</text>\n</g>\n<!-- 2&#45;&gt;5 -->\n<g id=\"edge4\" class=\"edge\">\n<title>2&#45;&gt;5</title>\n<path fill=\"none\" stroke=\"black\" d=\"M193.11,-177.32C199.28,-165.19 207.76,-148.52 214.89,-134.5\"/>\n<polygon fill=\"black\" stroke=\"black\" points=\"217.92,-136.27 219.33,-125.77 211.68,-133.1 217.92,-136.27\"/>\n<text text-anchor=\"middle\" x=\"219.25\" y=\"-145.7\" font-family=\"Times,serif\" font-size=\"14.00\">obl</text>\n</g>\n<!-- 6 -->\n<g id=\"node6\" class=\"node\">\n<title>6</title>\n<text text-anchor=\"middle\" x=\"306.62\" y=\"-101.45\" font-family=\"Times,serif\" font-size=\"14.00\">6 (.)</text>\n</g>\n<!-- 2&#45;&gt;6 -->\n<g id=\"edge5\" class=\"edge\">\n<title>2&#45;&gt;6</title>\n<path fill=\"none\" stroke=\"black\" d=\"M208.44,-177.12C227,-163.96 252.98,-145.54 273.55,-130.95\"/>\n<polygon fill=\"black\" stroke=\"black\" points=\"275.5,-133.86 281.64,-125.22 271.46,-128.14 275.5,-133.86\"/>\n<text text-anchor=\"middle\" x=\"271.62\" y=\"-145.7\" font-family=\"Times,serif\" font-size=\"14.00\">punct</text>\n</g>\n<!-- 4 -->\n<g id=\"node7\" class=\"node\">\n<title>4</title>\n<text text-anchor=\"middle\" x=\"228.62\" y=\"-12.95\" font-family=\"Times,serif\" font-size=\"14.00\">4 (from)</text>\n</g>\n<!-- 5&#45;&gt;4 -->\n<g id=\"edge6\" class=\"edge\">\n<title>5&#45;&gt;4</title>\n<path fill=\"none\" stroke=\"black\" d=\"M228.62,-88.82C228.62,-77.05 228.62,-60.99 228.62,-47.24\"/>\n<polygon fill=\"black\" stroke=\"black\" points=\"232.13,-47.44 228.63,-37.44 225.13,-47.44 232.13,-47.44\"/>\n<text text-anchor=\"middle\" x=\"240.25\" y=\"-57.2\" font-family=\"Times,serif\" font-size=\"14.00\">case</text>\n</g>\n</g>\n</svg>\n"
     },
     "execution_count": 34,
     "metadata": {},
     "output_type": "execute_result"
    }
   ],
   "execution_count": 34
  },
  {
   "cell_type": "code",
   "source": [
    "sentence='The quick brown fox jumps over the lazy dog.'\n",
    "\n",
    "parse = next(parser.raw_parse(sentence))\n",
    "parse"
   ],
   "metadata": {
    "colab": {
     "base_uri": "https://localhost:8080/",
     "height": 428
    },
    "id": "a4H2Mwq9HjbQ",
    "outputId": "fa586f05-bfe2-47b1-fe95-e18a220d1831",
    "ExecuteTime": {
     "end_time": "2024-04-28T14:34:19.741645Z",
     "start_time": "2024-04-28T14:34:19.567798Z"
    }
   },
   "outputs": [
    {
     "name": "stderr",
     "output_type": "stream",
     "text": [
      "[pool-1-thread-2] INFO CoreNLP - [/127.0.0.1:59815] API call w/annotators tokenize,ssplit,pos,lemma,depparse\n"
     ]
    },
    {
     "name": "stdout",
     "output_type": "stream",
     "text": [
      "The quick brown fox jumps over the lazy dog.\n"
     ]
    },
    {
     "data": {
      "text/plain": [
       "<DependencyGraph with 11 nodes>"
      ],
      "image/svg+xml": "<?xml version=\"1.0\" encoding=\"UTF-8\" standalone=\"no\"?>\n<!DOCTYPE svg PUBLIC \"-//W3C//DTD SVG 1.1//EN\"\n \"http://www.w3.org/Graphics/SVG/1.1/DTD/svg11.dtd\">\n<!-- Generated by graphviz version 10.0.1 (20240210.2158)\n -->\n<!-- Title: G Pages: 1 -->\n<svg width=\"462pt\" height=\"310pt\"\n viewBox=\"0.00 0.00 462.25 309.50\" xmlns=\"http://www.w3.org/2000/svg\" xmlns:xlink=\"http://www.w3.org/1999/xlink\">\n<g id=\"graph0\" class=\"graph\" transform=\"scale(1 1) rotate(0) translate(4 305.5)\">\n<title>G</title>\n<polygon fill=\"white\" stroke=\"none\" points=\"-4,4 -4,-305.5 458.25,-305.5 458.25,4 -4,4\"/>\n<!-- 0 -->\n<g id=\"node1\" class=\"node\">\n<title>0</title>\n<text text-anchor=\"middle\" x=\"313.25\" y=\"-278.45\" font-family=\"Times,serif\" font-size=\"14.00\">0 (None)</text>\n</g>\n<!-- 5 -->\n<g id=\"node2\" class=\"node\">\n<title>5</title>\n<text text-anchor=\"middle\" x=\"313.25\" y=\"-189.95\" font-family=\"Times,serif\" font-size=\"14.00\">5 (jumps)</text>\n</g>\n<!-- 0&#45;&gt;5 -->\n<g id=\"edge1\" class=\"edge\">\n<title>0&#45;&gt;5</title>\n<path fill=\"none\" stroke=\"black\" d=\"M313.25,-265.82C313.25,-254.05 313.25,-237.99 313.25,-224.24\"/>\n<polygon fill=\"black\" stroke=\"black\" points=\"316.75,-224.44 313.25,-214.44 309.75,-224.44 316.75,-224.44\"/>\n<text text-anchor=\"middle\" x=\"331.62\" y=\"-234.2\" font-family=\"Times,serif\" font-size=\"14.00\">ROOT</text>\n</g>\n<!-- 4 -->\n<g id=\"node6\" class=\"node\">\n<title>4</title>\n<text text-anchor=\"middle\" x=\"150.25\" y=\"-101.45\" font-family=\"Times,serif\" font-size=\"14.00\">4 (fox)</text>\n</g>\n<!-- 5&#45;&gt;4 -->\n<g id=\"edge5\" class=\"edge\">\n<title>5&#45;&gt;4</title>\n<path fill=\"none\" stroke=\"black\" d=\"M281.44,-177.12C254.37,-162.75 215.48,-142.12 187.08,-127.04\"/>\n<polygon fill=\"black\" stroke=\"black\" points=\"188.94,-124.07 178.46,-122.47 185.66,-130.25 188.94,-124.07\"/>\n<text text-anchor=\"middle\" x=\"261.88\" y=\"-145.7\" font-family=\"Times,serif\" font-size=\"14.00\">nsubj</text>\n</g>\n<!-- 9 -->\n<g id=\"node7\" class=\"node\">\n<title>9</title>\n<text text-anchor=\"middle\" x=\"313.25\" y=\"-101.45\" font-family=\"Times,serif\" font-size=\"14.00\">9 (dog)</text>\n</g>\n<!-- 5&#45;&gt;9 -->\n<g id=\"edge6\" class=\"edge\">\n<title>5&#45;&gt;9</title>\n<path fill=\"none\" stroke=\"black\" d=\"M313.25,-177.32C313.25,-165.55 313.25,-149.49 313.25,-135.74\"/>\n<polygon fill=\"black\" stroke=\"black\" points=\"316.75,-135.94 313.25,-125.94 309.75,-135.94 316.75,-135.94\"/>\n<text text-anchor=\"middle\" x=\"321.88\" y=\"-145.7\" font-family=\"Times,serif\" font-size=\"14.00\">obl</text>\n</g>\n<!-- 10 -->\n<g id=\"node8\" class=\"node\">\n<title>10</title>\n<text text-anchor=\"middle\" x=\"386.25\" y=\"-101.45\" font-family=\"Times,serif\" font-size=\"14.00\">10 (.)</text>\n</g>\n<!-- 5&#45;&gt;10 -->\n<g id=\"edge7\" class=\"edge\">\n<title>5&#45;&gt;10</title>\n<path fill=\"none\" stroke=\"black\" d=\"M327.33,-177.32C337.96,-164.72 352.75,-147.2 364.84,-132.86\"/>\n<polygon fill=\"black\" stroke=\"black\" points=\"367.22,-135.48 370.99,-125.58 361.87,-130.96 367.22,-135.48\"/>\n<text text-anchor=\"middle\" x=\"372.25\" y=\"-145.7\" font-family=\"Times,serif\" font-size=\"14.00\">punct</text>\n</g>\n<!-- 1 -->\n<g id=\"node3\" class=\"node\">\n<title>1</title>\n<text text-anchor=\"middle\" x=\"28.25\" y=\"-12.95\" font-family=\"Times,serif\" font-size=\"14.00\">1 (The)</text>\n</g>\n<!-- 2 -->\n<g id=\"node4\" class=\"node\">\n<title>2</title>\n<text text-anchor=\"middle\" x=\"107.25\" y=\"-12.95\" font-family=\"Times,serif\" font-size=\"14.00\">2 (quick)</text>\n</g>\n<!-- 3 -->\n<g id=\"node5\" class=\"node\">\n<title>3</title>\n<text text-anchor=\"middle\" x=\"193.25\" y=\"-12.95\" font-family=\"Times,serif\" font-size=\"14.00\">3 (brown)</text>\n</g>\n<!-- 4&#45;&gt;1 -->\n<g id=\"edge2\" class=\"edge\">\n<title>4&#45;&gt;1</title>\n<path fill=\"none\" stroke=\"black\" d=\"M126.44,-88.62C107.88,-75.46 81.9,-57.04 61.32,-42.45\"/>\n<polygon fill=\"black\" stroke=\"black\" points=\"63.42,-39.64 53.24,-36.72 59.37,-45.36 63.42,-39.64\"/>\n<text text-anchor=\"middle\" x=\"108.5\" y=\"-57.2\" font-family=\"Times,serif\" font-size=\"14.00\">det</text>\n</g>\n<!-- 4&#45;&gt;2 -->\n<g id=\"edge3\" class=\"edge\">\n<title>4&#45;&gt;2</title>\n<path fill=\"none\" stroke=\"black\" d=\"M141.96,-88.82C135.93,-76.69 127.64,-60.02 120.67,-46\"/>\n<polygon fill=\"black\" stroke=\"black\" points=\"123.92,-44.67 116.34,-37.28 117.65,-47.79 123.92,-44.67\"/>\n<text text-anchor=\"middle\" x=\"148.62\" y=\"-57.2\" font-family=\"Times,serif\" font-size=\"14.00\">amod</text>\n</g>\n<!-- 4&#45;&gt;3 -->\n<g id=\"edge4\" class=\"edge\">\n<title>4&#45;&gt;3</title>\n<path fill=\"none\" stroke=\"black\" d=\"M158.94,-88.81C161.92,-83.02 165.26,-76.49 168.25,-70.5 172.22,-62.55 176.47,-53.88 180.31,-45.95\"/>\n<polygon fill=\"black\" stroke=\"black\" points=\"183.38,-47.64 184.58,-37.11 177.08,-44.59 183.38,-47.64\"/>\n<text text-anchor=\"middle\" x=\"191.62\" y=\"-57.2\" font-family=\"Times,serif\" font-size=\"14.00\">amod</text>\n</g>\n<!-- 6 -->\n<g id=\"node9\" class=\"node\">\n<title>6</title>\n<text text-anchor=\"middle\" x=\"276.25\" y=\"-12.95\" font-family=\"Times,serif\" font-size=\"14.00\">6 (over)</text>\n</g>\n<!-- 9&#45;&gt;6 -->\n<g id=\"edge8\" class=\"edge\">\n<title>9&#45;&gt;6</title>\n<path fill=\"none\" stroke=\"black\" d=\"M306.12,-88.82C300.98,-76.81 293.93,-60.34 287.98,-46.41\"/>\n<polygon fill=\"black\" stroke=\"black\" points=\"291.23,-45.13 284.08,-37.31 284.8,-47.88 291.23,-45.13\"/>\n<text text-anchor=\"middle\" x=\"309.88\" y=\"-57.2\" font-family=\"Times,serif\" font-size=\"14.00\">case</text>\n</g>\n<!-- 7 -->\n<g id=\"node10\" class=\"node\">\n<title>7</title>\n<text text-anchor=\"middle\" x=\"351.25\" y=\"-12.95\" font-family=\"Times,serif\" font-size=\"14.00\">7 (the)</text>\n</g>\n<!-- 9&#45;&gt;7 -->\n<g id=\"edge9\" class=\"edge\">\n<title>9&#45;&gt;7</title>\n<path fill=\"none\" stroke=\"black\" d=\"M320.58,-88.82C325.85,-76.81 333.09,-60.34 339.21,-46.41\"/>\n<polygon fill=\"black\" stroke=\"black\" points=\"342.39,-47.87 343.21,-37.31 335.98,-45.06 342.39,-47.87\"/>\n<text text-anchor=\"middle\" x=\"344.5\" y=\"-57.2\" font-family=\"Times,serif\" font-size=\"14.00\">det</text>\n</g>\n<!-- 8 -->\n<g id=\"node11\" class=\"node\">\n<title>8</title>\n<text text-anchor=\"middle\" x=\"425.25\" y=\"-12.95\" font-family=\"Times,serif\" font-size=\"14.00\">8 (lazy)</text>\n</g>\n<!-- 9&#45;&gt;8 -->\n<g id=\"edge10\" class=\"edge\">\n<title>9&#45;&gt;8</title>\n<path fill=\"none\" stroke=\"black\" d=\"M335.11,-88.62C351.99,-75.58 375.57,-57.37 394.38,-42.84\"/>\n<polygon fill=\"black\" stroke=\"black\" points=\"396.47,-45.65 402.25,-36.77 392.19,-40.11 396.47,-45.65\"/>\n<text text-anchor=\"middle\" x=\"395.62\" y=\"-57.2\" font-family=\"Times,serif\" font-size=\"14.00\">amod</text>\n</g>\n</g>\n</svg>\n"
     },
     "execution_count": 35,
     "metadata": {},
     "output_type": "execute_result"
    }
   ],
   "execution_count": 35
  },
  {
   "cell_type": "code",
   "source": [
    "import spacy\n",
    "import pandas as pd\n",
    "\n",
    "nlp = spacy.load(\"en_core_web_sm\")\n",
    "\n",
    "def dependency_parsing_to_dataframe(sentence):\n",
    "    doc = nlp(sentence)\n",
    "    data = []\n",
    "\n",
    "    for token in doc:\n",
    "        data.append({\n",
    "            'token': token.text,\n",
    "            'lemma': token.lemma_,\n",
    "            'pos': token.pos_,\n",
    "            'tag': token.tag_,\n",
    "            'dep': token.dep_,\n",
    "            'head': token.head.text\n",
    "        })\n",
    "\n",
    "    df = pd.DataFrame(data)\n",
    "    return df\n",
    "\n",
    "sentence = \"The quick brown fox jumps over the lazy dog.\"\n",
    "df = dependency_parsing_to_dataframe(sentence)\n",
    "print(df)\n"
   ],
   "metadata": {
    "colab": {
     "base_uri": "https://localhost:8080/"
    },
    "id": "L0y--k0FFtaq",
    "outputId": "ae420b5b-60bb-4529-eaa4-c30f41af2978",
    "ExecuteTime": {
     "end_time": "2024-04-28T14:37:05.387276Z",
     "start_time": "2024-04-28T14:37:05.047478Z"
    }
   },
   "outputs": [
    {
     "name": "stdout",
     "output_type": "stream",
     "text": [
      "   token  lemma    pos  tag    dep   head\n",
      "0    The    the    DET   DT    det    fox\n",
      "1  quick  quick    ADJ   JJ   amod    fox\n",
      "2  brown  brown    ADJ   JJ   amod    fox\n",
      "3    fox    fox   NOUN   NN  nsubj  jumps\n",
      "4  jumps   jump   VERB  VBZ   ROOT  jumps\n",
      "5   over   over    ADP   IN   prep  jumps\n",
      "6    the    the    DET   DT    det    dog\n",
      "7   lazy   lazy    ADJ   JJ   amod    dog\n",
      "8    dog    dog   NOUN   NN   pobj   over\n",
      "9      .      .  PUNCT    .  punct  jumps\n"
     ]
    }
   ],
   "execution_count": 38
  },
  {
   "cell_type": "code",
   "source": [
    "import spacy\n",
    "from spacy import displacy\n",
    "\n",
    "nlp = spacy.load(\"en_core_web_sm\")\n",
    "\n",
    "doc = nlp(sentence)\n",
    "\n",
    "displacy.render(doc, style='dep', jupyter=True)"
   ],
   "metadata": {
    "colab": {
     "base_uri": "https://localhost:8080/",
     "height": 440
    },
    "id": "GWPaFLx3HWfZ",
    "outputId": "3410ff3a-11ce-4cd0-dbb5-6428523c7de8",
    "ExecuteTime": {
     "end_time": "2024-04-28T14:37:21.981782Z",
     "start_time": "2024-04-28T14:37:21.766365Z"
    }
   },
   "outputs": [
    {
     "data": {
      "text/plain": [
       "<IPython.core.display.HTML object>"
      ],
      "text/html": [
       "<span class=\"tex2jax_ignore\"><svg xmlns=\"http://www.w3.org/2000/svg\" xmlns:xlink=\"http://www.w3.org/1999/xlink\" xml:lang=\"en\" id=\"cb2245fe03a04c78a1f2645d25c6ff0d-0\" class=\"displacy\" width=\"1625\" height=\"399.5\" direction=\"ltr\" style=\"max-width: none; height: 399.5px; color: #000000; background: #ffffff; font-family: Arial; direction: ltr\">\n",
       "<text class=\"displacy-token\" fill=\"currentColor\" text-anchor=\"middle\" y=\"309.5\">\n",
       "    <tspan class=\"displacy-word\" fill=\"currentColor\" x=\"50\">The</tspan>\n",
       "    <tspan class=\"displacy-tag\" dy=\"2em\" fill=\"currentColor\" x=\"50\">DET</tspan>\n",
       "</text>\n",
       "\n",
       "<text class=\"displacy-token\" fill=\"currentColor\" text-anchor=\"middle\" y=\"309.5\">\n",
       "    <tspan class=\"displacy-word\" fill=\"currentColor\" x=\"225\">quick</tspan>\n",
       "    <tspan class=\"displacy-tag\" dy=\"2em\" fill=\"currentColor\" x=\"225\">ADJ</tspan>\n",
       "</text>\n",
       "\n",
       "<text class=\"displacy-token\" fill=\"currentColor\" text-anchor=\"middle\" y=\"309.5\">\n",
       "    <tspan class=\"displacy-word\" fill=\"currentColor\" x=\"400\">brown</tspan>\n",
       "    <tspan class=\"displacy-tag\" dy=\"2em\" fill=\"currentColor\" x=\"400\">ADJ</tspan>\n",
       "</text>\n",
       "\n",
       "<text class=\"displacy-token\" fill=\"currentColor\" text-anchor=\"middle\" y=\"309.5\">\n",
       "    <tspan class=\"displacy-word\" fill=\"currentColor\" x=\"575\">fox</tspan>\n",
       "    <tspan class=\"displacy-tag\" dy=\"2em\" fill=\"currentColor\" x=\"575\">NOUN</tspan>\n",
       "</text>\n",
       "\n",
       "<text class=\"displacy-token\" fill=\"currentColor\" text-anchor=\"middle\" y=\"309.5\">\n",
       "    <tspan class=\"displacy-word\" fill=\"currentColor\" x=\"750\">jumps</tspan>\n",
       "    <tspan class=\"displacy-tag\" dy=\"2em\" fill=\"currentColor\" x=\"750\">VERB</tspan>\n",
       "</text>\n",
       "\n",
       "<text class=\"displacy-token\" fill=\"currentColor\" text-anchor=\"middle\" y=\"309.5\">\n",
       "    <tspan class=\"displacy-word\" fill=\"currentColor\" x=\"925\">over</tspan>\n",
       "    <tspan class=\"displacy-tag\" dy=\"2em\" fill=\"currentColor\" x=\"925\">ADP</tspan>\n",
       "</text>\n",
       "\n",
       "<text class=\"displacy-token\" fill=\"currentColor\" text-anchor=\"middle\" y=\"309.5\">\n",
       "    <tspan class=\"displacy-word\" fill=\"currentColor\" x=\"1100\">the</tspan>\n",
       "    <tspan class=\"displacy-tag\" dy=\"2em\" fill=\"currentColor\" x=\"1100\">DET</tspan>\n",
       "</text>\n",
       "\n",
       "<text class=\"displacy-token\" fill=\"currentColor\" text-anchor=\"middle\" y=\"309.5\">\n",
       "    <tspan class=\"displacy-word\" fill=\"currentColor\" x=\"1275\">lazy</tspan>\n",
       "    <tspan class=\"displacy-tag\" dy=\"2em\" fill=\"currentColor\" x=\"1275\">ADJ</tspan>\n",
       "</text>\n",
       "\n",
       "<text class=\"displacy-token\" fill=\"currentColor\" text-anchor=\"middle\" y=\"309.5\">\n",
       "    <tspan class=\"displacy-word\" fill=\"currentColor\" x=\"1450\">dog.</tspan>\n",
       "    <tspan class=\"displacy-tag\" dy=\"2em\" fill=\"currentColor\" x=\"1450\">NOUN</tspan>\n",
       "</text>\n",
       "\n",
       "<g class=\"displacy-arrow\">\n",
       "    <path class=\"displacy-arc\" id=\"arrow-cb2245fe03a04c78a1f2645d25c6ff0d-0-0\" stroke-width=\"2px\" d=\"M70,264.5 C70,2.0 575.0,2.0 575.0,264.5\" fill=\"none\" stroke=\"currentColor\"/>\n",
       "    <text dy=\"1.25em\" style=\"font-size: 0.8em; letter-spacing: 1px\">\n",
       "        <textPath xlink:href=\"#arrow-cb2245fe03a04c78a1f2645d25c6ff0d-0-0\" class=\"displacy-label\" startOffset=\"50%\" side=\"left\" fill=\"currentColor\" text-anchor=\"middle\">det</textPath>\n",
       "    </text>\n",
       "    <path class=\"displacy-arrowhead\" d=\"M70,266.5 L62,254.5 78,254.5\" fill=\"currentColor\"/>\n",
       "</g>\n",
       "\n",
       "<g class=\"displacy-arrow\">\n",
       "    <path class=\"displacy-arc\" id=\"arrow-cb2245fe03a04c78a1f2645d25c6ff0d-0-1\" stroke-width=\"2px\" d=\"M245,264.5 C245,89.5 570.0,89.5 570.0,264.5\" fill=\"none\" stroke=\"currentColor\"/>\n",
       "    <text dy=\"1.25em\" style=\"font-size: 0.8em; letter-spacing: 1px\">\n",
       "        <textPath xlink:href=\"#arrow-cb2245fe03a04c78a1f2645d25c6ff0d-0-1\" class=\"displacy-label\" startOffset=\"50%\" side=\"left\" fill=\"currentColor\" text-anchor=\"middle\">amod</textPath>\n",
       "    </text>\n",
       "    <path class=\"displacy-arrowhead\" d=\"M245,266.5 L237,254.5 253,254.5\" fill=\"currentColor\"/>\n",
       "</g>\n",
       "\n",
       "<g class=\"displacy-arrow\">\n",
       "    <path class=\"displacy-arc\" id=\"arrow-cb2245fe03a04c78a1f2645d25c6ff0d-0-2\" stroke-width=\"2px\" d=\"M420,264.5 C420,177.0 565.0,177.0 565.0,264.5\" fill=\"none\" stroke=\"currentColor\"/>\n",
       "    <text dy=\"1.25em\" style=\"font-size: 0.8em; letter-spacing: 1px\">\n",
       "        <textPath xlink:href=\"#arrow-cb2245fe03a04c78a1f2645d25c6ff0d-0-2\" class=\"displacy-label\" startOffset=\"50%\" side=\"left\" fill=\"currentColor\" text-anchor=\"middle\">amod</textPath>\n",
       "    </text>\n",
       "    <path class=\"displacy-arrowhead\" d=\"M420,266.5 L412,254.5 428,254.5\" fill=\"currentColor\"/>\n",
       "</g>\n",
       "\n",
       "<g class=\"displacy-arrow\">\n",
       "    <path class=\"displacy-arc\" id=\"arrow-cb2245fe03a04c78a1f2645d25c6ff0d-0-3\" stroke-width=\"2px\" d=\"M595,264.5 C595,177.0 740.0,177.0 740.0,264.5\" fill=\"none\" stroke=\"currentColor\"/>\n",
       "    <text dy=\"1.25em\" style=\"font-size: 0.8em; letter-spacing: 1px\">\n",
       "        <textPath xlink:href=\"#arrow-cb2245fe03a04c78a1f2645d25c6ff0d-0-3\" class=\"displacy-label\" startOffset=\"50%\" side=\"left\" fill=\"currentColor\" text-anchor=\"middle\">nsubj</textPath>\n",
       "    </text>\n",
       "    <path class=\"displacy-arrowhead\" d=\"M595,266.5 L587,254.5 603,254.5\" fill=\"currentColor\"/>\n",
       "</g>\n",
       "\n",
       "<g class=\"displacy-arrow\">\n",
       "    <path class=\"displacy-arc\" id=\"arrow-cb2245fe03a04c78a1f2645d25c6ff0d-0-4\" stroke-width=\"2px\" d=\"M770,264.5 C770,177.0 915.0,177.0 915.0,264.5\" fill=\"none\" stroke=\"currentColor\"/>\n",
       "    <text dy=\"1.25em\" style=\"font-size: 0.8em; letter-spacing: 1px\">\n",
       "        <textPath xlink:href=\"#arrow-cb2245fe03a04c78a1f2645d25c6ff0d-0-4\" class=\"displacy-label\" startOffset=\"50%\" side=\"left\" fill=\"currentColor\" text-anchor=\"middle\">prep</textPath>\n",
       "    </text>\n",
       "    <path class=\"displacy-arrowhead\" d=\"M915.0,266.5 L923.0,254.5 907.0,254.5\" fill=\"currentColor\"/>\n",
       "</g>\n",
       "\n",
       "<g class=\"displacy-arrow\">\n",
       "    <path class=\"displacy-arc\" id=\"arrow-cb2245fe03a04c78a1f2645d25c6ff0d-0-5\" stroke-width=\"2px\" d=\"M1120,264.5 C1120,89.5 1445.0,89.5 1445.0,264.5\" fill=\"none\" stroke=\"currentColor\"/>\n",
       "    <text dy=\"1.25em\" style=\"font-size: 0.8em; letter-spacing: 1px\">\n",
       "        <textPath xlink:href=\"#arrow-cb2245fe03a04c78a1f2645d25c6ff0d-0-5\" class=\"displacy-label\" startOffset=\"50%\" side=\"left\" fill=\"currentColor\" text-anchor=\"middle\">det</textPath>\n",
       "    </text>\n",
       "    <path class=\"displacy-arrowhead\" d=\"M1120,266.5 L1112,254.5 1128,254.5\" fill=\"currentColor\"/>\n",
       "</g>\n",
       "\n",
       "<g class=\"displacy-arrow\">\n",
       "    <path class=\"displacy-arc\" id=\"arrow-cb2245fe03a04c78a1f2645d25c6ff0d-0-6\" stroke-width=\"2px\" d=\"M1295,264.5 C1295,177.0 1440.0,177.0 1440.0,264.5\" fill=\"none\" stroke=\"currentColor\"/>\n",
       "    <text dy=\"1.25em\" style=\"font-size: 0.8em; letter-spacing: 1px\">\n",
       "        <textPath xlink:href=\"#arrow-cb2245fe03a04c78a1f2645d25c6ff0d-0-6\" class=\"displacy-label\" startOffset=\"50%\" side=\"left\" fill=\"currentColor\" text-anchor=\"middle\">amod</textPath>\n",
       "    </text>\n",
       "    <path class=\"displacy-arrowhead\" d=\"M1295,266.5 L1287,254.5 1303,254.5\" fill=\"currentColor\"/>\n",
       "</g>\n",
       "\n",
       "<g class=\"displacy-arrow\">\n",
       "    <path class=\"displacy-arc\" id=\"arrow-cb2245fe03a04c78a1f2645d25c6ff0d-0-7\" stroke-width=\"2px\" d=\"M945,264.5 C945,2.0 1450.0,2.0 1450.0,264.5\" fill=\"none\" stroke=\"currentColor\"/>\n",
       "    <text dy=\"1.25em\" style=\"font-size: 0.8em; letter-spacing: 1px\">\n",
       "        <textPath xlink:href=\"#arrow-cb2245fe03a04c78a1f2645d25c6ff0d-0-7\" class=\"displacy-label\" startOffset=\"50%\" side=\"left\" fill=\"currentColor\" text-anchor=\"middle\">pobj</textPath>\n",
       "    </text>\n",
       "    <path class=\"displacy-arrowhead\" d=\"M1450.0,266.5 L1458.0,254.5 1442.0,254.5\" fill=\"currentColor\"/>\n",
       "</g>\n",
       "</svg></span>"
      ]
     },
     "metadata": {},
     "output_type": "display_data"
    }
   ],
   "execution_count": 39
  }
 ],
 "metadata": {
  "colab": {
   "provenance": []
  },
  "kernelspec": {
   "display_name": "Python 3 (ipykernel)",
   "name": "python3",
   "language": "python"
  },
  "language_info": {
   "name": "python"
  },
  "gpuClass": "standard"
 },
 "nbformat": 4,
 "nbformat_minor": 0
}
