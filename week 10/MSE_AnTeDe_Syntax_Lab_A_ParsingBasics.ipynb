{
  "cells": [
    {
      "cell_type": "markdown",
      "metadata": {
        "id": "v1aosbZSjM-_"
      },
      "source": [
        "# AnTeDe Lab a: Using Syntax Parsers \n",
        "\n",
        "## Session goal\n",
        "The goal of this session is to help you familiarize with syntax parsing."
      ]
    },
    {
      "cell_type": "markdown",
      "metadata": {
        "id": "vWYuQxbNjM_A"
      },
      "source": [
        "The following cell will start your local CoreNLP server."
      ]
    },
    {
      "cell_type": "code",
      "execution_count": 1,
      "metadata": {
        "id": "RDY2IrchjM_B"
      },
      "outputs": [],
      "source": [
        "import os\n",
        "\n",
        "def unzip_corenlp(zipped):    \n",
        "    import zipfile\n",
        "    with zipfile.ZipFile(zipped,\"r\") as zip_ref:\n",
        "        zip_ref.extractall(\".\") \n",
        "        \n",
        "home = os.getcwd()      "
      ]
    },
    {
      "cell_type": "code",
      "execution_count": 2,
      "metadata": {
        "id": "6lDgE3JJjM_E"
      },
      "outputs": [],
      "source": [
        "my_port = 9001\n",
        "\n",
        "base_url = 'http://nlp.stanford.edu/software/'\n",
        "corenlp_filename='stanford-corenlp-4.0.0'\n",
        "corenlp_file = corenlp_filename+'.zip'\n",
        "corenlp_url = base_url + corenlp_file\n",
        "\n",
        "def download_from_url(url, save_path, chunk_size=128):\n",
        "    import requests\n",
        "    r = requests.get(url, stream=True)\n",
        "    with open(save_path, 'wb') as fd:\n",
        "        for chunk in r.iter_content(chunk_size=chunk_size):\n",
        "            fd.write(chunk)\n",
        "\n",
        "if corenlp_filename not in os.listdir(home):\n",
        "    download_from_url(corenlp_url, os.path.join(home, corenlp_file))\n",
        "else:\n",
        "    print ('CoreNLP seems to be there!')\n",
        "    \n",
        "path_to_file = os.path.join(os.getcwd(), corenlp_filename+'.'+'zip')\n",
        "unzip_corenlp(path_to_file)\n",
        "            "
      ]
    },
    {
      "cell_type": "code",
      "execution_count": 3,
      "metadata": {
        "id": "ysKs_UxzjM_G"
      },
      "outputs": [],
      "source": [
        "def start_corenlp_server():\n",
        "    path=os.path.join(home, corenlp_filename)\n",
        "    os.chdir(path)\n",
        "    command = r'java -mx4g -cp \"*\" edu.stanford.nlp.pipeline.StanfordCoreNLPServer -annotators \"tokenize,ssplit,pos,lemma,parse,sentiment\" -port '+str(my_port)+' -timeout 30000'\n",
        "    os.system (command+\" &\")\n",
        "    os.chdir(home) \n",
        "    \n",
        "start_corenlp_server()"
      ]
    },
    {
      "cell_type": "markdown",
      "metadata": {
        "id": "Ux20W22HjM_J"
      },
      "source": [
        "The following cell will enable you to use the CoreNLP tokenizer and PoS tagger."
      ]
    },
    {
      "cell_type": "code",
      "execution_count": 4,
      "metadata": {
        "colab": {
          "base_uri": "https://localhost:8080/"
        },
        "id": "g7WCejE3jM_J",
        "outputId": "28746871-f0e5-47ad-cf55-1ea23ce0eaa0",
        "scrolled": true
      },
      "outputs": [
        {
          "output_type": "stream",
          "name": "stdout",
          "text": [
            "Looking in indexes: https://pypi.org/simple, https://us-python.pkg.dev/colab-wheels/public/simple/\n",
            "Collecting stanfordcorenlp\n",
            "  Downloading stanfordcorenlp-3.9.1.1-py2.py3-none-any.whl (5.7 kB)\n",
            "Requirement already satisfied: requests in /usr/local/lib/python3.9/dist-packages (from stanfordcorenlp) (2.27.1)\n",
            "Requirement already satisfied: psutil in /usr/local/lib/python3.9/dist-packages (from stanfordcorenlp) (5.9.4)\n",
            "Requirement already satisfied: certifi>=2017.4.17 in /usr/local/lib/python3.9/dist-packages (from requests->stanfordcorenlp) (2022.12.7)\n",
            "Requirement already satisfied: charset-normalizer~=2.0.0 in /usr/local/lib/python3.9/dist-packages (from requests->stanfordcorenlp) (2.0.12)\n",
            "Requirement already satisfied: urllib3<1.27,>=1.21.1 in /usr/local/lib/python3.9/dist-packages (from requests->stanfordcorenlp) (1.26.15)\n",
            "Requirement already satisfied: idna<4,>=2.5 in /usr/local/lib/python3.9/dist-packages (from requests->stanfordcorenlp) (3.4)\n",
            "Installing collected packages: stanfordcorenlp\n",
            "Successfully installed stanfordcorenlp-3.9.1.1\n"
          ]
        }
      ],
      "source": [
        "! pip install stanfordcorenlp\n",
        "from stanfordcorenlp import StanfordCoreNLP\n",
        "from nltk.tree import *\n",
        "\n",
        "class StanfordNLP:\n",
        "    \n",
        "    def __init__(self, host='http://localhost', port=my_port):\n",
        "        self.nlp = StanfordCoreNLP(host, port=port,\n",
        "                                   timeout=30000)  # , quiet=False, logging_level=logging.DEBUG)\n",
        "        self.props = {\n",
        "            #'annotators': 'tokenize,ssplit,pos,lemma,ner,parse,depparse,dcoref,relation',\n",
        "            'annotators': 'tokenize,ssplit,pos,lemma,ner,parse,depparse',\n",
        "            'pipelineLanguage': 'en',\n",
        "            'outputFormat': 'json'\n",
        "        }\n",
        "\n",
        "    def word_tokenize(self, sentence):\n",
        "        return self.nlp.word_tokenize(sentence)\n",
        "\n",
        "    def pos(self, sentence):\n",
        "        return self.nlp.pos_tag(sentence)\n",
        "    \n",
        "    def parse(self, sentence):\n",
        "        \n",
        "        p = self.nlp.parse(sentence)\n",
        "        Tree.fromstring(p).pretty_print()\n",
        "        \n",
        "        return p\n",
        "\n",
        "    def dependency_parse(self, sentence):\n",
        "        p = self.nlp.dependency_parse(sentence)\n",
        "        print (p)\n",
        "        \n",
        "        return p\n",
        "        \n",
        "    "
      ]
    },
    {
      "cell_type": "code",
      "execution_count": 5,
      "metadata": {
        "colab": {
          "base_uri": "https://localhost:8080/"
        },
        "id": "r8If0qDajM_M",
        "outputId": "7dcca8ba-2348-456d-9de4-6686cade0172"
      },
      "outputs": [
        {
          "output_type": "stream",
          "name": "stdout",
          "text": [
            "             ROOT                \n",
            "              |                   \n",
            "              S                  \n",
            "  ____________|________________   \n",
            " |            VP               | \n",
            " |     _______|______          |  \n",
            " NP   |              NP        | \n",
            " |    |        ______|____     |  \n",
            "NNP  VBZ      NN         NNS   . \n",
            " |    |       |           |    |  \n",
            "Fed raises interest     rates  . \n",
            "\n",
            "(ROOT\n",
            "  (S\n",
            "    (NP (NNP Fed))\n",
            "    (VP (VBZ raises)\n",
            "      (NP (NN interest) (NNS rates)))\n",
            "    (. .)))\n"
          ]
        }
      ],
      "source": [
        "s = StanfordNLP()\n",
        "\n",
        "sentence='Fed raises interest rates.'\n",
        "print (s.parse(sentence))"
      ]
    },
    {
      "cell_type": "code",
      "execution_count": 6,
      "metadata": {
        "colab": {
          "base_uri": "https://localhost:8080/"
        },
        "id": "88sIEJvPjM_O",
        "outputId": "c1845e71-033a-4b44-b33f-854541ba1015",
        "scrolled": true
      },
      "outputs": [
        {
          "output_type": "stream",
          "name": "stdout",
          "text": [
            "                                  ROOT                        \n",
            "                                   |                           \n",
            "                                   S                          \n",
            "      _____________________________|________________________   \n",
            "     |                             VP                       | \n",
            "     |              _______________|__________              |  \n",
            "     |             |         |                PP            | \n",
            "     |             |         |             ___|____         |  \n",
            "     NP            |         NP           |        NP       | \n",
            "  ___|______       |     ____|_____       |    ____|___     |  \n",
            " DT         NN    VBZ  PRP$        NN     IN PRP$      NN   . \n",
            " |          |      |    |          |      |   |        |    |  \n",
            "The     president eats her      sandwich  at her      desk  . \n",
            "\n"
          ]
        }
      ],
      "source": [
        "\n",
        "sentence='The president eats her sandwich at her desk.'\n",
        "\n",
        "r=s.parse(sentence)\n"
      ]
    },
    {
      "cell_type": "code",
      "execution_count": 7,
      "metadata": {
        "colab": {
          "base_uri": "https://localhost:8080/"
        },
        "id": "OUQFeNMSjM_R",
        "outputId": "86cc942d-fd64-445f-81df-99383b2d5ebd"
      },
      "outputs": [
        {
          "output_type": "stream",
          "name": "stdout",
          "text": [
            "                                               ROOT                                                            \n",
            "                                                |                                                               \n",
            "                                                S                                                              \n",
            "  ______________________________________________|____________________________________________________________   \n",
            " |           VP                                                                                              | \n",
            " |    _______|_____________________                                                                          |  \n",
            " |   |       |                     PP                                                                        | \n",
            " |   |       |                  ___|_______                                                                  |  \n",
            " |   |       |                 |           NP                                                                | \n",
            " |   |       |                 |        ___|___________                                                      |  \n",
            " |   |       |                 |       |               PP                                                    | \n",
            " |   |       |                 |       |         ______|_____                                                |  \n",
            " |   |       |                 |       |        |            NP                                              | \n",
            " |   |       |                 |       |        |       _____|____                                           |  \n",
            " |   |       |                 |       |        |      |         SBAR                                        | \n",
            " |   |       |                 |       |        |      |      ____|____                                      |  \n",
            " |   |       |                 |       |        |      |     |         S                                     | \n",
            " |   |       |                 |       |        |      |     |     ____|_________                            |  \n",
            " |   |       |                 |       |        |      |     |    |              VP                          | \n",
            " |   |       |                 |       |        |      |     |    |     _________|_______                    |  \n",
            " |   |       NP                |       |        |      |     |    |    |    |            PP                  | \n",
            " |   |    ___|_____________    |       |        |      |     |    |    |    |     _______|_____              |  \n",
            " NP  |   |       ADJP      |   |       NP       |      NP   WHNP  NP   |    NP   |             NP            | \n",
            " |   |   |    ____|____    |   |    ___|___     |      |     |    |    |    |    |    _________|_______      |  \n",
            "PRP VBP  DT  RB        JJ  NN  IN  DT      NN   IN    NNS   WDT  PRP  VBD   JJ   IN  DT        NN      NN    . \n",
            " |   |   |   |         |   |   |   |       |    |      |     |    |    |    |    |   |         |       |     |  \n",
            " I  see  a  very      big dog  on the     pile  of  clothes that you  left next  to the     washing machine  . \n",
            "\n"
          ]
        }
      ],
      "source": [
        "\n",
        "sentence='I see a very big dog on the pile of clothes that you left next to the washing machine.'\n",
        "\n",
        "r=s.parse(sentence)"
      ]
    },
    {
      "cell_type": "code",
      "execution_count": 8,
      "metadata": {
        "colab": {
          "base_uri": "https://localhost:8080/"
        },
        "id": "I6XKAe4RjM_U",
        "outputId": "1d668ab2-33c7-4bd7-b233-cf24bcd4096f"
      },
      "outputs": [
        {
          "output_type": "stream",
          "name": "stdout",
          "text": [
            "        ROOT                  \n",
            "         |                     \n",
            "         NP                   \n",
            "      ___|__________________   \n",
            "     NP           NP        | \n",
            "  ___|___      ___|____     |  \n",
            " DT  JJ  NN   DT      NNS   . \n",
            " |   |   |    |        |    |  \n",
            "The old man  the     boats  . \n",
            "\n"
          ]
        }
      ],
      "source": [
        "# This sentence was contributed by course participant Pius von Däniken during the live lecture on May 7, 2020\n",
        "# The parser has a really hard time with the word man used as a verb\n",
        "sentence='The old man the boats.'\n",
        "\n",
        "r=s.parse(sentence)"
      ]
    },
    {
      "cell_type": "code",
      "execution_count": 9,
      "metadata": {
        "colab": {
          "base_uri": "https://localhost:8080/"
        },
        "id": "b__firOojM_W",
        "outputId": "c9ef3f1a-d12f-4cba-f04d-08784166aff6"
      },
      "outputs": [
        {
          "output_type": "stream",
          "name": "stdout",
          "text": [
            "                  ROOT                       \n",
            "                   |                          \n",
            "                   S                         \n",
            "      _____________|_______________________   \n",
            "     |                   VP                | \n",
            "     |        ___________|___              |  \n",
            "     |       |               VP            | \n",
            "     |       |      _________|___          |  \n",
            "     NP      |     |             NP        | \n",
            "  ___|___    |     |          ___|____     |  \n",
            " DT      JJ VBP   VBG        DT      NNS   . \n",
            " |       |   |     |         |        |    |  \n",
            "The     old are manning     the     boats  . \n",
            "\n"
          ]
        }
      ],
      "source": [
        "# The parser has an easier time if we change 'man' to 'are manning'\n",
        "sentence='The old are manning the boats.'\n",
        "\n",
        "r=s.parse(sentence)"
      ]
    },
    {
      "cell_type": "code",
      "execution_count": 10,
      "metadata": {
        "colab": {
          "base_uri": "https://localhost:8080/",
          "height": 428
        },
        "id": "neWQVIOVjM_Z",
        "outputId": "9155c59a-3f81-49f7-eca5-26d4bd2372c9"
      },
      "outputs": [
        {
          "output_type": "execute_result",
          "data": {
            "text/plain": [
              "<DependencyGraph with 8 nodes>"
            ],
            "image/svg+xml": "<?xml version=\"1.0\" encoding=\"UTF-8\" standalone=\"no\"?>\n<!DOCTYPE svg PUBLIC \"-//W3C//DTD SVG 1.1//EN\"\n \"http://www.w3.org/Graphics/SVG/1.1/DTD/svg11.dtd\">\n<!-- Generated by graphviz version 2.43.0 (0)\n -->\n<!-- Title: G Pages: 1 -->\n<svg width=\"292pt\" height=\"305pt\"\n viewBox=\"0.00 0.00 291.50 305.00\" xmlns=\"http://www.w3.org/2000/svg\" xmlns:xlink=\"http://www.w3.org/1999/xlink\">\n<g id=\"graph0\" class=\"graph\" transform=\"scale(1 1) rotate(0) translate(4 301)\">\n<title>G</title>\n<polygon fill=\"white\" stroke=\"transparent\" points=\"-4,4 -4,-301 287.5,-301 287.5,4 -4,4\"/>\n<!-- 0 -->\n<g id=\"node1\" class=\"node\">\n<title>0</title>\n<text text-anchor=\"middle\" x=\"139.5\" y=\"-275.3\" font-family=\"Times,serif\" font-size=\"14.00\">0 (None)</text>\n</g>\n<!-- 4 -->\n<g id=\"node2\" class=\"node\">\n<title>4</title>\n<text text-anchor=\"middle\" x=\"139.5\" y=\"-188.3\" font-family=\"Times,serif\" font-size=\"14.00\">4 (manning)</text>\n</g>\n<!-- 0&#45;&gt;4 -->\n<g id=\"edge1\" class=\"edge\">\n<title>0&#45;&gt;4</title>\n<path fill=\"none\" stroke=\"black\" d=\"M139.5,-260.8C139.5,-249.16 139.5,-233.55 139.5,-220.24\"/>\n<polygon fill=\"black\" stroke=\"black\" points=\"143,-220.18 139.5,-210.18 136,-220.18 143,-220.18\"/>\n<text text-anchor=\"middle\" x=\"158\" y=\"-231.8\" font-family=\"Times,serif\" font-size=\"14.00\">ROOT</text>\n</g>\n<!-- 2 -->\n<g id=\"node4\" class=\"node\">\n<title>2</title>\n<text text-anchor=\"middle\" x=\"28.5\" y=\"-101.3\" font-family=\"Times,serif\" font-size=\"14.00\">2 (old)</text>\n</g>\n<!-- 4&#45;&gt;2 -->\n<g id=\"edge3\" class=\"edge\">\n<title>4&#45;&gt;2</title>\n<path fill=\"none\" stroke=\"black\" d=\"M106.8,-173.88C97.66,-168.58 87.94,-162.44 79.5,-156 69.59,-148.44 59.6,-139.1 51.11,-130.55\"/>\n<polygon fill=\"black\" stroke=\"black\" points=\"53.56,-128.05 44.09,-123.31 48.54,-132.92 53.56,-128.05\"/>\n<text text-anchor=\"middle\" x=\"94.5\" y=\"-144.8\" font-family=\"Times,serif\" font-size=\"14.00\">nsubj</text>\n</g>\n<!-- 3 -->\n<g id=\"node5\" class=\"node\">\n<title>3</title>\n<text text-anchor=\"middle\" x=\"100.5\" y=\"-101.3\" font-family=\"Times,serif\" font-size=\"14.00\">3 (are)</text>\n</g>\n<!-- 4&#45;&gt;3 -->\n<g id=\"edge4\" class=\"edge\">\n<title>4&#45;&gt;3</title>\n<path fill=\"none\" stroke=\"black\" d=\"M128.98,-173.84C125.75,-168.25 122.31,-161.95 119.5,-156 116.03,-148.64 112.7,-140.47 109.84,-132.89\"/>\n<polygon fill=\"black\" stroke=\"black\" points=\"113.09,-131.58 106.36,-123.4 106.52,-133.99 113.09,-131.58\"/>\n<text text-anchor=\"middle\" x=\"129.5\" y=\"-144.8\" font-family=\"Times,serif\" font-size=\"14.00\">aux</text>\n</g>\n<!-- 6 -->\n<g id=\"node6\" class=\"node\">\n<title>6</title>\n<text text-anchor=\"middle\" x=\"178.5\" y=\"-101.3\" font-family=\"Times,serif\" font-size=\"14.00\">6 (boats)</text>\n</g>\n<!-- 4&#45;&gt;6 -->\n<g id=\"edge5\" class=\"edge\">\n<title>4&#45;&gt;6</title>\n<path fill=\"none\" stroke=\"black\" d=\"M147.39,-173.8C152.84,-161.93 160.18,-145.93 166.36,-132.45\"/>\n<polygon fill=\"black\" stroke=\"black\" points=\"169.63,-133.72 170.62,-123.18 163.27,-130.8 169.63,-133.72\"/>\n<text text-anchor=\"middle\" x=\"169.5\" y=\"-144.8\" font-family=\"Times,serif\" font-size=\"14.00\">obj</text>\n</g>\n<!-- 7 -->\n<g id=\"node7\" class=\"node\">\n<title>7</title>\n<text text-anchor=\"middle\" x=\"256.5\" y=\"-101.3\" font-family=\"Times,serif\" font-size=\"14.00\">7 (.)</text>\n</g>\n<!-- 4&#45;&gt;7 -->\n<g id=\"edge6\" class=\"edge\">\n<title>4&#45;&gt;7</title>\n<path fill=\"none\" stroke=\"black\" d=\"M163.18,-173.8C180.86,-160.95 205.22,-143.26 224.61,-129.17\"/>\n<polygon fill=\"black\" stroke=\"black\" points=\"226.83,-131.88 232.86,-123.18 222.71,-126.22 226.83,-131.88\"/>\n<text text-anchor=\"middle\" x=\"220\" y=\"-144.8\" font-family=\"Times,serif\" font-size=\"14.00\">punct</text>\n</g>\n<!-- 1 -->\n<g id=\"node3\" class=\"node\">\n<title>1</title>\n<text text-anchor=\"middle\" x=\"28.5\" y=\"-14.3\" font-family=\"Times,serif\" font-size=\"14.00\">1 (The)</text>\n</g>\n<!-- 2&#45;&gt;1 -->\n<g id=\"edge2\" class=\"edge\">\n<title>2&#45;&gt;1</title>\n<path fill=\"none\" stroke=\"black\" d=\"M28.5,-86.8C28.5,-75.16 28.5,-59.55 28.5,-46.24\"/>\n<polygon fill=\"black\" stroke=\"black\" points=\"32,-46.18 28.5,-36.18 25,-46.18 32,-46.18\"/>\n<text text-anchor=\"middle\" x=\"37\" y=\"-57.8\" font-family=\"Times,serif\" font-size=\"14.00\">det</text>\n</g>\n<!-- 5 -->\n<g id=\"node8\" class=\"node\">\n<title>5</title>\n<text text-anchor=\"middle\" x=\"178.5\" y=\"-14.3\" font-family=\"Times,serif\" font-size=\"14.00\">5 (the)</text>\n</g>\n<!-- 6&#45;&gt;5 -->\n<g id=\"edge7\" class=\"edge\">\n<title>6&#45;&gt;5</title>\n<path fill=\"none\" stroke=\"black\" d=\"M178.5,-86.8C178.5,-75.16 178.5,-59.55 178.5,-46.24\"/>\n<polygon fill=\"black\" stroke=\"black\" points=\"182,-46.18 178.5,-36.18 175,-46.18 182,-46.18\"/>\n<text text-anchor=\"middle\" x=\"187\" y=\"-57.8\" font-family=\"Times,serif\" font-size=\"14.00\">det</text>\n</g>\n</g>\n</svg>\n"
          },
          "metadata": {},
          "execution_count": 10
        }
      ],
      "source": [
        "from nltk.parse.corenlp import CoreNLPDependencyParser\n",
        "my_port = 9001\n",
        "url = 'http://localhost:'+str(my_port)\n",
        "parser = CoreNLPDependencyParser(url=url)\n",
        "parse = next(parser.raw_parse(sentence))\n",
        "parse"
      ]
    },
    {
      "cell_type": "code",
      "execution_count": 11,
      "metadata": {
        "colab": {
          "base_uri": "https://localhost:8080/",
          "height": 544
        },
        "id": "6mM5_2oFjM_b",
        "outputId": "d2ecab92-9b82-4750-f830-19ceb0777ce2"
      },
      "outputs": [
        {
          "output_type": "execute_result",
          "data": {
            "text/plain": [
              "<DependencyGraph with 9 nodes>"
            ],
            "image/svg+xml": "<?xml version=\"1.0\" encoding=\"UTF-8\" standalone=\"no\"?>\n<!DOCTYPE svg PUBLIC \"-//W3C//DTD SVG 1.1//EN\"\n \"http://www.w3.org/Graphics/SVG/1.1/DTD/svg11.dtd\">\n<!-- Generated by graphviz version 2.43.0 (0)\n -->\n<!-- Title: G Pages: 1 -->\n<svg width=\"302pt\" height=\"392pt\"\n viewBox=\"0.00 0.00 301.50 392.00\" xmlns=\"http://www.w3.org/2000/svg\" xmlns:xlink=\"http://www.w3.org/1999/xlink\">\n<g id=\"graph0\" class=\"graph\" transform=\"scale(1 1) rotate(0) translate(4 388)\">\n<title>G</title>\n<polygon fill=\"white\" stroke=\"transparent\" points=\"-4,4 -4,-388 297.5,-388 297.5,4 -4,4\"/>\n<!-- 0 -->\n<g id=\"node1\" class=\"node\">\n<title>0</title>\n<text text-anchor=\"middle\" x=\"149.5\" y=\"-362.3\" font-family=\"Times,serif\" font-size=\"14.00\">0 (None)</text>\n</g>\n<!-- 4 -->\n<g id=\"node2\" class=\"node\">\n<title>4</title>\n<text text-anchor=\"middle\" x=\"149.5\" y=\"-275.3\" font-family=\"Times,serif\" font-size=\"14.00\">4 (kill)</text>\n</g>\n<!-- 0&#45;&gt;4 -->\n<g id=\"edge1\" class=\"edge\">\n<title>0&#45;&gt;4</title>\n<path fill=\"none\" stroke=\"black\" d=\"M149.5,-347.8C149.5,-336.16 149.5,-320.55 149.5,-307.24\"/>\n<polygon fill=\"black\" stroke=\"black\" points=\"153,-307.18 149.5,-297.18 146,-307.18 153,-307.18\"/>\n<text text-anchor=\"middle\" x=\"168\" y=\"-318.8\" font-family=\"Times,serif\" font-size=\"14.00\">ROOT</text>\n</g>\n<!-- 3 -->\n<g id=\"node5\" class=\"node\">\n<title>3</title>\n<text text-anchor=\"middle\" x=\"30.5\" y=\"-188.3\" font-family=\"Times,serif\" font-size=\"14.00\">3 (cops)</text>\n</g>\n<!-- 4&#45;&gt;3 -->\n<g id=\"edge4\" class=\"edge\">\n<title>4&#45;&gt;3</title>\n<path fill=\"none\" stroke=\"black\" d=\"M122.5,-263.19C112.25,-257.26 100.62,-250.15 90.5,-243 79.14,-234.97 67.25,-225.35 57.08,-216.7\"/>\n<polygon fill=\"black\" stroke=\"black\" points=\"59.19,-213.9 49.33,-210.02 54.62,-219.2 59.19,-213.9\"/>\n<text text-anchor=\"middle\" x=\"105.5\" y=\"-231.8\" font-family=\"Times,serif\" font-size=\"14.00\">nsubj</text>\n</g>\n<!-- 5 -->\n<g id=\"node6\" class=\"node\">\n<title>5</title>\n<text text-anchor=\"middle\" x=\"109.5\" y=\"-188.3\" font-family=\"Times,serif\" font-size=\"14.00\">5 (man)</text>\n</g>\n<!-- 4&#45;&gt;5 -->\n<g id=\"edge5\" class=\"edge\">\n<title>4&#45;&gt;5</title>\n<path fill=\"none\" stroke=\"black\" d=\"M139.68,-260.73C136.62,-255.13 133.31,-248.86 130.5,-243 126.93,-235.56 123.35,-227.36 120.17,-219.79\"/>\n<polygon fill=\"black\" stroke=\"black\" points=\"123.32,-218.23 116.27,-210.31 116.84,-220.89 123.32,-218.23\"/>\n<text text-anchor=\"middle\" x=\"139.5\" y=\"-231.8\" font-family=\"Times,serif\" font-size=\"14.00\">obj</text>\n</g>\n<!-- 7 -->\n<g id=\"node7\" class=\"node\">\n<title>7</title>\n<text text-anchor=\"middle\" x=\"189.5\" y=\"-188.3\" font-family=\"Times,serif\" font-size=\"14.00\">7 (knife)</text>\n</g>\n<!-- 4&#45;&gt;7 -->\n<g id=\"edge6\" class=\"edge\">\n<title>4&#45;&gt;7</title>\n<path fill=\"none\" stroke=\"black\" d=\"M157.59,-260.8C163.18,-248.93 170.71,-232.93 177.05,-219.45\"/>\n<polygon fill=\"black\" stroke=\"black\" points=\"180.33,-220.71 181.42,-210.18 173.99,-217.73 180.33,-220.71\"/>\n<text text-anchor=\"middle\" x=\"181.5\" y=\"-231.8\" font-family=\"Times,serif\" font-size=\"14.00\">obl</text>\n</g>\n<!-- 8 -->\n<g id=\"node8\" class=\"node\">\n<title>8</title>\n<text text-anchor=\"middle\" x=\"266.5\" y=\"-188.3\" font-family=\"Times,serif\" font-size=\"14.00\">8 (.)</text>\n</g>\n<!-- 4&#45;&gt;8 -->\n<g id=\"edge7\" class=\"edge\">\n<title>4&#45;&gt;8</title>\n<path fill=\"none\" stroke=\"black\" d=\"M173.18,-260.8C190.86,-247.95 215.22,-230.26 234.61,-216.17\"/>\n<polygon fill=\"black\" stroke=\"black\" points=\"236.83,-218.88 242.86,-210.18 232.71,-213.22 236.83,-218.88\"/>\n<text text-anchor=\"middle\" x=\"230\" y=\"-231.8\" font-family=\"Times,serif\" font-size=\"14.00\">punct</text>\n</g>\n<!-- 1 -->\n<g id=\"node3\" class=\"node\">\n<title>1</title>\n<text text-anchor=\"middle\" x=\"30.5\" y=\"-14.3\" font-family=\"Times,serif\" font-size=\"14.00\">1 (San)</text>\n</g>\n<!-- 2 -->\n<g id=\"node4\" class=\"node\">\n<title>2</title>\n<text text-anchor=\"middle\" x=\"30.5\" y=\"-101.3\" font-family=\"Times,serif\" font-size=\"14.00\">2 (Jose)</text>\n</g>\n<!-- 2&#45;&gt;1 -->\n<g id=\"edge2\" class=\"edge\">\n<title>2&#45;&gt;1</title>\n<path fill=\"none\" stroke=\"black\" d=\"M30.5,-86.8C30.5,-75.16 30.5,-59.55 30.5,-46.24\"/>\n<polygon fill=\"black\" stroke=\"black\" points=\"34,-46.18 30.5,-36.18 27,-46.18 34,-46.18\"/>\n<text text-anchor=\"middle\" x=\"59.5\" y=\"-57.8\" font-family=\"Times,serif\" font-size=\"14.00\">compound</text>\n</g>\n<!-- 3&#45;&gt;2 -->\n<g id=\"edge3\" class=\"edge\">\n<title>3&#45;&gt;2</title>\n<path fill=\"none\" stroke=\"black\" d=\"M30.5,-173.8C30.5,-162.16 30.5,-146.55 30.5,-133.24\"/>\n<polygon fill=\"black\" stroke=\"black\" points=\"34,-133.18 30.5,-123.18 27,-133.18 34,-133.18\"/>\n<text text-anchor=\"middle\" x=\"59.5\" y=\"-144.8\" font-family=\"Times,serif\" font-size=\"14.00\">compound</text>\n</g>\n<!-- 6 -->\n<g id=\"node9\" class=\"node\">\n<title>6</title>\n<text text-anchor=\"middle\" x=\"189.5\" y=\"-101.3\" font-family=\"Times,serif\" font-size=\"14.00\">6 (with)</text>\n</g>\n<!-- 7&#45;&gt;6 -->\n<g id=\"edge8\" class=\"edge\">\n<title>7&#45;&gt;6</title>\n<path fill=\"none\" stroke=\"black\" d=\"M189.5,-173.8C189.5,-162.16 189.5,-146.55 189.5,-133.24\"/>\n<polygon fill=\"black\" stroke=\"black\" points=\"193,-133.18 189.5,-123.18 186,-133.18 193,-133.18\"/>\n<text text-anchor=\"middle\" x=\"201.5\" y=\"-144.8\" font-family=\"Times,serif\" font-size=\"14.00\">case</text>\n</g>\n</g>\n</svg>\n"
          },
          "metadata": {},
          "execution_count": 11
        }
      ],
      "source": [
        "sentence='San Jose cops kill man with knife.'\n",
        "\n",
        "parse = next(parser.raw_parse(sentence))\n",
        "parse"
      ]
    },
    {
      "cell_type": "code",
      "execution_count": 12,
      "metadata": {
        "colab": {
          "base_uri": "https://localhost:8080/",
          "height": 776
        },
        "id": "EVUKrB4L6hKA",
        "outputId": "d3ad438c-c3a2-4731-cbdd-0240fdc1a13e"
      },
      "outputs": [
        {
          "output_type": "execute_result",
          "data": {
            "text/plain": [
              "<DependencyGraph with 21 nodes>"
            ],
            "image/svg+xml": "<?xml version=\"1.0\" encoding=\"UTF-8\" standalone=\"no\"?>\n<!DOCTYPE svg PUBLIC \"-//W3C//DTD SVG 1.1//EN\"\n \"http://www.w3.org/Graphics/SVG/1.1/DTD/svg11.dtd\">\n<!-- Generated by graphviz version 2.43.0 (0)\n -->\n<!-- Title: G Pages: 1 -->\n<svg width=\"661pt\" height=\"566pt\"\n viewBox=\"0.00 0.00 661.00 566.00\" xmlns=\"http://www.w3.org/2000/svg\" xmlns:xlink=\"http://www.w3.org/1999/xlink\">\n<g id=\"graph0\" class=\"graph\" transform=\"scale(1 1) rotate(0) translate(4 562)\">\n<title>G</title>\n<polygon fill=\"white\" stroke=\"transparent\" points=\"-4,4 -4,-562 657,-562 657,4 -4,4\"/>\n<!-- 0 -->\n<g id=\"node1\" class=\"node\">\n<title>0</title>\n<text text-anchor=\"middle\" x=\"140\" y=\"-536.3\" font-family=\"Times,serif\" font-size=\"14.00\">0 (None)</text>\n</g>\n<!-- 2 -->\n<g id=\"node2\" class=\"node\">\n<title>2</title>\n<text text-anchor=\"middle\" x=\"140\" y=\"-449.3\" font-family=\"Times,serif\" font-size=\"14.00\">2 (see)</text>\n</g>\n<!-- 0&#45;&gt;2 -->\n<g id=\"edge1\" class=\"edge\">\n<title>0&#45;&gt;2</title>\n<path fill=\"none\" stroke=\"black\" d=\"M140,-521.8C140,-510.16 140,-494.55 140,-481.24\"/>\n<polygon fill=\"black\" stroke=\"black\" points=\"143.5,-481.18 140,-471.18 136.5,-481.18 143.5,-481.18\"/>\n<text text-anchor=\"middle\" x=\"158.5\" y=\"-492.8\" font-family=\"Times,serif\" font-size=\"14.00\">ROOT</text>\n</g>\n<!-- 1 -->\n<g id=\"node3\" class=\"node\">\n<title>1</title>\n<text text-anchor=\"middle\" x=\"67\" y=\"-362.3\" font-family=\"Times,serif\" font-size=\"14.00\">1 (I)</text>\n</g>\n<!-- 2&#45;&gt;1 -->\n<g id=\"edge2\" class=\"edge\">\n<title>2&#45;&gt;1</title>\n<path fill=\"none\" stroke=\"black\" d=\"M122.67,-434.9C117.2,-429.32 111.23,-423 106,-417 99.13,-409.11 91.99,-400.2 85.72,-392.1\"/>\n<polygon fill=\"black\" stroke=\"black\" points=\"88.41,-389.85 79.56,-384.03 82.85,-394.1 88.41,-389.85\"/>\n<text text-anchor=\"middle\" x=\"121\" y=\"-405.8\" font-family=\"Times,serif\" font-size=\"14.00\">nsubj</text>\n</g>\n<!-- 6 -->\n<g id=\"node4\" class=\"node\">\n<title>6</title>\n<text text-anchor=\"middle\" x=\"140\" y=\"-362.3\" font-family=\"Times,serif\" font-size=\"14.00\">6 (dog)</text>\n</g>\n<!-- 2&#45;&gt;6 -->\n<g id=\"edge3\" class=\"edge\">\n<title>2&#45;&gt;6</title>\n<path fill=\"none\" stroke=\"black\" d=\"M140,-434.8C140,-423.16 140,-407.55 140,-394.24\"/>\n<polygon fill=\"black\" stroke=\"black\" points=\"143.5,-394.18 140,-384.18 136.5,-394.18 143.5,-394.18\"/>\n<text text-anchor=\"middle\" x=\"149\" y=\"-405.8\" font-family=\"Times,serif\" font-size=\"14.00\">obj</text>\n</g>\n<!-- 20 -->\n<g id=\"node5\" class=\"node\">\n<title>20</title>\n<text text-anchor=\"middle\" x=\"213\" y=\"-362.3\" font-family=\"Times,serif\" font-size=\"14.00\">20 (.)</text>\n</g>\n<!-- 2&#45;&gt;20 -->\n<g id=\"edge4\" class=\"edge\">\n<title>2&#45;&gt;20</title>\n<path fill=\"none\" stroke=\"black\" d=\"M154.77,-434.8C165.36,-422.47 179.78,-405.68 191.62,-391.89\"/>\n<polygon fill=\"black\" stroke=\"black\" points=\"194.39,-394.04 198.25,-384.18 189.08,-389.48 194.39,-394.04\"/>\n<text text-anchor=\"middle\" x=\"196.5\" y=\"-405.8\" font-family=\"Times,serif\" font-size=\"14.00\">punct</text>\n</g>\n<!-- 3 -->\n<g id=\"node6\" class=\"node\">\n<title>3</title>\n<text text-anchor=\"middle\" x=\"32\" y=\"-275.3\" font-family=\"Times,serif\" font-size=\"14.00\">3 (a)</text>\n</g>\n<!-- 6&#45;&gt;3 -->\n<g id=\"edge6\" class=\"edge\">\n<title>6&#45;&gt;3</title>\n<path fill=\"none\" stroke=\"black\" d=\"M116.41,-347.77C108.87,-342.17 100.54,-335.89 93,-330 82.19,-321.55 70.49,-312.05 60.26,-303.63\"/>\n<polygon fill=\"black\" stroke=\"black\" points=\"62.36,-300.81 52.42,-297.14 57.89,-306.21 62.36,-300.81\"/>\n<text text-anchor=\"middle\" x=\"101.5\" y=\"-318.8\" font-family=\"Times,serif\" font-size=\"14.00\">det</text>\n</g>\n<!-- 5 -->\n<g id=\"node8\" class=\"node\">\n<title>5</title>\n<text text-anchor=\"middle\" x=\"104\" y=\"-275.3\" font-family=\"Times,serif\" font-size=\"14.00\">5 (big)</text>\n</g>\n<!-- 6&#45;&gt;5 -->\n<g id=\"edge7\" class=\"edge\">\n<title>6&#45;&gt;5</title>\n<path fill=\"none\" stroke=\"black\" d=\"M128.43,-347.65C125.09,-342.16 121.63,-335.96 119,-330 115.78,-322.7 113,-314.52 110.74,-306.91\"/>\n<polygon fill=\"black\" stroke=\"black\" points=\"114.04,-305.73 107.98,-297.04 107.3,-307.61 114.04,-305.73\"/>\n<text text-anchor=\"middle\" x=\"134.5\" y=\"-318.8\" font-family=\"Times,serif\" font-size=\"14.00\">amod</text>\n</g>\n<!-- 9 -->\n<g id=\"node9\" class=\"node\">\n<title>9</title>\n<text text-anchor=\"middle\" x=\"177\" y=\"-275.3\" font-family=\"Times,serif\" font-size=\"14.00\">9 (pile)</text>\n</g>\n<!-- 6&#45;&gt;9 -->\n<g id=\"edge8\" class=\"edge\">\n<title>6&#45;&gt;9</title>\n<path fill=\"none\" stroke=\"black\" d=\"M147.49,-347.8C152.65,-335.93 159.62,-319.93 165.49,-306.45\"/>\n<polygon fill=\"black\" stroke=\"black\" points=\"168.74,-307.74 169.52,-297.18 162.32,-304.95 168.74,-307.74\"/>\n<text text-anchor=\"middle\" x=\"177\" y=\"-318.8\" font-family=\"Times,serif\" font-size=\"14.00\">nmod</text>\n</g>\n<!-- 14 -->\n<g id=\"node10\" class=\"node\">\n<title>14</title>\n<text text-anchor=\"middle\" x=\"393\" y=\"-275.3\" font-family=\"Times,serif\" font-size=\"14.00\">14 (left)</text>\n</g>\n<!-- 6&#45;&gt;14 -->\n<g id=\"edge9\" class=\"edge\">\n<title>6&#45;&gt;14</title>\n<path fill=\"none\" stroke=\"black\" d=\"M168.13,-351.64C171.1,-350.35 174.1,-349.12 177,-348 237.07,-324.85 308.67,-303.49 352.47,-291.11\"/>\n<polygon fill=\"black\" stroke=\"black\" points=\"353.5,-294.46 362.18,-288.38 351.6,-287.72 353.5,-294.46\"/>\n<text text-anchor=\"middle\" x=\"293\" y=\"-318.8\" font-family=\"Times,serif\" font-size=\"14.00\">acl:relcl</text>\n</g>\n<!-- 4 -->\n<g id=\"node7\" class=\"node\">\n<title>4</title>\n<text text-anchor=\"middle\" x=\"30\" y=\"-188.3\" font-family=\"Times,serif\" font-size=\"14.00\">4 (very)</text>\n</g>\n<!-- 5&#45;&gt;4 -->\n<g id=\"edge5\" class=\"edge\">\n<title>5&#45;&gt;4</title>\n<path fill=\"none\" stroke=\"black\" d=\"M89.02,-260.8C78.29,-248.47 63.67,-231.68 51.67,-217.89\"/>\n<polygon fill=\"black\" stroke=\"black\" points=\"54.16,-215.42 44.95,-210.18 48.88,-220.02 54.16,-215.42\"/>\n<text text-anchor=\"middle\" x=\"94.5\" y=\"-231.8\" font-family=\"Times,serif\" font-size=\"14.00\">advmod</text>\n</g>\n<!-- 7 -->\n<g id=\"node11\" class=\"node\">\n<title>7</title>\n<text text-anchor=\"middle\" x=\"105\" y=\"-188.3\" font-family=\"Times,serif\" font-size=\"14.00\">7 (on)</text>\n</g>\n<!-- 9&#45;&gt;7 -->\n<g id=\"edge10\" class=\"edge\">\n<title>9&#45;&gt;7</title>\n<path fill=\"none\" stroke=\"black\" d=\"M162.43,-260.8C151.99,-248.47 137.76,-231.68 126.08,-217.89\"/>\n<polygon fill=\"black\" stroke=\"black\" points=\"128.68,-215.54 119.55,-210.18 123.34,-220.07 128.68,-215.54\"/>\n<text text-anchor=\"middle\" x=\"158\" y=\"-231.8\" font-family=\"Times,serif\" font-size=\"14.00\">case</text>\n</g>\n<!-- 8 -->\n<g id=\"node12\" class=\"node\">\n<title>8</title>\n<text text-anchor=\"middle\" x=\"177\" y=\"-188.3\" font-family=\"Times,serif\" font-size=\"14.00\">8 (the)</text>\n</g>\n<!-- 9&#45;&gt;8 -->\n<g id=\"edge11\" class=\"edge\">\n<title>9&#45;&gt;8</title>\n<path fill=\"none\" stroke=\"black\" d=\"M177,-260.8C177,-249.16 177,-233.55 177,-220.24\"/>\n<polygon fill=\"black\" stroke=\"black\" points=\"180.5,-220.18 177,-210.18 173.5,-220.18 180.5,-220.18\"/>\n<text text-anchor=\"middle\" x=\"185.5\" y=\"-231.8\" font-family=\"Times,serif\" font-size=\"14.00\">det</text>\n</g>\n<!-- 11 -->\n<g id=\"node13\" class=\"node\">\n<title>11</title>\n<text text-anchor=\"middle\" x=\"263\" y=\"-188.3\" font-family=\"Times,serif\" font-size=\"14.00\">11 (clothes)</text>\n</g>\n<!-- 9&#45;&gt;11 -->\n<g id=\"edge12\" class=\"edge\">\n<title>9&#45;&gt;11</title>\n<path fill=\"none\" stroke=\"black\" d=\"M194.4,-260.8C206.99,-248.36 224.18,-231.36 238.21,-217.5\"/>\n<polygon fill=\"black\" stroke=\"black\" points=\"240.97,-219.69 245.62,-210.18 236.05,-214.72 240.97,-219.69\"/>\n<text text-anchor=\"middle\" x=\"242\" y=\"-231.8\" font-family=\"Times,serif\" font-size=\"14.00\">nmod</text>\n</g>\n<!-- 12 -->\n<g id=\"node15\" class=\"node\">\n<title>12</title>\n<text text-anchor=\"middle\" x=\"353\" y=\"-188.3\" font-family=\"Times,serif\" font-size=\"14.00\">12 (that)</text>\n</g>\n<!-- 14&#45;&gt;12 -->\n<g id=\"edge14\" class=\"edge\">\n<title>14&#45;&gt;12</title>\n<path fill=\"none\" stroke=\"black\" d=\"M384.91,-260.8C379.32,-248.93 371.79,-232.93 365.45,-219.45\"/>\n<polygon fill=\"black\" stroke=\"black\" points=\"368.51,-217.73 361.08,-210.18 362.17,-220.71 368.51,-217.73\"/>\n<text text-anchor=\"middle\" x=\"385\" y=\"-231.8\" font-family=\"Times,serif\" font-size=\"14.00\">obj</text>\n</g>\n<!-- 13 -->\n<g id=\"node16\" class=\"node\">\n<title>13</title>\n<text text-anchor=\"middle\" x=\"434\" y=\"-188.3\" font-family=\"Times,serif\" font-size=\"14.00\">13 (you)</text>\n</g>\n<!-- 14&#45;&gt;13 -->\n<g id=\"edge15\" class=\"edge\">\n<title>14&#45;&gt;13</title>\n<path fill=\"none\" stroke=\"black\" d=\"M401.3,-260.8C407.02,-248.93 414.74,-232.93 421.24,-219.45\"/>\n<polygon fill=\"black\" stroke=\"black\" points=\"424.52,-220.7 425.72,-210.18 418.22,-217.66 424.52,-220.7\"/>\n<text text-anchor=\"middle\" x=\"431\" y=\"-231.8\" font-family=\"Times,serif\" font-size=\"14.00\">nsubj</text>\n</g>\n<!-- 15 -->\n<g id=\"node17\" class=\"node\">\n<title>15</title>\n<text text-anchor=\"middle\" x=\"517\" y=\"-188.3\" font-family=\"Times,serif\" font-size=\"14.00\">15 (next)</text>\n</g>\n<!-- 14&#45;&gt;15 -->\n<g id=\"edge16\" class=\"edge\">\n<title>14&#45;&gt;15</title>\n<path fill=\"none\" stroke=\"black\" d=\"M422.03,-260.87C431.1,-255.34 441.06,-249.06 450,-243 462.37,-234.61 475.64,-224.88 487.07,-216.24\"/>\n<polygon fill=\"black\" stroke=\"black\" points=\"489.19,-219.02 495.03,-210.18 484.95,-213.45 489.19,-219.02\"/>\n<text text-anchor=\"middle\" x=\"493.5\" y=\"-231.8\" font-family=\"Times,serif\" font-size=\"14.00\">advmod</text>\n</g>\n<!-- 10 -->\n<g id=\"node14\" class=\"node\">\n<title>10</title>\n<text text-anchor=\"middle\" x=\"263\" y=\"-101.3\" font-family=\"Times,serif\" font-size=\"14.00\">10 (of)</text>\n</g>\n<!-- 11&#45;&gt;10 -->\n<g id=\"edge13\" class=\"edge\">\n<title>11&#45;&gt;10</title>\n<path fill=\"none\" stroke=\"black\" d=\"M263,-173.8C263,-162.16 263,-146.55 263,-133.24\"/>\n<polygon fill=\"black\" stroke=\"black\" points=\"266.5,-133.18 263,-123.18 259.5,-133.18 266.5,-133.18\"/>\n<text text-anchor=\"middle\" x=\"275\" y=\"-144.8\" font-family=\"Times,serif\" font-size=\"14.00\">case</text>\n</g>\n<!-- 19 -->\n<g id=\"node18\" class=\"node\">\n<title>19</title>\n<text text-anchor=\"middle\" x=\"517\" y=\"-101.3\" font-family=\"Times,serif\" font-size=\"14.00\">19 (machine)</text>\n</g>\n<!-- 15&#45;&gt;19 -->\n<g id=\"edge17\" class=\"edge\">\n<title>15&#45;&gt;19</title>\n<path fill=\"none\" stroke=\"black\" d=\"M517,-173.8C517,-162.16 517,-146.55 517,-133.24\"/>\n<polygon fill=\"black\" stroke=\"black\" points=\"520.5,-133.18 517,-123.18 513.5,-133.18 520.5,-133.18\"/>\n<text text-anchor=\"middle\" x=\"526\" y=\"-144.8\" font-family=\"Times,serif\" font-size=\"14.00\">obl</text>\n</g>\n<!-- 16 -->\n<g id=\"node19\" class=\"node\">\n<title>16</title>\n<text text-anchor=\"middle\" x=\"442\" y=\"-14.3\" font-family=\"Times,serif\" font-size=\"14.00\">16 (to)</text>\n</g>\n<!-- 19&#45;&gt;16 -->\n<g id=\"edge18\" class=\"edge\">\n<title>19&#45;&gt;16</title>\n<path fill=\"none\" stroke=\"black\" d=\"M501.82,-86.8C490.95,-74.47 476.13,-57.68 463.96,-43.89\"/>\n<polygon fill=\"black\" stroke=\"black\" points=\"466.4,-41.36 457.15,-36.18 461.15,-45.99 466.4,-41.36\"/>\n<text text-anchor=\"middle\" x=\"496\" y=\"-57.8\" font-family=\"Times,serif\" font-size=\"14.00\">case</text>\n</g>\n<!-- 17 -->\n<g id=\"node20\" class=\"node\">\n<title>17</title>\n<text text-anchor=\"middle\" x=\"517\" y=\"-14.3\" font-family=\"Times,serif\" font-size=\"14.00\">17 (the)</text>\n</g>\n<!-- 19&#45;&gt;17 -->\n<g id=\"edge19\" class=\"edge\">\n<title>19&#45;&gt;17</title>\n<path fill=\"none\" stroke=\"black\" d=\"M517,-86.8C517,-75.16 517,-59.55 517,-46.24\"/>\n<polygon fill=\"black\" stroke=\"black\" points=\"520.5,-46.18 517,-36.18 513.5,-46.18 520.5,-46.18\"/>\n<text text-anchor=\"middle\" x=\"525.5\" y=\"-57.8\" font-family=\"Times,serif\" font-size=\"14.00\">det</text>\n</g>\n<!-- 18 -->\n<g id=\"node21\" class=\"node\">\n<title>18</title>\n<text text-anchor=\"middle\" x=\"609\" y=\"-14.3\" font-family=\"Times,serif\" font-size=\"14.00\">18 (washing)</text>\n</g>\n<!-- 19&#45;&gt;18 -->\n<g id=\"edge20\" class=\"edge\">\n<title>19&#45;&gt;18</title>\n<path fill=\"none\" stroke=\"black\" d=\"M535.62,-86.8C549.21,-74.24 567.82,-57.05 582.89,-43.12\"/>\n<polygon fill=\"black\" stroke=\"black\" points=\"585.44,-45.53 590.41,-36.18 580.69,-40.39 585.44,-45.53\"/>\n<text text-anchor=\"middle\" x=\"598\" y=\"-57.8\" font-family=\"Times,serif\" font-size=\"14.00\">compound</text>\n</g>\n</g>\n</svg>\n"
          },
          "metadata": {},
          "execution_count": 12
        }
      ],
      "source": [
        "sentence='I see a very big dog on the pile of clothes that you left next to the washing machine.'\n",
        "parse = next(parser.raw_parse(sentence))\n",
        "parse"
      ]
    },
    {
      "cell_type": "code",
      "execution_count": 13,
      "metadata": {
        "colab": {
          "base_uri": "https://localhost:8080/",
          "height": 428
        },
        "id": "t0mt4QRg6hKB",
        "outputId": "f697cd85-b441-48be-9b2d-668cb3af2bc2"
      },
      "outputs": [
        {
          "output_type": "execute_result",
          "data": {
            "text/plain": [
              "<DependencyGraph with 7 nodes>"
            ],
            "image/svg+xml": "<?xml version=\"1.0\" encoding=\"UTF-8\" standalone=\"no\"?>\n<!DOCTYPE svg PUBLIC \"-//W3C//DTD SVG 1.1//EN\"\n \"http://www.w3.org/Graphics/SVG/1.1/DTD/svg11.dtd\">\n<!-- Generated by graphviz version 2.43.0 (0)\n -->\n<!-- Title: G Pages: 1 -->\n<svg width=\"344pt\" height=\"305pt\"\n viewBox=\"0.00 0.00 344.00 305.00\" xmlns=\"http://www.w3.org/2000/svg\" xmlns:xlink=\"http://www.w3.org/1999/xlink\">\n<g id=\"graph0\" class=\"graph\" transform=\"scale(1 1) rotate(0) translate(4 301)\">\n<title>G</title>\n<polygon fill=\"white\" stroke=\"transparent\" points=\"-4,4 -4,-301 340,-301 340,4 -4,4\"/>\n<!-- 0 -->\n<g id=\"node1\" class=\"node\">\n<title>0</title>\n<text text-anchor=\"middle\" x=\"175\" y=\"-275.3\" font-family=\"Times,serif\" font-size=\"14.00\">0 (None)</text>\n</g>\n<!-- 2 -->\n<g id=\"node2\" class=\"node\">\n<title>2</title>\n<text text-anchor=\"middle\" x=\"175\" y=\"-188.3\" font-family=\"Times,serif\" font-size=\"14.00\">2 (count)</text>\n</g>\n<!-- 0&#45;&gt;2 -->\n<g id=\"edge1\" class=\"edge\">\n<title>0&#45;&gt;2</title>\n<path fill=\"none\" stroke=\"black\" d=\"M175,-260.8C175,-249.16 175,-233.55 175,-220.24\"/>\n<polygon fill=\"black\" stroke=\"black\" points=\"178.5,-220.18 175,-210.18 171.5,-220.18 178.5,-220.18\"/>\n<text text-anchor=\"middle\" x=\"193.5\" y=\"-231.8\" font-family=\"Times,serif\" font-size=\"14.00\">ROOT</text>\n</g>\n<!-- 1 -->\n<g id=\"node3\" class=\"node\">\n<title>1</title>\n<text text-anchor=\"middle\" x=\"44\" y=\"-101.3\" font-family=\"Times,serif\" font-size=\"14.00\">1 (Scientists)</text>\n</g>\n<!-- 2&#45;&gt;1 -->\n<g id=\"edge2\" class=\"edge\">\n<title>2&#45;&gt;1</title>\n<path fill=\"none\" stroke=\"black\" d=\"M148.49,-173.8C128.51,-160.84 100.93,-142.94 79.12,-128.79\"/>\n<polygon fill=\"black\" stroke=\"black\" points=\"80.76,-125.68 70.47,-123.18 76.95,-131.55 80.76,-125.68\"/>\n<text text-anchor=\"middle\" x=\"133\" y=\"-144.8\" font-family=\"Times,serif\" font-size=\"14.00\">nsubj</text>\n</g>\n<!-- 3 -->\n<g id=\"node4\" class=\"node\">\n<title>3</title>\n<text text-anchor=\"middle\" x=\"143\" y=\"-101.3\" font-family=\"Times,serif\" font-size=\"14.00\">3 (whales)</text>\n</g>\n<!-- 2&#45;&gt;3 -->\n<g id=\"edge3\" class=\"edge\">\n<title>2&#45;&gt;3</title>\n<path fill=\"none\" stroke=\"black\" d=\"M168.52,-173.8C164.1,-162.05 158.15,-146.24 153.11,-132.84\"/>\n<polygon fill=\"black\" stroke=\"black\" points=\"156.26,-131.3 149.47,-123.18 149.71,-133.77 156.26,-131.3\"/>\n<text text-anchor=\"middle\" x=\"170\" y=\"-144.8\" font-family=\"Times,serif\" font-size=\"14.00\">obj</text>\n</g>\n<!-- 5 -->\n<g id=\"node5\" class=\"node\">\n<title>5</title>\n<text text-anchor=\"middle\" x=\"231\" y=\"-101.3\" font-family=\"Times,serif\" font-size=\"14.00\">5 (space)</text>\n</g>\n<!-- 2&#45;&gt;5 -->\n<g id=\"edge4\" class=\"edge\">\n<title>2&#45;&gt;5</title>\n<path fill=\"none\" stroke=\"black\" d=\"M186.33,-173.8C194.3,-161.7 205.11,-145.3 214.09,-131.67\"/>\n<polygon fill=\"black\" stroke=\"black\" points=\"217.11,-133.45 219.68,-123.18 211.26,-129.6 217.11,-133.45\"/>\n<text text-anchor=\"middle\" x=\"216\" y=\"-144.8\" font-family=\"Times,serif\" font-size=\"14.00\">obl</text>\n</g>\n<!-- 6 -->\n<g id=\"node6\" class=\"node\">\n<title>6</title>\n<text text-anchor=\"middle\" x=\"309\" y=\"-101.3\" font-family=\"Times,serif\" font-size=\"14.00\">6 (.)</text>\n</g>\n<!-- 2&#45;&gt;6 -->\n<g id=\"edge5\" class=\"edge\">\n<title>2&#45;&gt;6</title>\n<path fill=\"none\" stroke=\"black\" d=\"M202.12,-173.8C222.64,-160.78 251.02,-142.78 273.37,-128.6\"/>\n<polygon fill=\"black\" stroke=\"black\" points=\"275.35,-131.49 281.92,-123.18 271.6,-125.58 275.35,-131.49\"/>\n<text text-anchor=\"middle\" x=\"266.5\" y=\"-144.8\" font-family=\"Times,serif\" font-size=\"14.00\">punct</text>\n</g>\n<!-- 4 -->\n<g id=\"node7\" class=\"node\">\n<title>4</title>\n<text text-anchor=\"middle\" x=\"231\" y=\"-14.3\" font-family=\"Times,serif\" font-size=\"14.00\">4 (from)</text>\n</g>\n<!-- 5&#45;&gt;4 -->\n<g id=\"edge6\" class=\"edge\">\n<title>5&#45;&gt;4</title>\n<path fill=\"none\" stroke=\"black\" d=\"M231,-86.8C231,-75.16 231,-59.55 231,-46.24\"/>\n<polygon fill=\"black\" stroke=\"black\" points=\"234.5,-46.18 231,-36.18 227.5,-46.18 234.5,-46.18\"/>\n<text text-anchor=\"middle\" x=\"243\" y=\"-57.8\" font-family=\"Times,serif\" font-size=\"14.00\">case</text>\n</g>\n</g>\n</svg>\n"
          },
          "metadata": {},
          "execution_count": 13
        }
      ],
      "source": [
        "sentence='Scientists count whales from space.'\n",
        "\n",
        "parse = next(parser.raw_parse(sentence))\n",
        "parse"
      ]
    },
    {
      "cell_type": "code",
      "source": [
        "sentence='The quick brown fox jumps over the lazy dog.'\n",
        "\n",
        "parse = next(parser.raw_parse(sentence))\n",
        "parse"
      ],
      "metadata": {
        "colab": {
          "base_uri": "https://localhost:8080/",
          "height": 428
        },
        "id": "a4H2Mwq9HjbQ",
        "outputId": "fa586f05-bfe2-47b1-fe95-e18a220d1831"
      },
      "execution_count": 14,
      "outputs": [
        {
          "output_type": "execute_result",
          "data": {
            "text/plain": [
              "<DependencyGraph with 11 nodes>"
            ],
            "image/svg+xml": "<?xml version=\"1.0\" encoding=\"UTF-8\" standalone=\"no\"?>\n<!DOCTYPE svg PUBLIC \"-//W3C//DTD SVG 1.1//EN\"\n \"http://www.w3.org/Graphics/SVG/1.1/DTD/svg11.dtd\">\n<!-- Generated by graphviz version 2.43.0 (0)\n -->\n<!-- Title: G Pages: 1 -->\n<svg width=\"467pt\" height=\"305pt\"\n viewBox=\"0.00 0.00 467.00 305.00\" xmlns=\"http://www.w3.org/2000/svg\" xmlns:xlink=\"http://www.w3.org/1999/xlink\">\n<g id=\"graph0\" class=\"graph\" transform=\"scale(1 1) rotate(0) translate(4 301)\">\n<title>G</title>\n<polygon fill=\"white\" stroke=\"transparent\" points=\"-4,4 -4,-301 463,-301 463,4 -4,4\"/>\n<!-- 0 -->\n<g id=\"node1\" class=\"node\">\n<title>0</title>\n<text text-anchor=\"middle\" x=\"316.5\" y=\"-275.3\" font-family=\"Times,serif\" font-size=\"14.00\">0 (None)</text>\n</g>\n<!-- 5 -->\n<g id=\"node2\" class=\"node\">\n<title>5</title>\n<text text-anchor=\"middle\" x=\"316.5\" y=\"-188.3\" font-family=\"Times,serif\" font-size=\"14.00\">5 (jumps)</text>\n</g>\n<!-- 0&#45;&gt;5 -->\n<g id=\"edge1\" class=\"edge\">\n<title>0&#45;&gt;5</title>\n<path fill=\"none\" stroke=\"black\" d=\"M316.5,-260.8C316.5,-249.16 316.5,-233.55 316.5,-220.24\"/>\n<polygon fill=\"black\" stroke=\"black\" points=\"320,-220.18 316.5,-210.18 313,-220.18 320,-220.18\"/>\n<text text-anchor=\"middle\" x=\"335\" y=\"-231.8\" font-family=\"Times,serif\" font-size=\"14.00\">ROOT</text>\n</g>\n<!-- 4 -->\n<g id=\"node6\" class=\"node\">\n<title>4</title>\n<text text-anchor=\"middle\" x=\"152.5\" y=\"-101.3\" font-family=\"Times,serif\" font-size=\"14.00\">4 (fox)</text>\n</g>\n<!-- 5&#45;&gt;4 -->\n<g id=\"edge5\" class=\"edge\">\n<title>5&#45;&gt;4</title>\n<path fill=\"none\" stroke=\"black\" d=\"M283.31,-173.8C255.9,-159.59 217.04,-139.45 188.8,-124.82\"/>\n<polygon fill=\"black\" stroke=\"black\" points=\"190.16,-121.57 179.67,-120.08 186.94,-127.79 190.16,-121.57\"/>\n<text text-anchor=\"middle\" x=\"259.5\" y=\"-144.8\" font-family=\"Times,serif\" font-size=\"14.00\">nsubj</text>\n</g>\n<!-- 9 -->\n<g id=\"node7\" class=\"node\">\n<title>9</title>\n<text text-anchor=\"middle\" x=\"316.5\" y=\"-101.3\" font-family=\"Times,serif\" font-size=\"14.00\">9 (dog)</text>\n</g>\n<!-- 5&#45;&gt;9 -->\n<g id=\"edge6\" class=\"edge\">\n<title>5&#45;&gt;9</title>\n<path fill=\"none\" stroke=\"black\" d=\"M316.5,-173.8C316.5,-162.16 316.5,-146.55 316.5,-133.24\"/>\n<polygon fill=\"black\" stroke=\"black\" points=\"320,-133.18 316.5,-123.18 313,-133.18 320,-133.18\"/>\n<text text-anchor=\"middle\" x=\"325.5\" y=\"-144.8\" font-family=\"Times,serif\" font-size=\"14.00\">obl</text>\n</g>\n<!-- 10 -->\n<g id=\"node8\" class=\"node\">\n<title>10</title>\n<text text-anchor=\"middle\" x=\"389.5\" y=\"-101.3\" font-family=\"Times,serif\" font-size=\"14.00\">10 (.)</text>\n</g>\n<!-- 5&#45;&gt;10 -->\n<g id=\"edge7\" class=\"edge\">\n<title>5&#45;&gt;10</title>\n<path fill=\"none\" stroke=\"black\" d=\"M331.27,-173.8C341.86,-161.47 356.28,-144.68 368.12,-130.89\"/>\n<polygon fill=\"black\" stroke=\"black\" points=\"370.89,-133.04 374.75,-123.18 365.58,-128.48 370.89,-133.04\"/>\n<text text-anchor=\"middle\" x=\"373\" y=\"-144.8\" font-family=\"Times,serif\" font-size=\"14.00\">punct</text>\n</g>\n<!-- 1 -->\n<g id=\"node3\" class=\"node\">\n<title>1</title>\n<text text-anchor=\"middle\" x=\"28.5\" y=\"-14.3\" font-family=\"Times,serif\" font-size=\"14.00\">1 (The)</text>\n</g>\n<!-- 2 -->\n<g id=\"node4\" class=\"node\">\n<title>2</title>\n<text text-anchor=\"middle\" x=\"108.5\" y=\"-14.3\" font-family=\"Times,serif\" font-size=\"14.00\">2 (quick)</text>\n</g>\n<!-- 3 -->\n<g id=\"node5\" class=\"node\">\n<title>3</title>\n<text text-anchor=\"middle\" x=\"195.5\" y=\"-14.3\" font-family=\"Times,serif\" font-size=\"14.00\">3 (brown)</text>\n</g>\n<!-- 4&#45;&gt;1 -->\n<g id=\"edge2\" class=\"edge\">\n<title>4&#45;&gt;1</title>\n<path fill=\"none\" stroke=\"black\" d=\"M127.41,-86.8C108.58,-73.9 82.62,-56.1 62.02,-41.98\"/>\n<polygon fill=\"black\" stroke=\"black\" points=\"63.78,-38.94 53.56,-36.18 59.83,-44.72 63.78,-38.94\"/>\n<text text-anchor=\"middle\" x=\"107\" y=\"-57.8\" font-family=\"Times,serif\" font-size=\"14.00\">det</text>\n</g>\n<!-- 4&#45;&gt;2 -->\n<g id=\"edge3\" class=\"edge\">\n<title>4&#45;&gt;2</title>\n<path fill=\"none\" stroke=\"black\" d=\"M143.6,-86.8C137.39,-74.82 129.01,-58.62 121.99,-45.06\"/>\n<polygon fill=\"black\" stroke=\"black\" points=\"125.1,-43.45 117.39,-36.18 118.88,-46.67 125.1,-43.45\"/>\n<text text-anchor=\"middle\" x=\"149\" y=\"-57.8\" font-family=\"Times,serif\" font-size=\"14.00\">amod</text>\n</g>\n<!-- 4&#45;&gt;3 -->\n<g id=\"edge4\" class=\"edge\">\n<title>4&#45;&gt;3</title>\n<path fill=\"none\" stroke=\"black\" d=\"M161.2,-86.8C167.2,-74.93 175.3,-58.93 182.12,-45.45\"/>\n<polygon fill=\"black\" stroke=\"black\" points=\"185.42,-46.68 186.81,-36.18 179.17,-43.52 185.42,-46.68\"/>\n<text text-anchor=\"middle\" x=\"193\" y=\"-57.8\" font-family=\"Times,serif\" font-size=\"14.00\">amod</text>\n</g>\n<!-- 6 -->\n<g id=\"node9\" class=\"node\">\n<title>6</title>\n<text text-anchor=\"middle\" x=\"279.5\" y=\"-14.3\" font-family=\"Times,serif\" font-size=\"14.00\">6 (over)</text>\n</g>\n<!-- 9&#45;&gt;6 -->\n<g id=\"edge8\" class=\"edge\">\n<title>9&#45;&gt;6</title>\n<path fill=\"none\" stroke=\"black\" d=\"M309.01,-86.8C303.85,-74.93 296.88,-58.93 291.01,-45.45\"/>\n<polygon fill=\"black\" stroke=\"black\" points=\"294.18,-43.95 286.98,-36.18 287.76,-46.74 294.18,-43.95\"/>\n<text text-anchor=\"middle\" x=\"312.5\" y=\"-57.8\" font-family=\"Times,serif\" font-size=\"14.00\">case</text>\n</g>\n<!-- 7 -->\n<g id=\"node10\" class=\"node\">\n<title>7</title>\n<text text-anchor=\"middle\" x=\"354.5\" y=\"-14.3\" font-family=\"Times,serif\" font-size=\"14.00\">7 (the)</text>\n</g>\n<!-- 9&#45;&gt;7 -->\n<g id=\"edge9\" class=\"edge\">\n<title>9&#45;&gt;7</title>\n<path fill=\"none\" stroke=\"black\" d=\"M324.19,-86.8C329.5,-74.93 336.65,-58.93 342.68,-45.45\"/>\n<polygon fill=\"black\" stroke=\"black\" points=\"345.94,-46.73 346.82,-36.18 339.54,-43.88 345.94,-46.73\"/>\n<text text-anchor=\"middle\" x=\"347\" y=\"-57.8\" font-family=\"Times,serif\" font-size=\"14.00\">det</text>\n</g>\n<!-- 8 -->\n<g id=\"node11\" class=\"node\">\n<title>8</title>\n<text text-anchor=\"middle\" x=\"429.5\" y=\"-14.3\" font-family=\"Times,serif\" font-size=\"14.00\">8 (lazy)</text>\n</g>\n<!-- 9&#45;&gt;8 -->\n<g id=\"edge10\" class=\"edge\">\n<title>9&#45;&gt;8</title>\n<path fill=\"none\" stroke=\"black\" d=\"M339.37,-86.8C356.37,-74.01 379.76,-56.42 398.45,-42.36\"/>\n<polygon fill=\"black\" stroke=\"black\" points=\"400.78,-44.98 406.67,-36.18 396.57,-39.39 400.78,-44.98\"/>\n<text text-anchor=\"middle\" x=\"396\" y=\"-57.8\" font-family=\"Times,serif\" font-size=\"14.00\">amod</text>\n</g>\n</g>\n</svg>\n"
          },
          "metadata": {},
          "execution_count": 14
        }
      ]
    },
    {
      "cell_type": "code",
      "source": [
        "import spacy\n",
        "import pandas as pd\n",
        "\n",
        "nlp = spacy.load(\"en_core_web_sm\")\n",
        "\n",
        "def dependency_parsing_to_dataframe(sentence):\n",
        "    doc = nlp(sentence)\n",
        "    data = []\n",
        "\n",
        "    for token in doc:\n",
        "        data.append({\n",
        "            'token': token.text,\n",
        "            'lemma': token.lemma_,\n",
        "            'pos': token.pos_,\n",
        "            'tag': token.tag_,\n",
        "            'dep': token.dep_,\n",
        "            'head': token.head.text\n",
        "        })\n",
        "\n",
        "    df = pd.DataFrame(data)\n",
        "    return df\n",
        "\n",
        "sentence = \"The quick brown fox jumps over the lazy dog.\"\n",
        "df = dependency_parsing_to_dataframe(sentence)\n",
        "print(df)\n"
      ],
      "metadata": {
        "colab": {
          "base_uri": "https://localhost:8080/"
        },
        "id": "L0y--k0FFtaq",
        "outputId": "ae420b5b-60bb-4529-eaa4-c30f41af2978"
      },
      "execution_count": 15,
      "outputs": [
        {
          "output_type": "stream",
          "name": "stdout",
          "text": [
            "   token  lemma    pos  tag    dep   head\n",
            "0    The    the    DET   DT    det    fox\n",
            "1  quick  quick    ADJ   JJ   amod    fox\n",
            "2  brown  brown    ADJ   JJ   amod    fox\n",
            "3    fox    fox   NOUN   NN  nsubj  jumps\n",
            "4  jumps   jump   VERB  VBZ   ROOT  jumps\n",
            "5   over   over    ADP   IN   prep  jumps\n",
            "6    the    the    DET   DT    det    dog\n",
            "7   lazy   lazy    ADJ   JJ   amod    dog\n",
            "8    dog    dog   NOUN   NN   pobj   over\n",
            "9      .      .  PUNCT    .  punct  jumps\n"
          ]
        }
      ]
    },
    {
      "cell_type": "code",
      "source": [
        "import spacy\n",
        "from spacy import displacy\n",
        "\n",
        "nlp = spacy.load(\"en_core_web_sm\")\n",
        "\n",
        "doc = nlp(sentence)\n",
        "\n",
        "displacy.render(doc, style='dep', jupyter=True)"
      ],
      "metadata": {
        "colab": {
          "base_uri": "https://localhost:8080/",
          "height": 440
        },
        "id": "GWPaFLx3HWfZ",
        "outputId": "3410ff3a-11ce-4cd0-dbb5-6428523c7de8"
      },
      "execution_count": 17,
      "outputs": [
        {
          "output_type": "display_data",
          "data": {
            "text/plain": [
              "<IPython.core.display.HTML object>"
            ],
            "text/html": [
              "<span class=\"tex2jax_ignore\"><svg xmlns=\"http://www.w3.org/2000/svg\" xmlns:xlink=\"http://www.w3.org/1999/xlink\" xml:lang=\"en\" id=\"acbd1d5d41b942e28465e30e9e22b09a-0\" class=\"displacy\" width=\"1625\" height=\"399.5\" direction=\"ltr\" style=\"max-width: none; height: 399.5px; color: #000000; background: #ffffff; font-family: Arial; direction: ltr\">\n",
              "<text class=\"displacy-token\" fill=\"currentColor\" text-anchor=\"middle\" y=\"309.5\">\n",
              "    <tspan class=\"displacy-word\" fill=\"currentColor\" x=\"50\">The</tspan>\n",
              "    <tspan class=\"displacy-tag\" dy=\"2em\" fill=\"currentColor\" x=\"50\">DET</tspan>\n",
              "</text>\n",
              "\n",
              "<text class=\"displacy-token\" fill=\"currentColor\" text-anchor=\"middle\" y=\"309.5\">\n",
              "    <tspan class=\"displacy-word\" fill=\"currentColor\" x=\"225\">quick</tspan>\n",
              "    <tspan class=\"displacy-tag\" dy=\"2em\" fill=\"currentColor\" x=\"225\">ADJ</tspan>\n",
              "</text>\n",
              "\n",
              "<text class=\"displacy-token\" fill=\"currentColor\" text-anchor=\"middle\" y=\"309.5\">\n",
              "    <tspan class=\"displacy-word\" fill=\"currentColor\" x=\"400\">brown</tspan>\n",
              "    <tspan class=\"displacy-tag\" dy=\"2em\" fill=\"currentColor\" x=\"400\">ADJ</tspan>\n",
              "</text>\n",
              "\n",
              "<text class=\"displacy-token\" fill=\"currentColor\" text-anchor=\"middle\" y=\"309.5\">\n",
              "    <tspan class=\"displacy-word\" fill=\"currentColor\" x=\"575\">fox</tspan>\n",
              "    <tspan class=\"displacy-tag\" dy=\"2em\" fill=\"currentColor\" x=\"575\">NOUN</tspan>\n",
              "</text>\n",
              "\n",
              "<text class=\"displacy-token\" fill=\"currentColor\" text-anchor=\"middle\" y=\"309.5\">\n",
              "    <tspan class=\"displacy-word\" fill=\"currentColor\" x=\"750\">jumps</tspan>\n",
              "    <tspan class=\"displacy-tag\" dy=\"2em\" fill=\"currentColor\" x=\"750\">VERB</tspan>\n",
              "</text>\n",
              "\n",
              "<text class=\"displacy-token\" fill=\"currentColor\" text-anchor=\"middle\" y=\"309.5\">\n",
              "    <tspan class=\"displacy-word\" fill=\"currentColor\" x=\"925\">over</tspan>\n",
              "    <tspan class=\"displacy-tag\" dy=\"2em\" fill=\"currentColor\" x=\"925\">ADP</tspan>\n",
              "</text>\n",
              "\n",
              "<text class=\"displacy-token\" fill=\"currentColor\" text-anchor=\"middle\" y=\"309.5\">\n",
              "    <tspan class=\"displacy-word\" fill=\"currentColor\" x=\"1100\">the</tspan>\n",
              "    <tspan class=\"displacy-tag\" dy=\"2em\" fill=\"currentColor\" x=\"1100\">DET</tspan>\n",
              "</text>\n",
              "\n",
              "<text class=\"displacy-token\" fill=\"currentColor\" text-anchor=\"middle\" y=\"309.5\">\n",
              "    <tspan class=\"displacy-word\" fill=\"currentColor\" x=\"1275\">lazy</tspan>\n",
              "    <tspan class=\"displacy-tag\" dy=\"2em\" fill=\"currentColor\" x=\"1275\">ADJ</tspan>\n",
              "</text>\n",
              "\n",
              "<text class=\"displacy-token\" fill=\"currentColor\" text-anchor=\"middle\" y=\"309.5\">\n",
              "    <tspan class=\"displacy-word\" fill=\"currentColor\" x=\"1450\">dog.</tspan>\n",
              "    <tspan class=\"displacy-tag\" dy=\"2em\" fill=\"currentColor\" x=\"1450\">NOUN</tspan>\n",
              "</text>\n",
              "\n",
              "<g class=\"displacy-arrow\">\n",
              "    <path class=\"displacy-arc\" id=\"arrow-acbd1d5d41b942e28465e30e9e22b09a-0-0\" stroke-width=\"2px\" d=\"M70,264.5 C70,2.0 575.0,2.0 575.0,264.5\" fill=\"none\" stroke=\"currentColor\"/>\n",
              "    <text dy=\"1.25em\" style=\"font-size: 0.8em; letter-spacing: 1px\">\n",
              "        <textPath xlink:href=\"#arrow-acbd1d5d41b942e28465e30e9e22b09a-0-0\" class=\"displacy-label\" startOffset=\"50%\" side=\"left\" fill=\"currentColor\" text-anchor=\"middle\">det</textPath>\n",
              "    </text>\n",
              "    <path class=\"displacy-arrowhead\" d=\"M70,266.5 L62,254.5 78,254.5\" fill=\"currentColor\"/>\n",
              "</g>\n",
              "\n",
              "<g class=\"displacy-arrow\">\n",
              "    <path class=\"displacy-arc\" id=\"arrow-acbd1d5d41b942e28465e30e9e22b09a-0-1\" stroke-width=\"2px\" d=\"M245,264.5 C245,89.5 570.0,89.5 570.0,264.5\" fill=\"none\" stroke=\"currentColor\"/>\n",
              "    <text dy=\"1.25em\" style=\"font-size: 0.8em; letter-spacing: 1px\">\n",
              "        <textPath xlink:href=\"#arrow-acbd1d5d41b942e28465e30e9e22b09a-0-1\" class=\"displacy-label\" startOffset=\"50%\" side=\"left\" fill=\"currentColor\" text-anchor=\"middle\">amod</textPath>\n",
              "    </text>\n",
              "    <path class=\"displacy-arrowhead\" d=\"M245,266.5 L237,254.5 253,254.5\" fill=\"currentColor\"/>\n",
              "</g>\n",
              "\n",
              "<g class=\"displacy-arrow\">\n",
              "    <path class=\"displacy-arc\" id=\"arrow-acbd1d5d41b942e28465e30e9e22b09a-0-2\" stroke-width=\"2px\" d=\"M420,264.5 C420,177.0 565.0,177.0 565.0,264.5\" fill=\"none\" stroke=\"currentColor\"/>\n",
              "    <text dy=\"1.25em\" style=\"font-size: 0.8em; letter-spacing: 1px\">\n",
              "        <textPath xlink:href=\"#arrow-acbd1d5d41b942e28465e30e9e22b09a-0-2\" class=\"displacy-label\" startOffset=\"50%\" side=\"left\" fill=\"currentColor\" text-anchor=\"middle\">amod</textPath>\n",
              "    </text>\n",
              "    <path class=\"displacy-arrowhead\" d=\"M420,266.5 L412,254.5 428,254.5\" fill=\"currentColor\"/>\n",
              "</g>\n",
              "\n",
              "<g class=\"displacy-arrow\">\n",
              "    <path class=\"displacy-arc\" id=\"arrow-acbd1d5d41b942e28465e30e9e22b09a-0-3\" stroke-width=\"2px\" d=\"M595,264.5 C595,177.0 740.0,177.0 740.0,264.5\" fill=\"none\" stroke=\"currentColor\"/>\n",
              "    <text dy=\"1.25em\" style=\"font-size: 0.8em; letter-spacing: 1px\">\n",
              "        <textPath xlink:href=\"#arrow-acbd1d5d41b942e28465e30e9e22b09a-0-3\" class=\"displacy-label\" startOffset=\"50%\" side=\"left\" fill=\"currentColor\" text-anchor=\"middle\">nsubj</textPath>\n",
              "    </text>\n",
              "    <path class=\"displacy-arrowhead\" d=\"M595,266.5 L587,254.5 603,254.5\" fill=\"currentColor\"/>\n",
              "</g>\n",
              "\n",
              "<g class=\"displacy-arrow\">\n",
              "    <path class=\"displacy-arc\" id=\"arrow-acbd1d5d41b942e28465e30e9e22b09a-0-4\" stroke-width=\"2px\" d=\"M770,264.5 C770,177.0 915.0,177.0 915.0,264.5\" fill=\"none\" stroke=\"currentColor\"/>\n",
              "    <text dy=\"1.25em\" style=\"font-size: 0.8em; letter-spacing: 1px\">\n",
              "        <textPath xlink:href=\"#arrow-acbd1d5d41b942e28465e30e9e22b09a-0-4\" class=\"displacy-label\" startOffset=\"50%\" side=\"left\" fill=\"currentColor\" text-anchor=\"middle\">prep</textPath>\n",
              "    </text>\n",
              "    <path class=\"displacy-arrowhead\" d=\"M915.0,266.5 L923.0,254.5 907.0,254.5\" fill=\"currentColor\"/>\n",
              "</g>\n",
              "\n",
              "<g class=\"displacy-arrow\">\n",
              "    <path class=\"displacy-arc\" id=\"arrow-acbd1d5d41b942e28465e30e9e22b09a-0-5\" stroke-width=\"2px\" d=\"M1120,264.5 C1120,89.5 1445.0,89.5 1445.0,264.5\" fill=\"none\" stroke=\"currentColor\"/>\n",
              "    <text dy=\"1.25em\" style=\"font-size: 0.8em; letter-spacing: 1px\">\n",
              "        <textPath xlink:href=\"#arrow-acbd1d5d41b942e28465e30e9e22b09a-0-5\" class=\"displacy-label\" startOffset=\"50%\" side=\"left\" fill=\"currentColor\" text-anchor=\"middle\">det</textPath>\n",
              "    </text>\n",
              "    <path class=\"displacy-arrowhead\" d=\"M1120,266.5 L1112,254.5 1128,254.5\" fill=\"currentColor\"/>\n",
              "</g>\n",
              "\n",
              "<g class=\"displacy-arrow\">\n",
              "    <path class=\"displacy-arc\" id=\"arrow-acbd1d5d41b942e28465e30e9e22b09a-0-6\" stroke-width=\"2px\" d=\"M1295,264.5 C1295,177.0 1440.0,177.0 1440.0,264.5\" fill=\"none\" stroke=\"currentColor\"/>\n",
              "    <text dy=\"1.25em\" style=\"font-size: 0.8em; letter-spacing: 1px\">\n",
              "        <textPath xlink:href=\"#arrow-acbd1d5d41b942e28465e30e9e22b09a-0-6\" class=\"displacy-label\" startOffset=\"50%\" side=\"left\" fill=\"currentColor\" text-anchor=\"middle\">amod</textPath>\n",
              "    </text>\n",
              "    <path class=\"displacy-arrowhead\" d=\"M1295,266.5 L1287,254.5 1303,254.5\" fill=\"currentColor\"/>\n",
              "</g>\n",
              "\n",
              "<g class=\"displacy-arrow\">\n",
              "    <path class=\"displacy-arc\" id=\"arrow-acbd1d5d41b942e28465e30e9e22b09a-0-7\" stroke-width=\"2px\" d=\"M945,264.5 C945,2.0 1450.0,2.0 1450.0,264.5\" fill=\"none\" stroke=\"currentColor\"/>\n",
              "    <text dy=\"1.25em\" style=\"font-size: 0.8em; letter-spacing: 1px\">\n",
              "        <textPath xlink:href=\"#arrow-acbd1d5d41b942e28465e30e9e22b09a-0-7\" class=\"displacy-label\" startOffset=\"50%\" side=\"left\" fill=\"currentColor\" text-anchor=\"middle\">pobj</textPath>\n",
              "    </text>\n",
              "    <path class=\"displacy-arrowhead\" d=\"M1450.0,266.5 L1458.0,254.5 1442.0,254.5\" fill=\"currentColor\"/>\n",
              "</g>\n",
              "</svg></span>"
            ]
          },
          "metadata": {}
        }
      ]
    }
  ],
  "metadata": {
    "colab": {
      "provenance": []
    },
    "kernelspec": {
      "display_name": "Python 3",
      "name": "python3"
    },
    "language_info": {
      "name": "python"
    },
    "gpuClass": "standard"
  },
  "nbformat": 4,
  "nbformat_minor": 0
}