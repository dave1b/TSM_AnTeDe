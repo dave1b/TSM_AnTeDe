{
 "cells": [
  {
   "cell_type": "markdown",
   "metadata": {
    "id": "LtHKnM1bxo_b"
   },
   "source": [
    "# AnTeDe Lab A: Understanding PoS tags \n",
    "\n",
    "## Session goal\n",
    "The goal of this session is to help you familiarize with PoS tags. We begin by importing the NLTK fragments of the Brown corpus and the Wall Street Journal."
   ]
  },
  {
   "cell_type": "code",
   "execution_count": 1,
   "metadata": {
    "scrolled": true,
    "colab": {
     "base_uri": "https://localhost:8080/"
    },
    "id": "lr1HyeHXxo_d",
    "outputId": "81f0e776-2914-40de-9f7e-3b4643944bd6",
    "ExecuteTime": {
     "end_time": "2024-04-08T17:32:54.559741Z",
     "start_time": "2024-04-08T17:32:53.833012Z"
    }
   },
   "outputs": [
    {
     "name": "stderr",
     "output_type": "stream",
     "text": [
      "[nltk_data] Downloading package brown to\n",
      "[nltk_data]     /Users/davebrunner/nltk_data...\n",
      "[nltk_data]   Package brown is already up-to-date!\n",
      "[nltk_data] Downloading package treebank to\n",
      "[nltk_data]     /Users/davebrunner/nltk_data...\n",
      "[nltk_data]   Package treebank is already up-to-date!\n",
      "[nltk_data] Downloading package universal_tagset to\n",
      "[nltk_data]     /Users/davebrunner/nltk_data...\n",
      "[nltk_data]   Package universal_tagset is already up-to-date!\n"
     ]
    }
   ],
   "source": [
    "import nltk\n",
    "nltk.download('brown')\n",
    "nltk.download('treebank')\n",
    "nltk.download('universal_tagset')\n",
    "from nltk.corpus import brown \n",
    "from nltk.corpus import treebank "
   ]
  },
  {
   "cell_type": "markdown",
   "metadata": {
    "id": "tX2UyPVQxo_e"
   },
   "source": [
    "Complete the inner loop of the following function as directed by the comments."
   ]
  },
  {
   "cell_type": "code",
   "execution_count": 2,
   "metadata": {
    "id": "9IaUsGpIxo_f",
    "ExecuteTime": {
     "end_time": "2024-04-08T17:32:54.562762Z",
     "start_time": "2024-04-08T17:32:54.560554Z"
    }
   },
   "outputs": [],
   "source": [
    "def get_ground_truth_distribution(token, corpus, universal_tagset=False):\n",
    "    \n",
    "    if universal_tagset:\n",
    "        corpus_tagset='universal'\n",
    "    else:\n",
    "        corpus_tagset=''\n",
    "        \n",
    "    sentences = corpus.tagged_sents(tagset=corpus_tagset)\n",
    "    untagged_sentences = corpus.sents()\n",
    "    \n",
    "    # this is going to be a dict where each key is a tag\n",
    "    tag_freq={}\n",
    "    \n",
    "    # sent is an untagged sentence\n",
    "    # sentences[i] is the corresponding tagged sentence\n",
    "    \n",
    "    for i, sent in enumerate(untagged_sentences):\n",
    "            # if the token we're looking for is in sent\n",
    "            if token in sent:\n",
    "                # for each (token, tag) tuple in the tagged sentence\n",
    "                for pair in sentences[i]:\n",
    "                    \n",
    "                    # pair[0] contains the current token\n",
    "                    # pair[1] contains the corresponding tag\n",
    "                    \n",
    "                    # increase tag_freq[pair[1]] by one unit\n",
    "                    # careful because tag_freq may not yet have a \n",
    "                    # key corresponding to pair[1]!\n",
    "                    \n",
    "                    if pair[0] == token:\n",
    "                        try:\n",
    "                            tag_freq[pair[1]]+=1\n",
    "                        except:\n",
    "                            tag_freq[pair[1]]=1\n",
    "    return tag_freq                        \n",
    "              "
   ]
  },
  {
   "cell_type": "markdown",
   "metadata": {
    "id": "bxEAjGisxo_g"
   },
   "source": [
    "In the following cells, we get the PoS tag distribution of *that* in the Penn treebank and the Brown corpus using the universal and the Penn tagset (for Penn) and the Brown tagset (for Brown)."
   ]
  },
  {
   "cell_type": "code",
   "execution_count": 3,
   "metadata": {
    "colab": {
     "base_uri": "https://localhost:8080/"
    },
    "id": "ey6HcAfNxo_g",
    "outputId": "a5c23f10-79a2-4d9c-a455-13da5b121ba0",
    "ExecuteTime": {
     "end_time": "2024-04-08T17:32:55.074922Z",
     "start_time": "2024-04-08T17:32:54.563171Z"
    }
   },
   "outputs": [
    {
     "data": {
      "text/plain": "{'RB': 2, 'JJ': 1}"
     },
     "execution_count": 3,
     "metadata": {},
     "output_type": "execute_result"
    }
   ],
   "source": [
    "get_ground_truth_distribution(token='fast', corpus=treebank)"
   ]
  },
  {
   "cell_type": "code",
   "outputs": [
    {
     "data": {
      "text/plain": "{'NN': 2, 'VB': 1, 'RB': 15, 'RP': 6, 'JJ': 1}"
     },
     "execution_count": 4,
     "metadata": {},
     "output_type": "execute_result"
    }
   ],
   "source": [
    "get_ground_truth_distribution(token='back', corpus=treebank)"
   ],
   "metadata": {
    "collapsed": false,
    "ExecuteTime": {
     "end_time": "2024-04-08T17:32:55.622298Z",
     "start_time": "2024-04-08T17:32:55.075450Z"
    }
   },
   "execution_count": 4
  },
  {
   "cell_type": "markdown",
   "metadata": {
    "id": "XU-231Sixo_g"
   },
   "source": [
    "The following function gives you examples for a specific combination of token and tag. "
   ]
  },
  {
   "cell_type": "code",
   "execution_count": 5,
   "metadata": {
    "id": "Ec7uQPzSxo_h",
    "ExecuteTime": {
     "end_time": "2024-04-08T17:32:55.626015Z",
     "start_time": "2024-04-08T17:32:55.623519Z"
    }
   },
   "outputs": [],
   "source": [
    "def get_ground_truth_examples(token, corpus, tag, num=0, universal_tagset=False):\n",
    "    \n",
    "    if universal_tagset:\n",
    "        corpus_tagset='universal'\n",
    "    else:\n",
    "        corpus_tagset=''\n",
    "    \n",
    "    sentences =corpus.tagged_sents(tagset=corpus_tagset)\n",
    "    untagged_sentences = corpus.sents()\n",
    "    tag_freq={}\n",
    "    count=0\n",
    "    visualize=False\n",
    "    \n",
    "    \n",
    "    for i, sent in enumerate(untagged_sentences):\n",
    "\n",
    "        if num>0:\n",
    "          if count==num:\n",
    "            break\n",
    "        \n",
    "        if token in sent:\n",
    "            text=\"\"\n",
    "            for pair in sentences[i]:\n",
    "                if 'NONE' not in pair[1]:\n",
    "                    text = text+\" \"+pair[0]\n",
    "                if (pair[0]==token) and (pair[1]==tag):\n",
    "                    visualize=True    \n",
    "            if visualize:\n",
    "                count=count+1\n",
    "                print (str(count)+' '+text)\n",
    "                print (str(sentences[i]))\n",
    "                visualize=False\n",
    "                          "
   ]
  },
  {
   "cell_type": "code",
   "execution_count": 6,
   "metadata": {
    "colab": {
     "base_uri": "https://localhost:8080/"
    },
    "id": "TimoL_xXxo_i",
    "outputId": "d70504d9-e90d-4be9-a585-ccefbcb39964",
    "ExecuteTime": {
     "end_time": "2024-04-08T17:32:56.127075Z",
     "start_time": "2024-04-08T17:32:55.626629Z"
    }
   },
   "outputs": [
    {
     "name": "stdout",
     "output_type": "stream",
     "text": [
      "1  The New York Stock Exchange 's attempt to introduce a new portfolio basket is evidence of investors ' desires to make fast and easy transactions of large numbers of shares .\n",
      "[('The', 'DT'), ('New', 'NNP'), ('York', 'NNP'), ('Stock', 'NNP'), ('Exchange', 'NNP'), (\"'s\", 'POS'), ('attempt', 'NN'), ('*', '-NONE-'), ('to', 'TO'), ('introduce', 'VB'), ('a', 'DT'), ('new', 'JJ'), ('portfolio', 'NN'), ('basket', 'NN'), ('is', 'VBZ'), ('evidence', 'NN'), ('of', 'IN'), ('investors', 'NNS'), (\"'\", 'POS'), ('desires', 'NNS'), ('*', '-NONE-'), ('to', 'TO'), ('make', 'VB'), ('fast', 'JJ'), ('and', 'CC'), ('easy', 'JJ'), ('transactions', 'NNS'), ('of', 'IN'), ('large', 'JJ'), ('numbers', 'NNS'), ('of', 'IN'), ('shares', 'NNS'), ('.', '.')]\n"
     ]
    }
   ],
   "source": [
    "get_ground_truth_examples(token='fast', corpus=treebank, tag='JJ')"
   ]
  },
  {
   "cell_type": "code",
   "execution_count": 7,
   "metadata": {
    "colab": {
     "base_uri": "https://localhost:8080/"
    },
    "id": "IjudQm10xo_j",
    "outputId": "b47f7b0d-f03f-47ba-bdab-e37723ed243d",
    "ExecuteTime": {
     "end_time": "2024-04-08T17:32:56.677326Z",
     "start_time": "2024-04-08T17:32:56.127707Z"
    }
   },
   "outputs": [
    {
     "data": {
      "text/plain": "{'WDT': 214, 'IN': 513, 'DT': 77, 'RB': 3}"
     },
     "execution_count": 7,
     "metadata": {},
     "output_type": "execute_result"
    }
   ],
   "source": [
    "get_ground_truth_distribution(token='that', corpus=treebank)"
   ]
  },
  {
   "cell_type": "code",
   "source": [
    "get_ground_truth_distribution(token='Exchange', corpus=treebank)"
   ],
   "metadata": {
    "colab": {
     "base_uri": "https://localhost:8080/"
    },
    "id": "L9gbdOiTyIzj",
    "outputId": "56000e63-1554-40d2-bf42-848c4d0e78fb",
    "ExecuteTime": {
     "end_time": "2024-04-08T17:32:57.226154Z",
     "start_time": "2024-04-08T17:32:56.677829Z"
    }
   },
   "execution_count": 8,
   "outputs": [
    {
     "data": {
      "text/plain": "{'NNP': 50}"
     },
     "execution_count": 8,
     "metadata": {},
     "output_type": "execute_result"
    }
   ]
  },
  {
   "cell_type": "code",
   "source": [
    "get_ground_truth_distribution(token='investor', corpus=treebank)"
   ],
   "metadata": {
    "colab": {
     "base_uri": "https://localhost:8080/"
    },
    "id": "meGaS4FKyLoU",
    "outputId": "8a43773b-052a-4800-b3f5-342dd09ca50e",
    "ExecuteTime": {
     "end_time": "2024-04-08T17:32:57.772120Z",
     "start_time": "2024-04-08T17:32:57.226744Z"
    }
   },
   "execution_count": 9,
   "outputs": [
    {
     "data": {
      "text/plain": "{'NN': 39}"
     },
     "execution_count": 9,
     "metadata": {},
     "output_type": "execute_result"
    }
   ]
  },
  {
   "cell_type": "code",
   "source": [
    "get_ground_truth_examples(token='that', corpus=treebank, tag='IN', num=5)"
   ],
   "metadata": {
    "colab": {
     "base_uri": "https://localhost:8080/"
    },
    "id": "Va9LQmKByRLL",
    "outputId": "b20b480e-3ee5-47e1-c05e-2354d4fb148f",
    "ExecuteTime": {
     "end_time": "2024-04-08T17:32:57.782496Z",
     "start_time": "2024-04-08T17:32:57.772628Z"
    }
   },
   "execution_count": 10,
   "outputs": [
    {
     "name": "stdout",
     "output_type": "stream",
     "text": [
      "1  The finding probably will support those who argue that the U.S. should regulate the class of asbestos including crocidolite more stringently than the common kind of asbestos , chrysotile , found in most schools and other buildings , Dr. Talcott said .\n",
      "[('The', 'DT'), ('finding', 'NN'), ('probably', 'RB'), ('will', 'MD'), ('support', 'VB'), ('those', 'DT'), ('who', 'WP'), ('*T*-6', '-NONE-'), ('argue', 'VBP'), ('that', 'IN'), ('the', 'DT'), ('U.S.', 'NNP'), ('should', 'MD'), ('regulate', 'VB'), ('the', 'DT'), ('class', 'NN'), ('of', 'IN'), ('asbestos', 'NN'), ('including', 'VBG'), ('crocidolite', 'NN'), ('more', 'RBR'), ('stringently', 'RB'), ('than', 'IN'), ('the', 'DT'), ('common', 'JJ'), ('kind', 'NN'), ('of', 'IN'), ('asbestos', 'NN'), (',', ','), ('chrysotile', 'NN'), (',', ','), ('found', 'VBN'), ('*', '-NONE-'), ('in', 'IN'), ('most', 'JJS'), ('schools', 'NNS'), ('and', 'CC'), ('other', 'JJ'), ('buildings', 'NNS'), (',', ','), ('Dr.', 'NNP'), ('Talcott', 'NNP'), ('said', 'VBD'), ('0', '-NONE-'), ('*T*-1', '-NONE-'), ('.', '.')]\n",
      "2  `` There 's no question that some of those workers and managers contracted asbestos-related diseases , '' said Darrell Phillips , vice president of human resources for Hollingsworth & Vose .\n",
      "[('``', '``'), ('There', 'EX'), (\"'s\", 'VBZ'), ('no', 'DT'), ('question', 'NN'), ('that', 'IN'), ('some', 'DT'), ('of', 'IN'), ('those', 'DT'), ('workers', 'NNS'), ('and', 'CC'), ('managers', 'NNS'), ('contracted', 'VBD'), ('asbestos-related', 'JJ'), ('diseases', 'NNS'), (',', ','), (\"''\", \"''\"), ('said', 'VBD'), ('*T*-1', '-NONE-'), ('Darrell', 'NNP'), ('Phillips', 'NNP'), (',', ','), ('vice', 'NN'), ('president', 'NN'), ('of', 'IN'), ('human', 'JJ'), ('resources', 'NNS'), ('for', 'IN'), ('Hollingsworth', 'NNP'), ('&', 'CC'), ('Vose', 'NNP'), ('.', '.')]\n",
      "3  `` But you have to recognize that these events took place 35 years ago .\n",
      "[('``', '``'), ('But', 'CC'), ('you', 'PRP'), ('have', 'VBP'), ('*-1', '-NONE-'), ('to', 'TO'), ('recognize', 'VB'), ('that', 'IN'), ('these', 'DT'), ('events', 'NNS'), ('took', 'VBD'), ('place', 'NN'), ('35', 'CD'), ('years', 'NNS'), ('ago', 'IN'), ('.', '.')]\n",
      "4  Yields on money-market mutual funds continued to slide , amid signs that portfolio managers expect further declines in interest rates .\n",
      "[('Yields', 'NNS'), ('on', 'IN'), ('money-market', 'JJ'), ('mutual', 'JJ'), ('funds', 'NNS'), ('continued', 'VBD'), ('*-1', '-NONE-'), ('to', 'TO'), ('slide', 'VB'), (',', ','), ('amid', 'IN'), ('signs', 'NNS'), ('that', 'IN'), ('portfolio', 'NN'), ('managers', 'NNS'), ('expect', 'VBP'), ('further', 'JJ'), ('declines', 'NNS'), ('in', 'IN'), ('interest', 'NN'), ('rates', 'NNS'), ('.', '.')]\n",
      "5  Compound yields assume reinvestment of dividends and that the current yield continues for a year .\n",
      "[('Compound', 'NN'), ('yields', 'NNS'), ('assume', 'VBP'), ('reinvestment', 'NN'), ('of', 'IN'), ('dividends', 'NNS'), ('and', 'CC'), ('that', 'IN'), ('the', 'DT'), ('current', 'JJ'), ('yield', 'NN'), ('continues', 'VBZ'), ('for', 'IN'), ('a', 'DT'), ('year', 'NN'), ('.', '.')]\n"
     ]
    }
   ]
  },
  {
   "cell_type": "code",
   "source": [
    "get_ground_truth_examples(token='that', corpus=treebank, tag='DT', num=5)"
   ],
   "metadata": {
    "colab": {
     "base_uri": "https://localhost:8080/"
    },
    "id": "2BSvbviCzO9_",
    "outputId": "b05ed719-8060-4f37-adae-4f8c41b9c95a",
    "ExecuteTime": {
     "end_time": "2024-04-08T17:32:57.840216Z",
     "start_time": "2024-04-08T17:32:57.783205Z"
    }
   },
   "execution_count": 11,
   "outputs": [
    {
     "name": "stdout",
     "output_type": "stream",
     "text": [
      "1  `` What matters is what advertisers are paying per page , and in that department we are doing fine this fall , '' said Mr. Spoon .\n",
      "[('``', '``'), ('What', 'WP'), ('*T*-14', '-NONE-'), ('matters', 'VBZ'), ('is', 'VBZ'), ('what', 'WP'), ('advertisers', 'NNS'), ('are', 'VBP'), ('paying', 'VBG'), ('*T*-15', '-NONE-'), ('per', 'IN'), ('page', 'NN'), (',', ','), ('and', 'CC'), ('in', 'IN'), ('that', 'DT'), ('department', 'NN'), ('we', 'PRP'), ('are', 'VBP'), ('doing', 'VBG'), ('fine', 'RB'), ('this', 'DT'), ('fall', 'NN'), (',', ','), (\"''\", \"''\"), ('said', 'VBD'), ('*T*-1', '-NONE-'), ('Mr.', 'NNP'), ('Spoon', 'NNP'), ('.', '.')]\n",
      "2  State court Judge Richard Curry ordered Edison to make average refunds of about $ 45 to $ 50 each to Edison customers who have received electric service since April 1986 , including about two million customers who have moved during that period .\n",
      "[('State', 'NN'), ('court', 'NN'), ('Judge', 'NNP'), ('Richard', 'NNP'), ('Curry', 'NNP'), ('ordered', 'VBD'), ('Edison', 'NNP'), ('*-1', '-NONE-'), ('to', 'TO'), ('make', 'VB'), ('average', 'JJ'), ('refunds', 'NNS'), ('of', 'IN'), ('about', 'IN'), ('$', '$'), ('45', 'CD'), ('to', 'TO'), ('$', '$'), ('50', 'CD'), ('*U*', '-NONE-'), ('each', 'DT'), ('to', 'TO'), ('Edison', 'NNP'), ('customers', 'NNS'), ('who', 'WP'), ('*T*-18', '-NONE-'), ('have', 'VBP'), ('received', 'VBN'), ('electric', 'JJ'), ('service', 'NN'), ('since', 'IN'), ('April', 'NNP'), ('1986', 'CD'), (',', ','), ('including', 'VBG'), ('about', 'IN'), ('two', 'CD'), ('million', 'CD'), ('customers', 'NNS'), ('who', 'WP'), ('*T*-19', '-NONE-'), ('have', 'VBP'), ('moved', 'VBN'), ('during', 'IN'), ('that', 'DT'), ('period', 'NN'), ('.', '.')]\n",
      "3  However , five other countries -- China , Thailand , India , Brazil and Mexico -- will remain on that so-called priority watch list as a result of an interim review , U.S. Trade Representative Carla Hills announced .\n",
      "[('However', 'RB'), (',', ','), ('five', 'CD'), ('other', 'JJ'), ('countries', 'NNS'), ('--', ':'), ('China', 'NNP'), (',', ','), ('Thailand', 'NNP'), (',', ','), ('India', 'NNP'), (',', ','), ('Brazil', 'NNP'), ('and', 'CC'), ('Mexico', 'NNP'), ('--', ':'), ('will', 'MD'), ('remain', 'VB'), ('on', 'IN'), ('that', 'DT'), ('so-called', 'JJ'), ('priority', 'NN'), ('watch', 'NN'), ('list', 'NN'), ('as', 'IN'), ('a', 'DT'), ('result', 'NN'), ('of', 'IN'), ('an', 'DT'), ('interim', 'JJ'), ('review', 'NN'), (',', ','), ('U.S.', 'NNP'), ('Trade', 'NNP'), ('Representative', 'NNP'), ('Carla', 'NNP'), ('Hills', 'NNP'), ('announced', 'VBD'), ('0', '-NONE-'), ('*T*-1', '-NONE-'), ('.', '.')]\n",
      "4  She said there is `` growing realization '' around the world that denial of intellectual-property rights harms all trading nations , and particularly the `` creativity and inventiveness of an -LCB- offending -RCB- country 's own citizens . ''\n",
      "[('She', 'PRP'), ('said', 'VBD'), ('0', '-NONE-'), ('there', 'EX'), ('is', 'VBZ'), ('``', '``'), ('growing', 'VBG'), ('realization', 'NN'), ('*ICH*-1', '-NONE-'), (\"''\", \"''\"), ('around', 'IN'), ('the', 'DT'), ('world', 'NN'), ('that', 'DT'), ('denial', 'NN'), ('of', 'IN'), ('intellectual-property', 'JJ'), ('rights', 'NNS'), ('harms', 'VBZ'), ('all', 'DT'), ('trading', 'VBG'), ('nations', 'NNS'), (',', ','), ('and', 'CC'), ('particularly', 'RB'), ('the', 'DT'), ('``', '``'), ('creativity', 'NN'), ('and', 'CC'), ('inventiveness', 'NN'), ('of', 'IN'), ('an', 'DT'), ('-LCB-', '-LRB-'), ('offending', 'VBG'), ('-RCB-', '-RRB-'), ('country', 'NN'), (\"'s\", 'POS'), ('own', 'JJ'), ('citizens', 'NNS'), ('.', '.'), (\"''\", \"''\")]\n",
      "5  `` What this tells us is that U.S. trade law is working , '' he said .\n",
      "[('``', '``'), ('What', 'WP'), ('this', 'DT'), ('tells', 'VBZ'), ('us', 'PRP'), ('*T*-28', '-NONE-'), ('is', 'VBZ'), ('that', 'DT'), ('U.S.', 'NNP'), ('trade', 'NN'), ('law', 'NN'), ('is', 'VBZ'), ('working', 'VBG'), (',', ','), (\"''\", \"''\"), ('he', 'PRP'), ('said', 'VBD'), ('*T*-1', '-NONE-'), ('.', '.')]\n"
     ]
    }
   ]
  }
 ],
 "metadata": {
  "kernelspec": {
   "name": "python3",
   "language": "python",
   "display_name": "Python 3 (ipykernel)"
  },
  "language_info": {
   "name": "python"
  },
  "colab": {
   "provenance": []
  },
  "gpuClass": "standard"
 },
 "nbformat": 4,
 "nbformat_minor": 0
}
