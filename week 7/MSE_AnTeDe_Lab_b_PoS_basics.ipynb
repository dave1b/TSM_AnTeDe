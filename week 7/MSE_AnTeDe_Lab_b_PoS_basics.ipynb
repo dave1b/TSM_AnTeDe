{
 "cells": [
  {
   "cell_type": "markdown",
   "metadata": {
    "id": "E_WBq3DbTfUs"
   },
   "source": [
    "# AnTeDe Lab B: using PoS taggers \n",
    "\n",
    "## Session goal\n",
    "\n",
    "The goal of this session is to help you familiarize with PoS tagging. We'll be using NLTK, Stanza, and Spacy.\n",
    "\n"
   ]
  },
  {
   "cell_type": "code",
   "execution_count": 1,
   "metadata": {
    "scrolled": true,
    "colab": {
     "base_uri": "https://localhost:8080/",
     "height": 1000,
     "referenced_widgets": [
      "c10ea3e654274aeaafa83423888357ac",
      "e9fa8b676aa14065a78f598868a4d1c4",
      "50f0ef999524474f9e881634c056ec5e",
      "cb742276e1164436b4f4b5de9b6f9bbb",
      "1e1a3538ee1c42b29e7fd61a83b71370",
      "69e0373ebcce4282bf8efde9584b92d0",
      "eeb5d5dae705403bb8ce0f777ea21f8b",
      "ab8e7efe99d341008c810834e1826978",
      "53567060c91048db9ba6a4cf24be3ec2",
      "362f9dfcbfb645e38a545e876eb3c5fd",
      "5b6827a90b3e44f38bea6fbef46216c2",
      "459f71b29a184137ac5df25b0cb8aa22",
      "1fccbfafb25b444ca928ba96eb647fb8",
      "2dcb09680f84405eae8f21ea57dfaf79",
      "df3ec970b5224a74b64aff7dea4c6d6d",
      "f5b3a4d49f804b19aa16b4709e8378dc",
      "6fd9827e5ddc4bc39112181e62a13437",
      "2f15e89385de4e9f9c3d86b7f071e3a9",
      "fc3498bcd1ee44209f5a7a41f606d6a7",
      "1b7747ec595a433db4214c37f1b5b443",
      "acd795a78bde4758ab9dd1778ee8d074",
      "c9fb5636182846949348a4e856752934"
     ]
    },
    "id": "cel-uA9PTfUu",
    "outputId": "391ebead-e5c2-4564-fa97-44ba0320a4c2",
    "ExecuteTime": {
     "end_time": "2024-04-08T17:37:18.924631Z",
     "start_time": "2024-04-08T17:37:11.794320Z"
    }
   },
   "outputs": [
    {
     "name": "stderr",
     "output_type": "stream",
     "text": [
      "[nltk_data] Downloading package averaged_perceptron_tagger to\n",
      "[nltk_data]     /Users/davebrunner/nltk_data...\n",
      "[nltk_data]   Package averaged_perceptron_tagger is already up-to-\n",
      "[nltk_data]       date!\n",
      "[nltk_data] Downloading package punkt to\n",
      "[nltk_data]     /Users/davebrunner/nltk_data...\n",
      "[nltk_data]   Package punkt is already up-to-date!\n"
     ]
    },
    {
     "name": "stdout",
     "output_type": "stream",
     "text": [
      "Collecting en-core-web-sm==3.7.1\r\n",
      "  Using cached https://github.com/explosion/spacy-models/releases/download/en_core_web_sm-3.7.1/en_core_web_sm-3.7.1-py3-none-any.whl (12.8 MB)\r\n",
      "Requirement already satisfied: spacy<3.8.0,>=3.7.2 in /Users/davebrunner/.local/share/virtualenvs/TSM_AnTeDe-RXa4k3O7/lib/python3.12/site-packages (from en-core-web-sm==3.7.1) (3.7.4)\r\n",
      "Requirement already satisfied: spacy-legacy<3.1.0,>=3.0.11 in /Users/davebrunner/.local/share/virtualenvs/TSM_AnTeDe-RXa4k3O7/lib/python3.12/site-packages (from spacy<3.8.0,>=3.7.2->en-core-web-sm==3.7.1) (3.0.12)\r\n",
      "Requirement already satisfied: spacy-loggers<2.0.0,>=1.0.0 in /Users/davebrunner/.local/share/virtualenvs/TSM_AnTeDe-RXa4k3O7/lib/python3.12/site-packages (from spacy<3.8.0,>=3.7.2->en-core-web-sm==3.7.1) (1.0.5)\r\n",
      "Requirement already satisfied: murmurhash<1.1.0,>=0.28.0 in /Users/davebrunner/.local/share/virtualenvs/TSM_AnTeDe-RXa4k3O7/lib/python3.12/site-packages (from spacy<3.8.0,>=3.7.2->en-core-web-sm==3.7.1) (1.0.10)\r\n",
      "Requirement already satisfied: cymem<2.1.0,>=2.0.2 in /Users/davebrunner/.local/share/virtualenvs/TSM_AnTeDe-RXa4k3O7/lib/python3.12/site-packages (from spacy<3.8.0,>=3.7.2->en-core-web-sm==3.7.1) (2.0.8)\r\n",
      "Requirement already satisfied: preshed<3.1.0,>=3.0.2 in /Users/davebrunner/.local/share/virtualenvs/TSM_AnTeDe-RXa4k3O7/lib/python3.12/site-packages (from spacy<3.8.0,>=3.7.2->en-core-web-sm==3.7.1) (3.0.9)\r\n",
      "Requirement already satisfied: thinc<8.3.0,>=8.2.2 in /Users/davebrunner/.local/share/virtualenvs/TSM_AnTeDe-RXa4k3O7/lib/python3.12/site-packages (from spacy<3.8.0,>=3.7.2->en-core-web-sm==3.7.1) (8.2.3)\r\n",
      "Requirement already satisfied: wasabi<1.2.0,>=0.9.1 in /Users/davebrunner/.local/share/virtualenvs/TSM_AnTeDe-RXa4k3O7/lib/python3.12/site-packages (from spacy<3.8.0,>=3.7.2->en-core-web-sm==3.7.1) (1.1.2)\r\n",
      "Requirement already satisfied: srsly<3.0.0,>=2.4.3 in /Users/davebrunner/.local/share/virtualenvs/TSM_AnTeDe-RXa4k3O7/lib/python3.12/site-packages (from spacy<3.8.0,>=3.7.2->en-core-web-sm==3.7.1) (2.4.8)\r\n",
      "Requirement already satisfied: catalogue<2.1.0,>=2.0.6 in /Users/davebrunner/.local/share/virtualenvs/TSM_AnTeDe-RXa4k3O7/lib/python3.12/site-packages (from spacy<3.8.0,>=3.7.2->en-core-web-sm==3.7.1) (2.0.10)\r\n",
      "Requirement already satisfied: weasel<0.4.0,>=0.1.0 in /Users/davebrunner/.local/share/virtualenvs/TSM_AnTeDe-RXa4k3O7/lib/python3.12/site-packages (from spacy<3.8.0,>=3.7.2->en-core-web-sm==3.7.1) (0.3.4)\r\n",
      "Requirement already satisfied: typer<0.10.0,>=0.3.0 in /Users/davebrunner/.local/share/virtualenvs/TSM_AnTeDe-RXa4k3O7/lib/python3.12/site-packages (from spacy<3.8.0,>=3.7.2->en-core-web-sm==3.7.1) (0.9.4)\r\n",
      "Requirement already satisfied: smart-open<7.0.0,>=5.2.1 in /Users/davebrunner/.local/share/virtualenvs/TSM_AnTeDe-RXa4k3O7/lib/python3.12/site-packages (from spacy<3.8.0,>=3.7.2->en-core-web-sm==3.7.1) (6.4.0)\r\n",
      "Requirement already satisfied: tqdm<5.0.0,>=4.38.0 in /Users/davebrunner/.local/share/virtualenvs/TSM_AnTeDe-RXa4k3O7/lib/python3.12/site-packages (from spacy<3.8.0,>=3.7.2->en-core-web-sm==3.7.1) (4.66.2)\r\n",
      "Requirement already satisfied: requests<3.0.0,>=2.13.0 in /Users/davebrunner/.local/share/virtualenvs/TSM_AnTeDe-RXa4k3O7/lib/python3.12/site-packages (from spacy<3.8.0,>=3.7.2->en-core-web-sm==3.7.1) (2.31.0)\r\n",
      "Requirement already satisfied: pydantic!=1.8,!=1.8.1,<3.0.0,>=1.7.4 in /Users/davebrunner/.local/share/virtualenvs/TSM_AnTeDe-RXa4k3O7/lib/python3.12/site-packages (from spacy<3.8.0,>=3.7.2->en-core-web-sm==3.7.1) (2.6.4)\r\n",
      "Requirement already satisfied: jinja2 in /Users/davebrunner/.local/share/virtualenvs/TSM_AnTeDe-RXa4k3O7/lib/python3.12/site-packages (from spacy<3.8.0,>=3.7.2->en-core-web-sm==3.7.1) (3.1.3)\r\n",
      "Requirement already satisfied: setuptools in /Users/davebrunner/.local/share/virtualenvs/TSM_AnTeDe-RXa4k3O7/lib/python3.12/site-packages (from spacy<3.8.0,>=3.7.2->en-core-web-sm==3.7.1) (69.2.0)\r\n",
      "Requirement already satisfied: packaging>=20.0 in /Users/davebrunner/.local/share/virtualenvs/TSM_AnTeDe-RXa4k3O7/lib/python3.12/site-packages (from spacy<3.8.0,>=3.7.2->en-core-web-sm==3.7.1) (24.0)\r\n",
      "Requirement already satisfied: langcodes<4.0.0,>=3.2.0 in /Users/davebrunner/.local/share/virtualenvs/TSM_AnTeDe-RXa4k3O7/lib/python3.12/site-packages (from spacy<3.8.0,>=3.7.2->en-core-web-sm==3.7.1) (3.3.0)\r\n",
      "Requirement already satisfied: numpy>=1.19.0 in /Users/davebrunner/.local/share/virtualenvs/TSM_AnTeDe-RXa4k3O7/lib/python3.12/site-packages (from spacy<3.8.0,>=3.7.2->en-core-web-sm==3.7.1) (1.26.4)\r\n",
      "Requirement already satisfied: annotated-types>=0.4.0 in /Users/davebrunner/.local/share/virtualenvs/TSM_AnTeDe-RXa4k3O7/lib/python3.12/site-packages (from pydantic!=1.8,!=1.8.1,<3.0.0,>=1.7.4->spacy<3.8.0,>=3.7.2->en-core-web-sm==3.7.1) (0.6.0)\r\n",
      "Requirement already satisfied: pydantic-core==2.16.3 in /Users/davebrunner/.local/share/virtualenvs/TSM_AnTeDe-RXa4k3O7/lib/python3.12/site-packages (from pydantic!=1.8,!=1.8.1,<3.0.0,>=1.7.4->spacy<3.8.0,>=3.7.2->en-core-web-sm==3.7.1) (2.16.3)\r\n",
      "Requirement already satisfied: typing-extensions>=4.6.1 in /Users/davebrunner/.local/share/virtualenvs/TSM_AnTeDe-RXa4k3O7/lib/python3.12/site-packages (from pydantic!=1.8,!=1.8.1,<3.0.0,>=1.7.4->spacy<3.8.0,>=3.7.2->en-core-web-sm==3.7.1) (4.10.0)\r\n",
      "Requirement already satisfied: charset-normalizer<4,>=2 in /Users/davebrunner/.local/share/virtualenvs/TSM_AnTeDe-RXa4k3O7/lib/python3.12/site-packages (from requests<3.0.0,>=2.13.0->spacy<3.8.0,>=3.7.2->en-core-web-sm==3.7.1) (3.3.2)\r\n",
      "Requirement already satisfied: idna<4,>=2.5 in /Users/davebrunner/.local/share/virtualenvs/TSM_AnTeDe-RXa4k3O7/lib/python3.12/site-packages (from requests<3.0.0,>=2.13.0->spacy<3.8.0,>=3.7.2->en-core-web-sm==3.7.1) (3.6)\r\n",
      "Requirement already satisfied: urllib3<3,>=1.21.1 in /Users/davebrunner/.local/share/virtualenvs/TSM_AnTeDe-RXa4k3O7/lib/python3.12/site-packages (from requests<3.0.0,>=2.13.0->spacy<3.8.0,>=3.7.2->en-core-web-sm==3.7.1) (2.2.1)\r\n",
      "Requirement already satisfied: certifi>=2017.4.17 in /Users/davebrunner/.local/share/virtualenvs/TSM_AnTeDe-RXa4k3O7/lib/python3.12/site-packages (from requests<3.0.0,>=2.13.0->spacy<3.8.0,>=3.7.2->en-core-web-sm==3.7.1) (2024.2.2)\r\n",
      "Requirement already satisfied: blis<0.8.0,>=0.7.8 in /Users/davebrunner/.local/share/virtualenvs/TSM_AnTeDe-RXa4k3O7/lib/python3.12/site-packages (from thinc<8.3.0,>=8.2.2->spacy<3.8.0,>=3.7.2->en-core-web-sm==3.7.1) (0.7.11)\r\n",
      "Requirement already satisfied: confection<1.0.0,>=0.0.1 in /Users/davebrunner/.local/share/virtualenvs/TSM_AnTeDe-RXa4k3O7/lib/python3.12/site-packages (from thinc<8.3.0,>=8.2.2->spacy<3.8.0,>=3.7.2->en-core-web-sm==3.7.1) (0.1.4)\r\n",
      "Requirement already satisfied: click<9.0.0,>=7.1.1 in /Users/davebrunner/.local/share/virtualenvs/TSM_AnTeDe-RXa4k3O7/lib/python3.12/site-packages (from typer<0.10.0,>=0.3.0->spacy<3.8.0,>=3.7.2->en-core-web-sm==3.7.1) (8.1.7)\r\n",
      "Requirement already satisfied: cloudpathlib<0.17.0,>=0.7.0 in /Users/davebrunner/.local/share/virtualenvs/TSM_AnTeDe-RXa4k3O7/lib/python3.12/site-packages (from weasel<0.4.0,>=0.1.0->spacy<3.8.0,>=3.7.2->en-core-web-sm==3.7.1) (0.16.0)\r\n",
      "Requirement already satisfied: MarkupSafe>=2.0 in /Users/davebrunner/.local/share/virtualenvs/TSM_AnTeDe-RXa4k3O7/lib/python3.12/site-packages (from jinja2->spacy<3.8.0,>=3.7.2->en-core-web-sm==3.7.1) (2.1.5)\r\n",
      "\u001B[38;5;2m✔ Download and installation successful\u001B[0m\r\n",
      "You can now load the package via spacy.load('en_core_web_sm')\r\n"
     ]
    },
    {
     "data": {
      "text/plain": "Downloading https://raw.githubusercontent.com/stanfordnlp/stanza-resources/main/resources_1.8.0.json:   0%|   …",
      "application/vnd.jupyter.widget-view+json": {
       "version_major": 2,
       "version_minor": 0,
       "model_id": "c6cfa4b1b09d47b4ab799812e65857b5"
      }
     },
     "metadata": {},
     "output_type": "display_data"
    },
    {
     "name": "stderr",
     "output_type": "stream",
     "text": [
      "2024-04-08 19:37:16 INFO: Downloaded file to /Users/davebrunner/stanza_resources/resources.json\n",
      "2024-04-08 19:37:16 INFO: Downloading default packages for language: en (English) ...\n",
      "2024-04-08 19:37:16 INFO: File exists: /Users/davebrunner/stanza_resources/en/default.zip\n",
      "2024-04-08 19:37:18 INFO: Finished downloading models and saved to /Users/davebrunner/stanza_resources\n",
      "2024-04-08 19:37:18 INFO: Checking for updates to resources.json in case models have been updated.  Note: this behavior can be turned off with download_method=None or download_method=DownloadMethod.REUSE_RESOURCES\n"
     ]
    },
    {
     "data": {
      "text/plain": "Downloading https://raw.githubusercontent.com/stanfordnlp/stanza-resources/main/resources_1.8.0.json:   0%|   …",
      "application/vnd.jupyter.widget-view+json": {
       "version_major": 2,
       "version_minor": 0,
       "model_id": "a0a7770305414e4a86cab50fa9e198cd"
      }
     },
     "metadata": {},
     "output_type": "display_data"
    },
    {
     "name": "stderr",
     "output_type": "stream",
     "text": [
      "2024-04-08 19:37:18 INFO: Downloaded file to /Users/davebrunner/stanza_resources/resources.json\n",
      "2024-04-08 19:37:18 WARNING: Language en package default expects mwt, which has been added\n",
      "2024-04-08 19:37:18 INFO: Loading these models for language: en (English):\n",
      "=================================\n",
      "| Processor | Package           |\n",
      "---------------------------------\n",
      "| tokenize  | combined          |\n",
      "| mwt       | combined          |\n",
      "| pos       | combined_charlm   |\n",
      "| lemma     | combined_nocharlm |\n",
      "=================================\n",
      "\n",
      "2024-04-08 19:37:18 INFO: Using device: cpu\n",
      "2024-04-08 19:37:18 INFO: Loading: tokenize\n",
      "2024-04-08 19:37:18 INFO: Loading: mwt\n",
      "2024-04-08 19:37:18 INFO: Loading: pos\n",
      "2024-04-08 19:37:18 INFO: Loading: lemma\n",
      "2024-04-08 19:37:18 INFO: Done loading processors!\n"
     ]
    }
   ],
   "source": [
    "import stanza\n",
    "from nltk.tag import PerceptronTagger\n",
    "from nltk.tokenize import word_tokenize\n",
    "\n",
    "from nltk import download\n",
    "download('averaged_perceptron_tagger')\n",
    "download('punkt')\n",
    "\n",
    "import spacy\n",
    "\n",
    "text='I really like this class. This lab is going to be fun.'\n",
    "spacy_analyzer = spacy.load('en_core_web_sm')\n",
    "\n",
    "stanza.download('en')\n",
    "stanza_pipeline = stanza.Pipeline(lang='en', processors='tokenize,pos,lemma')\n",
    "\n",
    "\n",
    "def run_stanza(text):\n",
    "    \n",
    "    pairs=[]    \n",
    "    doc = stanza_pipeline(text)\n",
    "    for sent in doc.sentences:\n",
    "        for word in sent.words:\n",
    "            pairs.append((word.text, word.xpos))\n",
    "    return pairs        \n",
    "\n",
    "def run_spacy(text):\n",
    "    \n",
    "    doc = spacy_analyzer(text)\n",
    "    return [(token, token.tag_) for token in doc]\n",
    "\n",
    "def run_nltk (text):\n",
    "    \n",
    "    tagger = PerceptronTagger()\n",
    "    return tagger.tag(word_tokenize(text))\n",
    "\n",
    "       \n"
   ]
  },
  {
   "cell_type": "code",
   "execution_count": 2,
   "metadata": {
    "id": "XGViCBUWTfUv",
    "ExecuteTime": {
     "end_time": "2024-04-08T17:37:18.929114Z",
     "start_time": "2024-04-08T17:37:18.926074Z"
    }
   },
   "outputs": [],
   "source": [
    "def visualize_pos_results (text):\n",
    "    \n",
    "    stanza_pairs = run_stanza(text)    \n",
    "    spacy_pairs = run_spacy(text)   \n",
    "    nltk_pairs = run_nltk(text) \n",
    "\n",
    "    if len(stanza_pairs)==len(spacy_pairs)==len(nltk_pairs):\n",
    "        tokens = [x[0] for x in stanza_pairs]\n",
    "        stanza_tags = [x[1] for x in stanza_pairs]\n",
    "        spacy_tags = [x[1] for x in spacy_pairs]\n",
    "        nltk_tags = [x[1] for x in nltk_pairs]\n",
    "\n",
    "        import pandas as pd    \n",
    "        df=pd.DataFrame(columns = ['tokens','Stanza', 'NLTK', 'Spacy'])   \n",
    "        df['tokens']=tokens\n",
    "        df['Stanza']=stanza_tags\n",
    "        df['NLTK']=nltk_tags\n",
    "        df['Spacy']=spacy_tags\n",
    "\n",
    "        print (df)\n",
    "\n",
    "    else:\n",
    "        print ('-'*30)\n",
    "        print ('Stanza')\n",
    "        print (stanza_pairs)\n",
    "        print ('-'*30)\n",
    "        print ('NLTK')\n",
    "        print (nltk_pairs)\n",
    "        print ('-'*30)\n",
    "        print ('Spacy')\n",
    "        print (spacy_pairs)\n",
    "        \n",
    "        "
   ]
  },
  {
   "cell_type": "code",
   "execution_count": 3,
   "metadata": {
    "colab": {
     "base_uri": "https://localhost:8080/",
     "height": 70
    },
    "id": "xBxPphKaTfUx",
    "outputId": "04f32b2a-8d7b-44c7-ecfa-91a35c7b81ea",
    "ExecuteTime": {
     "end_time": "2024-04-08T17:37:18.933905Z",
     "start_time": "2024-04-08T17:37:18.929982Z"
    }
   },
   "outputs": [
    {
     "name": "stderr",
     "output_type": "stream",
     "text": [
      "[nltk_data] Downloading package tagsets to\n",
      "[nltk_data]     /Users/davebrunner/nltk_data...\n",
      "[nltk_data]   Package tagsets is already up-to-date!\n"
     ]
    },
    {
     "data": {
      "text/plain": "'preposition or conjunction, subordinating'"
     },
     "execution_count": 3,
     "metadata": {},
     "output_type": "execute_result"
    }
   ],
   "source": [
    "from nltk.data import load\n",
    "from nltk import download\n",
    "download('tagsets')\n",
    "tagdict = load('help/tagsets/upenn_tagset.pickle')\n",
    "tagdict['IN'][0]"
   ]
  },
  {
   "cell_type": "code",
   "execution_count": 4,
   "metadata": {
    "colab": {
     "base_uri": "https://localhost:8080/"
    },
    "id": "hKSJ-fdATfUy",
    "outputId": "da44b679-492a-4f4a-eda4-42f2b7ff26e3",
    "ExecuteTime": {
     "end_time": "2024-04-08T17:37:19.274414Z",
     "start_time": "2024-04-08T17:37:18.934761Z"
    }
   },
   "outputs": [
    {
     "name": "stdout",
     "output_type": "stream",
     "text": [
      "           tokens Stanza NLTK Spacy\n",
      "0         Traffic     NN   JJ    NN\n",
      "1      congestion     NN   NN    NN\n",
      "2              in     IN   IN    IN\n",
      "3             the     DT   DT    DT\n",
      "4           Shire    NNP  NNP    NN\n",
      "5              is    VBZ  VBZ   VBZ\n",
      "6         getting    VBG  VBG   VBG\n",
      "7           worse    JJR  JJR   JJR\n",
      "8               .      .    .     .\n",
      "9           After     IN   IN    IN\n",
      "10             we    PRP  PRP   PRP\n",
      "11         landed    VBD  VBD   VBD\n",
      "12             at     IN   IN    IN\n",
      "13        Baggins    NNP  NNP   NNP\n",
      "14  international     JJ   JJ    JJ\n",
      "15        airport     NN   NN    NN\n",
      "16              ,      ,    ,     ,\n",
      "17             we    PRP  PRP   PRP\n",
      "18            got    VBD  VBD   VBD\n",
      "19          stuck     JJ  VBN   VBN\n",
      "20             on     IN   IN    IN\n",
      "21            the     DT   DT    DT\n",
      "22           ring     NN   NN    NN\n",
      "23           road     NN   NN    NN\n",
      "24         around     IN   IN    IN\n",
      "25       Hobbiton    NNP  NNP   NNP\n",
      "26              .      .    .     .\n"
     ]
    }
   ],
   "source": [
    "sentence = \"Traffic congestion in the Shire is getting worse. After we landed at Baggins international airport, we got stuck on the ring road around Hobbiton.\"\n",
    "visualize_pos_results(sentence)\n"
   ]
  },
  {
   "cell_type": "code",
   "execution_count": 5,
   "metadata": {
    "colab": {
     "base_uri": "https://localhost:8080/"
    },
    "id": "r2CDq4LATfUz",
    "outputId": "0d484007-7011-483d-a23c-378231e50b49",
    "ExecuteTime": {
     "end_time": "2024-04-08T17:37:19.326856Z",
     "start_time": "2024-04-08T17:37:19.275723Z"
    }
   },
   "outputs": [
    {
     "name": "stdout",
     "output_type": "stream",
     "text": [
      "  tokens Stanza NLTK Spacy\n",
      "0   Back     IN   RB    VB\n",
      "1     me    PRP  PRP   PRP\n",
      "2     up     RP   RP    RP\n",
      "3      .      .    .     .\n",
      "  tokens Stanza NLTK Spacy\n",
      "0      I    PRP  PRP   PRP\n",
      "1  asked    VBD  VBD   VBD\n",
      "2   them    PRP  PRP   PRP\n",
      "3     to     TO   TO    TO\n",
      "4   back     VB   VB    VB\n",
      "5     me    PRP  PRP   PRP\n",
      "6     up     RP   RP    RP\n",
      "7      .      .    .     .\n"
     ]
    }
   ],
   "source": [
    "sentence_1='Back me up.'\n",
    "visualize_pos_results(sentence_1)\n",
    "\n",
    "sentence_2='I asked them to back me up.'\n",
    "visualize_pos_results(sentence_2)"
   ]
  },
  {
   "cell_type": "markdown",
   "metadata": {
    "id": "3pJFIN9yTfU0"
   },
   "source": [
    "**When** can have many multiple PoS tags. "
   ]
  },
  {
   "cell_type": "code",
   "execution_count": 6,
   "metadata": {
    "colab": {
     "base_uri": "https://localhost:8080/"
    },
    "id": "8D1NSrq3TfU0",
    "outputId": "d5149449-ad19-4aac-9015-5d4732bced6c",
    "ExecuteTime": {
     "end_time": "2024-04-08T17:37:19.396781Z",
     "start_time": "2024-04-08T17:37:19.327734Z"
    }
   },
   "outputs": [
    {
     "name": "stdout",
     "output_type": "stream",
     "text": [
      "  tokens Stanza NLTK Spacy\n",
      "0   When    WRB  WRB   WRB\n",
      "1    did    VBD  VBD   VBD\n",
      "2    you    PRP  PRP   PRP\n",
      "3   last     RB   JJ    RB\n",
      "4     go     VB   VB    VB\n",
      "5     to     IN   TO    IN\n",
      "6   Bern    NNP  NNP   NNP\n",
      "7      ?      .    .     .\n",
      "     tokens Stanza  NLTK Spacy\n",
      "0     Raise     VB    VB    VB\n",
      "1      your   PRP$  PRP$  PRP$\n",
      "2      hand     NN    NN    NN\n",
      "3      when    WRB   WRB   WRB\n",
      "4       you    PRP   PRP   PRP\n",
      "5       're    VBP   VBP   VBP\n",
      "6  finished    VBN   VBN   VBN\n"
     ]
    }
   ],
   "source": [
    "sentences=['When did you last go to Bern?',   # interrogative adverb\n",
    "'Raise your hand when you\\'re finished']  # conjunction\n",
    "\n",
    "for sentence in sentences:\n",
    "    dflist = visualize_pos_results(sentence)"
   ]
  },
  {
   "cell_type": "code",
   "execution_count": 7,
   "metadata": {
    "colab": {
     "base_uri": "https://localhost:8080/",
     "height": 35
    },
    "id": "XQBbYWmrTfU1",
    "outputId": "df7016fd-4ff6-4efb-ec04-08b63d1b0878",
    "ExecuteTime": {
     "end_time": "2024-04-08T17:37:19.400066Z",
     "start_time": "2024-04-08T17:37:19.397476Z"
    }
   },
   "outputs": [
    {
     "data": {
      "text/plain": "'Wh-adverb'"
     },
     "execution_count": 7,
     "metadata": {},
     "output_type": "execute_result"
    }
   ],
   "source": [
    "tagdict['WRB'][0]"
   ]
  },
  {
   "cell_type": "code",
   "execution_count": 8,
   "metadata": {
    "colab": {
     "base_uri": "https://localhost:8080/",
     "height": 35
    },
    "id": "QvAbx7n-TfU2",
    "outputId": "e3bd3bc6-a394-4358-c5dd-2cbadafde558",
    "ExecuteTime": {
     "end_time": "2024-04-08T17:37:19.403229Z",
     "start_time": "2024-04-08T17:37:19.400743Z"
    }
   },
   "outputs": [
    {
     "data": {
      "text/plain": "'pronoun, possessive'"
     },
     "execution_count": 8,
     "metadata": {},
     "output_type": "execute_result"
    }
   ],
   "source": [
    "tagdict['PRP$'][0]"
   ]
  },
  {
   "cell_type": "markdown",
   "metadata": {
    "id": "xLQTQjNCTfU2"
   },
   "source": [
    "What's happening in the following example? Which PoS tagger does better?"
   ]
  },
  {
   "cell_type": "code",
   "execution_count": 9,
   "metadata": {
    "colab": {
     "base_uri": "https://localhost:8080/"
    },
    "id": "riCcvwTCTfU4",
    "outputId": "37cfadbf-4c76-43b6-8800-0e1eae9aa209",
    "ExecuteTime": {
     "end_time": "2024-04-08T17:37:19.528412Z",
     "start_time": "2024-04-08T17:37:19.403861Z"
    }
   },
   "outputs": [
    {
     "name": "stdout",
     "output_type": "stream",
     "text": [
      "        tokens Stanza NLTK Spacy\n",
      "0           An     DT   DT    DT\n",
      "1  experienced     JJ   JJ    JJ\n",
      "2          man     NN   NN    NN\n",
      "3       should     MD   MD    MD\n",
      "4       always     RB   RB    RB\n",
      "5          man     VB   NN    VB\n",
      "6          the     DT   DT    DT\n",
      "7         ship     NN   NN    NN\n",
      "   tokens Stanza NLTK Spacy\n",
      "0   Never     RB   RB    RB\n",
      "1     has    VBZ  VBZ   VBZ\n",
      "2      so     RB   RB    RB\n",
      "3    much     RB   JJ    JJ\n",
      "4    been    VBN  VBN   VBN\n",
      "5    owed    VBN  VBN   VBN\n",
      "6      to     IN   TO    IN\n",
      "7      so     RB   RB    RB\n",
      "8    many     JJ   JJ    JJ\n",
      "9      by     IN   IN    IN\n",
      "10     so     RB   IN    RB\n",
      "11    few     JJ   JJ    JJ\n",
      "          tokens Stanza NLTK Spacy\n",
      "0              A     DT   DT    DT\n",
      "1         nation     NN   NN    NN\n",
      "2           will     MD   MD    MD\n",
      "3            not     RB   RB    RB\n",
      "4        survive     VB   VB    VB\n",
      "5        morally     RB   RB    RB\n",
      "6             or     CC   CC    CC\n",
      "7   economically     RB   RB    RB\n",
      "8           when    WRB  WRB   WRB\n",
      "9             so     RB   RB    RB\n",
      "10           few     JJ   JJ    JJ\n",
      "11          have    VBP  VBP   VBP\n",
      "12            so     RB   RB    RB\n",
      "13          much     JJ   JJ    JJ\n",
      "14           and     CC   CC    CC\n",
      "15            so     RB   RB    RB\n",
      "16          many     JJ   JJ    JJ\n",
      "17          have    VBP  VBP   VBP\n",
      "18            so     RB   RB    RB\n",
      "19        little     JJ   JJ    JJ\n"
     ]
    }
   ],
   "source": [
    "sentences=['An experienced man should always man the ship',\n",
    "'Never has so much been owed to so many by so few',\n",
    "           'A nation will not survive morally or economically \\\n",
    "when so few have so much and so many have so little']\n",
    "\n",
    "for sentence in sentences:\n",
    "    dflist = visualize_pos_results(sentence)"
   ]
  }
 ],
 "metadata": {
  "kernelspec": {
   "name": "python3",
   "language": "python",
   "display_name": "Python 3 (ipykernel)"
  },
  "language_info": {
   "name": "python"
  },
  "colab": {
   "provenance": []
  },
  "widgets": {
   "application/vnd.jupyter.widget-state+json": {
    "c10ea3e654274aeaafa83423888357ac": {
     "model_module": "@jupyter-widgets/controls",
     "model_name": "HBoxModel",
     "model_module_version": "1.5.0",
     "state": {
      "_dom_classes": [],
      "_model_module": "@jupyter-widgets/controls",
      "_model_module_version": "1.5.0",
      "_model_name": "HBoxModel",
      "_view_count": null,
      "_view_module": "@jupyter-widgets/controls",
      "_view_module_version": "1.5.0",
      "_view_name": "HBoxView",
      "box_style": "",
      "children": [
       "IPY_MODEL_e9fa8b676aa14065a78f598868a4d1c4",
       "IPY_MODEL_50f0ef999524474f9e881634c056ec5e",
       "IPY_MODEL_cb742276e1164436b4f4b5de9b6f9bbb"
      ],
      "layout": "IPY_MODEL_1e1a3538ee1c42b29e7fd61a83b71370"
     }
    },
    "e9fa8b676aa14065a78f598868a4d1c4": {
     "model_module": "@jupyter-widgets/controls",
     "model_name": "HTMLModel",
     "model_module_version": "1.5.0",
     "state": {
      "_dom_classes": [],
      "_model_module": "@jupyter-widgets/controls",
      "_model_module_version": "1.5.0",
      "_model_name": "HTMLModel",
      "_view_count": null,
      "_view_module": "@jupyter-widgets/controls",
      "_view_module_version": "1.5.0",
      "_view_name": "HTMLView",
      "description": "",
      "description_tooltip": null,
      "layout": "IPY_MODEL_69e0373ebcce4282bf8efde9584b92d0",
      "placeholder": "​",
      "style": "IPY_MODEL_eeb5d5dae705403bb8ce0f777ea21f8b",
      "value": "Downloading https://raw.githubusercontent.com/stanfordnlp/stanza-resources/main/resources_1.5.0.json: "
     }
    },
    "50f0ef999524474f9e881634c056ec5e": {
     "model_module": "@jupyter-widgets/controls",
     "model_name": "FloatProgressModel",
     "model_module_version": "1.5.0",
     "state": {
      "_dom_classes": [],
      "_model_module": "@jupyter-widgets/controls",
      "_model_module_version": "1.5.0",
      "_model_name": "FloatProgressModel",
      "_view_count": null,
      "_view_module": "@jupyter-widgets/controls",
      "_view_module_version": "1.5.0",
      "_view_name": "ProgressView",
      "bar_style": "success",
      "description": "",
      "description_tooltip": null,
      "layout": "IPY_MODEL_ab8e7efe99d341008c810834e1826978",
      "max": 29911,
      "min": 0,
      "orientation": "horizontal",
      "style": "IPY_MODEL_53567060c91048db9ba6a4cf24be3ec2",
      "value": 29911
     }
    },
    "cb742276e1164436b4f4b5de9b6f9bbb": {
     "model_module": "@jupyter-widgets/controls",
     "model_name": "HTMLModel",
     "model_module_version": "1.5.0",
     "state": {
      "_dom_classes": [],
      "_model_module": "@jupyter-widgets/controls",
      "_model_module_version": "1.5.0",
      "_model_name": "HTMLModel",
      "_view_count": null,
      "_view_module": "@jupyter-widgets/controls",
      "_view_module_version": "1.5.0",
      "_view_name": "HTMLView",
      "description": "",
      "description_tooltip": null,
      "layout": "IPY_MODEL_362f9dfcbfb645e38a545e876eb3c5fd",
      "placeholder": "​",
      "style": "IPY_MODEL_5b6827a90b3e44f38bea6fbef46216c2",
      "value": " 200k/? [00:00&lt;00:00, 4.62MB/s]"
     }
    },
    "1e1a3538ee1c42b29e7fd61a83b71370": {
     "model_module": "@jupyter-widgets/base",
     "model_name": "LayoutModel",
     "model_module_version": "1.2.0",
     "state": {
      "_model_module": "@jupyter-widgets/base",
      "_model_module_version": "1.2.0",
      "_model_name": "LayoutModel",
      "_view_count": null,
      "_view_module": "@jupyter-widgets/base",
      "_view_module_version": "1.2.0",
      "_view_name": "LayoutView",
      "align_content": null,
      "align_items": null,
      "align_self": null,
      "border": null,
      "bottom": null,
      "display": null,
      "flex": null,
      "flex_flow": null,
      "grid_area": null,
      "grid_auto_columns": null,
      "grid_auto_flow": null,
      "grid_auto_rows": null,
      "grid_column": null,
      "grid_gap": null,
      "grid_row": null,
      "grid_template_areas": null,
      "grid_template_columns": null,
      "grid_template_rows": null,
      "height": null,
      "justify_content": null,
      "justify_items": null,
      "left": null,
      "margin": null,
      "max_height": null,
      "max_width": null,
      "min_height": null,
      "min_width": null,
      "object_fit": null,
      "object_position": null,
      "order": null,
      "overflow": null,
      "overflow_x": null,
      "overflow_y": null,
      "padding": null,
      "right": null,
      "top": null,
      "visibility": null,
      "width": null
     }
    },
    "69e0373ebcce4282bf8efde9584b92d0": {
     "model_module": "@jupyter-widgets/base",
     "model_name": "LayoutModel",
     "model_module_version": "1.2.0",
     "state": {
      "_model_module": "@jupyter-widgets/base",
      "_model_module_version": "1.2.0",
      "_model_name": "LayoutModel",
      "_view_count": null,
      "_view_module": "@jupyter-widgets/base",
      "_view_module_version": "1.2.0",
      "_view_name": "LayoutView",
      "align_content": null,
      "align_items": null,
      "align_self": null,
      "border": null,
      "bottom": null,
      "display": null,
      "flex": null,
      "flex_flow": null,
      "grid_area": null,
      "grid_auto_columns": null,
      "grid_auto_flow": null,
      "grid_auto_rows": null,
      "grid_column": null,
      "grid_gap": null,
      "grid_row": null,
      "grid_template_areas": null,
      "grid_template_columns": null,
      "grid_template_rows": null,
      "height": null,
      "justify_content": null,
      "justify_items": null,
      "left": null,
      "margin": null,
      "max_height": null,
      "max_width": null,
      "min_height": null,
      "min_width": null,
      "object_fit": null,
      "object_position": null,
      "order": null,
      "overflow": null,
      "overflow_x": null,
      "overflow_y": null,
      "padding": null,
      "right": null,
      "top": null,
      "visibility": null,
      "width": null
     }
    },
    "eeb5d5dae705403bb8ce0f777ea21f8b": {
     "model_module": "@jupyter-widgets/controls",
     "model_name": "DescriptionStyleModel",
     "model_module_version": "1.5.0",
     "state": {
      "_model_module": "@jupyter-widgets/controls",
      "_model_module_version": "1.5.0",
      "_model_name": "DescriptionStyleModel",
      "_view_count": null,
      "_view_module": "@jupyter-widgets/base",
      "_view_module_version": "1.2.0",
      "_view_name": "StyleView",
      "description_width": ""
     }
    },
    "ab8e7efe99d341008c810834e1826978": {
     "model_module": "@jupyter-widgets/base",
     "model_name": "LayoutModel",
     "model_module_version": "1.2.0",
     "state": {
      "_model_module": "@jupyter-widgets/base",
      "_model_module_version": "1.2.0",
      "_model_name": "LayoutModel",
      "_view_count": null,
      "_view_module": "@jupyter-widgets/base",
      "_view_module_version": "1.2.0",
      "_view_name": "LayoutView",
      "align_content": null,
      "align_items": null,
      "align_self": null,
      "border": null,
      "bottom": null,
      "display": null,
      "flex": null,
      "flex_flow": null,
      "grid_area": null,
      "grid_auto_columns": null,
      "grid_auto_flow": null,
      "grid_auto_rows": null,
      "grid_column": null,
      "grid_gap": null,
      "grid_row": null,
      "grid_template_areas": null,
      "grid_template_columns": null,
      "grid_template_rows": null,
      "height": null,
      "justify_content": null,
      "justify_items": null,
      "left": null,
      "margin": null,
      "max_height": null,
      "max_width": null,
      "min_height": null,
      "min_width": null,
      "object_fit": null,
      "object_position": null,
      "order": null,
      "overflow": null,
      "overflow_x": null,
      "overflow_y": null,
      "padding": null,
      "right": null,
      "top": null,
      "visibility": null,
      "width": null
     }
    },
    "53567060c91048db9ba6a4cf24be3ec2": {
     "model_module": "@jupyter-widgets/controls",
     "model_name": "ProgressStyleModel",
     "model_module_version": "1.5.0",
     "state": {
      "_model_module": "@jupyter-widgets/controls",
      "_model_module_version": "1.5.0",
      "_model_name": "ProgressStyleModel",
      "_view_count": null,
      "_view_module": "@jupyter-widgets/base",
      "_view_module_version": "1.2.0",
      "_view_name": "StyleView",
      "bar_color": null,
      "description_width": ""
     }
    },
    "362f9dfcbfb645e38a545e876eb3c5fd": {
     "model_module": "@jupyter-widgets/base",
     "model_name": "LayoutModel",
     "model_module_version": "1.2.0",
     "state": {
      "_model_module": "@jupyter-widgets/base",
      "_model_module_version": "1.2.0",
      "_model_name": "LayoutModel",
      "_view_count": null,
      "_view_module": "@jupyter-widgets/base",
      "_view_module_version": "1.2.0",
      "_view_name": "LayoutView",
      "align_content": null,
      "align_items": null,
      "align_self": null,
      "border": null,
      "bottom": null,
      "display": null,
      "flex": null,
      "flex_flow": null,
      "grid_area": null,
      "grid_auto_columns": null,
      "grid_auto_flow": null,
      "grid_auto_rows": null,
      "grid_column": null,
      "grid_gap": null,
      "grid_row": null,
      "grid_template_areas": null,
      "grid_template_columns": null,
      "grid_template_rows": null,
      "height": null,
      "justify_content": null,
      "justify_items": null,
      "left": null,
      "margin": null,
      "max_height": null,
      "max_width": null,
      "min_height": null,
      "min_width": null,
      "object_fit": null,
      "object_position": null,
      "order": null,
      "overflow": null,
      "overflow_x": null,
      "overflow_y": null,
      "padding": null,
      "right": null,
      "top": null,
      "visibility": null,
      "width": null
     }
    },
    "5b6827a90b3e44f38bea6fbef46216c2": {
     "model_module": "@jupyter-widgets/controls",
     "model_name": "DescriptionStyleModel",
     "model_module_version": "1.5.0",
     "state": {
      "_model_module": "@jupyter-widgets/controls",
      "_model_module_version": "1.5.0",
      "_model_name": "DescriptionStyleModel",
      "_view_count": null,
      "_view_module": "@jupyter-widgets/base",
      "_view_module_version": "1.2.0",
      "_view_name": "StyleView",
      "description_width": ""
     }
    },
    "459f71b29a184137ac5df25b0cb8aa22": {
     "model_module": "@jupyter-widgets/controls",
     "model_name": "HBoxModel",
     "model_module_version": "1.5.0",
     "state": {
      "_dom_classes": [],
      "_model_module": "@jupyter-widgets/controls",
      "_model_module_version": "1.5.0",
      "_model_name": "HBoxModel",
      "_view_count": null,
      "_view_module": "@jupyter-widgets/controls",
      "_view_module_version": "1.5.0",
      "_view_name": "HBoxView",
      "box_style": "",
      "children": [
       "IPY_MODEL_1fccbfafb25b444ca928ba96eb647fb8",
       "IPY_MODEL_2dcb09680f84405eae8f21ea57dfaf79",
       "IPY_MODEL_df3ec970b5224a74b64aff7dea4c6d6d"
      ],
      "layout": "IPY_MODEL_f5b3a4d49f804b19aa16b4709e8378dc"
     }
    },
    "1fccbfafb25b444ca928ba96eb647fb8": {
     "model_module": "@jupyter-widgets/controls",
     "model_name": "HTMLModel",
     "model_module_version": "1.5.0",
     "state": {
      "_dom_classes": [],
      "_model_module": "@jupyter-widgets/controls",
      "_model_module_version": "1.5.0",
      "_model_name": "HTMLModel",
      "_view_count": null,
      "_view_module": "@jupyter-widgets/controls",
      "_view_module_version": "1.5.0",
      "_view_name": "HTMLView",
      "description": "",
      "description_tooltip": null,
      "layout": "IPY_MODEL_6fd9827e5ddc4bc39112181e62a13437",
      "placeholder": "​",
      "style": "IPY_MODEL_2f15e89385de4e9f9c3d86b7f071e3a9",
      "value": "Downloading https://raw.githubusercontent.com/stanfordnlp/stanza-resources/main/resources_1.5.0.json: "
     }
    },
    "2dcb09680f84405eae8f21ea57dfaf79": {
     "model_module": "@jupyter-widgets/controls",
     "model_name": "FloatProgressModel",
     "model_module_version": "1.5.0",
     "state": {
      "_dom_classes": [],
      "_model_module": "@jupyter-widgets/controls",
      "_model_module_version": "1.5.0",
      "_model_name": "FloatProgressModel",
      "_view_count": null,
      "_view_module": "@jupyter-widgets/controls",
      "_view_module_version": "1.5.0",
      "_view_name": "ProgressView",
      "bar_style": "success",
      "description": "",
      "description_tooltip": null,
      "layout": "IPY_MODEL_fc3498bcd1ee44209f5a7a41f606d6a7",
      "max": 29911,
      "min": 0,
      "orientation": "horizontal",
      "style": "IPY_MODEL_1b7747ec595a433db4214c37f1b5b443",
      "value": 29911
     }
    },
    "df3ec970b5224a74b64aff7dea4c6d6d": {
     "model_module": "@jupyter-widgets/controls",
     "model_name": "HTMLModel",
     "model_module_version": "1.5.0",
     "state": {
      "_dom_classes": [],
      "_model_module": "@jupyter-widgets/controls",
      "_model_module_version": "1.5.0",
      "_model_name": "HTMLModel",
      "_view_count": null,
      "_view_module": "@jupyter-widgets/controls",
      "_view_module_version": "1.5.0",
      "_view_name": "HTMLView",
      "description": "",
      "description_tooltip": null,
      "layout": "IPY_MODEL_acd795a78bde4758ab9dd1778ee8d074",
      "placeholder": "​",
      "style": "IPY_MODEL_c9fb5636182846949348a4e856752934",
      "value": " 200k/? [00:00&lt;00:00, 8.66MB/s]"
     }
    },
    "f5b3a4d49f804b19aa16b4709e8378dc": {
     "model_module": "@jupyter-widgets/base",
     "model_name": "LayoutModel",
     "model_module_version": "1.2.0",
     "state": {
      "_model_module": "@jupyter-widgets/base",
      "_model_module_version": "1.2.0",
      "_model_name": "LayoutModel",
      "_view_count": null,
      "_view_module": "@jupyter-widgets/base",
      "_view_module_version": "1.2.0",
      "_view_name": "LayoutView",
      "align_content": null,
      "align_items": null,
      "align_self": null,
      "border": null,
      "bottom": null,
      "display": null,
      "flex": null,
      "flex_flow": null,
      "grid_area": null,
      "grid_auto_columns": null,
      "grid_auto_flow": null,
      "grid_auto_rows": null,
      "grid_column": null,
      "grid_gap": null,
      "grid_row": null,
      "grid_template_areas": null,
      "grid_template_columns": null,
      "grid_template_rows": null,
      "height": null,
      "justify_content": null,
      "justify_items": null,
      "left": null,
      "margin": null,
      "max_height": null,
      "max_width": null,
      "min_height": null,
      "min_width": null,
      "object_fit": null,
      "object_position": null,
      "order": null,
      "overflow": null,
      "overflow_x": null,
      "overflow_y": null,
      "padding": null,
      "right": null,
      "top": null,
      "visibility": null,
      "width": null
     }
    },
    "6fd9827e5ddc4bc39112181e62a13437": {
     "model_module": "@jupyter-widgets/base",
     "model_name": "LayoutModel",
     "model_module_version": "1.2.0",
     "state": {
      "_model_module": "@jupyter-widgets/base",
      "_model_module_version": "1.2.0",
      "_model_name": "LayoutModel",
      "_view_count": null,
      "_view_module": "@jupyter-widgets/base",
      "_view_module_version": "1.2.0",
      "_view_name": "LayoutView",
      "align_content": null,
      "align_items": null,
      "align_self": null,
      "border": null,
      "bottom": null,
      "display": null,
      "flex": null,
      "flex_flow": null,
      "grid_area": null,
      "grid_auto_columns": null,
      "grid_auto_flow": null,
      "grid_auto_rows": null,
      "grid_column": null,
      "grid_gap": null,
      "grid_row": null,
      "grid_template_areas": null,
      "grid_template_columns": null,
      "grid_template_rows": null,
      "height": null,
      "justify_content": null,
      "justify_items": null,
      "left": null,
      "margin": null,
      "max_height": null,
      "max_width": null,
      "min_height": null,
      "min_width": null,
      "object_fit": null,
      "object_position": null,
      "order": null,
      "overflow": null,
      "overflow_x": null,
      "overflow_y": null,
      "padding": null,
      "right": null,
      "top": null,
      "visibility": null,
      "width": null
     }
    },
    "2f15e89385de4e9f9c3d86b7f071e3a9": {
     "model_module": "@jupyter-widgets/controls",
     "model_name": "DescriptionStyleModel",
     "model_module_version": "1.5.0",
     "state": {
      "_model_module": "@jupyter-widgets/controls",
      "_model_module_version": "1.5.0",
      "_model_name": "DescriptionStyleModel",
      "_view_count": null,
      "_view_module": "@jupyter-widgets/base",
      "_view_module_version": "1.2.0",
      "_view_name": "StyleView",
      "description_width": ""
     }
    },
    "fc3498bcd1ee44209f5a7a41f606d6a7": {
     "model_module": "@jupyter-widgets/base",
     "model_name": "LayoutModel",
     "model_module_version": "1.2.0",
     "state": {
      "_model_module": "@jupyter-widgets/base",
      "_model_module_version": "1.2.0",
      "_model_name": "LayoutModel",
      "_view_count": null,
      "_view_module": "@jupyter-widgets/base",
      "_view_module_version": "1.2.0",
      "_view_name": "LayoutView",
      "align_content": null,
      "align_items": null,
      "align_self": null,
      "border": null,
      "bottom": null,
      "display": null,
      "flex": null,
      "flex_flow": null,
      "grid_area": null,
      "grid_auto_columns": null,
      "grid_auto_flow": null,
      "grid_auto_rows": null,
      "grid_column": null,
      "grid_gap": null,
      "grid_row": null,
      "grid_template_areas": null,
      "grid_template_columns": null,
      "grid_template_rows": null,
      "height": null,
      "justify_content": null,
      "justify_items": null,
      "left": null,
      "margin": null,
      "max_height": null,
      "max_width": null,
      "min_height": null,
      "min_width": null,
      "object_fit": null,
      "object_position": null,
      "order": null,
      "overflow": null,
      "overflow_x": null,
      "overflow_y": null,
      "padding": null,
      "right": null,
      "top": null,
      "visibility": null,
      "width": null
     }
    },
    "1b7747ec595a433db4214c37f1b5b443": {
     "model_module": "@jupyter-widgets/controls",
     "model_name": "ProgressStyleModel",
     "model_module_version": "1.5.0",
     "state": {
      "_model_module": "@jupyter-widgets/controls",
      "_model_module_version": "1.5.0",
      "_model_name": "ProgressStyleModel",
      "_view_count": null,
      "_view_module": "@jupyter-widgets/base",
      "_view_module_version": "1.2.0",
      "_view_name": "StyleView",
      "bar_color": null,
      "description_width": ""
     }
    },
    "acd795a78bde4758ab9dd1778ee8d074": {
     "model_module": "@jupyter-widgets/base",
     "model_name": "LayoutModel",
     "model_module_version": "1.2.0",
     "state": {
      "_model_module": "@jupyter-widgets/base",
      "_model_module_version": "1.2.0",
      "_model_name": "LayoutModel",
      "_view_count": null,
      "_view_module": "@jupyter-widgets/base",
      "_view_module_version": "1.2.0",
      "_view_name": "LayoutView",
      "align_content": null,
      "align_items": null,
      "align_self": null,
      "border": null,
      "bottom": null,
      "display": null,
      "flex": null,
      "flex_flow": null,
      "grid_area": null,
      "grid_auto_columns": null,
      "grid_auto_flow": null,
      "grid_auto_rows": null,
      "grid_column": null,
      "grid_gap": null,
      "grid_row": null,
      "grid_template_areas": null,
      "grid_template_columns": null,
      "grid_template_rows": null,
      "height": null,
      "justify_content": null,
      "justify_items": null,
      "left": null,
      "margin": null,
      "max_height": null,
      "max_width": null,
      "min_height": null,
      "min_width": null,
      "object_fit": null,
      "object_position": null,
      "order": null,
      "overflow": null,
      "overflow_x": null,
      "overflow_y": null,
      "padding": null,
      "right": null,
      "top": null,
      "visibility": null,
      "width": null
     }
    },
    "c9fb5636182846949348a4e856752934": {
     "model_module": "@jupyter-widgets/controls",
     "model_name": "DescriptionStyleModel",
     "model_module_version": "1.5.0",
     "state": {
      "_model_module": "@jupyter-widgets/controls",
      "_model_module_version": "1.5.0",
      "_model_name": "DescriptionStyleModel",
      "_view_count": null,
      "_view_module": "@jupyter-widgets/base",
      "_view_module_version": "1.2.0",
      "_view_name": "StyleView",
      "description_width": ""
     }
    }
   }
  },
  "gpuClass": "standard"
 },
 "nbformat": 4,
 "nbformat_minor": 0
}
