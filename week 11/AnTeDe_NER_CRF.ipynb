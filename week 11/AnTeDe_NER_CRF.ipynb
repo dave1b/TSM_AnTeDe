{
  "nbformat": 4,
  "nbformat_minor": 0,
  "metadata": {
    "colab": {
      "provenance": []
    },
    "kernelspec": {
      "name": "python3",
      "display_name": "Python 3"
    },
    "language_info": {
      "name": "python"
    },
    "widgets": {
      "application/vnd.jupyter.widget-state+json": {
        "09e220d883334a73b531ade37e357613": {
          "model_module": "@jupyter-widgets/controls",
          "model_name": "HBoxModel",
          "model_module_version": "1.5.0",
          "state": {
            "_dom_classes": [],
            "_model_module": "@jupyter-widgets/controls",
            "_model_module_version": "1.5.0",
            "_model_name": "HBoxModel",
            "_view_count": null,
            "_view_module": "@jupyter-widgets/controls",
            "_view_module_version": "1.5.0",
            "_view_name": "HBoxView",
            "box_style": "",
            "children": [
              "IPY_MODEL_058c47f2fabc450f9dd376090ae2e32f",
              "IPY_MODEL_4fa7df1b00494157a2fca1fffd7ca09a",
              "IPY_MODEL_babc760d99194588af86e4be7bd0039e"
            ],
            "layout": "IPY_MODEL_e9947766247f4302b3baf57aee765b56"
          }
        },
        "058c47f2fabc450f9dd376090ae2e32f": {
          "model_module": "@jupyter-widgets/controls",
          "model_name": "HTMLModel",
          "model_module_version": "1.5.0",
          "state": {
            "_dom_classes": [],
            "_model_module": "@jupyter-widgets/controls",
            "_model_module_version": "1.5.0",
            "_model_name": "HTMLModel",
            "_view_count": null,
            "_view_module": "@jupyter-widgets/controls",
            "_view_module_version": "1.5.0",
            "_view_name": "HTMLView",
            "description": "",
            "description_tooltip": null,
            "layout": "IPY_MODEL_340781808b9149d49528b847f0599b4c",
            "placeholder": "​",
            "style": "IPY_MODEL_ed11626828014b00a9d8dcce29bf3fbf",
            "value": "100%"
          }
        },
        "4fa7df1b00494157a2fca1fffd7ca09a": {
          "model_module": "@jupyter-widgets/controls",
          "model_name": "FloatProgressModel",
          "model_module_version": "1.5.0",
          "state": {
            "_dom_classes": [],
            "_model_module": "@jupyter-widgets/controls",
            "_model_module_version": "1.5.0",
            "_model_name": "FloatProgressModel",
            "_view_count": null,
            "_view_module": "@jupyter-widgets/controls",
            "_view_module_version": "1.5.0",
            "_view_name": "ProgressView",
            "bar_style": "success",
            "description": "",
            "description_tooltip": null,
            "layout": "IPY_MODEL_aa1b61f2efe644ef864f9fb44fc7aab1",
            "max": 3,
            "min": 0,
            "orientation": "horizontal",
            "style": "IPY_MODEL_7ca2ba3a91f945c9900f27bfa8e13915",
            "value": 3
          }
        },
        "babc760d99194588af86e4be7bd0039e": {
          "model_module": "@jupyter-widgets/controls",
          "model_name": "HTMLModel",
          "model_module_version": "1.5.0",
          "state": {
            "_dom_classes": [],
            "_model_module": "@jupyter-widgets/controls",
            "_model_module_version": "1.5.0",
            "_model_name": "HTMLModel",
            "_view_count": null,
            "_view_module": "@jupyter-widgets/controls",
            "_view_module_version": "1.5.0",
            "_view_name": "HTMLView",
            "description": "",
            "description_tooltip": null,
            "layout": "IPY_MODEL_f464fcc3c90f44ccae3e5649b43a005c",
            "placeholder": "​",
            "style": "IPY_MODEL_0d7eab07b0204d94ad0d5654a073c800",
            "value": " 3/3 [00:00&lt;00:00, 56.24it/s]"
          }
        },
        "e9947766247f4302b3baf57aee765b56": {
          "model_module": "@jupyter-widgets/base",
          "model_name": "LayoutModel",
          "model_module_version": "1.2.0",
          "state": {
            "_model_module": "@jupyter-widgets/base",
            "_model_module_version": "1.2.0",
            "_model_name": "LayoutModel",
            "_view_count": null,
            "_view_module": "@jupyter-widgets/base",
            "_view_module_version": "1.2.0",
            "_view_name": "LayoutView",
            "align_content": null,
            "align_items": null,
            "align_self": null,
            "border": null,
            "bottom": null,
            "display": null,
            "flex": null,
            "flex_flow": null,
            "grid_area": null,
            "grid_auto_columns": null,
            "grid_auto_flow": null,
            "grid_auto_rows": null,
            "grid_column": null,
            "grid_gap": null,
            "grid_row": null,
            "grid_template_areas": null,
            "grid_template_columns": null,
            "grid_template_rows": null,
            "height": null,
            "justify_content": null,
            "justify_items": null,
            "left": null,
            "margin": null,
            "max_height": null,
            "max_width": null,
            "min_height": null,
            "min_width": null,
            "object_fit": null,
            "object_position": null,
            "order": null,
            "overflow": null,
            "overflow_x": null,
            "overflow_y": null,
            "padding": null,
            "right": null,
            "top": null,
            "visibility": null,
            "width": null
          }
        },
        "340781808b9149d49528b847f0599b4c": {
          "model_module": "@jupyter-widgets/base",
          "model_name": "LayoutModel",
          "model_module_version": "1.2.0",
          "state": {
            "_model_module": "@jupyter-widgets/base",
            "_model_module_version": "1.2.0",
            "_model_name": "LayoutModel",
            "_view_count": null,
            "_view_module": "@jupyter-widgets/base",
            "_view_module_version": "1.2.0",
            "_view_name": "LayoutView",
            "align_content": null,
            "align_items": null,
            "align_self": null,
            "border": null,
            "bottom": null,
            "display": null,
            "flex": null,
            "flex_flow": null,
            "grid_area": null,
            "grid_auto_columns": null,
            "grid_auto_flow": null,
            "grid_auto_rows": null,
            "grid_column": null,
            "grid_gap": null,
            "grid_row": null,
            "grid_template_areas": null,
            "grid_template_columns": null,
            "grid_template_rows": null,
            "height": null,
            "justify_content": null,
            "justify_items": null,
            "left": null,
            "margin": null,
            "max_height": null,
            "max_width": null,
            "min_height": null,
            "min_width": null,
            "object_fit": null,
            "object_position": null,
            "order": null,
            "overflow": null,
            "overflow_x": null,
            "overflow_y": null,
            "padding": null,
            "right": null,
            "top": null,
            "visibility": null,
            "width": null
          }
        },
        "ed11626828014b00a9d8dcce29bf3fbf": {
          "model_module": "@jupyter-widgets/controls",
          "model_name": "DescriptionStyleModel",
          "model_module_version": "1.5.0",
          "state": {
            "_model_module": "@jupyter-widgets/controls",
            "_model_module_version": "1.5.0",
            "_model_name": "DescriptionStyleModel",
            "_view_count": null,
            "_view_module": "@jupyter-widgets/base",
            "_view_module_version": "1.2.0",
            "_view_name": "StyleView",
            "description_width": ""
          }
        },
        "aa1b61f2efe644ef864f9fb44fc7aab1": {
          "model_module": "@jupyter-widgets/base",
          "model_name": "LayoutModel",
          "model_module_version": "1.2.0",
          "state": {
            "_model_module": "@jupyter-widgets/base",
            "_model_module_version": "1.2.0",
            "_model_name": "LayoutModel",
            "_view_count": null,
            "_view_module": "@jupyter-widgets/base",
            "_view_module_version": "1.2.0",
            "_view_name": "LayoutView",
            "align_content": null,
            "align_items": null,
            "align_self": null,
            "border": null,
            "bottom": null,
            "display": null,
            "flex": null,
            "flex_flow": null,
            "grid_area": null,
            "grid_auto_columns": null,
            "grid_auto_flow": null,
            "grid_auto_rows": null,
            "grid_column": null,
            "grid_gap": null,
            "grid_row": null,
            "grid_template_areas": null,
            "grid_template_columns": null,
            "grid_template_rows": null,
            "height": null,
            "justify_content": null,
            "justify_items": null,
            "left": null,
            "margin": null,
            "max_height": null,
            "max_width": null,
            "min_height": null,
            "min_width": null,
            "object_fit": null,
            "object_position": null,
            "order": null,
            "overflow": null,
            "overflow_x": null,
            "overflow_y": null,
            "padding": null,
            "right": null,
            "top": null,
            "visibility": null,
            "width": null
          }
        },
        "7ca2ba3a91f945c9900f27bfa8e13915": {
          "model_module": "@jupyter-widgets/controls",
          "model_name": "ProgressStyleModel",
          "model_module_version": "1.5.0",
          "state": {
            "_model_module": "@jupyter-widgets/controls",
            "_model_module_version": "1.5.0",
            "_model_name": "ProgressStyleModel",
            "_view_count": null,
            "_view_module": "@jupyter-widgets/base",
            "_view_module_version": "1.2.0",
            "_view_name": "StyleView",
            "bar_color": null,
            "description_width": ""
          }
        },
        "f464fcc3c90f44ccae3e5649b43a005c": {
          "model_module": "@jupyter-widgets/base",
          "model_name": "LayoutModel",
          "model_module_version": "1.2.0",
          "state": {
            "_model_module": "@jupyter-widgets/base",
            "_model_module_version": "1.2.0",
            "_model_name": "LayoutModel",
            "_view_count": null,
            "_view_module": "@jupyter-widgets/base",
            "_view_module_version": "1.2.0",
            "_view_name": "LayoutView",
            "align_content": null,
            "align_items": null,
            "align_self": null,
            "border": null,
            "bottom": null,
            "display": null,
            "flex": null,
            "flex_flow": null,
            "grid_area": null,
            "grid_auto_columns": null,
            "grid_auto_flow": null,
            "grid_auto_rows": null,
            "grid_column": null,
            "grid_gap": null,
            "grid_row": null,
            "grid_template_areas": null,
            "grid_template_columns": null,
            "grid_template_rows": null,
            "height": null,
            "justify_content": null,
            "justify_items": null,
            "left": null,
            "margin": null,
            "max_height": null,
            "max_width": null,
            "min_height": null,
            "min_width": null,
            "object_fit": null,
            "object_position": null,
            "order": null,
            "overflow": null,
            "overflow_x": null,
            "overflow_y": null,
            "padding": null,
            "right": null,
            "top": null,
            "visibility": null,
            "width": null
          }
        },
        "0d7eab07b0204d94ad0d5654a073c800": {
          "model_module": "@jupyter-widgets/controls",
          "model_name": "DescriptionStyleModel",
          "model_module_version": "1.5.0",
          "state": {
            "_model_module": "@jupyter-widgets/controls",
            "_model_module_version": "1.5.0",
            "_model_name": "DescriptionStyleModel",
            "_view_count": null,
            "_view_module": "@jupyter-widgets/base",
            "_view_module_version": "1.2.0",
            "_view_name": "StyleView",
            "description_width": ""
          }
        }
      }
    }
  },
  "cells": [
    {
      "cell_type": "code",
      "source": [
        "! pip install python-crfsuite"
      ],
      "metadata": {
        "colab": {
          "base_uri": "https://localhost:8080/"
        },
        "id": "LAoFRh6Rpnx_",
        "outputId": "4c675665-1f3b-4c30-87f5-74cf39adb229"
      },
      "execution_count": null,
      "outputs": [
        {
          "output_type": "stream",
          "name": "stdout",
          "text": [
            "Looking in indexes: https://pypi.org/simple, https://us-python.pkg.dev/colab-wheels/public/simple/\n",
            "Requirement already satisfied: python-crfsuite in /usr/local/lib/python3.10/dist-packages (0.9.9)\n"
          ]
        }
      ]
    },
    {
      "cell_type": "code",
      "execution_count": null,
      "metadata": {
        "colab": {
          "base_uri": "https://localhost:8080/",
          "height": 191,
          "referenced_widgets": [
            "09e220d883334a73b531ade37e357613",
            "058c47f2fabc450f9dd376090ae2e32f",
            "4fa7df1b00494157a2fca1fffd7ca09a",
            "babc760d99194588af86e4be7bd0039e",
            "e9947766247f4302b3baf57aee765b56",
            "340781808b9149d49528b847f0599b4c",
            "ed11626828014b00a9d8dcce29bf3fbf",
            "aa1b61f2efe644ef864f9fb44fc7aab1",
            "7ca2ba3a91f945c9900f27bfa8e13915",
            "f464fcc3c90f44ccae3e5649b43a005c",
            "0d7eab07b0204d94ad0d5654a073c800"
          ]
        },
        "id": "kyylh-tjnZQZ",
        "outputId": "67e3c648-1fb5-4cb1-c380-77f14ce06f29"
      },
      "outputs": [
        {
          "output_type": "stream",
          "name": "stderr",
          "text": [
            "[nltk_data] Downloading package averaged_perceptron_tagger to\n",
            "[nltk_data]     /root/nltk_data...\n",
            "[nltk_data]   Package averaged_perceptron_tagger is already up-to-\n",
            "[nltk_data]       date!\n",
            "[nltk_data] Downloading package punkt to /root/nltk_data...\n",
            "[nltk_data]   Package punkt is already up-to-date!\n",
            "WARNING:datasets.builder:Found cached dataset conll2003 (/root/.cache/huggingface/datasets/conll2003/conll2003/1.0.0/9a4d16a94f8674ba3466315300359b0acd891b68b6c8743ddf60b9c702adce98)\n"
          ]
        },
        {
          "output_type": "display_data",
          "data": {
            "text/plain": [
              "  0%|          | 0/3 [00:00<?, ?it/s]"
            ],
            "application/vnd.jupyter.widget-view+json": {
              "version_major": 2,
              "version_minor": 0,
              "model_id": "09e220d883334a73b531ade37e357613"
            }
          },
          "metadata": {}
        }
      ],
      "source": [
        "!pip install -q datasets\n",
        "!pip install -q nltk\n",
        "\n",
        "from datasets import load_dataset\n",
        "import nltk\n",
        "\n",
        "nltk.download(\"averaged_perceptron_tagger\")\n",
        "nltk.download(\"punkt\")\n",
        "\n",
        "dataset = load_dataset(\"conll2003\")\n"
      ]
    },
    {
      "cell_type": "code",
      "source": [
        "def extract_features_1(sentence, idx):\n",
        "    word = sentence[idx][0]\n",
        "    pos_tag = nltk.pos_tag([word])[0][1]\n",
        "    \n",
        "    features = {\n",
        "        \"word.lower()\": word.lower(),\n",
        "        \"word[-3:]\": word[-3:],\n",
        "        \"word[-2:]\": word[-2:],\n",
        "        \"word.isupper()\": word.isupper(),\n",
        "        \"word.istitle()\": word.istitle(),\n",
        "        \"word.isdigit()\": word.isdigit(),\n",
        "        \"pos\": pos_tag\n",
        "    }\n",
        "    \n",
        "    if idx > 0:\n",
        "        prev_word = sentence[idx - 1][0]\n",
        "        prev_pos_tag = nltk.pos_tag([prev_word])[0][1]\n",
        "        features.update({\n",
        "            \"-1:word.lower()\": prev_word.lower(),\n",
        "            \"-1:word.istitle()\": prev_word.istitle(),\n",
        "            \"-1:word.isupper()\": prev_word.isupper(),\n",
        "            \"-1:pos\": prev_pos_tag\n",
        "        })\n",
        "    else:\n",
        "        features[\"BOS\"] = True\n",
        "\n",
        "    if idx < len(sentence) - 1:\n",
        "        next_word = sentence[idx + 1][0]\n",
        "        next_pos_tag = nltk.pos_tag([next_word])[0][1]\n",
        "        features.update({\n",
        "            \"+1:word.lower()\": next_word.lower(),\n",
        "            \"+1:word.istitle()\": next_word.istitle(),\n",
        "            \"+1:word.isupper()\": next_word.isupper(),\n",
        "            \"+1:pos\": next_pos_tag\n",
        "        })\n",
        "    else:\n",
        "        features[\"EOS\"] = True\n",
        "\n",
        "    return features\n",
        "\n",
        "def extract_features(sentence, idx, window_size=2):\n",
        "    word = sentence[idx]\n",
        "    pos = nltk.pos_tag([word])[0][1]\n",
        "\n",
        "    features = {\n",
        "        \"word\": word,\n",
        "        \"pos\": pos,\n",
        "        \"word.lower()\": word.lower(),\n",
        "        \"word.istitle()\": word.istitle(),\n",
        "        \"word.isupper()\": word.isupper(),\n",
        "        \"word.isdigit()\": word.isdigit(),\n",
        "    }\n",
        "\n",
        "    for i in range(1, window_size + 1):\n",
        "        if idx - i >= 0:\n",
        "            word = sentence[idx - i]\n",
        "            pos = nltk.pos_tag([word])[0][1]\n",
        "            features.update({\n",
        "                f\"-{i}:word.lower()\": word.lower(),\n",
        "                f\"-{i}:word.istitle()\": word.istitle(),\n",
        "                f\"-{i}:word.isupper()\": word.isupper(),\n",
        "                f\"-{i}:word.isdigit()\": word.isdigit(),\n",
        "                f\"-{i}:pos\": pos\n",
        "            })\n",
        "        if idx + i < len(sentence):\n",
        "            word = sentence[idx + i]\n",
        "            pos = nltk.pos_tag([word])[0][1]\n",
        "            features.update({\n",
        "                f\"+{i}:word.lower()\": word.lower(),\n",
        "                f\"+{i}:word.istitle()\": word.istitle(),\n",
        "                f\"+{i}:word.isupper()\": word.isupper(),\n",
        "                f\"+{i}:word.isdigit()\": word.isdigit(),\n",
        "                f\"+{i}:pos\": pos\n",
        "            })\n",
        "\n",
        "    return features\n",
        "\n",
        "\n",
        "def extract_sentences_features(sentence):\n",
        "    return [extract_features(sentence, idx) for idx in range(len(sentence))]\n",
        "\n",
        "\n",
        "def extract_labels(sentence):\n",
        "    return [str(label) for label in sentence]\n"
      ],
      "metadata": {
        "id": "1oVjv7Rrnfi9"
      },
      "execution_count": null,
      "outputs": []
    },
    {
      "cell_type": "code",
      "source": [
        "X_train = [extract_sentences_features(sentence) for sentence in dataset[\"train\"][\"tokens\"]]\n",
        "\n",
        "\n",
        "X_val = [extract_sentences_features(sentence) for sentence in dataset[\"validation\"][\"tokens\"]]\n",
        "\n",
        "\n",
        "X_test = [extract_sentences_features(sentence) for sentence in dataset[\"test\"][\"tokens\"]]\n",
        "\n"
      ],
      "metadata": {
        "id": "g6NVp2HgnlPR"
      },
      "execution_count": null,
      "outputs": []
    },
    {
      "cell_type": "code",
      "source": [
        "y_train = [extract_labels(sentence) for sentence in dataset[\"train\"][\"ner_tags\"]]\n",
        "\n",
        "y_val = [extract_labels(sentence) for sentence in dataset[\"validation\"][\"ner_tags\"]]\n",
        "\n",
        "y_test = [extract_labels(sentence) for sentence in dataset[\"test\"][\"ner_tags\"]]\n"
      ],
      "metadata": {
        "id": "Dh-Hn5nuqD-A"
      },
      "execution_count": null,
      "outputs": []
    },
    {
      "cell_type": "code",
      "source": [
        "import pycrfsuite\n",
        "import warnings\n",
        "\n",
        "trainer = pycrfsuite.Trainer(verbose=False)\n",
        "\n",
        "for x_seq, y_seq in zip(X_train, y_train):\n",
        "    trainer.append(x_seq, y_seq)\n",
        "\n",
        "trainer.set_params({\n",
        "\n",
        "    \"max_iterations\": 50,\n",
        "    \"feature.possible_transitions\": True\n",
        "})\n",
        "trainer.train(\"conll2003_ner_crf.crfsuite\")\n",
        "\n",
        "\n",
        "tagger = pycrfsuite.Tagger()\n",
        "tagger.open(\"conll2003_ner_crf.crfsuite\")\n",
        "\n",
        "y_pred = [tagger.tag(x_seq) for x_seq in X_test]\n",
        "\n",
        "target_names = dataset[\"test\"].features[\"ner_tags\"].feature.names\n",
        "ner_labels = list(range(len(target_names)))\n",
        "\n",
        "y_test_flattened = [label for sentence in y_test for label in sentence]\n",
        "y_pred_flattened = [label for sentence in y_pred for label in sentence]\n",
        "\n",
        "from sklearn.metrics import classification_report\n",
        "\n",
        "with warnings.catch_warnings():\n",
        "    warnings.filterwarnings(\"ignore\", category=FutureWarning)\n",
        "    report = classification_report(y_test_flattened, y_pred_flattened, labels=ner_labels, target_names=target_names)\n",
        "print (report)"
      ],
      "metadata": {
        "colab": {
          "base_uri": "https://localhost:8080/"
        },
        "id": "kOoNoodBtl5P",
        "outputId": "a6c34121-f529-4bc5-fe74-f42c0e3c269b"
      },
      "execution_count": null,
      "outputs": [
        {
          "output_type": "stream",
          "name": "stdout",
          "text": [
            "              precision    recall  f1-score   support\n",
            "\n",
            "           O       0.99      0.98      0.99     38323\n",
            "       B-PER       0.81      0.83      0.82      1617\n",
            "       I-PER       0.86      0.92      0.89      1156\n",
            "       B-ORG       0.76      0.71      0.73      1661\n",
            "       I-ORG       0.70      0.76      0.73       835\n",
            "       B-LOC       0.77      0.85      0.81      1668\n",
            "       I-LOC       0.72      0.69      0.71       257\n",
            "      B-MISC       0.71      0.71      0.71       702\n",
            "      I-MISC       0.64      0.67      0.65       216\n",
            "\n",
            "   micro avg       0.95      0.95      0.95     46435\n",
            "   macro avg       0.77      0.79      0.78     46435\n",
            "weighted avg       0.95      0.95      0.95     46435\n",
            "\n"
          ]
        }
      ]
    }
  ]
}