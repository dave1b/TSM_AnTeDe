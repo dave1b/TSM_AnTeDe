{
 "cells": [
  {
   "cell_type": "markdown",
   "source": [
    "Dave Brunner"
   ],
   "metadata": {
    "collapsed": false
   },
   "id": "e1e45500b963caf0"
  },
  {
   "cell_type": "markdown",
   "source": [
    "![MSE Logo](https://moodle.msengineering.ch/pluginfile.php/1/core_admin/logo/0x150/1643104191/logo-mse.png)\n",
    "\n",
    "# AnTeDe Lab 6: Applications of word2vec\n",
    "## Objective\n",
    "* Compare pre-trained word2vec models with models trained on your workstation, on word similarity and analogy tasks.\t\n",
    "\n",
    "## General instructions\n",
    "* You can do the lab alone or in groups of two students.\n",
    "* Please write the required code, but also reply explicitly to the questions, as Python comments in code cells or text in markdown cells. \n",
    "* To submit your practical work, please make sure all cells are executed, then save and zip the notebook, and submit it as homework on [Moodle](https://moodle.msengineering.ch/course/view.php?id=1869).\n",
    "* Useful documentation: [section on word2vec in Gensim](https://radimrehurek.com/gensim/models/word2vec.html) as well as the [section on KeyedVectors in Gensim](https://radimrehurek.com/gensim/models/keyedvectors.html).\n",
    "* Training can be done locally if you have at least 16 GB of memory (it takes minutes, not hours), or using [Google Colab](https://colab.research.google.com/)."
   ],
   "metadata": {},
   "id": "53eb117e80bdbebc"
  },
  {
   "cell_type": "markdown",
   "metadata": {},
   "source": [
    "## 1. Testing a word2vec model trained on Google News\n",
    "Install Gensim the latest version of Gensim, for instance by running in your Conda environment `pip install --upgrade gensim`. "
   ],
   "id": "b87a1abc7c2362e9"
  },
  {
   "cell_type": "code",
   "execution_count": 85,
   "metadata": {
    "ExecuteTime": {
     "end_time": "2024-03-31T11:42:47.736403Z",
     "start_time": "2024-03-31T11:42:47.734615Z"
    }
   },
   "outputs": [],
   "source": [
    "import gensim, os\n",
    "from gensim import downloader"
   ],
   "id": "53a07f9db13a5f58"
  },
  {
   "cell_type": "code",
   "execution_count": 86,
   "metadata": {
    "ExecuteTime": {
     "end_time": "2024-03-31T11:43:06.007196Z",
     "start_time": "2024-03-31T11:42:47.792192Z"
    }
   },
   "outputs": [
    {
     "data": {
      "text/plain": "<gensim.models.keyedvectors.KeyedVectors at 0x50e940a70>"
     },
     "execution_count": 86,
     "metadata": {},
     "output_type": "execute_result"
    }
   ],
   "source": [
    "gensim.downloader.load(\"word2vec-google-news-300\")"
   ],
   "id": "ec2561cb2402da1c"
  },
  {
   "cell_type": "markdown",
   "metadata": {},
   "source": [
    "<font color='green'>**Question**: Where is the model stored on your computer?  What is the size of the file?  Please store the absolute path in a variable called `path_to_model_file`, and use `os.path.getsize` to display the size converted in gigabytes with two decimals. <font>"
   ],
   "id": "9db393d839ceef62"
  },
  {
   "cell_type": "code",
   "execution_count": 87,
   "metadata": {
    "ExecuteTime": {
     "end_time": "2024-03-31T11:43:06.011307Z",
     "start_time": "2024-03-31T11:43:06.008714Z"
    }
   },
   "outputs": [
    {
     "name": "stdout",
     "output_type": "stream",
     "text": [
      "The file is 1.62 GB\n"
     ]
    }
   ],
   "source": [
    "path_to_model_file = '/Users/davebrunner/gensim-data/word2vec-google-news-300/word2vec-google-news-300.gz'\n",
    "size_in_bytes = os.path.getsize(path_to_model_file)\n",
    "print(f\"The file is {size_in_bytes / 1024 ** 3:.2f} GB\")"
   ],
   "id": "16c2774b8ad2d49b"
  },
  {
   "cell_type": "code",
   "execution_count": 88,
   "metadata": {
    "ExecuteTime": {
     "end_time": "2024-03-31T11:43:24.054051Z",
     "start_time": "2024-03-31T11:43:06.012007Z"
    }
   },
   "outputs": [],
   "source": [
    "from gensim.models import KeyedVectors\n",
    "\n",
    "wv_model = gensim.models.KeyedVectors.load_word2vec_format(path_to_model_file, binary=True)  # C bin format"
   ],
   "id": "21933ef75c550c77"
  },
  {
   "cell_type": "markdown",
   "metadata": {},
   "source": [
    "<font color='green'>**Question**: What is the memory size of the process corresponding to this notebook?  Please simply write the value you obtain from any OS-specific utility that you wish to use for this purpose. <font>"
   ],
   "id": "66c8dc6e6df3f81b"
  },
  {
   "cell_type": "markdown",
   "source": [
    "The memory size of the process (whole of PyCharm) is 1.9 GB"
   ],
   "metadata": {
    "collapsed": false
   },
   "id": "14b31eb97b53ffc1"
  },
  {
   "cell_type": "markdown",
   "metadata": {},
   "source": [
    "<font color='green'>**Question**: What is the size of the vocabulary of this model, i.e., how many words does it know? <font>"
   ],
   "id": "2546fd0f108de50d"
  },
  {
   "cell_type": "code",
   "execution_count": 89,
   "metadata": {
    "ExecuteTime": {
     "end_time": "2024-03-31T11:43:24.057544Z",
     "start_time": "2024-03-31T11:43:24.055625Z"
    }
   },
   "outputs": [
    {
     "name": "stdout",
     "output_type": "stream",
     "text": [
      "The vocabulary size is 3000000\n"
     ]
    }
   ],
   "source": [
    "# Please write the Python code needed to display the vocabulary size and execute it.\n",
    "print(f\"The vocabulary size is {len(wv_model.key_to_index)}\")"
   ],
   "id": "5cc0139124f4e32b"
  },
  {
   "cell_type": "markdown",
   "metadata": {},
   "source": [
    "<font color='green'>**Question**: Compare the vocabulary size with the number of words in an English dictionary. How do you explain the difference?\n",
    "    \n",
    "Write a function which takes as input a given word and outputs whether the word is part of the vocabulary or not. Display 7 words which are in the model's vocabulary, and 3 that are not, thereby illustrating the difference in vocabulary size. <font>"
   ],
   "id": "e9a1ad831318ecd0"
  },
  {
   "cell_type": "markdown",
   "source": [
    "The Oxford English Dictionary contains 273,000 words. This is quiet similar to the vocabulary size of the Google News model, which contains 300,000 words. The difference is due to the fact that the Google News model was trained on a large corpus of text, which allows it to have a larger vocabulary than a standard English dictionary."
   ],
   "metadata": {
    "collapsed": false
   },
   "id": "7602490d232ce233"
  },
  {
   "cell_type": "code",
   "execution_count": 90,
   "metadata": {
    "ExecuteTime": {
     "end_time": "2024-03-31T11:43:24.061914Z",
     "start_time": "2024-03-31T11:43:24.058143Z"
    }
   },
   "outputs": [
    {
     "name": "stdout",
     "output_type": "stream",
     "text": [
      "Words in the vocabulary:\n",
      "dog is in the vocabulary: True\n",
      "cat is in the vocabulary: True\n",
      "house is in the vocabulary: True\n",
      "car is in the vocabulary: True\n",
      "tree is in the vocabulary: True\n",
      "computer is in the vocabulary: True\n",
      "book is in the vocabulary: True\n",
      "\n",
      "Words not in the vocabulary:\n",
      "accismus is in the vocabulary: False\n",
      "battology is in the vocabulary: False\n",
      "cacoethes is in the vocabulary: False\n"
     ]
    },
    {
     "data": {
      "text/plain": "[None, None, None]"
     },
     "execution_count": 90,
     "metadata": {},
     "output_type": "execute_result"
    }
   ],
   "source": [
    "in_vocab = ['dog', 'cat', 'house', 'car', 'tree', 'computer', 'book']\n",
    "not_in_vocab = ['accismus', 'battology', 'cacoethes']\n",
    "\n",
    "\n",
    "def is_in_vocab(word):\n",
    "    return word in wv_model.key_to_index\n",
    "\n",
    "\n",
    "print(\"Words in the vocabulary:\")\n",
    "[print(f\"{word} is in the vocabulary: {is_in_vocab(word)}\") for word in in_vocab]\n",
    "print(\"\\nWords not in the vocabulary:\")\n",
    "[print(f\"{word} is in the vocabulary: {is_in_vocab(word)}\") for word in not_in_vocab]"
   ],
   "id": "39191fd61c732667"
  },
  {
   "cell_type": "markdown",
   "metadata": {},
   "source": [
    "<font color='green'>**Question**: What is the size of the vector space for this word2vec model, i.e. the dimensionality of the embedding space? Use two methods to determine the size: using the vector of a word from the vocabulary, and directly using the shape of the model.<font>"
   ],
   "id": "54b80d7a47fa4f45"
  },
  {
   "cell_type": "code",
   "execution_count": 110,
   "metadata": {
    "ExecuteTime": {
     "end_time": "2024-03-31T11:51:00.997188Z",
     "start_time": "2024-03-31T11:51:00.994065Z"
    }
   },
   "outputs": [
    {
     "name": "stdout",
     "output_type": "stream",
     "text": [
      "The dimensionality of the embedding space is 300\n",
      "The dimensionality of the embedding space is 300\n"
     ]
    }
   ],
   "source": [
    "dimension = len(wv_model['dog'])\n",
    "print(f\"The dimensionality of the embedding space is {dimension}\")\n",
    "print(f\"The dimensionality of the embedding space is {wv_model.vectors.shape[1]}\")"
   ],
   "id": "49c3fbf9a514758"
  },
  {
   "cell_type": "markdown",
   "metadata": {},
   "source": [
    "## 2. Using word2vec trained on Google News for word similarity\n",
    "In this section, you are going to use word vectors to compute (cosine) similarity between words (use the [KeyedVectors](https://radimrehurek.com/gensim/models/keyedvectors.html) documentation).  You will experiment with three tasks: \n",
    "\n",
    "(a) rank a small number of word pairs by decreasing similarity;  \n",
    "(b) test the model on the WordSimilarity-353 set;  \n",
    "(c) test the model on the analogy task."
   ],
   "id": "7b80011178871cb7"
  },
  {
   "cell_type": "markdown",
   "metadata": {},
   "source": [
    "<font color='green'>**Question**: What is the similarity for the word pairs given below? Sort the word pairs given below by decreasing similarity, i.e., most similar first. Display the similarity value found by word2vec, with 2 decimals. <font>"
   ],
   "id": "b32598edb12e605d"
  },
  {
   "cell_type": "code",
   "execution_count": 92,
   "metadata": {
    "ExecuteTime": {
     "end_time": "2024-03-31T11:43:24.069142Z",
     "start_time": "2024-03-31T11:43:24.064787Z"
    }
   },
   "outputs": [
    {
     "name": "stdout",
     "output_type": "stream",
     "text": [
      "bike and bicycle have a similarity of 0.85\n",
      "oil and gas have a similarity of 0.71\n",
      "car and bike have a similarity of 0.59\n",
      "car and automobile have a similarity of 0.58\n",
      "car and bus have a similarity of 0.47\n",
      "bike and pedal have a similarity of 0.47\n",
      "car and pedal have a similarity of 0.29\n",
      "car and oil have a similarity of 0.15\n"
     ]
    },
    {
     "data": {
      "text/plain": "[None, None, None, None, None, None, None, None]"
     },
     "execution_count": 92,
     "metadata": {},
     "output_type": "execute_result"
    }
   ],
   "source": [
    "test_pairs = [('car', 'automobile'), ('car', 'bike'), ('car', 'oil'), ('car', 'pedal'),\n",
    "              ('bike', 'pedal'), ('bike', 'bicycle'), ('oil', 'gas'), ('car', 'bus')]\n",
    "similarities = [(pair, wv_model.similarity(pair[0], pair[1])) for pair in test_pairs]\n",
    "sorted_similarities = sorted(similarities, key=lambda x: x[1], reverse=True)\n",
    "[print(f\"{pair[0]} and {pair[1]} have a similarity of {sim:.2f}\") for pair, sim in sorted_similarities]"
   ],
   "id": "6c8f68de3e819cb5"
  },
  {
   "cell_type": "markdown",
   "metadata": {},
   "source": [
    "<font color='green'>**Question**: What are the five closest words to *car* in the whole vocabulary and their similarity values with *car*? <font>"
   ],
   "id": "af847fe45b842452"
  },
  {
   "cell_type": "code",
   "execution_count": 93,
   "metadata": {
    "ExecuteTime": {
     "end_time": "2024-03-31T11:43:26.698084Z",
     "start_time": "2024-03-31T11:43:24.069731Z"
    }
   },
   "outputs": [
    {
     "name": "stdout",
     "output_type": "stream",
     "text": [
      "Similarity=0.782 for word: vehicle\n",
      "Similarity=0.742 for word: cars\n",
      "Similarity=0.716 for word: SUV\n",
      "Similarity=0.691 for word: minivan\n",
      "Similarity=0.674 for word: truck\n"
     ]
    },
    {
     "data": {
      "text/plain": "[None, None, None, None, None]"
     },
     "execution_count": 93,
     "metadata": {},
     "output_type": "execute_result"
    }
   ],
   "source": [
    "wv_model.fill_norms()  # run this to avoid memory footprint doubling with the first call \n",
    "# of \"most_similar\" (which caches unit vectors without replacement, unless told explicitly to do so).\n",
    "# Will have the same effect on evaluate_word_analogies below.\n",
    "result = wv_model.most_similar(positive=['car'])[0:5]\n",
    "[print(f\"Similarity={similarity:.3f} for word: {word}\") for word, similarity in result]"
   ],
   "id": "ce41ec00723283cf"
  },
  {
   "cell_type": "markdown",
   "metadata": {},
   "source": [
    "Using the [KeyedVectors](https://radimrehurek.com/gensim/models/keyedvectors.html) documentation, evaluate the model on the WordSimilarity-353 task which compares similarities assigned to word pairs by word2vec with those assigned by humans. \n",
    "\n",
    "<font color='green'>**Question**: What is the Pearson Correlation Coefficient for the WordSimilarity-353 task (rounding to two decimals)? <font>"
   ],
   "id": "d1b784de37a6fe7"
  },
  {
   "cell_type": "code",
   "execution_count": 94,
   "metadata": {
    "ExecuteTime": {
     "end_time": "2024-03-31T11:43:26.920829Z",
     "start_time": "2024-03-31T11:43:26.702625Z"
    }
   },
   "outputs": [
    {
     "name": "stdout",
     "output_type": "stream",
     "text": [
      "The Pearson Correlation Coefficient for the WordSimilarity-353 task is 0.62\n"
     ]
    }
   ],
   "source": [
    "from gensim.test.utils import datapath\n",
    "\n",
    "similarities = wv_model.evaluate_word_pairs(datapath('wordsim353.tsv'))\n",
    "print(f\"The Pearson Correlation Coefficient for the WordSimilarity-353 task is {similarities[0][0]:.2f}\")"
   ],
   "id": "6c0fc8a2956c6da2"
  },
  {
   "attachments": {},
   "cell_type": "markdown",
   "metadata": {},
   "source": [
    "Using the [KeyedVectors](https://radimrehurek.com/gensim/models/keyedvectors.html) documentation, evaluate the model on the Analogy Tasks (e.g., \"*What is to Thailand what Athens is to Greece?*\"). Notes: The task is specified in a data file called `questions-words.txt` containing samples to test how well a generated vector model does with analogies of different kinds: For example capital-countries (Athens Greece Baghdad Iraq) , currency (Algeria dinar Angola kwanza) etc.\n",
    "\n",
    "After generating word embeddings from a corpus, the file from \"question-words.txt\" can be used to test how well the vectors do for analogy tests. For a sample \"Athens Greece Baghdad Iraq\", the analogy test looks at nearest neighbors for the vector Vector(\"Greece\") - Vector(\"Athens\") + Vector(\"Baghdad\"). If the nearest neighbor is the vector \"Iraq\" then that analogy test passes.\n",
    "\n",
    "<font color='green'>**Question**: How long does the evaluation of the word analogy task last (note: store the output in a variable named `analogy_scores` for future use)?<font>\n",
    "\n"
   ],
   "id": "64febbd52a36045d"
  },
  {
   "cell_type": "code",
   "execution_count": 95,
   "metadata": {
    "ExecuteTime": {
     "end_time": "2024-03-31T11:45:51.662252Z",
     "start_time": "2024-03-31T11:43:26.923851Z"
    }
   },
   "outputs": [
    {
     "name": "stdout",
     "output_type": "stream",
     "text": [
      "The evaluation of the word analogy task took 144.74 seconds\n"
     ]
    }
   ],
   "source": [
    "import time\n",
    "\n",
    "start_time = time.time()\n",
    "analogy_scores = wv_model.evaluate_word_analogies(datapath('questions-words.txt'))\n",
    "print(f\"The evaluation of the word analogy task took {time.time() - start_time:.2f} seconds\")"
   ],
   "id": "bf91463eb4089f9e"
  },
  {
   "cell_type": "markdown",
   "metadata": {},
   "source": [
    "<font color='green'>**Question**: What is the accuracy of the analogy task (number of correctly solved analogies)? How many analogy tasks are there in total?<font>"
   ],
   "id": "1fc083d74bae3020"
  },
  {
   "cell_type": "code",
   "execution_count": 96,
   "metadata": {
    "ExecuteTime": {
     "end_time": "2024-03-31T11:45:51.679815Z",
     "start_time": "2024-03-31T11:45:51.664445Z"
    }
   },
   "outputs": [
    {
     "name": "stdout",
     "output_type": "stream",
     "text": [
      "There are 28614 correctly solved analogies\n",
      "There are 38660 analogy tasks in total\n",
      "The accuracy of the analogy task is 0.74\n"
     ]
    }
   ],
   "source": [
    "float, list = analogy_scores\n",
    "correct_count, incorrect_count = 0, 0\n",
    "for entry in list:\n",
    "    correct_count += len(entry['correct'])\n",
    "    incorrect_count += len(entry['incorrect'])\n",
    "total_count = correct_count + incorrect_count\n",
    "print(f\"There are {correct_count} correctly solved analogies\")\n",
    "print(f\"There are {total_count} analogy tasks in total\")\n",
    "print(f\"The accuracy of the analogy task is {correct_count / total_count:.2f}\")"
   ],
   "id": "6aded8527f524152"
  },
  {
   "attachments": {},
   "cell_type": "markdown",
   "metadata": {},
   "source": [
    "<font color='green'>**Question**: What do correctly-solved and incorrectly-solved analogies look like for the first 4 categories in `analogy_scores`? Please display for each of them the accuracy, a correctly-solved analogy, and an incorrectly-solved one.<font>"
   ],
   "id": "6a17eee20c6545a8"
  },
  {
   "cell_type": "code",
   "execution_count": 97,
   "metadata": {
    "ExecuteTime": {
     "end_time": "2024-03-31T11:45:51.686054Z",
     "start_time": "2024-03-31T11:45:51.681418Z"
    }
   },
   "outputs": [
    {
     "name": "stdout",
     "output_type": "stream",
     "text": [
      "Category: capital-common-countries\n",
      "Accuracy: 0.83\n",
      "Correct analogy: ('ATHENS', 'GREECE', 'BANGKOK', 'THAILAND')\n",
      "Incorrect analogy: ('ATHENS', 'GREECE', 'BAGHDAD', 'IRAQ')\n",
      "Category: capital-world\n",
      "Accuracy: 0.81\n",
      "Correct analogy: ('ABUJA', 'NIGERIA', 'ACCRA', 'GHANA')\n",
      "Incorrect analogy: ('ABUJA', 'NIGERIA', 'AMMAN', 'JORDAN')\n",
      "Category: currency\n",
      "Accuracy: 0.28\n",
      "Correct analogy: ('ALGERIA', 'DINAR', 'ARGENTINA', 'PESO')\n",
      "Incorrect analogy: ('ALGERIA', 'DINAR', 'ANGOLA', 'KWANZA')\n",
      "Category: city-in-state\n",
      "Accuracy: 0.72\n",
      "Correct analogy: ('CHICAGO', 'ILLINOIS', 'HOUSTON', 'TEXAS')\n",
      "Incorrect analogy: ('CHICAGO', 'ILLINOIS', 'JACKSONVILLE', 'FLORIDA')\n"
     ]
    }
   ],
   "source": [
    "for entry in list[0:4]:\n",
    "    correct = entry['correct'][0]\n",
    "    incorrect = entry['incorrect'][0]\n",
    "    print(f\"Category: {entry['section']}\")\n",
    "    print(f\"Accuracy: {len(entry['correct']) / (len(entry['correct']) + len(entry['incorrect'])):.2f}\")\n",
    "    print(f\"Correct analogy: {correct}\")\n",
    "    print(f\"Incorrect analogy: {incorrect}\")"
   ],
   "id": "fd3b8c849cce8cc6"
  },
  {
   "cell_type": "markdown",
   "metadata": {},
   "source": [
    "## 3. Training a word2vec model from scratch\n",
    "In this section, you will first use `gensim.downloader` to retrieve a 100-million character corpus ('text8' excerpt from Wikipedia).  You will use this data to train your own word2vec model.  Then, you will test the model on word similarity and analogies tasks.\n",
    "* [documentation of gensim.downloader](https://radimrehurek.com/gensim/downloader.html)\n",
    "* [corpora and pre-trained models available from gensim-data](https://github.com/RaRe-Technologies/gensim-data) -- the list can also be accessed with the command `gensim.downloader.info()` \n",
    "\n",
    "Please run the following code first."
   ],
   "id": "cd57cdcab7090a6e"
  },
  {
   "cell_type": "code",
   "execution_count": 98,
   "metadata": {
    "ExecuteTime": {
     "end_time": "2024-03-31T11:45:51.808715Z",
     "start_time": "2024-03-31T11:45:51.687815Z"
    }
   },
   "outputs": [
    {
     "name": "stdout",
     "output_type": "stream",
     "text": [
      "Available models: dict_keys(['fasttext-wiki-news-subwords-300', 'conceptnet-numberbatch-17-06-300', 'word2vec-ruscorpora-300', 'word2vec-google-news-300', 'glove-wiki-gigaword-50', 'glove-wiki-gigaword-100', 'glove-wiki-gigaword-200', 'glove-wiki-gigaword-300', 'glove-twitter-25', 'glove-twitter-50', 'glove-twitter-100', 'glove-twitter-200', '__testing_word2vec-matrix-synopsis'])\n"
     ]
    }
   ],
   "source": [
    "import gensim.downloader as api\n",
    "from gensim.models.word2vec import Word2Vec\n",
    "\n",
    "info = api.info()\n",
    "print(f\"Available models: {(info['models'].keys())}\")\n",
    "text8_corpus = api.load('text8') "
   ],
   "id": "aed3349df0be94ff"
  },
  {
   "cell_type": "markdown",
   "metadata": {},
   "source": [
    "<font color='green'>**Question**: How many words are there in the 'text8' corpus?<font>"
   ],
   "id": "6cd8d204044da179"
  },
  {
   "cell_type": "markdown",
   "source": [
    "First 100,000,000 bytes of plain text from Wikipedia.\n",
    "See below exact numbers."
   ],
   "metadata": {
    "collapsed": false
   },
   "id": "a8116900c61ed439"
  },
  {
   "cell_type": "markdown",
   "metadata": {},
   "source": [
    "Using the [documentation of Gensim's Word2Vec class](https://radimrehurek.com/gensim/models/word2vec.html), train your own word2vec model using 'text8'.  \n",
    "\n",
    "<font color='green'>**Question**: How many seconds does the training take (note: use the difference between start and end times obtained with `time.time()`)?<font>"
   ],
   "id": "2a343ed3ecd0ec41"
  },
  {
   "cell_type": "code",
   "execution_count": 99,
   "metadata": {
    "ExecuteTime": {
     "end_time": "2024-03-31T11:46:20.772953Z",
     "start_time": "2024-03-31T11:45:51.810747Z"
    }
   },
   "outputs": [
    {
     "name": "stdout",
     "output_type": "stream",
     "text": [
      "The training took 28.96 seconds\n"
     ]
    }
   ],
   "source": [
    "import time\n",
    "from gensim.models import Word2Vec\n",
    "start_time = time.time()\n",
    "model = Word2Vec(text8_corpus) \n",
    "print(f\"The training took {time.time() - start_time:.2f} seconds\")"
   ],
   "id": "c3f2e54f8937b8b8"
  },
  {
   "attachments": {},
   "cell_type": "markdown",
   "metadata": {},
   "source": [
    "<font color='green'>**Question**: What are the vocabulary size and the dimensionality of the embedding space of this model (Note: use your code from Section 1)?<font>"
   ],
   "id": "29ab5771f6c20285"
  },
  {
   "cell_type": "code",
   "execution_count": 100,
   "metadata": {
    "ExecuteTime": {
     "end_time": "2024-03-31T11:46:20.775872Z",
     "start_time": "2024-03-31T11:46:20.773693Z"
    }
   },
   "outputs": [
    {
     "name": "stdout",
     "output_type": "stream",
     "text": [
      "There are 17005207 words in the 'text8' corpus\n",
      "There are 71290 unique tokens in the 'text8' corpus\n"
     ]
    }
   ],
   "source": [
    "word_count = model.corpus_total_words\n",
    "unique_words = len(model.wv.key_to_index)\n",
    "print(f\"There are {word_count} words in the 'text8' corpus\")\n",
    "print(f\"There are {unique_words} unique tokens in the 'text8' corpus\")"
   ],
   "id": "79e4d515e212b3"
  },
  {
   "attachments": {},
   "cell_type": "markdown",
   "metadata": {},
   "source": [
    "Please read the \"*Usage examples*\" of the [Word2Vec class](https://radimrehurek.com/gensim/models/word2vec.html) to understand the difference between saving the full Word2Vec model (which enables future retraining on additional data) or saving only the vectors, an instance of KeyedVectors, which will save space.  \n",
    "\n",
    "<font color='green'>**Question**: Save the vectors only, then load the vectors into a new variable, and (if everything worked fine), delete the old model variable from the notebook's memory using `del` (Note: saving the vectors may create one or more files, depending on the size of the model.). <font>"
   ],
   "id": "724c76e2749d9c17"
  },
  {
   "cell_type": "code",
   "execution_count": 101,
   "metadata": {
    "ExecuteTime": {
     "end_time": "2024-03-31T11:46:20.800156Z",
     "start_time": "2024-03-31T11:46:20.776424Z"
    }
   },
   "outputs": [],
   "source": [
    "model.wv.save('word2vec.text8')\n",
    "del model"
   ],
   "id": "3d29b594c696a4fb"
  },
  {
   "cell_type": "code",
   "outputs": [
    {
     "name": "stdout",
     "output_type": "stream",
     "text": [
      "[-1.4212643   0.45857614  0.8779942  -0.69484943  2.0512755   0.795078\n",
      " -1.1002812   0.28550482 -0.70872074  1.5429536  -0.9986367  -0.8718215\n",
      "  0.87506324  2.7744837  -2.6887789  -0.03616737  1.0268158   0.14688906\n",
      "  1.3207629   1.15433    -0.33067176  1.3521266  -0.47016937 -1.6738724\n",
      " -1.651679    0.5026169  -0.5943537  -0.3189822  -0.7898973  -1.2360979\n",
      "  1.8709606  -1.7711456   1.1341795  -0.7034188   0.31699982 -0.3872686\n",
      " -0.77637476  0.7853726  -2.2026317  -2.618913    1.079648   -0.59874713\n",
      " -1.1809106   2.0247743   0.11328425 -0.46385917 -1.0271835  -1.0265548\n",
      "  0.81625986  1.424218    1.2072216   1.1302673  -0.8156866  -0.13624659\n",
      "  0.39632067 -0.34670746  0.3291771  -0.33663407 -1.7238988  -0.29625887\n",
      "  0.02761283 -0.6808355  -2.8061755   1.7536651  -2.186184   -0.33905149\n",
      " -0.29371408 -0.6409112   0.27465045  0.70149887  2.1243818  -0.06466208\n",
      "  1.1015288   1.1494875   1.1369778   1.6706012   0.55580807  0.27966312\n",
      " -0.52911353  0.39914137 -1.4024088   0.6691663   0.705292   -0.8583163\n",
      " -2.6381717  -0.14956969  0.00899153  0.6431852   1.2363961   0.81549567\n",
      "  1.9374604  -1.702558    1.6827873   2.173965    0.45932755 -1.0598917\n",
      "  0.5912859   0.7252381  -2.5846844   1.8668852 ]\n",
      "The dimensionality of the embedding space is 100\n"
     ]
    }
   ],
   "source": [
    "wv_text8 = KeyedVectors.load('word2vec.text8')\n",
    "vector = wv_text8['dog']\n",
    "print(vector)\n",
    "print(f\"The dimensionality of the embedding space is {len(vector)}\")"
   ],
   "metadata": {
    "collapsed": false,
    "ExecuteTime": {
     "end_time": "2024-03-31T11:46:20.826094Z",
     "start_time": "2024-03-31T11:46:20.800880Z"
    }
   },
   "id": "c04363c70aca2ea5",
   "execution_count": 102
  },
  {
   "cell_type": "markdown",
   "metadata": {},
   "source": [
    "Evaluate the new model on WordSimilarity-353 and Analogies tasks, reusing your code from above. \n",
    "\n",
    "<font color='green'>**Question**: What is the Pearson Correlation Coefficient for the WordSimilarity-353 task? What is the accuracy for the analogy task?<font>"
   ],
   "id": "824e77e28d8a63cc"
  },
  {
   "cell_type": "code",
   "execution_count": 103,
   "metadata": {
    "ExecuteTime": {
     "end_time": "2024-03-31T11:46:20.860560Z",
     "start_time": "2024-03-31T11:46:20.826767Z"
    }
   },
   "outputs": [
    {
     "name": "stdout",
     "output_type": "stream",
     "text": [
      "The Pearson Correlation Coefficient for the WordSimilarity-353 task is 0.61\n"
     ]
    }
   ],
   "source": [
    "wv_text8.fill_norms()\n",
    "similarities = wv_text8.evaluate_word_pairs(datapath('wordsim353.tsv'))\n",
    "print(f\"The Pearson Correlation Coefficient for the WordSimilarity-353 task is {similarities[0][0]:.2f}\")"
   ],
   "id": "caa5001b6820b0e1"
  },
  {
   "cell_type": "markdown",
   "metadata": {},
   "source": [
    "<font color='green'>**Question**: How does this model compare with the one trained on Google News? Why?<font>"
   ],
   "id": "ad3273dc380aba5f"
  },
  {
   "cell_type": "markdown",
   "source": [
    "The model trained on Google News is slightly more accurate than the one trained on the text8 corpus. This is because the Google News model was trained on a much larger dataset, which allows it to have a larger vocabulary and more accurate word embeddings.\n",
    "The dimension of the embedding space is 300 for the Google News model and 100 for the text8 model. This means that the Google News model has a higher dimensionality, which allows it to capture more information about the words in the vocabulary."
   ],
   "metadata": {
    "collapsed": false
   },
   "id": "ec237d2f6ec3fb4e"
  },
  {
   "cell_type": "markdown",
   "metadata": {},
   "source": [
    "Compare the accuracies on the analogy tasks of the two models for each category of tasks.\n",
    "\n",
    "<font color='green'>**Question**: For which category are accuracies the most similar? Can you explain this?<font>"
   ],
   "id": "2f78cbe4054b107d"
  },
  {
   "cell_type": "code",
   "execution_count": 111,
   "metadata": {
    "ExecuteTime": {
     "end_time": "2024-03-31T11:58:24.468703Z",
     "start_time": "2024-03-31T11:55:37.167873Z"
    }
   },
   "outputs": [
    {
     "name": "stdout",
     "output_type": "stream",
     "text": [
      "Category: capital-common-countries\n",
      "Accuracy for Google News: 0.83\n",
      "Accuracy for text8: 0.34\n",
      "-------------------------\n",
      "Category: capital-world\n",
      "Accuracy for Google News: 0.81\n",
      "Accuracy for text8: 0.13\n",
      "-------------------------\n",
      "Category: currency\n",
      "Accuracy for Google News: 0.28\n",
      "Accuracy for text8: 0.05\n",
      "-------------------------\n",
      "Category: city-in-state\n",
      "Accuracy for Google News: 0.72\n",
      "Accuracy for text8: 0.11\n",
      "-------------------------\n",
      "Category: family\n",
      "Accuracy for Google News: 0.86\n",
      "Accuracy for text8: 0.63\n",
      "-------------------------\n",
      "Category: gram1-adjective-to-adverb\n",
      "Accuracy for Google News: 0.29\n",
      "Accuracy for text8: 0.10\n",
      "-------------------------\n",
      "Category: gram2-opposite\n",
      "Accuracy for Google News: 0.43\n",
      "Accuracy for text8: 0.07\n",
      "-------------------------\n",
      "Category: gram3-comparative\n",
      "Accuracy for Google News: 0.91\n",
      "Accuracy for text8: 0.59\n",
      "-------------------------\n",
      "Category: gram4-superlative\n",
      "Accuracy for Google News: 0.88\n",
      "Accuracy for text8: 0.19\n",
      "-------------------------\n",
      "Category: gram5-present-participle\n",
      "Accuracy for Google News: 0.79\n",
      "Accuracy for text8: 0.26\n",
      "-------------------------\n",
      "Category: gram6-nationality-adjective\n",
      "Accuracy for Google News: 0.90\n",
      "Accuracy for text8: 0.49\n",
      "-------------------------\n",
      "Category: gram7-past-tense\n",
      "Accuracy for Google News: 0.65\n",
      "Accuracy for text8: 0.25\n",
      "-------------------------\n",
      "Category: gram8-plural\n",
      "Accuracy for Google News: 0.87\n",
      "Accuracy for text8: 0.32\n",
      "-------------------------\n",
      "Category: gram9-plural-verbs\n",
      "Accuracy for Google News: 0.68\n",
      "Accuracy for text8: 0.26\n",
      "-------------------------\n",
      "Category: Total accuracy\n",
      "Accuracy for Google News: 0.74\n",
      "Accuracy for text8: 0.25\n",
      "-------------------------\n",
      "The accuracy of the analogy task for Google News is 0.74\n",
      "The accuracy of the analogy task for text8 is 0.23\n"
     ]
    }
   ],
   "source": [
    "float_new, list_news = wv_model.evaluate_word_analogies(datapath('questions-words.txt'))\n",
    "float_text8, list_text8 = wv_text8.evaluate_word_analogies(datapath('questions-words.txt'))\n",
    "correct_count_news, correct_count_text8, total_count = 0, 0, 0\n",
    "for entry_news, entry_text8 in zip(list_news, list_text8):\n",
    "    correct_count_news += len(entry_news['correct'])\n",
    "    correct_count_text8 += len(entry_text8['correct'])\n",
    "    total_count += len(entry_news['correct']) + len(entry_news['incorrect'])\n",
    "    print(f\"Category: {entry_news['section']}\")\n",
    "    print(f\"Accuracy for Google News: {len(entry_news['correct']) / (len(entry_news['correct']) + len(entry_news['incorrect'])):.2f}\")\n",
    "    print(f\"Accuracy for text8: {len(entry_text8['correct']) / (len(entry_text8['correct']) + len(entry_text8['incorrect'])):.2f}\")\n",
    "    print(\"-------------------------\")\n",
    "print(f\"The accuracy of the analogy task for Google News is {correct_count_news / total_count:.2f}\")\n",
    "print(f\"The accuracy of the analogy task for text8 is {correct_count_text8 / total_count:.2f}\")"
   ],
   "id": "e83862e46ca2a1b8"
  },
  {
   "cell_type": "markdown",
   "source": [
    "The accuaracies are the most similiar in the category family. This is because the family category is common category in the English language, so both models have a lot of data to train on."
   ],
   "metadata": {
    "collapsed": false
   },
   "id": "f85bea59e489574d"
  },
  {
   "attachments": {},
   "cell_type": "markdown",
   "id": "03f5e9ca",
   "metadata": {},
   "source": [
    "## 4. Visualization of word2vec embeddings with PCA"
   ]
  },
  {
   "attachments": {},
   "cell_type": "markdown",
   "metadata": {},
   "source": [
    "You may want to visualize the word vectors for selected words."
   ],
   "id": "515d07f288aa4577"
  },
  {
   "cell_type": "code",
   "execution_count": 105,
   "metadata": {
    "ExecuteTime": {
     "end_time": "2024-03-31T11:49:13.452478Z",
     "start_time": "2024-03-31T11:49:13.421677Z"
    }
   },
   "outputs": [
    {
     "name": "stdout",
     "output_type": "stream",
     "text": [
      "['listen', 'ear', 'see', 'eye', 'foot', 'walk']\n"
     ]
    }
   ],
   "source": [
    "wv_text8 = KeyedVectors.load('word2vec.text8')\n",
    "\n",
    "my_words = ['listen', 'ear', 'see', 'eye', 'foot', 'walk']\n",
    "my_words_in_voc = [w for w in my_words if w in wv_text8]\n",
    "print(my_words_in_voc)"
   ],
   "id": "8ea4631dbf6e1edd"
  },
  {
   "attachments": {},
   "cell_type": "markdown",
   "metadata": {},
   "source": [
    "The function below will help you plot a 2D representation of the word vectors using [PCA from scikit.learn](https://scikit-learn.org/stable/modules/generated/sklearn.decomposition.PCA.html).  (It is also possible to use [UMAP](https://umap-learn.readthedocs.io/en/latest/basic_usage.html) instead of PCA in display_scatterplot).  You can display word vectors for your model trained on Text8, and for the model trained on Google News. "
   ],
   "id": "608c83e35140eb94"
  },
  {
   "cell_type": "code",
   "execution_count": 106,
   "metadata": {
    "ExecuteTime": {
     "end_time": "2024-03-31T11:49:15.619659Z",
     "start_time": "2024-03-31T11:49:13.455739Z"
    }
   },
   "outputs": [],
   "source": [
    "from sklearn.decomposition import PCA\n",
    "import matplotlib.pyplot as plt\n",
    "%matplotlib inline"
   ],
   "id": "17526452d74a82a1"
  },
  {
   "cell_type": "code",
   "execution_count": 107,
   "metadata": {
    "ExecuteTime": {
     "end_time": "2024-03-31T11:49:15.622791Z",
     "start_time": "2024-03-31T11:49:15.620371Z"
    }
   },
   "outputs": [],
   "source": [
    "def display_scatterplot(model, words):  # assumes all words are in the vocabulary\n",
    "    word_vectors = [model[word] for word in words]\n",
    "    twodim = PCA().fit_transform(word_vectors)[:, :2]\n",
    "    plt.figure(figsize=(6, 6))\n",
    "    plt.scatter(twodim[:, 0], twodim[:, 1], edgecolors='k', c='r')\n",
    "    for word, (x, y) in zip(words, twodim):\n",
    "        plt.text(x + 0.03, y + 0.03, word)"
   ],
   "id": "f404cf2d63d7644c"
  },
  {
   "cell_type": "code",
   "execution_count": 108,
   "metadata": {
    "ExecuteTime": {
     "end_time": "2024-03-31T11:49:15.743200Z",
     "start_time": "2024-03-31T11:49:15.623487Z"
    }
   },
   "outputs": [
    {
     "data": {
      "text/plain": "<Figure size 600x600 with 1 Axes>",
      "image/png": "[encoded data removed]"
     },
     "metadata": {},
     "output_type": "display_data"
    }
   ],
   "source": [
    "display_scatterplot(wv_text8, my_words_in_voc)"
   ],
   "id": "74ae3cf3c0a74314"
  },
  {
   "cell_type": "code",
   "execution_count": 109,
   "metadata": {
    "ExecuteTime": {
     "end_time": "2024-03-31T11:49:15.815901Z",
     "start_time": "2024-03-31T11:49:15.744088Z"
    }
   },
   "outputs": [
    {
     "data": {
      "text/plain": "<Figure size 600x600 with 1 Axes>",
      "image/png": "[encoded data removed]"
     },
     "metadata": {},
     "output_type": "display_data"
    }
   ],
   "source": [
    "display_scatterplot(wv_model, my_words_in_voc)  # assuming they are in the larger vocabulary"
   ],
   "id": "881add5d9b2ab450"
  },
  {
   "cell_type": "markdown",
   "metadata": {},
   "source": [
    "## End of Lab 6\n",
    "Please make sure all cells have been executed, save this completed notebook, compress it to a *zip* file, and upload it to [Moodle](https://moodle.msengineering.ch/course/view.php?id=1869)."
   ],
   "id": "bb8f0594dc5bb549"
  }
 ],
 "metadata": {
  "kernelspec": {
   "display_name": "Python 3",
   "language": "python",
   "name": "python3"
  },
  "language_info": {
   "codemirror_mode": {
    "name": "ipython",
    "version": 3
   },
   "file_extension": ".py",
   "mimetype": "text/x-python",
   "name": "python",
   "nbconvert_exporter": "python",
   "pygments_lexer": "ipython3",
   "version": "3.9.13"
  }
 },
 "nbformat": 4,
 "nbformat_minor": 5
}
