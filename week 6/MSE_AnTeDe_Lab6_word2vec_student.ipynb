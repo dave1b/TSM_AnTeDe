{
 "cells": [
  {
   "cell_type": "markdown",
   "id": "e1e45500b963caf0",
   "metadata": {
    "collapsed": false,
    "jupyter": {
     "outputs_hidden": false
    }
   },
   "source": [
    "Dave Brunner"
   ]
  },
  {
   "cell_type": "markdown",
   "id": "53eb117e80bdbebc",
   "metadata": {},
   "source": [
    "![MSE Logo](https://moodle.msengineering.ch/pluginfile.php/1/core_admin/logo/0x150/1643104191/logo-mse.png)\n",
    "\n",
    "# AnTeDe Lab 6: Applications of word2vec\n",
    "## Objective\n",
    "* Compare pre-trained word2vec models with models trained on your workstation, on word similarity and analogy tasks.\t\n",
    "\n",
    "## General instructions\n",
    "* You can do the lab alone or in groups of two students.\n",
    "* Please write the required code, but also reply explicitly to the questions, as Python comments in code cells or text in markdown cells. \n",
    "* To submit your practical work, please make sure all cells are executed, then save and zip the notebook, and submit it as homework on [Moodle](https://moodle.msengineering.ch/course/view.php?id=1869).\n",
    "* Useful documentation: [section on word2vec in Gensim](https://radimrehurek.com/gensim/models/word2vec.html) as well as the [section on KeyedVectors in Gensim](https://radimrehurek.com/gensim/models/keyedvectors.html).\n",
    "* Training can be done locally if you have at least 16 GB of memory (it takes minutes, not hours), or using [Google Colab](https://colab.research.google.com/)."
   ]
  },
  {
   "cell_type": "markdown",
   "id": "b87a1abc7c2362e9",
   "metadata": {},
   "source": [
    "## 1. Testing a word2vec model trained on Google News\n",
    "Install Gensim the latest version of Gensim, for instance by running in your Conda environment `pip install --upgrade gensim`. "
   ]
  },
  {
   "cell_type": "code",
   "id": "53a07f9db13a5f58",
   "metadata": {
    "ExecuteTime": {
     "end_time": "2024-04-08T18:02:17.801959Z",
     "start_time": "2024-04-08T18:02:17.363342Z"
    }
   },
   "source": [
    "import gensim\n",
    "import os\n",
    "from gensim import downloader"
   ],
   "outputs": [],
   "execution_count": 1
  },
  {
   "cell_type": "code",
   "id": "ec2561cb2402da1c",
   "metadata": {
    "ExecuteTime": {
     "end_time": "2024-04-08T18:02:31.472619Z",
     "start_time": "2024-04-08T18:02:17.802946Z"
    }
   },
   "source": [
    "gensim.downloader.load(\"word2vec-google-news-300\")"
   ],
   "outputs": [
    {
     "data": {
      "text/plain": [
       "<gensim.models.keyedvectors.KeyedVectors at 0x110fbfe30>"
      ]
     },
     "execution_count": 2,
     "metadata": {},
     "output_type": "execute_result"
    }
   ],
   "execution_count": 2
  },
  {
   "cell_type": "markdown",
   "id": "9db393d839ceef62",
   "metadata": {},
   "source": [
    "<font color='green'>**Question**: Where is the model stored on your computer?  What is the size of the file?  Please store the absolute path in a variable called `path_to_model_file`, and use `os.path.getsize` to display the size converted in gigabytes with two decimals. <font>"
   ]
  },
  {
   "cell_type": "code",
   "id": "16c2774b8ad2d49b",
   "metadata": {
    "ExecuteTime": {
     "end_time": "2024-04-08T18:02:31.482307Z",
     "start_time": "2024-04-08T18:02:31.474639Z"
    }
   },
   "source": [
    "path_to_model_file = '/Users/davebrunner/gensim-data/word2vec-google-news-300/word2vec-google-news-300.gz'\n",
    "size_in_bytes = os.path.getsize(path_to_model_file)\n",
    "print(f\"The file is {size_in_bytes / 1024 ** 3:.2f} GB\")"
   ],
   "outputs": [
    {
     "name": "stdout",
     "output_type": "stream",
     "text": [
      "The file is 1.62 GB\n"
     ]
    }
   ],
   "execution_count": 3
  },
  {
   "cell_type": "code",
   "id": "21933ef75c550c77",
   "metadata": {
    "ExecuteTime": {
     "end_time": "2024-04-08T18:02:44.857957Z",
     "start_time": "2024-04-08T18:02:31.487292Z"
    }
   },
   "source": [
    "from gensim.models import KeyedVectors\n",
    "\n",
    "wv_model = gensim.models.KeyedVectors.load_word2vec_format(path_to_model_file, binary=True)  # C bin format"
   ],
   "outputs": [],
   "execution_count": 4
  },
  {
   "cell_type": "markdown",
   "id": "66c8dc6e6df3f81b",
   "metadata": {},
   "source": [
    "<font color='green'>**Question**: What is the memory size of the process corresponding to this notebook?  Please simply write the value you obtain from any OS-specific utility that you wish to use for this purpose. <font>"
   ]
  },
  {
   "cell_type": "markdown",
   "id": "14b31eb97b53ffc1",
   "metadata": {
    "collapsed": false,
    "jupyter": {
     "outputs_hidden": false
    }
   },
   "source": [
    "The memory size of the process (whole of PyCharm) is 1.9 GB"
   ]
  },
  {
   "cell_type": "markdown",
   "id": "2546fd0f108de50d",
   "metadata": {},
   "source": [
    "<font color='green'>**Question**: What is the size of the vocabulary of this model, i.e., how many words does it know? <font>"
   ]
  },
  {
   "cell_type": "code",
   "id": "5cc0139124f4e32b",
   "metadata": {
    "ExecuteTime": {
     "end_time": "2024-04-08T18:02:44.868531Z",
     "start_time": "2024-04-08T18:02:44.860481Z"
    }
   },
   "source": [
    "# Please write the Python code needed to display the vocabulary size and execute it.\n",
    "print(f\"The vocabulary size is {len(wv_model.key_to_index)}\")"
   ],
   "outputs": [
    {
     "name": "stdout",
     "output_type": "stream",
     "text": [
      "The vocabulary size is 3000000\n"
     ]
    }
   ],
   "execution_count": 5
  },
  {
   "cell_type": "markdown",
   "id": "e9a1ad831318ecd0",
   "metadata": {},
   "source": [
    "<font color='green'>**Question**: Compare the vocabulary size with the number of words in an English dictionary. How do you explain the difference?\n",
    "    \n",
    "Write a function which takes as input a given word and outputs whether the word is part of the vocabulary or not. Display 7 words which are in the model's vocabulary, and 3 that are not, thereby illustrating the difference in vocabulary size. <font>"
   ]
  },
  {
   "cell_type": "markdown",
   "id": "7602490d232ce233",
   "metadata": {
    "collapsed": false,
    "jupyter": {
     "outputs_hidden": false
    }
   },
   "source": [
    "The Oxford English Dictionary contains 273,000 words. This is quiet similar to the vocabulary size of the Google News model, which contains 300,000 words. The difference is due to the fact that the Google News model was trained on a large corpus of text, which allows it to have a larger vocabulary than a standard English dictionary."
   ]
  },
  {
   "cell_type": "code",
   "id": "39191fd61c732667",
   "metadata": {
    "ExecuteTime": {
     "end_time": "2024-04-08T18:02:44.874013Z",
     "start_time": "2024-04-08T18:02:44.869522Z"
    }
   },
   "source": [
    "in_vocab = ['dog', 'cat', 'house', 'car', 'tree', 'computer', 'book']\n",
    "not_in_vocab = ['accismus', 'battology', 'cacoethes']\n",
    "\n",
    "\n",
    "def is_in_vocab(word):\n",
    "    return word in wv_model.key_to_index\n",
    "\n",
    "\n",
    "print(\"Words in the vocabulary:\")\n",
    "[print(f\"{word} is in the vocabulary: {is_in_vocab(word)}\") for word in in_vocab]\n",
    "print(\"\\nWords not in the vocabulary:\")\n",
    "[print(f\"{word} is in the vocabulary: {is_in_vocab(word)}\") for word in not_in_vocab]"
   ],
   "outputs": [
    {
     "name": "stdout",
     "output_type": "stream",
     "text": [
      "Words in the vocabulary:\n",
      "dog is in the vocabulary: True\n",
      "cat is in the vocabulary: True\n",
      "house is in the vocabulary: True\n",
      "car is in the vocabulary: True\n",
      "tree is in the vocabulary: True\n",
      "computer is in the vocabulary: True\n",
      "book is in the vocabulary: True\n",
      "\n",
      "Words not in the vocabulary:\n",
      "accismus is in the vocabulary: False\n",
      "battology is in the vocabulary: False\n",
      "cacoethes is in the vocabulary: False\n"
     ]
    },
    {
     "data": {
      "text/plain": [
       "[None, None, None]"
      ]
     },
     "execution_count": 6,
     "metadata": {},
     "output_type": "execute_result"
    }
   ],
   "execution_count": 6
  },
  {
   "cell_type": "markdown",
   "id": "54b80d7a47fa4f45",
   "metadata": {},
   "source": [
    "<font color='green'>**Question**: What is the size of the vector space for this word2vec model, i.e. the dimensionality of the embedding space? Use two methods to determine the size: using the vector of a word from the vocabulary, and directly using the shape of the model.<font>"
   ]
  },
  {
   "cell_type": "code",
   "id": "49c3fbf9a514758",
   "metadata": {
    "ExecuteTime": {
     "end_time": "2024-04-08T18:02:44.876282Z",
     "start_time": "2024-04-08T18:02:44.874630Z"
    }
   },
   "source": [
    "dimension = len(wv_model['dog'])\n",
    "print(f\"The dimensionality of the embedding space is {dimension}\")\n",
    "print(f\"The dimensionality of the embedding space is {wv_model.vectors.shape[1]}\")"
   ],
   "outputs": [
    {
     "name": "stdout",
     "output_type": "stream",
     "text": [
      "The dimensionality of the embedding space is 300\n",
      "The dimensionality of the embedding space is 300\n"
     ]
    }
   ],
   "execution_count": 7
  },
  {
   "cell_type": "markdown",
   "id": "7b80011178871cb7",
   "metadata": {},
   "source": [
    "## 2. Using word2vec trained on Google News for word similarity\n",
    "In this section, you are going to use word vectors to compute (cosine) similarity between words (use the [KeyedVectors](https://radimrehurek.com/gensim/models/keyedvectors.html) documentation).  You will experiment with three tasks: \n",
    "\n",
    "(a) rank a small number of word pairs by decreasing similarity;  \n",
    "(b) test the model on the WordSimilarity-353 set;  \n",
    "(c) test the model on the analogy task."
   ]
  },
  {
   "cell_type": "markdown",
   "id": "b32598edb12e605d",
   "metadata": {},
   "source": [
    "<font color='green'>**Question**: What is the similarity for the word pairs given below? Sort the word pairs given below by decreasing similarity, i.e., most similar first. Display the similarity value found by word2vec, with 2 decimals. <font>"
   ]
  },
  {
   "cell_type": "code",
   "id": "6c8f68de3e819cb5",
   "metadata": {
    "ExecuteTime": {
     "end_time": "2024-04-08T18:02:44.903717Z",
     "start_time": "2024-04-08T18:02:44.876897Z"
    }
   },
   "source": [
    "test_pairs = [('car', 'automobile'), ('car', 'bike'), ('car', 'oil'), ('car', 'pedal'),\n",
    "              ('bike', 'pedal'), ('bike', 'bicycle'), ('oil', 'gas'), ('car', 'bus')]\n",
    "similarities = [(pair, wv_model.similarity(pair[0], pair[1])) for pair in test_pairs]\n",
    "sorted_similarities = sorted(similarities, key=lambda x: x[1], reverse=True)\n",
    "[print(f\"{pair[0]} and {pair[1]} have a similarity of {sim:.2f}\") for pair, sim in sorted_similarities]"
   ],
   "outputs": [
    {
     "name": "stdout",
     "output_type": "stream",
     "text": [
      "bike and bicycle have a similarity of 0.85\n",
      "oil and gas have a similarity of 0.71\n",
      "car and bike have a similarity of 0.59\n",
      "car and automobile have a similarity of 0.58\n",
      "car and bus have a similarity of 0.47\n",
      "bike and pedal have a similarity of 0.47\n",
      "car and pedal have a similarity of 0.29\n",
      "car and oil have a similarity of 0.15\n"
     ]
    },
    {
     "data": {
      "text/plain": [
       "[None, None, None, None, None, None, None, None]"
      ]
     },
     "execution_count": 8,
     "metadata": {},
     "output_type": "execute_result"
    }
   ],
   "execution_count": 8
  },
  {
   "cell_type": "markdown",
   "id": "af847fe45b842452",
   "metadata": {},
   "source": [
    "<font color='green'>**Question**: What are the five closest words to *car* in the whole vocabulary and their similarity values with *car*? <font>"
   ]
  },
  {
   "cell_type": "code",
   "id": "ce41ec00723283cf",
   "metadata": {
    "ExecuteTime": {
     "end_time": "2024-04-08T18:02:47.894958Z",
     "start_time": "2024-04-08T18:02:44.904388Z"
    }
   },
   "source": [
    "wv_model.fill_norms()  # run this to avoid memory footprint doubling with the first call \n",
    "# of \"most_similar\" (which caches unit vectors without replacement, unless told explicitly to do so).\n",
    "# Will have the same effect on evaluate_word_analogies below.\n",
    "result = wv_model.most_similar(positive=['car'])[0:5]\n",
    "[print(f\"Similarity={similarity:.3f} for word: {word}\") for word, similarity in result]"
   ],
   "outputs": [
    {
     "name": "stdout",
     "output_type": "stream",
     "text": [
      "Similarity=0.782 for word: vehicle\n",
      "Similarity=0.742 for word: cars\n",
      "Similarity=0.716 for word: SUV\n",
      "Similarity=0.691 for word: minivan\n",
      "Similarity=0.674 for word: truck\n"
     ]
    },
    {
     "data": {
      "text/plain": [
       "[None, None, None, None, None]"
      ]
     },
     "execution_count": 9,
     "metadata": {},
     "output_type": "execute_result"
    }
   ],
   "execution_count": 9
  },
  {
   "cell_type": "markdown",
   "id": "d1b784de37a6fe7",
   "metadata": {},
   "source": [
    "Using the [KeyedVectors](https://radimrehurek.com/gensim/models/keyedvectors.html) documentation, evaluate the model on the WordSimilarity-353 task which compares similarities assigned to word pairs by word2vec with those assigned by humans. \n",
    "\n",
    "<font color='green'>**Question**: What is the Pearson Correlation Coefficient for the WordSimilarity-353 task (rounding to two decimals)? <font>"
   ]
  },
  {
   "cell_type": "code",
   "id": "6c0fc8a2956c6da2",
   "metadata": {
    "ExecuteTime": {
     "end_time": "2024-04-08T18:02:48.144715Z",
     "start_time": "2024-04-08T18:02:47.961213Z"
    }
   },
   "source": [
    "from gensim.test.utils import datapath\n",
    "\n",
    "similarities = wv_model.evaluate_word_pairs(datapath('wordsim353.tsv'))\n",
    "print(f\"The Pearson Correlation Coefficient for the WordSimilarity-353 task is {similarities[0][0]:.2f}\")"
   ],
   "outputs": [
    {
     "name": "stdout",
     "output_type": "stream",
     "text": [
      "The Pearson Correlation Coefficient for the WordSimilarity-353 task is 0.62\n"
     ]
    }
   ],
   "execution_count": 10
  },
  {
   "attachments": {},
   "cell_type": "markdown",
   "id": "64febbd52a36045d",
   "metadata": {},
   "source": [
    "Using the [KeyedVectors](https://radimrehurek.com/gensim/models/keyedvectors.html) documentation, evaluate the model on the Analogy Tasks (e.g., \"*What is to Thailand what Athens is to Greece?*\"). Notes: The task is specified in a data file called `questions-words.txt` containing samples to test how well a generated vector model does with analogies of different kinds: For example capital-countries (Athens Greece Baghdad Iraq) , currency (Algeria dinar Angola kwanza) etc.\n",
    "\n",
    "After generating word embeddings from a corpus, the file from \"question-words.txt\" can be used to test how well the vectors do for analogy tests. For a sample \"Athens Greece Baghdad Iraq\", the analogy test looks at nearest neighbors for the vector Vector(\"Greece\") - Vector(\"Athens\") + Vector(\"Baghdad\"). If the nearest neighbor is the vector \"Iraq\" then that analogy test passes.\n",
    "\n",
    "<font color='green'>**Question**: How long does the evaluation of the word analogy task last (note: store the output in a variable named `analogy_scores` for future use)?<font>\n",
    "\n"
   ]
  },
  {
   "cell_type": "code",
   "id": "bf91463eb4089f9e",
   "metadata": {
    "ExecuteTime": {
     "end_time": "2024-04-08T18:05:30.565914Z",
     "start_time": "2024-04-08T18:02:48.145358Z"
    }
   },
   "source": [
    "import time\n",
    "\n",
    "start_time = time.time()\n",
    "analogy_scores = wv_model.evaluate_word_analogies(datapath('questions-words.txt'))\n",
    "print(f\"The evaluation of the word analogy task took {time.time() - start_time:.2f} seconds\")"
   ],
   "outputs": [
    {
     "name": "stdout",
     "output_type": "stream",
     "text": [
      "The evaluation of the word analogy task took 162.42 seconds\n"
     ]
    }
   ],
   "execution_count": 11
  },
  {
   "cell_type": "markdown",
   "id": "1fc083d74bae3020",
   "metadata": {},
   "source": [
    "<font color='green'>**Question**: What is the accuracy of the analogy task (number of correctly solved analogies)? How many analogy tasks are there in total?<font>"
   ]
  },
  {
   "cell_type": "code",
   "id": "6aded8527f524152",
   "metadata": {
    "ExecuteTime": {
     "end_time": "2024-04-08T18:05:30.576134Z",
     "start_time": "2024-04-08T18:05:30.568668Z"
    }
   },
   "source": [
    "float, list = analogy_scores\n",
    "correct_count, incorrect_count = 0, 0\n",
    "for entry in list:\n",
    "    correct_count += len(entry['correct'])\n",
    "    incorrect_count += len(entry['incorrect'])\n",
    "total_count = correct_count + incorrect_count\n",
    "print(f\"There are {correct_count} correctly solved analogies\")\n",
    "print(f\"There are {total_count} analogy tasks in total\")\n",
    "print(f\"The accuracy of the analogy task is {correct_count / total_count:.2f}\")"
   ],
   "outputs": [
    {
     "name": "stdout",
     "output_type": "stream",
     "text": [
      "There are 28614 correctly solved analogies\n",
      "There are 38660 analogy tasks in total\n",
      "The accuracy of the analogy task is 0.74\n"
     ]
    }
   ],
   "execution_count": 12
  },
  {
   "attachments": {},
   "cell_type": "markdown",
   "id": "6a17eee20c6545a8",
   "metadata": {},
   "source": [
    "<font color='green'>**Question**: What do correctly-solved and incorrectly-solved analogies look like for the first 4 categories in `analogy_scores`? Please display for each of them the accuracy, a correctly-solved analogy, and an incorrectly-solved one.<font>"
   ]
  },
  {
   "cell_type": "code",
   "id": "fd3b8c849cce8cc6",
   "metadata": {
    "ExecuteTime": {
     "end_time": "2024-04-08T18:05:30.581481Z",
     "start_time": "2024-04-08T18:05:30.577184Z"
    }
   },
   "source": [
    "for entry in list[0:4]:\n",
    "    correct = entry['correct'][0]\n",
    "    incorrect = entry['incorrect'][0]\n",
    "    print(f\"Category: {entry['section']}\")\n",
    "    print(f\"Accuracy: {len(entry['correct']) / (len(entry['correct']) + len(entry['incorrect'])):.2f}\")\n",
    "    print(f\"Correct analogy: {correct}\")\n",
    "    print(f\"Incorrect analogy: {incorrect}\")"
   ],
   "outputs": [
    {
     "name": "stdout",
     "output_type": "stream",
     "text": [
      "Category: capital-common-countries\n",
      "Accuracy: 0.83\n",
      "Correct analogy: ('ATHENS', 'GREECE', 'BANGKOK', 'THAILAND')\n",
      "Incorrect analogy: ('ATHENS', 'GREECE', 'BAGHDAD', 'IRAQ')\n",
      "Category: capital-world\n",
      "Accuracy: 0.81\n",
      "Correct analogy: ('ABUJA', 'NIGERIA', 'ACCRA', 'GHANA')\n",
      "Incorrect analogy: ('ABUJA', 'NIGERIA', 'AMMAN', 'JORDAN')\n",
      "Category: currency\n",
      "Accuracy: 0.28\n",
      "Correct analogy: ('ALGERIA', 'DINAR', 'ARGENTINA', 'PESO')\n",
      "Incorrect analogy: ('ALGERIA', 'DINAR', 'ANGOLA', 'KWANZA')\n",
      "Category: city-in-state\n",
      "Accuracy: 0.72\n",
      "Correct analogy: ('CHICAGO', 'ILLINOIS', 'HOUSTON', 'TEXAS')\n",
      "Incorrect analogy: ('CHICAGO', 'ILLINOIS', 'JACKSONVILLE', 'FLORIDA')\n"
     ]
    }
   ],
   "execution_count": 13
  },
  {
   "cell_type": "markdown",
   "id": "cd57cdcab7090a6e",
   "metadata": {},
   "source": [
    "## 3. Training a word2vec model from scratch\n",
    "In this section, you will first use `gensim.downloader` to retrieve a 100-million character corpus ('text8' excerpt from Wikipedia).  You will use this data to train your own word2vec model.  Then, you will test the model on word similarity and analogies tasks.\n",
    "* [documentation of gensim.downloader](https://radimrehurek.com/gensim/downloader.html)\n",
    "* [corpora and pre-trained models available from gensim-data](https://github.com/RaRe-Technologies/gensim-data) -- the list can also be accessed with the command `gensim.downloader.info()` \n",
    "\n",
    "Please run the following code first."
   ]
  },
  {
   "cell_type": "code",
   "id": "aed3349df0be94ff",
   "metadata": {
    "ExecuteTime": {
     "end_time": "2024-04-08T18:05:30.714501Z",
     "start_time": "2024-04-08T18:05:30.582832Z"
    }
   },
   "source": [
    "import gensim.downloader as api\n",
    "from gensim.models.word2vec import Word2Vec\n",
    "\n",
    "info = api.info()\n",
    "print(f\"Available models: {(info['models'].keys())}\")\n",
    "text8_corpus = api.load('text8')"
   ],
   "outputs": [
    {
     "name": "stdout",
     "output_type": "stream",
     "text": [
      "Available models: dict_keys(['fasttext-wiki-news-subwords-300', 'conceptnet-numberbatch-17-06-300', 'word2vec-ruscorpora-300', 'word2vec-google-news-300', 'glove-wiki-gigaword-50', 'glove-wiki-gigaword-100', 'glove-wiki-gigaword-200', 'glove-wiki-gigaword-300', 'glove-twitter-25', 'glove-twitter-50', 'glove-twitter-100', 'glove-twitter-200', '__testing_word2vec-matrix-synopsis'])\n"
     ]
    }
   ],
   "execution_count": 14
  },
  {
   "cell_type": "markdown",
   "id": "6cd8d204044da179",
   "metadata": {},
   "source": [
    "<font color='green'>**Question**: How many words are there in the 'text8' corpus?<font>"
   ]
  },
  {
   "cell_type": "markdown",
   "id": "a8116900c61ed439",
   "metadata": {
    "collapsed": false,
    "jupyter": {
     "outputs_hidden": false
    }
   },
   "source": [
    "First 100,000,000 bytes of plain text from Wikipedia.\n",
    "See below exact numbers."
   ]
  },
  {
   "cell_type": "markdown",
   "id": "2a343ed3ecd0ec41",
   "metadata": {},
   "source": [
    "Using the [documentation of Gensim's Word2Vec class](https://radimrehurek.com/gensim/models/word2vec.html), train your own word2vec model using 'text8'.  \n",
    "\n",
    "<font color='green'>**Question**: How many seconds does the training take (note: use the difference between start and end times obtained with `time.time()`)?<font>"
   ]
  },
  {
   "cell_type": "code",
   "id": "c3f2e54f8937b8b8",
   "metadata": {
    "ExecuteTime": {
     "end_time": "2024-04-08T18:05:57.361204Z",
     "start_time": "2024-04-08T18:05:30.715782Z"
    }
   },
   "source": [
    "import time\n",
    "from gensim.models import Word2Vec\n",
    "\n",
    "start_time = time.time()\n",
    "model = Word2Vec(text8_corpus)\n",
    "print(f\"The training took {time.time() - start_time:.2f} seconds\")"
   ],
   "outputs": [
    {
     "name": "stdout",
     "output_type": "stream",
     "text": [
      "The training took 26.64 seconds\n"
     ]
    }
   ],
   "execution_count": 15
  },
  {
   "attachments": {},
   "cell_type": "markdown",
   "id": "29ab5771f6c20285",
   "metadata": {},
   "source": [
    "<font color='green'>**Question**: What are the vocabulary size and the dimensionality of the embedding space of this model (Note: use your code from Section 1)?<font>"
   ]
  },
  {
   "cell_type": "code",
   "id": "79e4d515e212b3",
   "metadata": {
    "ExecuteTime": {
     "end_time": "2024-04-08T18:05:57.363368Z",
     "start_time": "2024-04-08T18:05:57.361751Z"
    }
   },
   "source": [
    "word_count = model.corpus_total_words\n",
    "unique_words = len(model.wv.key_to_index)\n",
    "print(f\"There are {word_count} words in the 'text8' corpus\")\n",
    "print(f\"There are {unique_words} unique tokens in the 'text8' corpus\")"
   ],
   "outputs": [
    {
     "name": "stdout",
     "output_type": "stream",
     "text": [
      "There are 17005207 words in the 'text8' corpus\n",
      "There are 71290 unique tokens in the 'text8' corpus\n"
     ]
    }
   ],
   "execution_count": 16
  },
  {
   "attachments": {},
   "cell_type": "markdown",
   "id": "724c76e2749d9c17",
   "metadata": {},
   "source": [
    "Please read the \"*Usage examples*\" of the [Word2Vec class](https://radimrehurek.com/gensim/models/word2vec.html) to understand the difference between saving the full Word2Vec model (which enables future retraining on additional data) or saving only the vectors, an instance of KeyedVectors, which will save space.  \n",
    "\n",
    "<font color='green'>**Question**: Save the vectors only, then load the vectors into a new variable, and (if everything worked fine), delete the old model variable from the notebook's memory using `del` (Note: saving the vectors may create one or more files, depending on the size of the model.). <font>"
   ]
  },
  {
   "cell_type": "code",
   "id": "3d29b594c696a4fb",
   "metadata": {
    "ExecuteTime": {
     "end_time": "2024-04-08T18:05:57.383371Z",
     "start_time": "2024-04-08T18:05:57.363858Z"
    }
   },
   "source": [
    "model.wv.save('word2vec.text8')\n",
    "del model"
   ],
   "outputs": [],
   "execution_count": 17
  },
  {
   "cell_type": "code",
   "id": "c04363c70aca2ea5",
   "metadata": {
    "collapsed": false,
    "jupyter": {
     "outputs_hidden": false
    },
    "ExecuteTime": {
     "end_time": "2024-04-08T18:05:57.397758Z",
     "start_time": "2024-04-08T18:05:57.383910Z"
    }
   },
   "source": [
    "wv_text8 = KeyedVectors.load('word2vec.text8')\n",
    "vector = wv_text8['dog']\n",
    "print(vector)\n",
    "print(f\"The dimensionality of the embedding space is {len(vector)}\")"
   ],
   "outputs": [
    {
     "name": "stdout",
     "output_type": "stream",
     "text": [
      "[ 1.0372682   0.9273389   0.5714064  -0.6696756   1.757426    0.89350486\n",
      " -2.0721395  -0.24385974  1.1128241   0.3977075  -0.6701453  -0.06387004\n",
      " -0.46286717  2.0455322  -2.3363202  -0.37171754  0.5991972  -0.51553136\n",
      " -0.31706583  0.01996479  0.0487573   1.2791055   1.2492368  -1.4653686\n",
      " -1.4642758   0.07492147 -0.8374806   0.34370402 -1.3016608  -0.56422234\n",
      "  2.164968   -1.0954784   0.3382127  -1.9861802   0.06513691  0.31076515\n",
      "  0.46914586  1.4088764  -1.0176483  -2.3093524   0.4075671  -0.9697262\n",
      "  0.59672415  0.6599731  -0.03799817 -0.8935614  -0.15510413 -2.1312237\n",
      " -0.92850286  1.0084157   1.2387708  -0.25290018 -1.5413024  -0.39757243\n",
      "  1.4712394  -0.7208378   0.84158003 -0.04311907 -1.3692831  -0.47374785\n",
      " -0.5549328  -0.79522234 -2.1502779   0.04396955  0.2555139  -1.4489982\n",
      " -0.5719712  -2.4961977  -1.0893114  -0.39151543  2.2085958  -0.9109922\n",
      "  1.0001414   0.34298614  1.370182    1.913173   -0.05758271  0.264903\n",
      " -1.310276    1.4046385  -1.3579178  -0.12371989  1.0614593   0.5582234\n",
      " -1.9250275   0.8839022   0.44253224  2.7240832   0.6696637   0.71097916\n",
      "  2.4425535  -1.4606558   1.7982254   1.1474539   1.1380992  -0.07865071\n",
      "  1.7101945   1.1495985  -1.2174147   2.5849783 ]\n",
      "The dimensionality of the embedding space is 100\n"
     ]
    }
   ],
   "execution_count": 18
  },
  {
   "cell_type": "markdown",
   "id": "824e77e28d8a63cc",
   "metadata": {},
   "source": [
    "Evaluate the new model on WordSimilarity-353 and Analogies tasks, reusing your code from above. \n",
    "\n",
    "<font color='green'>**Question**: What is the Pearson Correlation Coefficient for the WordSimilarity-353 task? What is the accuracy for the analogy task?<font>"
   ]
  },
  {
   "cell_type": "code",
   "id": "caa5001b6820b0e1",
   "metadata": {
    "ExecuteTime": {
     "end_time": "2024-04-08T18:05:57.420769Z",
     "start_time": "2024-04-08T18:05:57.398468Z"
    }
   },
   "source": [
    "wv_text8.fill_norms()\n",
    "similarities = wv_text8.evaluate_word_pairs(datapath('wordsim353.tsv'))\n",
    "print(f\"The Pearson Correlation Coefficient for the WordSimilarity-353 task is {similarities[0][0]:.2f}\")"
   ],
   "outputs": [
    {
     "name": "stdout",
     "output_type": "stream",
     "text": [
      "The Pearson Correlation Coefficient for the WordSimilarity-353 task is 0.60\n"
     ]
    }
   ],
   "execution_count": 19
  },
  {
   "cell_type": "markdown",
   "id": "ad3273dc380aba5f",
   "metadata": {},
   "source": [
    "<font color='green'>**Question**: How does this model compare with the one trained on Google News? Why?<font>"
   ]
  },
  {
   "cell_type": "markdown",
   "id": "ec237d2f6ec3fb4e",
   "metadata": {
    "collapsed": false,
    "jupyter": {
     "outputs_hidden": false
    }
   },
   "source": [
    "The model trained on Google News is slightly more accurate than the one trained on the text8 corpus. This is because the Google News model was trained on a much larger dataset, which allows it to have a larger vocabulary and more accurate word embeddings.\n",
    "The dimension of the embedding space is 300 for the Google News model and 100 for the text8 model. This means that the Google News model has a higher dimensionality, which allows it to capture more information about the words in the vocabulary."
   ]
  },
  {
   "cell_type": "markdown",
   "id": "2f78cbe4054b107d",
   "metadata": {},
   "source": [
    "Compare the accuracies on the analogy tasks of the two models for each category of tasks.\n",
    "\n",
    "<font color='green'>**Question**: For which category are accuracies the most similar? Can you explain this?<font>"
   ]
  },
  {
   "cell_type": "code",
   "id": "e83862e46ca2a1b8",
   "metadata": {
    "ExecuteTime": {
     "end_time": "2024-04-08T18:08:57.591161Z",
     "start_time": "2024-04-08T18:05:57.422220Z"
    }
   },
   "source": [
    "float_new, list_news = wv_model.evaluate_word_analogies(datapath('questions-words.txt'))\n",
    "float_text8, list_text8 = wv_text8.evaluate_word_analogies(datapath('questions-words.txt'))\n",
    "correct_count_news, correct_count_text8, total_count = 0, 0, 0\n",
    "for entry_news, entry_text8 in zip(list_news, list_text8):\n",
    "    correct_count_news += len(entry_news['correct'])\n",
    "    correct_count_text8 += len(entry_text8['correct'])\n",
    "    total_count += len(entry_news['correct']) + len(entry_news['incorrect'])\n",
    "    print(f\"Category: {entry_news['section']}\")\n",
    "    print(\n",
    "        f\"Accuracy for Google News: {len(entry_news['correct']) / (len(entry_news['correct']) + len(entry_news['incorrect'])):.2f}\")\n",
    "    print(\n",
    "        f\"Accuracy for text8: {len(entry_text8['correct']) / (len(entry_text8['correct']) + len(entry_text8['incorrect'])):.2f}\")\n",
    "    print(\"-------------------------\")\n",
    "print(f\"The accuracy of the analogy task for Google News is {correct_count_news / total_count:.2f}\")\n",
    "print(f\"The accuracy of the analogy task for text8 is {correct_count_text8 / total_count:.2f}\")"
   ],
   "outputs": [
    {
     "name": "stdout",
     "output_type": "stream",
     "text": [
      "Category: capital-common-countries\n",
      "Accuracy for Google News: 0.83\n",
      "Accuracy for text8: 0.33\n",
      "-------------------------\n",
      "Category: capital-world\n",
      "Accuracy for Google News: 0.81\n",
      "Accuracy for text8: 0.12\n",
      "-------------------------\n",
      "Category: currency\n",
      "Accuracy for Google News: 0.28\n",
      "Accuracy for text8: 0.05\n",
      "-------------------------\n",
      "Category: city-in-state\n",
      "Accuracy for Google News: 0.72\n",
      "Accuracy for text8: 0.10\n",
      "-------------------------\n",
      "Category: family\n",
      "Accuracy for Google News: 0.86\n",
      "Accuracy for text8: 0.61\n",
      "-------------------------\n",
      "Category: gram1-adjective-to-adverb\n",
      "Accuracy for Google News: 0.29\n",
      "Accuracy for text8: 0.09\n",
      "-------------------------\n",
      "Category: gram2-opposite\n",
      "Accuracy for Google News: 0.43\n",
      "Accuracy for text8: 0.06\n",
      "-------------------------\n",
      "Category: gram3-comparative\n",
      "Accuracy for Google News: 0.91\n",
      "Accuracy for text8: 0.59\n",
      "-------------------------\n",
      "Category: gram4-superlative\n",
      "Accuracy for Google News: 0.88\n",
      "Accuracy for text8: 0.22\n",
      "-------------------------\n",
      "Category: gram5-present-participle\n",
      "Accuracy for Google News: 0.79\n",
      "Accuracy for text8: 0.28\n",
      "-------------------------\n",
      "Category: gram6-nationality-adjective\n",
      "Accuracy for Google News: 0.90\n",
      "Accuracy for text8: 0.50\n",
      "-------------------------\n",
      "Category: gram7-past-tense\n",
      "Accuracy for Google News: 0.65\n",
      "Accuracy for text8: 0.23\n",
      "-------------------------\n",
      "Category: gram8-plural\n",
      "Accuracy for Google News: 0.87\n",
      "Accuracy for text8: 0.34\n",
      "-------------------------\n",
      "Category: gram9-plural-verbs\n",
      "Accuracy for Google News: 0.68\n",
      "Accuracy for text8: 0.26\n",
      "-------------------------\n",
      "Category: Total accuracy\n",
      "Accuracy for Google News: 0.74\n",
      "Accuracy for text8: 0.24\n",
      "-------------------------\n",
      "The accuracy of the analogy task for Google News is 0.74\n",
      "The accuracy of the analogy task for text8 is 0.23\n"
     ]
    }
   ],
   "execution_count": 20
  },
  {
   "cell_type": "markdown",
   "id": "f85bea59e489574d",
   "metadata": {
    "collapsed": false,
    "jupyter": {
     "outputs_hidden": false
    }
   },
   "source": [
    "The accuaracies are the most similiar in the category family. This is because the family category is common category in the English language, so both models have a lot of data to train on."
   ]
  },
  {
   "attachments": {},
   "cell_type": "markdown",
   "id": "03f5e9ca",
   "metadata": {},
   "source": [
    "## 4. Visualization of word2vec embeddings with PCA"
   ]
  },
  {
   "attachments": {},
   "cell_type": "markdown",
   "id": "515d07f288aa4577",
   "metadata": {},
   "source": [
    "You may want to visualize the word vectors for selected words."
   ]
  },
  {
   "cell_type": "code",
   "id": "8ea4631dbf6e1edd",
   "metadata": {
    "ExecuteTime": {
     "end_time": "2024-04-08T18:08:57.616540Z",
     "start_time": "2024-04-08T18:08:57.594264Z"
    }
   },
   "source": [
    "wv_text8 = KeyedVectors.load('word2vec.text8')\n",
    "\n",
    "my_words = ['listen', 'ear', 'see', 'eye', 'foot', 'walk']\n",
    "my_words_in_voc = [w for w in my_words if w in wv_text8]\n",
    "print(my_words_in_voc)"
   ],
   "outputs": [
    {
     "name": "stdout",
     "output_type": "stream",
     "text": [
      "['listen', 'ear', 'see', 'eye', 'foot', 'walk']\n"
     ]
    }
   ],
   "execution_count": 21
  },
  {
   "attachments": {},
   "cell_type": "markdown",
   "id": "608c83e35140eb94",
   "metadata": {},
   "source": [
    "The function below will help you plot a 2D representation of the word vectors using [PCA from scikit.learn](https://scikit-learn.org/stable/modules/generated/sklearn.decomposition.PCA.html).  (It is also possible to use [UMAP](https://umap-learn.readthedocs.io/en/latest/basic_usage.html) instead of PCA in display_scatterplot).  You can display word vectors for your model trained on Text8, and for the model trained on Google News. "
   ]
  },
  {
   "cell_type": "code",
   "id": "17526452d74a82a1",
   "metadata": {
    "ExecuteTime": {
     "end_time": "2024-04-08T18:09:04.310608Z",
     "start_time": "2024-04-08T18:08:57.617531Z"
    }
   },
   "source": [
    "from sklearn.decomposition import PCA\n",
    "import matplotlib.pyplot as plt\n",
    "%matplotlib inline"
   ],
   "outputs": [],
   "execution_count": 22
  },
  {
   "cell_type": "code",
   "id": "f404cf2d63d7644c",
   "metadata": {
    "ExecuteTime": {
     "end_time": "2024-04-08T18:09:04.313932Z",
     "start_time": "2024-04-08T18:09:04.311301Z"
    }
   },
   "source": [
    "def display_scatterplot(model, words):  # assumes all words are in the vocabulary\n",
    "    word_vectors = [model[word] for word in words]\n",
    "    twodim = PCA().fit_transform(word_vectors)[:, :2]\n",
    "    plt.figure(figsize=(6, 6))\n",
    "    plt.scatter(twodim[:, 0], twodim[:, 1], edgecolors='k', c='r')\n",
    "    for word, (x, y) in zip(words, twodim):\n",
    "        plt.text(x + 0.03, y + 0.03, word)"
   ],
   "outputs": [],
   "execution_count": 23
  },
  {
   "cell_type": "code",
   "id": "74ae3cf3c0a74314",
   "metadata": {
    "ExecuteTime": {
     "end_time": "2024-04-08T18:09:04.406261Z",
     "start_time": "2024-04-08T18:09:04.314567Z"
    }
   },
   "source": [
    "display_scatterplot(wv_text8, my_words_in_voc)"
   ],
   "outputs": [
    {
     "data": {
      "text/plain": [
       "<Figure size 600x600 with 1 Axes>"
      ],
      "image/png": "[encoded data removed]"
     },
     "metadata": {},
     "output_type": "display_data"
    }
   ],
   "execution_count": 24
  },
  {
   "cell_type": "code",
   "id": "881add5d9b2ab450",
   "metadata": {
    "ExecuteTime": {
     "end_time": "2024-04-08T18:09:04.465885Z",
     "start_time": "2024-04-08T18:09:04.406831Z"
    }
   },
   "source": [
    "display_scatterplot(wv_model, my_words_in_voc)  # assuming they are in the larger vocabulary"
   ],
   "outputs": [
    {
     "data": {
      "text/plain": [
       "<Figure size 600x600 with 1 Axes>"
      ],
      "image/png": "[encoded data removed]"
     },
     "metadata": {},
     "output_type": "display_data"
    }
   ],
   "execution_count": 25
  },
  {
   "cell_type": "markdown",
   "id": "bb8f0594dc5bb549",
   "metadata": {},
   "source": [
    "## End of Lab 6\n",
    "Please make sure all cells have been executed, save this completed notebook, compress it to a *zip* file, and upload it to [Moodle](https://moodle.msengineering.ch/course/view.php?id=1869)."
   ]
  }
 ],
 "metadata": {
  "kernelspec": {
   "display_name": "Python 3 (ipykernel)",
   "language": "python",
   "name": "python3"
  },
  "language_info": {
   "codemirror_mode": {
    "name": "ipython",
    "version": 3
   },
   "file_extension": ".py",
   "mimetype": "text/x-python",
   "name": "python",
   "nbconvert_exporter": "python",
   "pygments_lexer": "ipython3",
   "version": "3.12.2"
  }
 },
 "nbformat": 4,
 "nbformat_minor": 5
}
