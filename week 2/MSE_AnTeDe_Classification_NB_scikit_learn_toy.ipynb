{
  "cells": [
    {
      "cell_type": "markdown",
      "metadata": {
        "id": "UjQ8q7oMQJl3"
      },
      "source": [
        "# AnTeDe Text Classification - Part B\n",
        "\n",
        "## Session goal\n",
        "The goal of this session is to implement a Multinomial Naive Bayes classifier with standard building blocks from *scikit-learn*. "
      ]
    },
    {
      "cell_type": "markdown",
      "metadata": {
        "id": "6l0X6SeaQJl4"
      },
      "source": [
        "## Data collection\n",
        "The dataset is the same as in Lab 2a."
      ]
    },
    {
      "cell_type": "code",
      "execution_count": null,
      "metadata": {
        "colab": {
          "base_uri": "https://localhost:8080/"
        },
        "id": "pbAfrvU4QJl5",
        "outputId": "89cfe73b-e774-446b-faae-1cf6507f43b0"
      },
      "outputs": [
        {
          "output_type": "stream",
          "name": "stderr",
          "text": [
            "[nltk_data] Downloading package stopwords to /root/nltk_data...\n",
            "[nltk_data]   Package stopwords is already up-to-date!\n",
            "[nltk_data] Downloading package wordnet to /root/nltk_data...\n",
            "[nltk_data]   Package wordnet is already up-to-date!\n",
            "[nltk_data] Downloading package punkt to /root/nltk_data...\n",
            "[nltk_data]   Package punkt is already up-to-date!\n",
            "[nltk_data] Downloading package omw-1.4 to /root/nltk_data...\n",
            "[nltk_data]   Package omw-1.4 is already up-to-date!\n"
          ]
        }
      ],
      "source": [
        "import pandas as pd\n",
        "import nltk\n",
        "nltk.download('stopwords')\n",
        "nltk.download('wordnet')\n",
        "nltk.download('punkt')\n",
        "nltk.download('omw-1.4')\n",
        "\n",
        "\n",
        "training_corpus=[\"The Limmat flows out of the lake.\", \n",
        "           \"The bears are in the bear pit near the river.\",\n",
        "           \"The Rhône flows out of Lake Geneva.\",\n",
        "          ]\n",
        "training_labels=[\"zurich\", \n",
        "         \"bern\",\n",
        "         \"geneva\",\n",
        "        ]\n",
        "\n",
        "\n",
        "\n"
      ]
    },
    {
      "cell_type": "markdown",
      "metadata": {
        "id": "nK_sgwHxQJl7"
      },
      "source": [
        "We extract the features with CountVectorizer, removing the stop words automatically.\n",
        "\n",
        "Something goes wrong. What is it?"
      ]
    },
    {
      "cell_type": "code",
      "execution_count": null,
      "metadata": {
        "colab": {
          "base_uri": "https://localhost:8080/"
        },
        "id": "pUdRUVwNQJl8",
        "outputId": "74b14ff3-0ebd-42b5-aec5-ff3865173caf"
      },
      "outputs": [
        {
          "output_type": "stream",
          "name": "stdout",
          "text": [
            "                                               bear  bears  flows  geneva  lake  limmat  near  pit  rhône  river\n",
            "The Limmat flows out of the lake.                 0      0      1       0     1       1     0    0      0      0\n",
            "The bears are in the bear pit near the river.     1      1      0       0     0       0     1    1      0      1\n",
            "The Rhône flows out of Lake Geneva.               0      0      1       1     1       0     0    0      1      0\n"
          ]
        }
      ],
      "source": [
        "from sklearn.feature_extraction.text import CountVectorizer\n",
        "vectorizer = CountVectorizer(stop_words='english')\n",
        "features = vectorizer.fit_transform(training_corpus)  \n",
        "\n",
        "\n",
        "\n",
        "def visualize(column_names, columns, row_names=None):\n",
        "    df=pd.DataFrame(columns=column_names)\n",
        "\n",
        "    for index, feature in enumerate(column_names):\n",
        "        df[feature]=columns[:,index]\n",
        "        \n",
        "    if row_names is not None:\n",
        "        \n",
        "        for index, row_label in enumerate(row_names):\n",
        "            df=df.rename({index:row_label}, axis='index')\n",
        "        \n",
        "\n",
        "    return df\n",
        "\n",
        "df = visualize(column_names=vectorizer.get_feature_names_out(), \\\n",
        "               columns=features.toarray(), \\\n",
        "               row_names = training_corpus)\n",
        "\n",
        "print (df.to_string())"
      ]
    },
    {
      "cell_type": "markdown",
      "metadata": {
        "id": "fy6XArezQJl9"
      },
      "source": [
        "What went wrong is that we failed to lemmatize our tokens. For purposes of text classification, the tokens 'bear' and 'bears' carry the same information. Study the code below to see how you can add a lemmatizer to CountVectorizer."
      ]
    },
    {
      "cell_type": "code",
      "execution_count": null,
      "metadata": {
        "scrolled": true,
        "colab": {
          "base_uri": "https://localhost:8080/"
        },
        "id": "uhMpX0aUQJl-",
        "outputId": "044cd05f-f1e4-4fe4-e649-9fc3a33e66b1"
      },
      "outputs": [
        {
          "output_type": "stream",
          "name": "stdout",
          "text": [
            "                                               bear  flow  geneva  lake  limmat  near  pit  rhône  river\n",
            "The Limmat flows out of the lake.                 0     1       0     1       1     0    0      0      0\n",
            "The bears are in the bear pit near the river.     2     0       0     0       0     1    1      0      1\n",
            "The Rhône flows out of Lake Geneva.               0     1       1     1       0     0    0      1      0\n"
          ]
        },
        {
          "output_type": "stream",
          "name": "stderr",
          "text": [
            "/usr/local/lib/python3.8/dist-packages/sklearn/feature_extraction/text.py:396: UserWarning: Your stop_words may be inconsistent with your preprocessing. Tokenizing the stop words generated tokens ['ha', 'le', 'u', 'wa'] not in stop_words.\n",
            "  warnings.warn(\n"
          ]
        }
      ],
      "source": [
        "from nltk.tokenize import word_tokenize\n",
        "from nltk.stem import WordNetLemmatizer\n",
        "\n",
        "class LemmaTokenizer(object):\n",
        "     def __init__(self):\n",
        "         self.wnl = WordNetLemmatizer()\n",
        "     def __call__(self, doc):\n",
        "         return [self.wnl.lemmatize(t) for t in word_tokenize(doc)\\\n",
        "                 if (t.isalnum())]\n",
        "\n",
        "\n",
        "\n",
        "vectorizer = CountVectorizer(stop_words='english', tokenizer=LemmaTokenizer())\n",
        "bow_training_features = vectorizer.fit_transform(training_corpus)  \n",
        "\n",
        "df = visualize(column_names=vectorizer.get_feature_names_out(), \\\n",
        "               columns=bow_training_features.toarray(), \\\n",
        "               row_names = training_corpus)\n",
        "print (df.to_string())"
      ]
    },
    {
      "cell_type": "markdown",
      "metadata": {
        "id": "5uR0QOUTQJl_"
      },
      "source": [
        "Write the code to extract and visualize the test features based on the test corpus below."
      ]
    },
    {
      "cell_type": "code",
      "execution_count": null,
      "metadata": {
        "scrolled": true,
        "colab": {
          "base_uri": "https://localhost:8080/"
        },
        "id": "snhjfQ6fQJl_",
        "outputId": "7a04fecb-b746-4610-c670-fc043256e33c"
      },
      "outputs": [
        {
          "output_type": "stream",
          "name": "stdout",
          "text": [
            "                         bear  flow  geneva  lake  limmat  near  pit  rhône  river\n",
            "We saw the bears there.     1     0       0     0       0     0    0      0      0\n",
            "We crossed the Rhône.       0     0       0     0       0     0    0      1      0\n",
            "There is no lake.           0     0       0     1       0     0    0      0      0\n"
          ]
        }
      ],
      "source": [
        "test_corpus = ['We saw the bears there.', \n",
        "               'We crossed the Rhône.', \n",
        "               'There is no lake.',\n",
        "              ]\n",
        "test_labels = ['bern',\n",
        "               'geneva',\n",
        "               'bern',\n",
        "              ]\n",
        "\n",
        "# BEGIN_REMOVE\n",
        "bow_test_features = vectorizer.transform(test_corpus) \n",
        "\n",
        "df = visualize(column_names=vectorizer.get_feature_names_out(), \\\n",
        "               columns=bow_test_features.toarray(), \\\n",
        "               row_names = test_corpus)\n",
        "\n",
        "print (df.to_string())\n",
        "# END_REMOVE"
      ]
    },
    {
      "cell_type": "markdown",
      "metadata": {
        "id": "9wAJ4S8AQJmB"
      },
      "source": [
        "With the following code, we fit a classifier to the training data, run it on the test data, and evaluate its performance."
      ]
    },
    {
      "cell_type": "code",
      "execution_count": null,
      "metadata": {
        "colab": {
          "base_uri": "https://localhost:8080/"
        },
        "id": "IvOA7NuVQJmB",
        "outputId": "23ad2c8b-5ac1-439e-bb38-c83bcfc59c30"
      },
      "outputs": [
        {
          "output_type": "stream",
          "name": "stdout",
          "text": [
            "Accuracy: 0.667\n",
            "              precision    recall  f1-score   support\n",
            "\n",
            "        bern       1.00      0.50      0.67         2\n",
            "      geneva       1.00      1.00      1.00         1\n",
            "      zurich       0.00      0.00      0.00         0\n",
            "\n",
            "    accuracy                           0.67         3\n",
            "   macro avg       0.67      0.50      0.56         3\n",
            "weighted avg       1.00      0.67      0.78         3\n",
            "\n",
            "               test_corpus test_labels predicted_labels\n",
            "0  We saw the bears there.        bern             bern\n",
            "1    We crossed the Rhône.      geneva           geneva\n",
            "2        There is no lake.        bern           zurich\n"
          ]
        },
        {
          "output_type": "stream",
          "name": "stderr",
          "text": [
            "/usr/local/lib/python3.8/dist-packages/sklearn/metrics/_classification.py:1318: UndefinedMetricWarning: Recall and F-score are ill-defined and being set to 0.0 in labels with no true samples. Use `zero_division` parameter to control this behavior.\n",
            "  _warn_prf(average, modifier, msg_start, len(result))\n",
            "/usr/local/lib/python3.8/dist-packages/sklearn/metrics/_classification.py:1318: UndefinedMetricWarning: Recall and F-score are ill-defined and being set to 0.0 in labels with no true samples. Use `zero_division` parameter to control this behavior.\n",
            "  _warn_prf(average, modifier, msg_start, len(result))\n",
            "/usr/local/lib/python3.8/dist-packages/sklearn/metrics/_classification.py:1318: UndefinedMetricWarning: Recall and F-score are ill-defined and being set to 0.0 in labels with no true samples. Use `zero_division` parameter to control this behavior.\n",
            "  _warn_prf(average, modifier, msg_start, len(result))\n"
          ]
        }
      ],
      "source": [
        "def show_overview(test_corpus, test_labels, predicted_labels):\n",
        "        df=pd.DataFrame()\n",
        "        df['test_corpus']=test_corpus\n",
        "        df['test_labels']=test_labels\n",
        "        df['predicted_labels']=predicted_labels\n",
        "        print (df.to_string())\n",
        "\n",
        "def run_model(classifier,\\\n",
        "    training_data, training_labels,\\\n",
        "    test_data, test_labels):\n",
        "        # build model\n",
        "        classifier.fit(training_data, training_labels)\n",
        "        # predict using model\n",
        "        predictions = classifier.predict(test_data)\n",
        "        # evaluate model prediction performance\n",
        "        get_metrics(true_labels=test_labels,\n",
        "        predicted_labels=predictions)\n",
        "        return list(predictions)\n",
        "    \n",
        "\n",
        "def get_metrics(true_labels, predicted_labels):\n",
        "        from sklearn import metrics\n",
        "        import numpy as np\n",
        "        print ('Accuracy:', np.round(\n",
        "            metrics.accuracy_score(true_labels,\n",
        "            predicted_labels), 3))\n",
        "        \n",
        "        from sklearn.metrics import classification_report\n",
        "        print(classification_report(true_labels, predicted_labels))\n",
        "        \n",
        "        \n",
        "from sklearn.naive_bayes import MultinomialNB\n",
        "mnb = MultinomialNB()\n",
        "\n",
        "predicted_labels = run_model(classifier=mnb,\n",
        "training_data=bow_training_features, \\\n",
        "training_labels=training_labels, \\\n",
        "test_data=bow_test_features, \\\n",
        "test_labels=test_labels)\n",
        "\n",
        "show_overview(test_corpus, test_labels, predicted_labels)   "
      ]
    },
    {
      "cell_type": "markdown",
      "metadata": {
        "id": "_FDTRrk1QJmD"
      },
      "source": [
        "The following cell contains a function that shows a pretty version of the confusion matrix we just printed out."
      ]
    },
    {
      "cell_type": "code",
      "execution_count": null,
      "metadata": {
        "colab": {
          "base_uri": "https://localhost:8080/",
          "height": 401
        },
        "id": "QsdZkOoeQJmD",
        "outputId": "92edda25-96d3-4e27-dba1-c19bf543c7de"
      },
      "outputs": [
        {
          "output_type": "stream",
          "name": "stdout",
          "text": [
            "               test_corpus test_labels predicted_labels\n",
            "0  We saw the bears there.        bern             bern\n",
            "1    We crossed the Rhône.      geneva           geneva\n",
            "2        There is no lake.        bern           zurich\n"
          ]
        },
        {
          "output_type": "display_data",
          "data": {
            "text/plain": [
              "<Figure size 504x288 with 2 Axes>"
            ],
            "image/png": "[encoded data removed]"
          },
          "metadata": {
            "needs_background": "light"
          }
        }
      ],
      "source": [
        "def pretty_confusion_matrix(true_labels, predicted_labels, target_names, base=7, height=4):\n",
        "\n",
        "    # Based on original work by Shay Palachy\n",
        "    # Original code at https://gist.github.com/shaypal5/94c53d765083101efc0240d776a23823\n",
        "    \n",
        "    import matplotlib.pyplot as plt\n",
        "    import seaborn as sea\n",
        "    import numpy as np\n",
        "    figsize = (base, height)\n",
        "    fontsize=16\n",
        "    fig = plt.figure(figsize=figsize)\n",
        "   \n",
        "    \n",
        "    from sklearn.metrics import confusion_matrix\n",
        "    \n",
        "    \n",
        "    try:\n",
        "        heatmap = sea.heatmap(confusion_matrix(true_labels, predicted_labels),\\\n",
        "                                  annot=True, fmt=\"d\")\n",
        "        if target_names is not None:\n",
        "            tick_marks = np.arange(len(target_names))+0.5\n",
        "            plt.xticks(tick_marks, target_names, rotation=45)\n",
        "            plt.yticks(tick_marks, target_names)\n",
        "    except ValueError:\n",
        "        raise ValueError(\"Confusion matrix values must be integers.\")\n",
        "    heatmap.yaxis.set_ticklabels(heatmap.yaxis.get_ticklabels(), rotation=0, ha='right', fontsize=fontsize)\n",
        "    heatmap.xaxis.set_ticklabels(heatmap.xaxis.get_ticklabels(), rotation=45, ha='right', fontsize=fontsize)\n",
        "    plt.ylabel('Test label', fontsize=fontsize)\n",
        "    plt.xlabel('Predicted label', fontsize=fontsize)\n",
        "    \n",
        "    \n",
        "def show_overview(test_corpus, test_labels, predicted_labels):\n",
        "    df=pd.DataFrame()\n",
        "    df['test_corpus']=test_corpus\n",
        "    df['test_labels']=test_labels\n",
        "    df['predicted_labels']=predicted_labels\n",
        "    print (df.to_string())\n",
        "\n",
        "target_names = sorted(list(set(training_labels)))\n",
        "    \n",
        "show_overview(test_corpus, test_labels, predicted_labels) \n",
        "pretty_confusion_matrix(test_labels, predicted_labels, target_names)\n"
      ]
    },
    {
      "cell_type": "markdown",
      "metadata": {
        "id": "a9OE7CkcQJmE"
      },
      "source": [
        "Pipelines provide a much faster way to deploy a classifier. See below how we use a pipeline to build the same classifier we just built, only much faster."
      ]
    },
    {
      "cell_type": "code",
      "execution_count": null,
      "metadata": {
        "scrolled": true,
        "colab": {
          "base_uri": "https://localhost:8080/",
          "height": 685
        },
        "id": "PsUEKOSZQJmE",
        "outputId": "75720db7-af2b-4c25-8ca1-d060e85c722d"
      },
      "outputs": [
        {
          "output_type": "stream",
          "name": "stderr",
          "text": [
            "/usr/local/lib/python3.8/dist-packages/sklearn/feature_extraction/text.py:396: UserWarning: Your stop_words may be inconsistent with your preprocessing. Tokenizing the stop words generated tokens ['ha', 'le', 'u', 'wa'] not in stop_words.\n",
            "  warnings.warn(\n",
            "/usr/local/lib/python3.8/dist-packages/sklearn/metrics/_classification.py:1318: UndefinedMetricWarning: Recall and F-score are ill-defined and being set to 0.0 in labels with no true samples. Use `zero_division` parameter to control this behavior.\n",
            "  _warn_prf(average, modifier, msg_start, len(result))\n",
            "/usr/local/lib/python3.8/dist-packages/sklearn/metrics/_classification.py:1318: UndefinedMetricWarning: Recall and F-score are ill-defined and being set to 0.0 in labels with no true samples. Use `zero_division` parameter to control this behavior.\n",
            "  _warn_prf(average, modifier, msg_start, len(result))\n",
            "/usr/local/lib/python3.8/dist-packages/sklearn/metrics/_classification.py:1318: UndefinedMetricWarning: Recall and F-score are ill-defined and being set to 0.0 in labels with no true samples. Use `zero_division` parameter to control this behavior.\n",
            "  _warn_prf(average, modifier, msg_start, len(result))\n"
          ]
        },
        {
          "output_type": "stream",
          "name": "stdout",
          "text": [
            "Accuracy: 0.667\n",
            "              precision    recall  f1-score   support\n",
            "\n",
            "        bern       1.00      0.50      0.67         2\n",
            "      geneva       1.00      1.00      1.00         1\n",
            "      zurich       0.00      0.00      0.00         0\n",
            "\n",
            "    accuracy                           0.67         3\n",
            "   macro avg       0.67      0.50      0.56         3\n",
            "weighted avg       1.00      0.67      0.78         3\n",
            "\n"
          ]
        },
        {
          "output_type": "display_data",
          "data": {
            "text/plain": [
              "<Figure size 504x288 with 2 Axes>"
            ],
            "image/png": "[encoded data removed]"
          },
          "metadata": {
            "needs_background": "light"
          }
        }
      ],
      "source": [
        "from sklearn.pipeline import Pipeline\n",
        "\n",
        "mnb_pipeline = Pipeline([ ('vectorizer', CountVectorizer(stop_words='english', tokenizer=LemmaTokenizer())),\\\n",
        "                ('classifier', MultinomialNB())])\n",
        "\n",
        "mnb_pipeline.fit(training_corpus, training_labels) \n",
        "predicted_labels = mnb_pipeline.predict(test_corpus)\n",
        "get_metrics(true_labels=test_labels,\n",
        "        predicted_labels=predicted_labels)\n",
        "\n",
        "pretty_confusion_matrix(test_labels, predicted_labels, target_names)"
      ]
    },
    {
      "cell_type": "markdown",
      "metadata": {
        "id": "qXNoie57QJmF"
      },
      "source": [
        "The following cell contains a simple example of how Term Frequency Inverse Document Frequency (TF-IDF) feature extraction works. Tokens that are common across documents get a lower weight because we assume they aren't very informative. Tokens that are common within individual documents get a higher weight because we assume they can be very helpful in classifying a document."
      ]
    },
    {
      "cell_type": "code",
      "execution_count": null,
      "metadata": {
        "id": "If_rr1OHQJmF"
      },
      "outputs": [],
      "source": [
        "from sklearn.feature_extraction.text import TfidfVectorizer\n",
        " \n",
        "documents=[\"Bern is the capital of the Canton of Bern.\", \"Zurich is the capital of the Canton of Zurich.\"]\n",
        " \n",
        "vectorizer=TfidfVectorizer(stop_words='english')\n",
        "features=vectorizer.fit_transform(documents)"
      ]
    },
    {
      "cell_type": "markdown",
      "metadata": {
        "id": "q4ZBP55eQJmG"
      },
      "source": [
        "In this example, *Bern* and *Zurich* get much higher weights than *canton* and *capital*. Why?"
      ]
    },
    {
      "cell_type": "code",
      "execution_count": null,
      "metadata": {
        "colab": {
          "base_uri": "https://localhost:8080/"
        },
        "id": "4gugXf1TQJmG",
        "outputId": "d8bd6a60-19b7-4938-df1c-8e73cf647f81"
      },
      "outputs": [
        {
          "output_type": "stream",
          "name": "stdout",
          "text": [
            "                                                    bern  canton  capital  \\\n",
            "Bern is the capital of the Canton of Bern.      0.893312  0.3178   0.3178   \n",
            "Zurich is the capital of the Canton of Zurich.  0.000000  0.3178   0.3178   \n",
            "\n",
            "                                                  zurich  \n",
            "Bern is the capital of the Canton of Bern.      0.000000  \n",
            "Zurich is the capital of the Canton of Zurich.  0.893312  \n"
          ]
        }
      ],
      "source": [
        "df = visualize(column_names=vectorizer.get_feature_names_out(), \\\n",
        "               columns=features.toarray(), \\\n",
        "               row_names = documents)\n",
        "\n",
        "print (df)"
      ]
    },
    {
      "cell_type": "markdown",
      "metadata": {
        "id": "48JQEW-gQJmH"
      },
      "source": [
        "Let's do a slightly better job of training our classifier by augmenting our training set with more data. \n",
        "\n",
        "Add the following datasets to our existing training data."
      ]
    },
    {
      "cell_type": "code",
      "execution_count": null,
      "metadata": {
        "scrolled": true,
        "id": "Ob56JnG7QJmH"
      },
      "outputs": [],
      "source": [
        "documents_zh_be=[\"It's one of Europe's smallest capital cities.\", \"It is home to the Swiss Stock Exchange.\",\\\n",
        "                   \"It is home to the Swiss National Bank.\", \"Google is near Bahnhof Enge.\",\\\n",
        "                   \"It is home to the Federal Council.\", \"It is home to the National Council.\",\\\n",
        "                   \"The lake is certainly one of the city's highlights.\",\\\n",
        "                   \"Bern is also the capital of the canton of Bern.\",\\\n",
        "                   \"Zurich is also the capital of the canton of Zurich.\"]\n",
        "classes_zh_be=[    \"bern\", \"zurich\",\\\n",
        "                   \"bern\", \"zurich\",\\\n",
        "                   \"bern\", \"bern\",\\\n",
        "                   \"zurich\",\\\n",
        "                   \"bern\",\\\n",
        "                   \"zurich\"]\n",
        "\n",
        "documents_ge=[\"The Rhône flows right through it and into the lake.\",\\\n",
        "               \"We saw Lake Léman from Quai du Mont Blanc.\",\\\n",
        "               \"I hear they speak French there.\", \n",
        "               \"It was annexed by France in 1798.\",\\\n",
        "               \"It joined the Swiss Confederation in 1815.\", \\\n",
        "               \"It is home to CERN.\"]\n",
        "classes_ge = ['geneva' for x in documents_ge]\n",
        "\n",
        "test_documents_zh = ['It is the city of Zwingli']\n",
        "test_label_zh = ['zurich']\n",
        "\n",
        "# BEGIN_REMOVE\n",
        "training_corpus=[*training_corpus, *documents_zh_be, *documents_ge]\n",
        "training_labels=[*training_labels, *classes_zh_be, *classes_ge]\n",
        "test_corpus = [*test_corpus, *test_documents_zh]\n",
        "test_labels = [*test_labels, *test_label_zh]\n",
        "# END_REMOVE"
      ]
    },
    {
      "cell_type": "markdown",
      "metadata": {
        "id": "zTDQ_GlqQJmH"
      },
      "source": [
        "__YOUR ASSIGNMENT__\n",
        "\n",
        "- Train a classifier with our extended training data\n",
        "- Evaluate its performance using all standard metrics\n",
        "- Print out the confusion matrix\n",
        "- Examine the test documents that got misclassified\n",
        "- Can you explain what is happening? Have we improved the classifier? Why or why not?"
      ]
    },
    {
      "cell_type": "code",
      "execution_count": null,
      "metadata": {
        "colab": {
          "base_uri": "https://localhost:8080/",
          "height": 773
        },
        "id": "gu0nUXBPQJmI",
        "outputId": "7dd600a7-9dce-4880-a2e9-13a39a2f37b4"
      },
      "outputs": [
        {
          "output_type": "stream",
          "name": "stdout",
          "text": [
            "Accuracy: 0.5\n",
            "              precision    recall  f1-score   support\n",
            "\n",
            "        bern       0.50      0.50      0.50         2\n",
            "      geneva       0.50      1.00      0.67         1\n",
            "      zurich       0.00      0.00      0.00         1\n",
            "\n",
            "    accuracy                           0.50         4\n",
            "   macro avg       0.33      0.50      0.39         4\n",
            "weighted avg       0.38      0.50      0.42         4\n",
            "\n",
            "                 test_corpus test_labels predicted_labels\n",
            "0    We saw the bears there.        bern             bern\n",
            "1      We crossed the Rhône.      geneva           geneva\n",
            "2          There is no lake.        bern           geneva\n",
            "3  It is the city of Zwingli      zurich             bern\n"
          ]
        },
        {
          "output_type": "stream",
          "name": "stderr",
          "text": [
            "/usr/local/lib/python3.8/dist-packages/sklearn/feature_extraction/text.py:396: UserWarning: Your stop_words may be inconsistent with your preprocessing. Tokenizing the stop words generated tokens ['ha', 'le', 'u', 'wa'] not in stop_words.\n",
            "  warnings.warn(\n",
            "/usr/local/lib/python3.8/dist-packages/sklearn/metrics/_classification.py:1318: UndefinedMetricWarning: Precision and F-score are ill-defined and being set to 0.0 in labels with no predicted samples. Use `zero_division` parameter to control this behavior.\n",
            "  _warn_prf(average, modifier, msg_start, len(result))\n",
            "/usr/local/lib/python3.8/dist-packages/sklearn/metrics/_classification.py:1318: UndefinedMetricWarning: Precision and F-score are ill-defined and being set to 0.0 in labels with no predicted samples. Use `zero_division` parameter to control this behavior.\n",
            "  _warn_prf(average, modifier, msg_start, len(result))\n",
            "/usr/local/lib/python3.8/dist-packages/sklearn/metrics/_classification.py:1318: UndefinedMetricWarning: Precision and F-score are ill-defined and being set to 0.0 in labels with no predicted samples. Use `zero_division` parameter to control this behavior.\n",
            "  _warn_prf(average, modifier, msg_start, len(result))\n"
          ]
        },
        {
          "output_type": "display_data",
          "data": {
            "text/plain": [
              "<Figure size 504x288 with 2 Axes>"
            ],
            "image/png": "[encoded data removed]"
          },
          "metadata": {
            "needs_background": "light"
          }
        }
      ],
      "source": [
        "# BEGIN_REMOVE\n",
        "mnb_pipeline = Pipeline([ ('vectorizer', CountVectorizer(stop_words='english', tokenizer=LemmaTokenizer())),\\\n",
        "                ('classifier', MultinomialNB())])\n",
        "\n",
        "mnb_pipeline.fit(training_corpus, training_labels) \n",
        "predicted_labels = mnb_pipeline.predict(test_corpus)\n",
        "get_metrics(true_labels=test_labels,\n",
        "        predicted_labels=predicted_labels)\n",
        "\n",
        "show_overview(test_corpus, test_labels, predicted_labels) \n",
        "pretty_confusion_matrix(test_labels, predicted_labels, target_names)\n",
        "# END_REMOVE"
      ]
    },
    {
      "cell_type": "markdown",
      "metadata": {
        "id": "hjgsuvZLQJmI"
      },
      "source": [
        "Follow-up task: add one more training document that will help you get rid of the UndefinedMetricWarning"
      ]
    },
    {
      "cell_type": "code",
      "execution_count": null,
      "metadata": {
        "scrolled": true,
        "colab": {
          "base_uri": "https://localhost:8080/",
          "height": 612
        },
        "id": "Ya7g0BSPQJmI",
        "outputId": "db7d9040-96a7-439f-fa6c-8441f1dc96b3"
      },
      "outputs": [
        {
          "output_type": "stream",
          "name": "stdout",
          "text": [
            "Accuracy: 0.75\n",
            "              precision    recall  f1-score   support\n",
            "\n",
            "        bern       1.00      0.50      0.67         2\n",
            "      geneva       0.50      1.00      0.67         1\n",
            "      zurich       1.00      1.00      1.00         1\n",
            "\n",
            "    accuracy                           0.75         4\n",
            "   macro avg       0.83      0.83      0.78         4\n",
            "weighted avg       0.88      0.75      0.75         4\n",
            "\n",
            "                 test_corpus test_labels predicted_labels\n",
            "0    We saw the bears there.        bern             bern\n",
            "1      We crossed the Rhône.      geneva           geneva\n",
            "2          There is no lake.        bern           geneva\n",
            "3  It is the city of Zwingli      zurich           zurich\n"
          ]
        },
        {
          "output_type": "display_data",
          "data": {
            "text/plain": [
              "<Figure size 504x288 with 2 Axes>"
            ],
            "image/png": "[encoded data removed]"
          },
          "metadata": {
            "needs_background": "light"
          }
        }
      ],
      "source": [
        "# BEGIN_REMOVE\n",
        "training_corpus.append('I like Zurich.')\n",
        "training_labels.append('zurich')\n",
        "mnb_pipeline.fit(training_corpus, training_labels) \n",
        "predicted_labels = mnb_pipeline.predict(test_corpus)\n",
        "get_metrics(true_labels=test_labels,\n",
        "        predicted_labels=predicted_labels)\n",
        "\n",
        "show_overview(test_corpus, test_labels, predicted_labels) \n",
        "pretty_confusion_matrix(test_labels, predicted_labels, target_names)\n",
        "# END_REMOVE"
      ]
    },
    {
      "cell_type": "markdown",
      "metadata": {
        "id": "JIcgnPAbQJmJ"
      },
      "source": [
        "Bonus question: how was the MNB able to classify *It is the city of Zwingli.*, given that *Zwingli* doesn't appear in the training data?"
      ]
    }
  ],
  "metadata": {
    "kernelspec": {
      "display_name": "py39",
      "language": "python",
      "name": "py39"
    },
    "language_info": {
      "codemirror_mode": {
        "name": "ipython",
        "version": 3
      },
      "file_extension": ".py",
      "mimetype": "text/x-python",
      "name": "python",
      "nbconvert_exporter": "python",
      "pygments_lexer": "ipython3",
      "version": "3.9.1"
    },
    "colab": {
      "provenance": []
    }
  },
  "nbformat": 4,
  "nbformat_minor": 0
}